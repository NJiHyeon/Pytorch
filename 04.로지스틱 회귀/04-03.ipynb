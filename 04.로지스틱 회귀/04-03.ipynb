{
 "cells": [
  {
   "cell_type": "markdown",
   "id": "3f5afb3c-472b-4ffd-9fab-4940bec7c00b",
   "metadata": {},
   "source": [
    "### 03. 클래스로 파이토치 모델 구현하기"
   ]
  },
  {
   "cell_type": "markdown",
   "id": "1ada80f8-0169-47d6-82a8-2dda8a5001d9",
   "metadata": {},
   "source": [
    "#### 1. 모델을 클래스로 표현하기"
   ]
  },
  {
   "cell_type": "markdown",
   "id": "b9c1e665-9a09-4ca6-883f-938c50b9a426",
   "metadata": {},
   "source": [
    "앞서 로지스틱 회귀 모델 구현"
   ]
  },
  {
   "cell_type": "code",
   "execution_count": 3,
   "id": "2c9ae738-10f6-47b6-b93f-461caeacacab",
   "metadata": {},
   "outputs": [],
   "source": [
    "import torch\n",
    "import torch.nn as nn\n",
    "import torch.nn.functional as F\n",
    "import numpy as np"
   ]
  },
  {
   "cell_type": "code",
   "execution_count": 4,
   "id": "ae5f1d5f-3c3a-4a38-a2d9-31b5c4b91b91",
   "metadata": {},
   "outputs": [],
   "source": [
    "model = nn.Sequential(\n",
    "    nn.Linear(2,1),\n",
    "    nn.Sigmoid()\n",
    ")"
   ]
  },
  {
   "cell_type": "code",
   "execution_count": 5,
   "id": "3e83d1fc-6595-486c-81f7-d15a3228e27b",
   "metadata": {},
   "outputs": [],
   "source": [
    "# 클래스로 구현\n",
    "class BinaryClassifier(nn.Module) : \n",
    "    def __init__(self) : \n",
    "        super().__init__()\n",
    "        self.linear = nn.Linear(2,1)\n",
    "        self.sigmoid = nn.Sigmoid()\n",
    "        \n",
    "    def forward(self, x) : \n",
    "        return self.sigmoid(self.linear(x))"
   ]
  },
  {
   "cell_type": "markdown",
   "id": "11d61997-cc59-4c74-a3ce-20f0ed10aa8a",
   "metadata": {},
   "source": [
    "- 클래스 형태의 모델은 nn.Module을 상속받는다.\n",
    "- __init__()에서 모델의 구조와 동적을 정의하는 생성자를 정의한다.\n",
    "    - 이는 파이썬에서 객체가 갖는 속성값을 초기화하는 역할로 객체가 생성될 떄 자동으로 호출된다.\n",
    "- super() 함수를 부르면 여기서 만든 클래스는 nn.Module 클래스의 속성들을 가지고 초기화된다.\n",
    "- forward() 함수는 모델이 학습데이터를 입력받아서 forward 연산을 진행시키는 함수\n",
    "    - 이 함수는 model 객체를 데이터와 함께 호출하면 자동으로 실행된다. \n",
    "    - 예를 들어 model이란 이름의 객체를 생성 후, model(입력데이터)와 같은 형식으로 객체를 호출하면 자동으로 forward 연산이 수행된다."
   ]
  },
  {
   "cell_type": "markdown",
   "id": "36746475-68ea-4104-8bca-b2a37d672971",
   "metadata": {},
   "source": [
    "H(x) 식에 입력 x로부터 예측된 y를 얻는 것을 forward 연산이라고 한다. "
   ]
  },
  {
   "cell_type": "markdown",
   "id": "7faeb100-72a6-4525-a555-c1795cbff4b5",
   "metadata": {},
   "source": [
    "-----------------------------------------------------------------------------------------------------------"
   ]
  },
  {
   "cell_type": "markdown",
   "id": "9ff008d3-a0f3-436d-85c0-d2910d077900",
   "metadata": {},
   "source": [
    "#### 2. 로지스틱 회귀 클래스로 구현하기"
   ]
  },
  {
   "cell_type": "code",
   "execution_count": 6,
   "id": "aacd6cc0-769b-40d1-8a20-532d6cabcbd4",
   "metadata": {},
   "outputs": [
    {
     "data": {
      "text/plain": [
       "<torch._C.Generator at 0x1763bd8cf50>"
      ]
     },
     "execution_count": 6,
     "metadata": {},
     "output_type": "execute_result"
    }
   ],
   "source": [
    "torch.manual_seed(1)"
   ]
  },
  {
   "cell_type": "code",
   "execution_count": null,
   "id": "abeeb7e1-4ac2-4d88-a9a8-988a29d81c7b",
   "metadata": {},
   "outputs": [],
   "source": []
  }
 ],
 "metadata": {
  "kernelspec": {
   "display_name": "Python 3 (ipykernel)",
   "language": "python",
   "name": "python3"
  },
  "language_info": {
   "codemirror_mode": {
    "name": "ipython",
    "version": 3
   },
   "file_extension": ".py",
   "mimetype": "text/x-python",
   "name": "python",
   "nbconvert_exporter": "python",
   "pygments_lexer": "ipython3",
   "version": "3.10.2"
  }
 },
 "nbformat": 4,
 "nbformat_minor": 5
}
