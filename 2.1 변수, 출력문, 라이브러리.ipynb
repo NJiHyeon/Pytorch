{
 "cells": [
  {
   "cell_type": "markdown",
   "id": "6bdb4748-3961-4fba-830c-7fd8143fbe36",
   "metadata": {},
   "source": [
    "#### 2.1.1 정수형 (int)"
   ]
  },
  {
   "cell_type": "code",
   "execution_count": 1,
   "id": "297588e2-c5a4-4f84-8da1-19ef6a4f2eeb",
   "metadata": {},
   "outputs": [
    {
     "data": {
      "text/plain": [
       "int"
      ]
     },
     "execution_count": 1,
     "metadata": {},
     "output_type": "execute_result"
    }
   ],
   "source": [
    "x = 1\n",
    "type(x)"
   ]
  },
  {
   "cell_type": "markdown",
   "id": "37da9f72-0b0e-4ca6-ba14-460956e5a413",
   "metadata": {
    "tags": []
   },
   "source": [
    "#### 2.2.2 실수형 (float)"
   ]
  },
  {
   "cell_type": "code",
   "execution_count": 2,
   "id": "26deba96-c773-4edc-8625-0ac5a81cae57",
   "metadata": {},
   "outputs": [
    {
     "data": {
      "text/plain": [
       "float"
      ]
     },
     "execution_count": 2,
     "metadata": {},
     "output_type": "execute_result"
    }
   ],
   "source": [
    "x = 1.5\n",
    "type(x)"
   ]
  },
  {
   "cell_type": "code",
   "execution_count": 4,
   "id": "818006b2-de14-4b19-95a5-d2fc2fa9403a",
   "metadata": {},
   "outputs": [
    {
     "data": {
      "text/plain": [
       "float"
      ]
     },
     "execution_count": 4,
     "metadata": {},
     "output_type": "execute_result"
    }
   ],
   "source": [
    "# int + float = float\n",
    "x = 1.\n",
    "y = 1\n",
    "type(x+y)"
   ]
  },
  {
   "cell_type": "code",
   "execution_count": 5,
   "id": "d34c7a80-ed04-4458-8444-07f81171a633",
   "metadata": {},
   "outputs": [
    {
     "data": {
      "text/plain": [
       "3.5999999999999996"
      ]
     },
     "execution_count": 5,
     "metadata": {},
     "output_type": "execute_result"
    }
   ],
   "source": [
    "# floating point\n",
    "x = .5 # 정수부분이 0이면 .5로 표현 가능\n",
    "y = 1.2\n",
    "z = 2.4\n",
    "y+z"
   ]
  },
  {
   "cell_type": "code",
   "execution_count": 6,
   "id": "cad07c45-4cf6-41e7-ad23-8b980b308910",
   "metadata": {},
   "outputs": [
    {
     "name": "stdout",
     "output_type": "stream",
     "text": [
      "5\n",
      "-1\n",
      "6\n",
      "8\n",
      "0.6666666666666666\n",
      "0\n",
      "1\n",
      "2\n",
      "1\n",
      "-10\n",
      "-6\n"
     ]
    }
   ],
   "source": [
    "# 숫자형 연산\n",
    "x = 2\n",
    "y = 3\n",
    "print(x+y)\n",
    "print(x-y)\n",
    "print(x*y)\n",
    "print(x**y)\n",
    "print(x/y)\n",
    "print(x//y)\n",
    "print(y//x)\n",
    "print(x%y)\n",
    "print(y%x)\n",
    "print(2-4*3)\n",
    "print((2-4)*3)"
   ]
  },
  {
   "cell_type": "markdown",
   "id": "96de1dd2-9621-4eaa-a398-2ec52044dba5",
   "metadata": {},
   "source": [
    "#### 2.1.3 문자형 (string)"
   ]
  },
  {
   "cell_type": "code",
   "execution_count": 18,
   "id": "76a58be6-1a26-48e6-8499-56606c60893f",
   "metadata": {},
   "outputs": [
    {
     "name": "stdout",
     "output_type": "stream",
     "text": [
      "<class 'str'> <class 'str'>\n"
     ]
    }
   ],
   "source": [
    "x = 'hello'\n",
    "y = '1' \n",
    "print(type(x), type(y))"
   ]
  },
  {
   "cell_type": "code",
   "execution_count": 17,
   "id": "8d09cd7d-2802-462b-9d02-10eea45584c1",
   "metadata": {},
   "outputs": [
    {
     "name": "stdout",
     "output_type": "stream",
     "text": [
      "<class 'int'>\n",
      "<class 'float'>\n"
     ]
    }
   ],
   "source": [
    "\"\"\"\n",
    "타입 바꾸기\n",
    ": 문자형 -> 숫자형 : int()\n",
    ": 숫자형 -> 문자형 : str()\n",
    "\n",
    "\"\"\"\n",
    "z = int(y)\n",
    "print(type(z))\n",
    "w = float(y)\n",
    "print(type(w))"
   ]
  },
  {
   "cell_type": "code",
   "execution_count": 13,
   "id": "ca17d729-7ba5-454d-a75e-0d4aea5abd0a",
   "metadata": {},
   "outputs": [
    {
     "name": "stdout",
     "output_type": "stream",
     "text": [
      "3\n",
      "12\n"
     ]
    }
   ],
   "source": [
    "# 문자와 숫자를 연산하려면 동일한 타입으로 변경\n",
    "x = 1\n",
    "y = '2'\n",
    "print(x + int(y))\n",
    "print(str(x) + y)"
   ]
  },
  {
   "cell_type": "code",
   "execution_count": 19,
   "id": "6c6ac4a8-f49c-4934-96f3-82e173b5aab3",
   "metadata": {},
   "outputs": [
    {
     "name": "stdout",
     "output_type": "stream",
     "text": [
      "deeplearning\n",
      "deep learning\n",
      "learninglearninglearning\n"
     ]
    }
   ],
   "source": [
    "# 문자형 연산\n",
    "x1 = 'deep'\n",
    "x2 = 'deep '\n",
    "y = 'learning'\n",
    "\n",
    "print(x1+y)\n",
    "print(x2+y)\n",
    "print(3*y)"
   ]
  },
  {
   "cell_type": "code",
   "execution_count": 20,
   "id": "3df15756-f6d8-4903-aea2-f7ecabc46783",
   "metadata": {},
   "outputs": [
    {
     "name": "stdout",
     "output_type": "stream",
     "text": [
      "e\n",
      "g\n",
      "ear\n"
     ]
    }
   ],
   "source": [
    "# 문자형 인덱싱\n",
    "print(y[1])\n",
    "print(y[-1])\n",
    "print(y[1:4])"
   ]
  },
  {
   "cell_type": "markdown",
   "id": "0fa5eed9-bf32-4cc0-8353-9f599525ce9c",
   "metadata": {},
   "source": [
    "#### 2.1.4 부울형 (bool)"
   ]
  },
  {
   "cell_type": "code",
   "execution_count": 21,
   "id": "60224cc1-5ea1-4459-97b0-e6530d22e6d4",
   "metadata": {},
   "outputs": [
    {
     "name": "stdout",
     "output_type": "stream",
     "text": [
      "<class 'bool'>\n",
      "<class 'bool'>\n"
     ]
    }
   ],
   "source": [
    "x = True\n",
    "y = False\n",
    "print(type(x))\n",
    "print(type(y))"
   ]
  },
  {
   "cell_type": "code",
   "execution_count": 23,
   "id": "f604d4cc-ea6d-4a99-982b-e71dadada5a7",
   "metadata": {},
   "outputs": [
    {
     "data": {
      "text/plain": [
       "False"
      ]
     },
     "execution_count": 23,
     "metadata": {},
     "output_type": "execute_result"
    }
   ],
   "source": [
    "# bool 타입으로 결과 나타내기\n",
    "y = 1.2\n",
    "z = 2.4\n",
    "y+z == 3.6"
   ]
  },
  {
   "cell_type": "markdown",
   "id": "30e9f008-e8fd-43c0-8f31-0ea6d9b9f973",
   "metadata": {},
   "source": [
    "#### 2.1.5 출력문 (print)"
   ]
  },
  {
   "cell_type": "markdown",
   "id": "82ba2d63-a41c-45ad-84bf-a8f585e4e34e",
   "metadata": {},
   "source": [
    "- 기본적으로는 print() 괄호 안에 있는 내용 그대로 출력\n",
    "- 여러 가지 출력 방법\n",
    "    - f\" \"\n",
    "    - \" \"\n",
    "    - %.1f, %.2f\n",
    "    - %d\n",
    "    - %s"
   ]
  },
  {
   "cell_type": "code",
   "execution_count": 25,
   "id": "36c797d4-053f-4558-bf4b-61e8a7304043",
   "metadata": {},
   "outputs": [
    {
     "name": "stdout",
     "output_type": "stream",
     "text": [
      "a\n",
      "5\n"
     ]
    }
   ],
   "source": [
    "# 비교\n",
    "a = 5\n",
    "print(\"a\")\n",
    "print(a)"
   ]
  },
  {
   "cell_type": "code",
   "execution_count": 28,
   "id": "72697b9f-773e-4820-86c2-783bb2dbddc9",
   "metadata": {},
   "outputs": [
    {
     "name": "stdout",
     "output_type": "stream",
     "text": [
      "I got 9 out of 10\n"
     ]
    }
   ],
   "source": [
    "# f\" \"\n",
    "a = 9\n",
    "b = 10\n",
    "print(f\"I got {a} out of {b}\")"
   ]
  },
  {
   "cell_type": "code",
   "execution_count": 31,
   "id": "59ab1462-81bb-442d-83de-ef679090e6eb",
   "metadata": {},
   "outputs": [
    {
     "name": "stdout",
     "output_type": "stream",
     "text": [
      "I am 5 years old.\n",
      "I am 5 years old.\n"
     ]
    }
   ],
   "source": [
    "# \" \"\n",
    "a = 5\n",
    "print(\"I am \" + str(a) + \" years old.\")\n",
    "print(\"I am\", str(a), \"years old.\")"
   ]
  },
  {
   "cell_type": "code",
   "execution_count": 34,
   "id": "6c2e5061-71a2-44e0-8b7d-c2cde0bb9c7f",
   "metadata": {},
   "outputs": [
    {
     "name": "stdout",
     "output_type": "stream",
     "text": [
      "4.2123213\n",
      "4.2\n",
      "4.21\n",
      "4.2123\n",
      "4, cat, 4.2\n"
     ]
    }
   ],
   "source": [
    "# %.1f, %.2f, %d, %s\n",
    "a = 4\n",
    "b = \"cat\"\n",
    "c = 4.2123213\n",
    "\n",
    "print(c)\n",
    "print(\"%.1f\" % (c))\n",
    "print(\"%.2f\" % (c))\n",
    "print(\"%.4f\" % (c))\n",
    "print(\"%d, %s, %.1f\" % (a, b, c))"
   ]
  },
  {
   "cell_type": "markdown",
   "id": "b94d6212-6cb4-4b5a-a0ca-4e0d33aad8fb",
   "metadata": {},
   "source": [
    "#### 2.1.6 라이브러리"
   ]
  },
  {
   "cell_type": "code",
   "execution_count": 37,
   "id": "687a67f5-e4cc-4cf2-82b6-083b6b209717",
   "metadata": {},
   "outputs": [
    {
     "name": "stdout",
     "output_type": "stream",
     "text": [
      "[1 2 3]\n",
      "6\n"
     ]
    }
   ],
   "source": [
    "import numpy\n",
    "arr = numpy.array([1, 2, 3])\n",
    "print(arr)\n",
    "print(numpy.sum(arr))"
   ]
  },
  {
   "cell_type": "code",
   "execution_count": 38,
   "id": "48c31698-5331-4cb7-b9e1-062a6aa7f40c",
   "metadata": {},
   "outputs": [
    {
     "name": "stdout",
     "output_type": "stream",
     "text": [
      "6\n"
     ]
    }
   ],
   "source": [
    "# 부를 이름 간단하게\n",
    "import numpy as np\n",
    "arr = numpy.array([1, 2, 3])\n",
    "print(np.sum(arr))"
   ]
  },
  {
   "cell_type": "code",
   "execution_count": 39,
   "id": "aa3c3ac0-10ab-4e3b-87d9-afe3031d1bea",
   "metadata": {},
   "outputs": [
    {
     "name": "stdout",
     "output_type": "stream",
     "text": [
      "6\n"
     ]
    }
   ],
   "source": [
    "# 함수 앞에 .np 또는 .numpy 안붙이기\n",
    "from numpy import array, sum\n",
    "arr = array([1, 2, 3])\n",
    "print(sum(arr))"
   ]
  },
  {
   "cell_type": "code",
   "execution_count": 40,
   "id": "0819d02f-0d28-4888-a056-8513145c2680",
   "metadata": {},
   "outputs": [],
   "source": [
    "# 다양한 라이브러리\n",
    "import numpy as np\n",
    "import torch\n",
    "import sklearn\n",
    "import tqdm\n",
    "import pandas as pd"
   ]
  }
 ],
 "metadata": {
  "kernelspec": {
   "display_name": "Python 3 (ipykernel)",
   "language": "python",
   "name": "python3"
  },
  "language_info": {
   "codemirror_mode": {
    "name": "ipython",
    "version": 3
   },
   "file_extension": ".py",
   "mimetype": "text/x-python",
   "name": "python",
   "nbconvert_exporter": "python",
   "pygments_lexer": "ipython3",
   "version": "3.10.2"
  }
 },
 "nbformat": 4,
 "nbformat_minor": 5
}
