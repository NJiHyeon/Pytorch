{
 "cells": [
  {
   "cell_type": "markdown",
   "id": "4ad86b1d-05b7-487a-8dbb-4a98fa84014a",
   "metadata": {},
   "source": [
    "### 07. 다층 퍼셉트론으로 손글씨 분류하기\n",
    "- **다층 퍼셉트론을 구현**하고, 딥러닝을 통해서 숫자 필기 데이터를 분류한다.\n",
    "- MNIST 데이터랑 다른 데이터이다. "
   ]
  },
  {
   "cell_type": "markdown",
   "id": "ae9aaac0-cf39-4366-abb1-74c41d720251",
   "metadata": {},
   "source": [
    "#### 1. 숫자 필기 데이터 소개"
   ]
  },
  {
   "cell_type": "markdown",
   "id": "bbea24e5-e76b-4c8a-9217-e4317f3a725f",
   "metadata": {},
   "source": [
    "- 사이킷런 패키지에서 제공하는 분류용 예제 데이터\n",
    "- 0부터 9까지의 숫자를 손으로 쓴 이미지 데이터로 load_digits() 명령으로 로드할 수 있다. \n",
    "- 각 이미지는 0부터 15까지의 명암으로 갖는 8x8 픽셀 해상도의 흑백 이미지\n",
    "- 해당 이미지가 1797개가 있다. "
   ]
  },
  {
   "cell_type": "markdown",
   "id": "03f968f6-fdc3-46ed-b53d-04a82c714ac4",
   "metadata": {},
   "source": [
    "[코드 설명]\n",
    "- %matplotlib inline\n",
    "    - 주피터 노트북에서 파이썬 코드를 실행할 때 %matplotlib inline를 써야할 때가 있다. \n",
    "    - 주피터 노트북을 실행한 브라우저에서 바로 그림을 볼 수 있게끔 만드는 것\n",
    "    - 즉, 브라우저 내부(inline)에 바로 그려지도록 해주는 코드"
   ]
  },
  {
   "cell_type": "markdown",
   "id": "6c7facac-5294-4496-bab9-4de450a02b40",
   "metadata": {},
   "source": [
    "(1) load_digits()를 통해 이미지 데이터를 로드하고, 로드한 전체 데이터를 digits에 저장한다. "
   ]
  },
  {
   "cell_type": "code",
   "execution_count": 3,
   "id": "31834b6d-61da-46e0-bf08-16e6a9a5bfdb",
   "metadata": {},
   "outputs": [],
   "source": [
    "%matplotlib inline\n",
    "# 시각화를 위한 맷플롯립\n",
    "import matplotlib.pyplot as plt\n",
    "# 데이터 불러오기\n",
    "from sklearn.datasets import load_digits\n",
    "# 총 1979개의 이미지 데이터 로드하고 변수에 저장\n",
    "digits = load_digits()"
   ]
  },
  {
   "cell_type": "markdown",
   "id": "7fb29b05-d243-47b0-b926-cd5a4916a0be",
   "metadata": {},
   "source": [
    "(2) 첫번째 샘플 출력\n",
    "- .images[인덱스]를 사용하면 해당 인덱스의 이미지를 행렬로서 출력할 수 있다. "
   ]
  },
  {
   "cell_type": "code",
   "execution_count": 14,
   "id": "89f01802-621e-451c-b1a2-c6d6799cc04e",
   "metadata": {},
   "outputs": [
    {
     "name": "stdout",
     "output_type": "stream",
     "text": [
      "[[ 0.  0.  5. ...  0.  0.  0.]\n",
      " [ 0.  0.  0. ... 10.  0.  0.]\n",
      " [ 0.  0.  0. ... 16.  9.  0.]\n",
      " ...\n",
      " [ 0.  0.  1. ...  6.  0.  0.]\n",
      " [ 0.  0.  2. ... 12.  0.  0.]\n",
      " [ 0.  0. 10. ... 12.  1.  0.]]\n",
      "(1797, 64)\n",
      "[[[ 0.  0.  5. ...  1.  0.  0.]\n",
      "  [ 0.  0. 13. ... 15.  5.  0.]\n",
      "  [ 0.  3. 15. ... 11.  8.  0.]\n",
      "  ...\n",
      "  [ 0.  4. 11. ... 12.  7.  0.]\n",
      "  [ 0.  2. 14. ... 12.  0.  0.]\n",
      "  [ 0.  0.  6. ...  0.  0.  0.]]\n",
      "\n",
      " [[ 0.  0.  0. ...  5.  0.  0.]\n",
      "  [ 0.  0.  0. ...  9.  0.  0.]\n",
      "  [ 0.  0.  3. ...  6.  0.  0.]\n",
      "  ...\n",
      "  [ 0.  0.  1. ...  6.  0.  0.]\n",
      "  [ 0.  0.  1. ...  6.  0.  0.]\n",
      "  [ 0.  0.  0. ... 10.  0.  0.]]\n",
      "\n",
      " [[ 0.  0.  0. ... 12.  0.  0.]\n",
      "  [ 0.  0.  3. ... 14.  0.  0.]\n",
      "  [ 0.  0.  8. ... 16.  0.  0.]\n",
      "  ...\n",
      "  [ 0.  9. 16. ...  0.  0.  0.]\n",
      "  [ 0.  3. 13. ... 11.  5.  0.]\n",
      "  [ 0.  0.  0. ... 16.  9.  0.]]\n",
      "\n",
      " ...\n",
      "\n",
      " [[ 0.  0.  1. ...  1.  0.  0.]\n",
      "  [ 0.  0. 13. ...  2.  1.  0.]\n",
      "  [ 0.  0. 16. ... 16.  5.  0.]\n",
      "  ...\n",
      "  [ 0.  0. 16. ... 15.  0.  0.]\n",
      "  [ 0.  0. 15. ... 16.  0.  0.]\n",
      "  [ 0.  0.  2. ...  6.  0.  0.]]\n",
      "\n",
      " [[ 0.  0.  2. ...  0.  0.  0.]\n",
      "  [ 0.  0. 14. ... 15.  1.  0.]\n",
      "  [ 0.  4. 16. ... 16.  7.  0.]\n",
      "  ...\n",
      "  [ 0.  0.  0. ... 16.  2.  0.]\n",
      "  [ 0.  0.  4. ... 16.  2.  0.]\n",
      "  [ 0.  0.  5. ... 12.  0.  0.]]\n",
      "\n",
      " [[ 0.  0. 10. ...  1.  0.  0.]\n",
      "  [ 0.  2. 16. ...  1.  0.  0.]\n",
      "  [ 0.  0. 15. ... 15.  0.  0.]\n",
      "  ...\n",
      "  [ 0.  4. 16. ... 16.  6.  0.]\n",
      "  [ 0.  8. 16. ... 16.  8.  0.]\n",
      "  [ 0.  1.  8. ... 12.  1.  0.]]]\n",
      "(1797, 8, 8)\n"
     ]
    }
   ],
   "source": [
    "# 궁금해서 \n",
    "print(digits.data)\n",
    "print(digits.data.shape)\n",
    "print(digits.images)\n",
    "print(digits.images.shape)"
   ]
  },
  {
   "cell_type": "code",
   "execution_count": 16,
   "id": "0da73d3d-de4d-4495-808f-956b63a8cc78",
   "metadata": {},
   "outputs": [
    {
     "name": "stdout",
     "output_type": "stream",
     "text": [
      "[[ 0.  0.  5. 13.  9.  1.  0.  0.]\n",
      " [ 0.  0. 13. 15. 10. 15.  5.  0.]\n",
      " [ 0.  3. 15.  2.  0. 11.  8.  0.]\n",
      " [ 0.  4. 12.  0.  0.  8.  8.  0.]\n",
      " [ 0.  5.  8.  0.  0.  9.  8.  0.]\n",
      " [ 0.  4. 11.  0.  1. 12.  7.  0.]\n",
      " [ 0.  2. 14.  5. 10. 12.  0.  0.]\n",
      " [ 0.  0.  6. 13. 10.  0.  0.  0.]]\n"
     ]
    }
   ],
   "source": [
    "print(digits.images[0])"
   ]
  },
  {
   "cell_type": "code",
   "execution_count": 17,
   "id": "2382dfac-dde2-4c02-9d39-ea65a652a0ac",
   "metadata": {},
   "outputs": [
    {
     "name": "stdout",
     "output_type": "stream",
     "text": [
      "[ 0.  0.  5. 13.  9.  1.  0.  0.  0.  0. 13. 15. 10. 15.  5.  0.  0.  3.\n",
      " 15.  2.  0. 11.  8.  0.  0.  4. 12.  0.  0.  8.  8.  0.  0.  5.  8.  0.\n",
      "  0.  9.  8.  0.  0.  4. 11.  0.  1. 12.  7.  0.  0.  2. 14.  5. 10. 12.\n",
      "  0.  0.  0.  0.  6. 13. 10.  0.  0.  0.]\n"
     ]
    }
   ],
   "source": [
    "print(digits.data[0])"
   ]
  },
  {
   "cell_type": "markdown",
   "id": "91c8b137-8823-448d-a832-ab9dd3fd9212",
   "metadata": {},
   "source": [
    "- 첫번째 샘플이 8x8 행렬로 출력된다.\n",
    "- 0을 흰색 도화지, 0보다 큰 숫자들을 검은색 점이라고 상상해보면 숫자 0의 실루엣처럼 보인다.\n",
    "- 실제로 레이블도 숫자 0인지 첫번째 샘플의 레이블을 확인해보기"
   ]
  },
  {
   "cell_type": "code",
   "execution_count": 18,
   "id": "7bcd7050-3112-4cf5-b271-cf3a5b31776b",
   "metadata": {},
   "outputs": [
    {
     "name": "stdout",
     "output_type": "stream",
     "text": [
      "0\n"
     ]
    }
   ],
   "source": [
    "print(digits.target[0])"
   ]
  },
  {
   "cell_type": "markdown",
   "id": "4a300339-f3e5-43fa-92d1-332f76904111",
   "metadata": {},
   "source": [
    "(3) 위와 같은 샘플이 몇 개 있는지 확인"
   ]
  },
  {
   "cell_type": "markdown",
   "id": "ffa141d1-21cc-4ebb-8167-0141f3e7429a",
   "metadata": {},
   "source": [
    "[코드 설명]\n",
    "- .format\n",
    "    - 문자열 포매팅\n",
    "        - 문자열을 이쁘게 만드는 방법\n",
    "        - 문자열 중간 중간에 특정 변수의 값을 넣어주기 위해서 사용하는 것\n",
    "    - 함수 사용법\n",
    "        - 직접 대입, 변수로 대입, 이름으로 대입\n",
    "        - format 문자열의 중괄호의 인덱스 사용"
   ]
  },
  {
   "cell_type": "code",
   "execution_count": 23,
   "id": "741529b6-0764-460c-88f7-35b5b92e7830",
   "metadata": {},
   "outputs": [
    {
     "name": "stdout",
     "output_type": "stream",
     "text": [
      "전체 샘플의 수 : 1797\n"
     ]
    }
   ],
   "source": [
    "# 중괄호 안에 0을 넣어줘도 무방하다. \n",
    "print('전체 샘플의 수 : {}'.format(len(digits.images)))"
   ]
  },
  {
   "cell_type": "markdown",
   "id": "999470f2-c40f-483e-91a2-978aced18841",
   "metadata": {},
   "source": [
    "(4) 전체 샘플 1797개 중에서 상위 5개의 샘플만 시각화 "
   ]
  },
  {
   "cell_type": "markdown",
   "id": "2384f59e-29b3-45cb-9459-d11172aefe18",
   "metadata": {},
   "source": [
    "[코드 설명]\n",
    "- zip\n",
    "    - 동일한 개수로 이루어진 자료형을 묶어 주는 역할을 하는 함수\n",
    "    - 리스트, 딕셔너리 등으로 만들 수 있다. \n",
    "- enumerate\n",
    "    - 반복문 사용 시 몇 번째 반복문인지 확인이 필요할 수 있다. \n",
    "    - 인덱스 번호와 컬렉션의 원소를 tuple형태로 반환한다. \n",
    "- subplot\n",
    "    - matplotlib.pyplot 모듈의 subplot()라는 함수 존재\n",
    "    - **여러 개의 그래프를 하나의 그림**에 나타내도록 합니다.\n",
    "- imshwow\n",
    "    - cmap : map의 색깔 지정\n",
    "    - interpolation : 보간법이란 뜻으로 이것을 이용하여 결측값을 구하는게 가장 합리적인 방법"
   ]
  },
  {
   "cell_type": "code",
   "execution_count": 59,
   "id": "e1ac41c7-a044-4476-8dd2-83b4dcfc4e3f",
   "metadata": {},
   "outputs": [
    {
     "data": {
      "image/png": "[encoded data removed]",
      "text/plain": [
       "<Figure size 432x288 with 5 Axes>"
      ]
     },
     "metadata": {
      "needs_background": "light"
     },
     "output_type": "display_data"
    }
   ],
   "source": [
    "images_and_labels = list(zip(digits.images, digits.target))\n",
    "for index, (image, label) in enumerate(images_and_labels[:5]) :\n",
    "    plt.subplot(2, 5, index+1)\n",
    "    plt.axis('off') #그림이랑 제목만 나오게\n",
    "    plt.imshow(image, cmap=plt.cm.gray_r, interpolation='nearest')\n",
    "    plt.title('sample: %i' % label)"
   ]
  },
  {
   "cell_type": "code",
   "execution_count": 40,
   "id": "015d61f3-8d1e-4cfd-b5aa-6bfcb19facff",
   "metadata": {},
   "outputs": [
    {
     "data": {
      "text/plain": [
       "(array([[ 0.,  0.,  5., 13.,  9.,  1.,  0.,  0.],\n",
       "        [ 0.,  0., 13., 15., 10., 15.,  5.,  0.],\n",
       "        [ 0.,  3., 15.,  2.,  0., 11.,  8.,  0.],\n",
       "        [ 0.,  4., 12.,  0.,  0.,  8.,  8.,  0.],\n",
       "        [ 0.,  5.,  8.,  0.,  0.,  9.,  8.,  0.],\n",
       "        [ 0.,  4., 11.,  0.,  1., 12.,  7.,  0.],\n",
       "        [ 0.,  2., 14.,  5., 10., 12.,  0.,  0.],\n",
       "        [ 0.,  0.,  6., 13., 10.,  0.,  0.,  0.]]),\n",
       " 0)"
      ]
     },
     "execution_count": 40,
     "metadata": {},
     "output_type": "execute_result"
    }
   ],
   "source": [
    "images_and_labels[0]"
   ]
  },
  {
   "cell_type": "markdown",
   "id": "081f2216-6833-4b96-8ca4-2d6f987c15c9",
   "metadata": {},
   "source": [
    "(5) 상위 5개 샘플의 레이블 확인"
   ]
  },
  {
   "cell_type": "code",
   "execution_count": 60,
   "id": "a9319bc0-3781-4d72-8f4b-d9b96b5cd79a",
   "metadata": {},
   "outputs": [
    {
     "name": "stdout",
     "output_type": "stream",
     "text": [
      "0 번 인덱스 샘플의 레이블 :  0\n",
      "1 번 인덱스 샘플의 레이블 :  1\n",
      "2 번 인덱스 샘플의 레이블 :  2\n",
      "3 번 인덱스 샘플의 레이블 :  3\n",
      "4 번 인덱스 샘플의 레이블 :  4\n"
     ]
    }
   ],
   "source": [
    "for i in range(5) : \n",
    "    print(i, '번 인덱스 샘플의 레이블 : ', digits.target[i])"
   ]
  },
  {
   "cell_type": "markdown",
   "id": "9117f8b7-346b-49c6-8ebc-926ce1b6c840",
   "metadata": {},
   "source": [
    "(6) 훈련 데이터와 레이블을 각각 X, Y에 저장\n",
    "- digits.images는 모든 샘플을 8x8 행렬로 저장하고 있다. \n",
    "- 더 나은 방법은 digits.data를 사용하는 것이다. \n",
    "- 이는 8x8 행렬을 전부 64차원의 벡터로 변환해서 저장한 상태이다. \n",
    "- digits.data를 이용해서 첫번째 샘플을 출력해보기"
   ]
  },
  {
   "cell_type": "code",
   "execution_count": 61,
   "id": "ec69f19b-c199-4d2c-ac26-be4f8711fa9d",
   "metadata": {},
   "outputs": [
    {
     "name": "stdout",
     "output_type": "stream",
     "text": [
      "[ 0.  0.  5. 13.  9.  1.  0.  0.  0.  0. 13. 15. 10. 15.  5.  0.  0.  3.\n",
      " 15.  2.  0. 11.  8.  0.  0.  4. 12.  0.  0.  8.  8.  0.  0.  5.  8.  0.\n",
      "  0.  9.  8.  0.  0.  4. 11.  0.  1. 12.  7.  0.  0.  2. 14.  5. 10. 12.\n",
      "  0.  0.  0.  0.  6. 13. 10.  0.  0.  0.]\n"
     ]
    }
   ],
   "source": [
    "print(digits.data[0])"
   ]
  },
  {
   "cell_type": "markdown",
   "id": "db84df6f-214c-44b3-963e-b06683928524",
   "metadata": {},
   "source": [
    "(7) 이를 X로 저장하고, 레이블을 Y에 저장"
   ]
  },
  {
   "cell_type": "code",
   "execution_count": 62,
   "id": "f8662a4f-0af5-49fe-aa1e-8ce35c6a4756",
   "metadata": {},
   "outputs": [],
   "source": [
    "# 이미지(즉, 특성 행렬)\n",
    "X = digits.data\n",
    "# 각 이미지에 대한 레이블\n",
    "Y = digits.target"
   ]
  },
  {
   "cell_type": "markdown",
   "id": "419b5d48-2e70-4788-b9e3-308ceb06a6ad",
   "metadata": {},
   "source": [
    "----------------------------------------------------------------------------------------------------------"
   ]
  },
  {
   "cell_type": "markdown",
   "id": "882b5b55-3535-4545-9729-f9fdf42013e0",
   "metadata": {},
   "source": [
    "#### 2. 다층 퍼셉트론 분류기 만들기 "
   ]
  },
  {
   "cell_type": "code",
   "execution_count": 65,
   "id": "91a7b2bd-828f-4b11-b106-d8bdd7e380aa",
   "metadata": {},
   "outputs": [],
   "source": [
    "import torch\n",
    "import torch.nn as nn\n",
    "from torch import optim"
   ]
  },
  {
   "cell_type": "code",
   "execution_count": 66,
   "id": "79b7849e-c548-4408-8904-aa96cc174795",
   "metadata": {},
   "outputs": [],
   "source": [
    "model = nn.Sequential(\n",
    "    nn.Linear(64, 32),\n",
    "    nn.ReLU(),\n",
    "    nn.Linear(32, 16),\n",
    "    nn.ReLU(),\n",
    "    nn.Linear(16, 10)\n",
    ")"
   ]
  },
  {
   "cell_type": "code",
   "execution_count": 67,
   "id": "307fcfe3-f9b4-4a6b-8630-1d135149650a",
   "metadata": {},
   "outputs": [],
   "source": [
    "X = torch.tensor(X, dtype=torch.float32)\n",
    "Y = torch.tensor(Y, dtype=torch.int64)"
   ]
  },
  {
   "cell_type": "code",
   "execution_count": 68,
   "id": "53c0f21f-811a-4beb-b85d-e899f522cf64",
   "metadata": {},
   "outputs": [],
   "source": [
    "# 이 비용함수는 소프트맥스 함수를 포함하고 있다. \n",
    "loss_fn = nn.CrossEntropyLoss()"
   ]
  },
  {
   "cell_type": "code",
   "execution_count": 69,
   "id": "743aa11f-a6a4-48dd-86a3-0901a69f4a10",
   "metadata": {},
   "outputs": [],
   "source": [
    "optimizer = optim.Adam(model.parameters())"
   ]
  },
  {
   "cell_type": "code",
   "execution_count": 70,
   "id": "af0379c8-218e-4633-b30b-50eac1f23faf",
   "metadata": {},
   "outputs": [],
   "source": [
    "losses = []"
   ]
  },
  {
   "cell_type": "code",
   "execution_count": 71,
   "id": "286211f0-9bb6-485f-bf22-cd2ac742e06e",
   "metadata": {},
   "outputs": [
    {
     "name": "stdout",
     "output_type": "stream",
     "text": [
      "Epoch    0/100 Cost : 2.541957\n",
      "Epoch   10/100 Cost : 2.131950\n",
      "Epoch   20/100 Cost : 1.901542\n",
      "Epoch   30/100 Cost : 1.688262\n",
      "Epoch   40/100 Cost : 1.478268\n",
      "Epoch   50/100 Cost : 1.265791\n",
      "Epoch   60/100 Cost : 1.044096\n",
      "Epoch   70/100 Cost : 0.841271\n",
      "Epoch   80/100 Cost : 0.665232\n",
      "Epoch   90/100 Cost : 0.515241\n"
     ]
    }
   ],
   "source": [
    "for epoch in range(100) : \n",
    "    optimizer.zero_grad()\n",
    "    # forward 연산\n",
    "    y_pred = model(X)\n",
    "    loss = loss_fn(y_pred, Y)\n",
    "    loss.backward()\n",
    "    optimizer.step()\n",
    "    \n",
    "    if epoch % 10 == 0 :\n",
    "        print('Epoch {:4d}/{} Cost : {:.6f}'.format(epoch, 100, loss.item()))\n",
    "        \n",
    "    losses.append(loss.item())\n",
    "              "
   ]
  },
  {
   "cell_type": "code",
   "execution_count": 75,
   "id": "8e01443e-dba2-4cc4-acbf-e57a0242054f",
   "metadata": {},
   "outputs": [
    {
     "data": {
      "text/plain": [
       "[2.541957378387451,\n",
       " 2.476269006729126,\n",
       " 2.41935658454895,\n",
       " 2.3687009811401367,\n",
       " 2.3227596282958984,\n",
       " 2.2815968990325928,\n",
       " 2.2449424266815186,\n",
       " 2.2127304077148438,\n",
       " 2.1840288639068604,\n",
       " 2.157437801361084,\n",
       " 2.1319503784179688,\n",
       " 2.107567310333252,\n",
       " 2.0838048458099365,\n",
       " 2.0606696605682373,\n",
       " 2.0384888648986816,\n",
       " 2.0165534019470215,\n",
       " 1.9943225383758545,\n",
       " 1.9715944528579712,\n",
       " 1.9483171701431274,\n",
       " 1.9248031377792358,\n",
       " 1.90154230594635,\n",
       " 1.8789385557174683,\n",
       " 1.857217788696289,\n",
       " 1.8360182046890259,\n",
       " 1.8149528503417969,\n",
       " 1.7938083410263062,\n",
       " 1.7724858522415161,\n",
       " 1.7511334419250488,\n",
       " 1.7300283908843994,\n",
       " 1.7090823650360107,\n",
       " 1.68826162815094,\n",
       " 1.667484998703003,\n",
       " 1.6465997695922852,\n",
       " 1.6255919933319092,\n",
       " 1.6043914556503296,\n",
       " 1.5831942558288574,\n",
       " 1.562085747718811,\n",
       " 1.541006088256836,\n",
       " 1.5199902057647705,\n",
       " 1.4990876913070679,\n",
       " 1.4782683849334717,\n",
       " 1.4573739767074585,\n",
       " 1.4364166259765625,\n",
       " 1.4154231548309326,\n",
       " 1.3944278955459595,\n",
       " 1.3733752965927124,\n",
       " 1.3522084951400757,\n",
       " 1.3309004306793213,\n",
       " 1.3093619346618652,\n",
       " 1.2876685857772827,\n",
       " 1.2657909393310547,\n",
       " 1.2437028884887695,\n",
       " 1.2213897705078125,\n",
       " 1.198962688446045,\n",
       " 1.1764765977859497,\n",
       " 1.1539381742477417,\n",
       " 1.131516933441162,\n",
       " 1.1091196537017822,\n",
       " 1.0870544910430908,\n",
       " 1.0653767585754395,\n",
       " 1.0440964698791504,\n",
       " 1.0228043794631958,\n",
       " 1.0014315843582153,\n",
       " 0.9800140857696533,\n",
       " 0.9589245319366455,\n",
       " 0.9382488131523132,\n",
       " 0.9180129170417786,\n",
       " 0.8982239365577698,\n",
       " 0.8789259791374207,\n",
       " 0.8599924445152283,\n",
       " 0.8412711024284363,\n",
       " 0.8226543068885803,\n",
       " 0.8041446208953857,\n",
       " 0.7857667803764343,\n",
       " 0.7675533890724182,\n",
       " 0.7496604919433594,\n",
       " 0.7321134209632874,\n",
       " 0.7149487137794495,\n",
       " 0.6981182098388672,\n",
       " 0.6815215349197388,\n",
       " 0.6652318239212036,\n",
       " 0.6491739153862,\n",
       " 0.6332613825798035,\n",
       " 0.6175361275672913,\n",
       " 0.6020492315292358,\n",
       " 0.5868760943412781,\n",
       " 0.5720196962356567,\n",
       " 0.557470440864563,\n",
       " 0.5431755185127258,\n",
       " 0.5290849804878235,\n",
       " 0.5152412056922913,\n",
       " 0.5015798807144165,\n",
       " 0.48819977045059204,\n",
       " 0.4751364588737488,\n",
       " 0.46244123578071594,\n",
       " 0.4501403868198395,\n",
       " 0.4382134675979614,\n",
       " 0.42666852474212646,\n",
       " 0.4154661297798157,\n",
       " 0.4045492112636566]"
      ]
     },
     "execution_count": 75,
     "metadata": {},
     "output_type": "execute_result"
    }
   ],
   "source": [
    "losses"
   ]
  },
  {
   "cell_type": "code",
   "execution_count": 72,
   "id": "f797c6a2-8e8b-4856-be0d-12cbb7010f62",
   "metadata": {},
   "outputs": [
    {
     "data": {
      "text/plain": [
       "[<matplotlib.lines.Line2D at 0x182c23f4f40>]"
      ]
     },
     "execution_count": 72,
     "metadata": {},
     "output_type": "execute_result"
    },
    {
     "data": {
      "image/png": "[encoded data removed]",
      "text/plain": [
       "<Figure size 432x288 with 1 Axes>"
      ]
     },
     "metadata": {
      "needs_background": "light"
     },
     "output_type": "display_data"
    }
   ],
   "source": [
    "plt.plot(losses)"
   ]
  }
 ],
 "metadata": {
  "kernelspec": {
   "display_name": "Python 3 (ipykernel)",
   "language": "python",
   "name": "python3"
  },
  "language_info": {
   "codemirror_mode": {
    "name": "ipython",
    "version": 3
   },
   "file_extension": ".py",
   "mimetype": "text/x-python",
   "name": "python",
   "nbconvert_exporter": "python",
   "pygments_lexer": "ipython3",
   "version": "3.10.2"
  }
 },
 "nbformat": 4,
 "nbformat_minor": 5
}
