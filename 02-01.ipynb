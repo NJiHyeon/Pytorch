{
 "cells": [
  {
   "cell_type": "markdown",
   "id": "a4f5e12b-57fb-4b0f-8d11-d1ea06c2cb3e",
   "metadata": {},
   "source": [
    "#### 01. 파이토치 패키지의 기본 구성"
   ]
  },
  {
   "cell_type": "markdown",
   "id": "aaf106f4-7af3-47de-89b3-1735c95a2eca",
   "metadata": {},
   "source": [
    "1. torch\n",
    "- 메인 네임스페이스로 텐서 등의 다양한 수학 함수가 포함되어져 있으며 Numpy와 유사한 구조를 가진다."
   ]
  },
  {
   "cell_type": "markdown",
   "id": "d2eb7fa6-fcf2-4ce7-993c-127f2e5e28d4",
   "metadata": {},
   "source": [
    "2. torch.autograd\n",
    "- 자동 미분을 위한 함수들이 포함되어 있다.\n",
    "    - 자동 미분의 on/off를 제어하는 콘텍스트 매니저 (enable_grad/no_grad)\n",
    "    - 자체 미분 가능 함수를 정의할 때 사용하는 기반 클래스인 'Function'등이 포함되어져 있다."
   ]
  },
  {
   "cell_type": "markdown",
   "id": "98983160-ac85-46cf-b653-aac0e6e49507",
   "metadata": {},
   "source": [
    "3. torch.nn\n",
    "- 신경망을 구축하기 위한 다양한 데이터 구조, 레이어 등이 정의\n",
    "- ex) RNN, LSTM과 같은 레이저, ReLU와 같은 활성화 함수, MSELoss와 같은 손실 함수 등"
   ]
  },
  {
   "cell_type": "markdown",
   "id": "fa366abb-995b-430c-a8e7-08caaa77e8cc",
   "metadata": {},
   "source": [
    "4. torch.optim\n",
    "- 확률적 경사 하강법(Stochastic Gradient Descent, SGD)를 중심으로 한 파라미터 최적화 알고리즘이 구현"
   ]
  },
  {
   "cell_type": "markdown",
   "id": "68c831e1-f6a6-4c6e-b9fe-0d33e4e96b66",
   "metadata": {},
   "source": [
    "5. torch.utils.data\n",
    "- SGD의 반복 연산을 실행할 때 사용하는 미니 배치용 유틸리티 함수가 포함"
   ]
  },
  {
   "cell_type": "markdown",
   "id": "b3908df3-1210-42f7-8885-6991b9d2bb5c",
   "metadata": {},
   "source": [
    "6. torch.onnx\n",
    "- ONNX(Open Nerual Network Exchange)의 포맷으로 모델을 익스포트(export)할 때 사용\n",
    "- ONNX는 서로 다른 딥 러닝 프레임워크 간에 모델을 공유할 때 사용하는 포맷"
   ]
  }
 ],
 "metadata": {
  "kernelspec": {
   "display_name": "Python 3",
   "language": "python",
   "name": "python3"
  },
  "language_info": {
   "codemirror_mode": {
    "name": "ipython",
    "version": 3
   },
   "file_extension": ".py",
   "mimetype": "text/x-python",
   "name": "python",
   "nbconvert_exporter": "python",
   "pygments_lexer": "ipython3",
   "version": "3.9.7"
  }
 },
 "nbformat": 4,
 "nbformat_minor": 5
}
