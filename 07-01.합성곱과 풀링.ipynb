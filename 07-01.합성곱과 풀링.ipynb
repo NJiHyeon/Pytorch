{
 "cells": [
  {
   "cell_type": "markdown",
   "id": "94550ed5-7391-4208-8d80-7be0b75f1601",
   "metadata": {},
   "source": [
    "### 01. 합성곱과 풀링(Convolutional and Pooling)\n",
    "- 합성곱 신경망(Convolutional Neural Network)은 이미지 처리에 탁월한 성능을 보이는 신경망이다.\n",
    "- 합성곱층(Convolution layer)과 풀링층(Pooling layer)으로 구성된다. "
   ]
  },
  {
   "cell_type": "code",
   "execution_count": 6,
   "id": "0ea87f23-2981-49b5-bfc2-9d9891e1ee0e",
   "metadata": {},
   "outputs": [],
   "source": [
    "from IPython.display import Image"
   ]
  },
  {
   "cell_type": "markdown",
   "id": "c5f8336d-20b2-4634-afaf-77e4467bc02d",
   "metadata": {},
   "source": [
    "![cnn](c1.png)"
   ]
  },
  {
   "cell_type": "markdown",
   "id": "ef3ccfd7-be1c-4a46-8828-24cfab66d16f",
   "metadata": {},
   "source": [
    "- 합성곱층\n",
    "    - CONV는 합성곱 연산을 의미한다. \n",
    "    - 합성곱 연산의 결과가 활성화 함수 ReLU를 지난다.\n",
    "- 풀링층\n",
    "    - 그 후에 POOL이라는 구간을 지나는데 이는 풀링 연산을 의미하며 풀링층이라고 한다."
   ]
  },
  {
   "cell_type": "markdown",
   "id": "8ff13336-c94d-47ce-8689-e84d1296a732",
   "metadata": {},
   "source": [
    "#### (1) 합성곱 신경망의 대두"
   ]
  },
  {
   "cell_type": "markdown",
   "id": "9ab8dc5d-2193-4fb5-b89f-550c4ea074f3",
   "metadata": {},
   "source": [
    "1. 합성곱 신경망은 이미지 처리에 탁월한 성능을 보이는 신경망이다.\n",
    "2. 이미지 처리를 하기 위해서 **다층 퍼셉트론**을 사용할 수는 있지만 한계가 있다. \n",
    "3. 예제 : 알파벳 손글씨를 분류하는 문제\n",
    "    - 아래의 그림은 알파벳 Y를 비교적 정자로 쓴 손글씨와 다소 휘갈겨 쓴 손글씨 두 개를 2차원 텐서인 행렬로 표현한 것이다. \n",
    "    - 사람이 보기에는 두 그림 모두 알파벳 Y로 손쉽게 판단이 가능하지만 기계가 보이에는 각 픽셀마다 가진 값이 거의 상이하므로 완전히 다른 값을 가진 입력이다. \n",
    "    - 그런데 이미지라는 것은 위와 같이 같은 대상이라도 휘어지거나, 이동되었거나, 방향이 뒤틀렸거나 등 다양한 변형이 존재한다.\n",
    "    - 다층 퍼셉트론은 몇가지 픽셀만 값이 달라져도 민감하게 예측에 영향을 받는다는 단점이 있다."
   ]
  },
  {
   "cell_type": "markdown",
   "id": "f16fe99f-584f-452e-9c8b-b2dfb2794227",
   "metadata": {},
   "source": [
    "![image](c2.png)"
   ]
  },
  {
   "cell_type": "markdown",
   "id": "9c84d8fc-c72f-4384-b0c5-e0016323b3db",
   "metadata": {},
   "source": [
    "   - 위 손글씨를 다층 퍼셉트론으로 분류하려면,\n",
    "        - 이미지를 1차원 텐서인 벡터로 변환\n",
    "        - 다층 퍼셉트론의 입력층으로 사용해야 한다.\n",
    "        - 두번째 손글씨를 다층 퍼셉트론으로 분류하기 위해서 벡터로 바꾸면 아래와 같다. "
   ]
  },
  {
   "cell_type": "markdown",
   "id": "31f2e594-a1c4-486b-99b7-0baf6c5b95bc",
   "metadata": {},
   "source": [
    "![y_image](c3.png)"
   ]
  },
  {
   "cell_type": "markdown",
   "id": "c4ce8095-5b2d-40cb-b718-0eb1d4939a83",
   "metadata": {},
   "source": [
    "4. 결과\n",
    "    - 1차원으로 변환된 결과는 사람이 보기에도 원래 어떤 이미지였는지 알아보기가 어렵다. 기계도 마찬가지 !\n",
    "    - 위와 같이 결과는 변환 전에 가지고 있던 **공간적인 구조(spatial structure) 정보가 유실** 된 상태이다. \n",
    "        - spatial structure : 거리가 가까운 어떤 픽셀들끼리는 어떤 연관이 있고, 어떤 픽셀들끼리는 값이 비슷하거나 등을 포함\n",
    "    - 결국 이미지의 공간적인 구조 정보를 보존하면서 학습할 수 있는 방법이 필요해졌다."
   ]
  },
  {
   "cell_type": "markdown",
   "id": "73ffa27f-03e4-4bf1-bf76-6ab32d0fc6f7",
   "metadata": {},
   "source": [
    "5. 이를 위해 사용하는 것이 **합성곱 신경망**이다. "
   ]
  },
  {
   "cell_type": "markdown",
   "id": "9634184e-2c60-48fd-b5cd-f49bea1df46b",
   "metadata": {},
   "source": [
    "---------------------------------------------------------------------------------------------------------"
   ]
  },
  {
   "cell_type": "markdown",
   "id": "d8c1aff6-6b87-4f3c-9e6f-f9b368fef685",
   "metadata": {},
   "source": [
    "#### (2) 채널(Channel)"
   ]
  },
  {
   "cell_type": "markdown",
   "id": "47790481-620c-4e9a-82d4-53b1e2699c30",
   "metadata": {},
   "source": [
    "1. 개념\n",
    "- 기계는 글자나 이미지보다 숫자(즉, 텐서)를 더 잘 처리할 수 있다.\n",
    "- 이미지는 **(높이, 너비, 채널)** 이라는 3차원 텐서이다.\n",
    "    - 높이 : 이미지의 세로 방향 픽셀 수\n",
    "    - 너비 : 이미지의 가로 방향 픽셀 수\n",
    "    - 채널 : 색 성분\n",
    "- 예를 들어, 흑백 이미지는 채널 수가 1이며, 각 픽셀은 0~255 사이의 값을 가진다."
   ]
  },
  {
   "cell_type": "markdown",
   "id": "b74db381-d702-470c-912e-859f1db803f5",
   "metadata": {},
   "source": [
    "2. 손글씨 데이터 예제\n",
    "- 아래의 그림은 28x28 픽셀의 손글씨 데이터이다. \n",
    "- 이 이미지가 흑백 이미지이므로 채널 수가 1임을 고려하면 (28x28x1)의 크기를 가지는 3차원 텐서이다. "
   ]
  },
  {
   "cell_type": "markdown",
   "id": "bccaf3e0-fc3e-4a4a-9a52-dc1ed0e0cc91",
   "metadata": {},
   "source": [
    "![8 image](c4.png)"
   ]
  },
  {
   "cell_type": "markdown",
   "id": "496a2e31-8120-4a3d-89ca-9dbd2d473638",
   "metadata": {},
   "source": [
    "3. 컬러 이미지\n",
    "- 우리가 통상적으로 접하게 되는 컬러 이미지는 Red, Green, Blue로 채널 수가 3개이다.\n",
    "- 하나의 픽셀은 세 가지 색깔의 조합으로 이루어진다. \n",
    "- 만약 높이가 28, 너비가 28인 컬러 이미지가 있다면 이 이미지의 텐서는 (28x28x3)의 크기를 가지는 3차원 텐서이다."
   ]
  },
  {
   "cell_type": "markdown",
   "id": "98f3ae05-418b-4718-809c-3e9770ff075b",
   "metadata": {},
   "source": [
    "![rgb color picture](c5.png)"
   ]
  },
  {
   "cell_type": "markdown",
   "id": "7c890108-7b7b-4589-9eaa-c68dd0c41802",
   "metadata": {},
   "source": [
    "4. 채널의 다른 표현\n",
    "- 채널은 때로는 깊이(depth)라고도 한다.\n",
    "- 이 경우 이미지는 (높이, 너비, 깊이)라는 3차원 텐서로 표현된다고 말할 수 있다. "
   ]
  },
  {
   "cell_type": "markdown",
   "id": "983283b2-e287-4201-9fdf-84842a2d5ff2",
   "metadata": {},
   "source": [
    "---------------------------------------------------------------------------------------------------------"
   ]
  },
  {
   "cell_type": "markdown",
   "id": "061e225a-929f-40d1-bbbc-fca3d39409f8",
   "metadata": {},
   "source": [
    "#### (3) 합성곱 연산(Convolution operation)"
   ]
  },
  {
   "cell_type": "markdown",
   "id": "3402bdf9-2fe0-4d6d-b81d-dd52733c46d8",
   "metadata": {},
   "source": [
    "1. 합성곱층은 합성곱 연산을 통해서 **이미지의 특징을 추출**하는 역할을 한다."
   ]
  },
  {
   "cell_type": "markdown",
   "id": "1fd67a61-fc71-4ecc-bd57-8b7468e34a50",
   "metadata": {},
   "source": [
    "2. 합성곱 연산이란 ?\n",
    "- 합성곱은 컨볼루션이라고도 불린다.\n",
    "- **커널(kernel)** 또는 **필터(filter)** 라는 nxm 크기의 행렬을 가지고, 높이(height) x 너비(width) 크기의 이미지를 처음부터 끝까지 겹치며 훑으면서 nxm 크기의 겹쳐지는 부분의 각 이미지와 커널의 원소 값을 곱해서 모두 더한 값을 출력으로 하는 것을 말한다.  \n",
    "    - 커널(kernel)은 일반적으로 3x3 또는 5x5를 사용한다. \n",
    "    - 커널의 크기는 사용자가 정할 수 있다. \n",
    "- 이미지의 가장 왼쪽 위부터 가장 오른쪽 까지 순차적으로 훑는다. "
   ]
  },
  {
   "cell_type": "markdown",
   "id": "5b26bec7-b82f-4f5b-af1a-9b159c80d8b9",
   "metadata": {},
   "source": [
    "3. 예제\n",
    "- 아래는 3x3 크기의 커널로 5x5의 이미지 행렬에 합성곱 연산을 수행하는 과정이다. \n",
    "- 한번의 연산을 1스텝(step)이라고 하였을 때, 합성곱 연산의 네번째 스텝까지 이미지와 식으로 표현"
   ]
  },
  {
   "cell_type": "markdown",
   "id": "162e8087-83c5-42f4-918f-6964eb37f195",
   "metadata": {},
   "source": [
    "3-1. 첫번째 스텝"
   ]
  },
  {
   "cell_type": "markdown",
   "id": "f2bfc5f4-5d1f-47e3-ae6e-549fa240521f",
   "metadata": {},
   "source": [
    "![1step](c6.png)"
   ]
  },
  {
   "cell_type": "markdown",
   "id": "10d81479-400d-49ab-8e45-6ccdfdf2f466",
   "metadata": {},
   "source": [
    "3-2. 두번째 스텝"
   ]
  },
  {
   "cell_type": "markdown",
   "id": "87a1e502-c7f5-4bec-bbe1-0e8ed89b3651",
   "metadata": {},
   "source": [
    "![2step](c7.png)"
   ]
  },
  {
   "cell_type": "markdown",
   "id": "bec6e87a-725d-4b39-8a3e-6d06f97c03e2",
   "metadata": {},
   "source": [
    "3-3. 세번째 스텝"
   ]
  },
  {
   "cell_type": "markdown",
   "id": "e76e6e87-bd87-40b9-bd2b-d4e31d1da218",
   "metadata": {},
   "source": [
    "![3step](c8.png)"
   ]
  },
  {
   "cell_type": "markdown",
   "id": "6c604916-070e-4b0d-b914-9504da5801b2",
   "metadata": {},
   "source": [
    "3-4. 네번째 스텝"
   ]
  },
  {
   "cell_type": "markdown",
   "id": "1f02f71a-85ae-4369-b7a6-23becbd066ac",
   "metadata": {},
   "source": [
    "![4step](c9.png)"
   ]
  },
  {
   "cell_type": "markdown",
   "id": "a7e957f7-5df1-4ddb-94c9-5e2c58118817",
   "metadata": {},
   "source": [
    "- 위의 연산을 총 9번의 스텝까지 마쳤다고 가정하였을 때, 최종 결과"
   ]
  },
  {
   "cell_type": "markdown",
   "id": "1966ed24-fe0d-4cb9-91ab-18a4950af671",
   "metadata": {},
   "source": [
    "![final](c10.png)"
   ]
  },
  {
   "cell_type": "markdown",
   "id": "5f77ba80-891a-4e5e-9a7a-2675d59aa6c0",
   "metadata": {},
   "source": [
    "4. 특성 맵(feature map)이란 ?\n",
    "- 위와 같이 입력으로부터 커널을 사용하여 합성곱 연산을 통해 나온 결과"
   ]
  },
  {
   "cell_type": "markdown",
   "id": "b0dcb69d-d497-4fb6-8430-0dd19e1d0577",
   "metadata": {},
   "source": [
    "5. 스트라이드(stride)란 ?\n",
    "- 커널이 이동 범위\n",
    "- 위의 예제에서는 커널의 이동범위가 한칸 이었지만, 이것도 커널의 크기처럼 사용자가 정할 수 있다.\n",
    "- 아래의 예제는 스트라이드가 2일 경우에 5x5 이미지에 합성곱 연산을 수행하는 3x3 커널의 움직임을 보여준다.\n",
    "    - 최종적으로 2x2 크기의 feature map을 얻는다. "
   ]
  },
  {
   "cell_type": "markdown",
   "id": "63d25dcd-7226-4d97-8498-8e2b321f28be",
   "metadata": {},
   "source": [
    "![stride2](c11.png)"
   ]
  },
  {
   "cell_type": "markdown",
   "id": "1a2ea4d2-d885-4f6e-ae7a-b54eb27de0ac",
   "metadata": {},
   "source": [
    "---------------------------------------------------------------------------------------------------------"
   ]
  },
  {
   "cell_type": "markdown",
   "id": "d0b1d530-74ec-496b-b45d-ed5b115eb13a",
   "metadata": {},
   "source": [
    "#### (4) 패딩(Padding)"
   ]
  },
  {
   "cell_type": "markdown",
   "id": "07dcfb1e-2a5a-4285-887c-39b84cae5c9b",
   "metadata": {},
   "source": [
    "1. 언제 사용하는가 ?\n",
    "- 위의 예에서 5x5 이미지에 3x3 커널로 합성곱 연산을 하였을 때, 스트라이드가 1일 경우에는 3x3의 특성 맵을 얻었다.\n",
    "- 이와 같이 합성곱 연산의 결과로 얻은 feature map은 입력보다 크기가 작아진다는 특징이 있다. \n",
    "- 만약 합성곱 층을 여러개 쌓았다면 최종적으로 얻은 특성 맵은 초기 입력보다 매우 작아진 상태가 되버린다.\n",
    "- 합성곱 연산 이후에도 특성 맵의 크기가 입력의 크기와 동일하게 유지되도록 할 때 사용 !"
   ]
  },
  {
   "cell_type": "markdown",
   "id": "39f8e765-8d01-4288-b56b-4bfe87d865a6",
   "metadata": {},
   "source": [
    "![](c12.png)"
   ]
  },
  {
   "cell_type": "markdown",
   "id": "d7074e6e-30af-4373-a2da-5366f5213915",
   "metadata": {},
   "source": [
    "2. 의미와 사용방법\n",
    "- 합성곱 연산을 하기 전에 입력의 가장자리에 지정된 개수의 폭만큼 행과 열을 추가해주는 것을 말한다.\n",
    "- 즉, 지정된 개수의 폭만큼 테두리를 추가\n",
    "- 주로 값을 0으로 채우는 제로 패딩(zero padding)을 사용\n",
    "- 위의 그림은 5x5 이미지에 1폭짜리 제로 패딩을 사용하여 위, 아래에 하나의 행을 좌, 우에 하나의 열을 추가한 형태이다."
   ]
  },
  {
   "cell_type": "markdown",
   "id": "8bf3b58f-891d-4259-b1e2-9fb6820d2045",
   "metadata": {},
   "source": [
    "3. 자주 사용되는 크기\n",
    "- 커널은 주로 3x3 또는 5x5를 사용한다.\n",
    "- 만약 스트라이드가 1이라고 하였을 때\n",
    "    - 3x3 크기의 커널을 사용한다면 1폭짜리 제로 패딩을 사용\n",
    "    - 5x5 크기의 커널을 사용한다면 2폭짜리 제로 패딩을 사용\n",
    "    - 이렇게 하면 입력과 특성 맵의 크기를 보존할 수 있다.\n",
    "- 예를들어\n",
    "    - 5x5 크기의이미지에 1폭짜리 제로 패딩을 하면 7x7이 된다\n",
    "    - 여기에 3x3 커널을 사용하여 1스트라이드로 합성곱을 한 후의 특성 맵은 기존의 입력 이미지의 크기와 같은 5x5가 된다. "
   ]
  },
  {
   "cell_type": "markdown",
   "id": "1dab9cdc-0478-4795-89f3-4e7bbe8f5241",
   "metadata": {},
   "source": [
    "---------------------------------------------------------------------------------------------------------"
   ]
  },
  {
   "cell_type": "markdown",
   "id": "acba2c77-5b89-4d25-a142-ec6864838499",
   "metadata": {},
   "source": [
    "#### (5) 가중치와 편향"
   ]
  },
  {
   "cell_type": "markdown",
   "id": "ace9af0f-b6f0-4555-984a-e74dfb3c1dfb",
   "metadata": {},
   "source": [
    "[1] 합성곱 신경망의 가중치"
   ]
  },
  {
   "cell_type": "markdown",
   "id": "06994968-a018-4f93-9bcf-cc1d1e8ae36e",
   "metadata": {},
   "source": [
    "1. 다층 퍼셉트론으로 3x3 이미지를 처리\n",
    "- 이미지를 1차원 텐서인 벡터로 만들면 3x3=9가 되므로 입력층은 0개의 뉴론을 가진다.\n",
    "- 4개의 뉴론을 가지는 은닉층을 추가하면 아래의 그림과 같다.\n",
    "- 각 연결선은 가중치를 의미하므로 아래의 그림에서는 총 9x4=36개의 가중치를 가진다. "
   ]
  },
  {
   "cell_type": "markdown",
   "id": "e335aeb0-02af-423f-b013-7dc4cf2d6af2",
   "metadata": {},
   "source": [
    "![](c13.png)"
   ]
  },
  {
   "cell_type": "markdown",
   "id": "310520e1-4e05-4289-bd0d-47515e2354b5",
   "metadata": {},
   "source": [
    "2. 합성곱 신경망으로 3x3 이미지를 처리\n",
    "- 2x2 커널을 사용하고 스트라이드는 1로 한다. \n",
    "- *는 합성곱 연산을 의미한다. "
   ]
  },
  {
   "cell_type": "markdown",
   "id": "ab274ef6-7686-4096-865d-70f9ae73f0bd",
   "metadata": {},
   "source": [
    "![](c14.png)"
   ]
  },
  {
   "cell_type": "markdown",
   "id": "9a151408-243b-4e50-a853-1a6e131db9ad",
   "metadata": {},
   "source": [
    "3. 사실 합성곱 신경망에서 **가중치**는 **커널 행렬의 원소들**이다. 이를 인공 신경망의 형태로 아래와 같이 표현할 수 있다. "
   ]
  },
  {
   "cell_type": "markdown",
   "id": "16650807-02b7-444b-869c-97a40f310793",
   "metadata": {},
   "source": [
    "![](c15.png)"
   ]
  },
  {
   "cell_type": "markdown",
   "id": "a12f6532-e259-47e6-b10f-c89a0fa7f846",
   "metadata": {},
   "source": [
    "4. 합성곱 신경망의 장점\n",
    "- 최종 feature map을 얻기 위해서 동일한 커널로 이미지 전체를 훑으며 합성곱 연산을 진행한다.\n",
    "    - 사용되는 가중치는 w0, w1, w2, w3 4개 뿐이다.\n",
    "- 각 합성곱 연산마다 이미지의 모든 픽셀을 사용하는 것이 아니라, 커널과 맵핑되는 픽셀만을 입력으로 사용\n",
    "- 결국 합성곱 신경망은 다층 퍼셉트론을 사용할 때보다 훨씬 적은 수의 가중치를 사용하여 공간적 구조 정보를 보존한다는 특징이 있다."
   ]
  },
  {
   "cell_type": "markdown",
   "id": "0494428a-e98a-49f0-9de6-7d33fc19e7b2",
   "metadata": {},
   "source": [
    "5. 합성곱 신경망도 활성화 함수를 지나는가 ? \n",
    "- 합성곱 연산을 통해 얻은 feature map은 다층 퍼셉트론때와 마찬가지로 비선형성 추가를 위해서 활성화 함수를 지나게 된다.\n",
    "- 렐루 함수나 렐루 함수의 변형들이 주로 사용된다. \n",
    "- 합성곱 층(convolution layer) : 합성곱 연산을 통해서 feature map을 얻고, 활성화 함수를 지나는 연산을 하는 합성곱 신경망의 은닉층"
   ]
  },
  {
   "cell_type": "markdown",
   "id": "e1c56656-8eae-4793-b2d1-2f3e8fd16ec4",
   "metadata": {},
   "source": [
    "[2] 합성곱 신경망의 편향"
   ]
  },
  {
   "cell_type": "markdown",
   "id": "757d3300-cdbe-433a-926e-49d0226a0bda",
   "metadata": {},
   "source": [
    "![](c16.png)"
   ]
  },
  {
   "cell_type": "markdown",
   "id": "9368f715-6fa3-46a3-893a-129e7260ce2f",
   "metadata": {},
   "source": [
    "- 합성곱 신경망에도 편향(bias)를 추가할 수 있다.\n",
    "- 만약 편향을 사용한다면 커널을 적용한 뒤에 더해진다. \n",
    "- 편향은 하나의 값만 존재하며, 커널이 적용된 결과의 모든 원소에 더해진다. "
   ]
  },
  {
   "cell_type": "markdown",
   "id": "08c0491d-b3d9-4efd-b690-1fcf291835e5",
   "metadata": {},
   "source": [
    "---------------------------------------------------------------------------------------------------------"
   ]
  },
  {
   "cell_type": "markdown",
   "id": "c9e6ab8e-65bd-42f4-a1f8-75fafbdf1575",
   "metadata": {},
   "source": [
    "#### (6) 특성 맵의 크기 계산 방법"
   ]
  },
  {
   "cell_type": "markdown",
   "id": "77f82b1c-472c-4de5-a12d-2460105a6918",
   "metadata": {},
   "source": [
    "1. 입력의 크기, 커널의 크기, 스트라이드의 값만 알면 합성곱 연산의 결과인 feature map의 크기를 계산할 수 있다."
   ]
  },
  {
   "cell_type": "markdown",
   "id": "40cceefa-038c-43e5-b275-caacaafe02e5",
   "metadata": {},
   "source": [
    "![](c19.png)"
   ]
  },
  {
   "cell_type": "markdown",
   "id": "386a26d1-58ec-4abc-b5fb-e625db2be233",
   "metadata": {},
   "source": [
    "2. 위의 정의에 따라 feature map의 높이와 너비는 아래와 같다.\n",
    "- floor 함수는 소수점 발생 시 소수점 이하를 버리는 역할"
   ]
  },
  {
   "cell_type": "markdown",
   "id": "8bdd1c29-e9dc-4a99-9721-ec35862ce63f",
   "metadata": {},
   "source": [
    "![](c17.png)"
   ]
  },
  {
   "cell_type": "markdown",
   "id": "8ff0547d-05fa-4a22-a2e7-f17a8869cb61",
   "metadata": {},
   "source": [
    "3. 패딩의 폭을 P라고 하고, 패딩까지 고려한 식은 아래와 같다. "
   ]
  },
  {
   "cell_type": "markdown",
   "id": "2daa7789-3793-49dc-959b-fbec72e4e3d8",
   "metadata": {},
   "source": [
    "![](c18.png)"
   ]
  },
  {
   "cell_type": "markdown",
   "id": "4e326183-f93c-4722-9aa0-b4aaa8434827",
   "metadata": {},
   "source": [
    "---------------------------------------------------------------------------------------------------------"
   ]
  },
  {
   "cell_type": "markdown",
   "id": "d4a6516c-9312-43e1-b49f-e90bb0722e70",
   "metadata": {},
   "source": [
    "#### (7) 다수의 채널을 가질 경우의 합성곱 연산(3차원 텐서의 합성곱 연산)"
   ]
  },
  {
   "cell_type": "markdown",
   "id": "4d79ad0f-63b8-484f-850d-cae8f44d3729",
   "metadata": {},
   "source": [
    "1. RGB 컬러의 이미지 \n",
    "- 실제로 합성곱 연산의 입력은 '다수의 채널을 가진' 이미지 또는 이전 연산의 결과로 나온 feature map일 수 있다.\n",
    "- 커널의 채널 수도 입력의 채널 수만큼 존재해야 한다. **(입력 데이터의 채널 수 = 커널의 채널 수)**\n",
    "- 채널 수가 같으므로 합성곱 연산을 채널마다 수행한다. \n",
    "- 그 결과를 모두 더하여 최종 feature map을 얻는다. "
   ]
  },
  {
   "cell_type": "markdown",
   "id": "fe6aa2ec-c215-41ce-aa3a-56006196bccb",
   "metadata": {},
   "source": [
    "![](c20.png)"
   ]
  },
  {
   "cell_type": "markdown",
   "id": "784b6963-a85e-40fc-8992-418ff06ea2d1",
   "metadata": {},
   "source": [
    "2. 그림 설명 \n",
    "- 3개의 채널을 가진 입력 데이터와 3개의 채널을 가진 커널의 합성곱 연산\n",
    "    - 커널의 각 채널끼리의 크기는 같아야 한다.\n",
    "    - 위의 연산에서 사용되는 커널은 3개의 커널이 아니라 3개의 채널을 가진 1개의 커널 !!\n",
    "- 각 채널 간 합성곱 연산을 마치고 그 결과를 모두 더해서 하나의 채널을 가지는 feature map을 만든다. \n",
    "    - 높이3, 너비3, 채널3의 입력이 높이2, 너비2, 채널3의 커널과 합성곱 연산을 하여 높이2, 너비2, 채널1의 feature map을 얻는다는 의미\n",
    "    - 합성곱 연산의 결과로 얻은 feature map의 채널 차원은 RGB 채널 등과 같은 컬러의 의미를 담고 있지 않는다."
   ]
  },
  {
   "cell_type": "markdown",
   "id": "0b6d5b71-9035-47ab-a535-254d58961d5a",
   "metadata": {},
   "source": [
    "---------------------------------------------------------------------------------------------------------"
   ]
  },
  {
   "cell_type": "markdown",
   "id": "73e7ea09-50c0-466a-947f-075bd016b4aa",
   "metadata": {},
   "source": [
    "#### (8) 3차원 텐서의 합성곱 연산"
   ]
  },
  {
   "cell_type": "markdown",
   "id": "2b394500-600f-4adc-9d0c-d9971c96910b",
   "metadata": {},
   "source": [
    "1. 일반화를 위해 사용하는 각 변수 정의"
   ]
  },
  {
   "cell_type": "markdown",
   "id": "6f30da31-c62e-474e-ab55-8291311f78c2",
   "metadata": {},
   "source": [
    "![](c21.png)"
   ]
  },
  {
   "cell_type": "markdown",
   "id": "c9b39d23-75d9-4a8c-8359-c85aa77ed26b",
   "metadata": {},
   "source": [
    "2. 3차원 텐서의 합성곱 연산 도식화"
   ]
  },
  {
   "cell_type": "markdown",
   "id": "7e446405-1ddc-472a-9345-5244559ffecc",
   "metadata": {},
   "source": [
    "![](c22.png)"
   ]
  },
  {
   "cell_type": "markdown",
   "id": "f789579e-17f2-4bac-87cc-845e3a841350",
   "metadata": {},
   "source": [
    "- 높이I_h, 너비I_w, 채널C_i의 입력 데이터는 동일한 채널 수 C_i를 가지는 높이K_h, 너비K_w의 커널과 합성곱 연산을 하여 높이O_h, 너비O_w, 채널 1의 feature map을 얻는다. "
   ]
  },
  {
   "cell_type": "markdown",
   "id": "da9de0e8-8814-481f-990c-3b797d627895",
   "metadata": {},
   "source": [
    "3. 하나의 입력에 여러개의 커널을 사용하는 합성곱 연산 도식화"
   ]
  },
  {
   "cell_type": "markdown",
   "id": "ea3e98e2-d132-4686-bd9c-3e63d8a2e5cc",
   "metadata": {},
   "source": [
    "![](c23.png)"
   ]
  },
  {
   "cell_type": "markdown",
   "id": "e280c9d4-f8db-4725-958f-6b7d45be4a86",
   "metadata": {},
   "source": [
    "- C_o : 합성곱 연산에 사용하는 커널의 수\n",
    "- 합성곱 연산에서 다수의 커널을 사용할 경우, 사용한 커널 수는 합성곱 연산의 결과로 나오는 feature map의 채널 수가 된다.\n",
    "- 이제는 커널의 크기, 입력 데이터의 채널 수(C_i), 출력 데이터의 채널 수(C_o)가 주어졌을 때, 가중치 매개변수의 총 개수를 구할 수 있다.\n",
    "    - 가중치는 커널의 원소들이므로 하나의 커널의 하나의 채널에는 K_i x K_o 개의 매개변수를 갖는다.\n",
    "    - 합성곱 연산을 하려면 커널의 채널 수는 입력 데이터의 채널 수와 같아야 한다.\n",
    "    - 이에 따라 하나의 커널이 가지는 매개변수는 K_i x K_o x C_i개이다.\n",
    "    - 이러한 커널이 총 C_o개가 있어야 한다.\n",
    "- 가중치 매개변수의 총 개수 : K_i x K_o x C_i x C_o"
   ]
  },
  {
   "cell_type": "markdown",
   "id": "efa79793-ae82-4b23-8b4a-2fbf7ba39ab2",
   "metadata": {},
   "source": [
    "---------------------------------------------------------------------------------------------------------"
   ]
  },
  {
   "cell_type": "markdown",
   "id": "eefd6cf4-c343-416d-bf8b-cdab9235a3aa",
   "metadata": {},
   "source": [
    "#### 9. 풀링(Pooling)"
   ]
  },
  {
   "cell_type": "markdown",
   "id": "dcbc05b2-8c6e-45dd-96e4-9606e66d3742",
   "metadata": {},
   "source": [
    "- 합성곱 층(합성곱 연산 + 활성화 함수) 다음에는 풀링 층을 추가하는 것이 일반적이다.\n",
    "- 풀링 층에서는 feature map을 **다운샘플링하여 특성 맵의 크기를 줄이는** 풀링 연산이 이루어진다. "
   ]
  },
  {
   "cell_type": "markdown",
   "id": "3709b0f0-3bf6-42c2-8a2a-b40e8983ef83",
   "metadata": {},
   "source": [
    "1. 최대 풀링(max pooling)\n",
    "- 풀링 연산에서도 합성곱 연산과 마찬가지로 커널과 스트라이드 개념을 가진다. \n",
    "- 아래의 그림은 스트라이드가 2일 때, 2x2 크기 커널로 맥스 풀링 연산을 하면 feature map이 절반의 크기로 다운샘플링 된다.\n",
    "- 맥스 풀링은 커널과 겹치는 영역 안에서 최대값을 추출하는 방식으로 다운샘플링"
   ]
  },
  {
   "cell_type": "markdown",
   "id": "553f7bad-63f0-4ee9-bd89-374a077ff937",
   "metadata": {},
   "source": [
    "![](c24.png)"
   ]
  },
  {
   "cell_type": "markdown",
   "id": "d2fd391d-61ba-40f2-ad48-ff117a884d21",
   "metadata": {},
   "source": [
    "2. 평균 풀링(average pooling)\n",
    "- 최대값이 아닌 평균값을 추출하는 연산"
   ]
  },
  {
   "cell_type": "markdown",
   "id": "82a2921c-ae06-441b-8d17-eb114eb462f1",
   "metadata": {},
   "source": [
    "3. 합성곱 연산과의 비교\n",
    "- 커널과 스트라이드 개념이 존재한다는 점에서 합성곱 연산과 유사\n",
    "- 학습해야 할 가중치가 없다.\n",
    "- 연산 후에 채널 수가 변하지 않는다. "
   ]
  },
  {
   "cell_type": "markdown",
   "id": "be4c1964-9ec4-4798-a461-35ea0aa8d354",
   "metadata": {},
   "source": [
    "---------------------------------------------------------------------------------------------------------"
   ]
  },
  {
   "cell_type": "markdown",
   "id": "9a49b61a-bd78-47c2-9063-c32f198d4f94",
   "metadata": {},
   "source": [
    "[참고 자료]\n",
    "- http://taewan.kim/post/cnn/\n",
    "- https://ujjwalkarn.me/2016/08/11/intuitive-explanation-convnets/\n",
    "- https://excelsior-cjh.tistory.com/152\n",
    "- https://buomsoo-kim.github.io/keras/2018/04/28/Easy-deep-learning-with-Keras-7.md/\n",
    "- https://becominghuman.ai/not-just-introduction-to-convolutional-neural-networks-part-1-56a36b938592\n",
    "- https://brohrer.github.io/how_convolutional_neural_networks_work.html\n",
    "- https://ujjwalkarn.me/2016/08/11/intuitive-explanation-convnets/\n",
    "- https://www.kdnuggets.com/2018/04/derivation-convolutional-neural-network-fully-connected-step-by-step.html\n",
    "- https://www.slideshare.net/leeseungeun/cnn-vgg-72164295\n",
    "\n"
   ]
  }
 ],
 "metadata": {
  "kernelspec": {
   "display_name": "Python 3 (ipykernel)",
   "language": "python",
   "name": "python3"
  },
  "language_info": {
   "codemirror_mode": {
    "name": "ipython",
    "version": 3
   },
   "file_extension": ".py",
   "mimetype": "text/x-python",
   "name": "python",
   "nbconvert_exporter": "python",
   "pygments_lexer": "ipython3",
   "version": "3.10.2"
  }
 },
 "nbformat": 4,
 "nbformat_minor": 5
}
