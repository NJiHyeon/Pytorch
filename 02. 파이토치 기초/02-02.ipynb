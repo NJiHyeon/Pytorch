{
 "cells": [
  {
   "cell_type": "markdown",
   "id": "92abfaad-dc50-464d-93a5-6e64eb5d436a",
   "metadata": {},
   "source": [
    "### 02. 텐서 조작하기(Tensor Manipulation) 1"
   ]
  },
  {
   "cell_type": "markdown",
   "id": "8f140ef5-70fa-4745-893c-64bcfc966232",
   "metadata": {},
   "source": [
    "Vector, Matrix, Tensor\n",
    "    - 딥러닝을 위한 가장 기본적인 수학적 지식\n",
    "- Numpy Review\n",
    "    - 파이토치는 파이썬 패키지 넘파이와 유사하므로 넘파이에 대해서 간단히 공부\n",
    "- PyTorch Tensor Allocation\n",
    "    - 넘파이로 실습한 후 파이토치 텐서 선언 방법에 대해서 공부\n",
    "- Matrix Multiplication\n",
    "    - 행렬 연산에 대해서 공부\n",
    "- Other Basic Ops\n",
    "    - 다른 기본적인 오퍼레이션들에 대해서 공부"
   ]
  },
  {
   "cell_type": "markdown",
   "id": "6a37d241-4df5-41af-a605-9d10a557aea2",
   "metadata": {},
   "source": [
    "-----------------------------------------------------------------------------------------------------------"
   ]
  },
  {
   "cell_type": "markdown",
   "id": "50a103da-1ea7-4a3b-98e7-07d41a2beac3",
   "metadata": {},
   "source": [
    "#### 1. Vector, Matrix, Tensor"
   ]
  },
  {
   "cell_type": "markdown",
   "id": "b8f7adf5-a890-4ebe-8631-f26118c3f349",
   "metadata": {},
   "source": [
    "##### 1) 그림으로 이해하기"
   ]
  },
  {
   "cell_type": "markdown",
   "id": "3d42c8f0-c805-4e69-ad37-e1e6e61c985b",
   "metadata": {},
   "source": [
    "##### 2) Pytorch Tensor Shape Convention"
   ]
  },
  {
   "cell_type": "markdown",
   "id": "689cb948-f884-43d3-ad04-5f00ddd25cbe",
   "metadata": {},
   "source": [
    "- 2D tensor : (Batch size, dim)\n",
    "- 3D tensor(computer vision) : (batch size, width, height)\n",
    "- 3D tensor(NL) : (batch size, length, dim)"
   ]
  },
  {
   "cell_type": "markdown",
   "id": "a4d7ae4e-7b5f-4075-acd1-b8e1d1bc11c4",
   "metadata": {},
   "source": [
    "- 3D tensor example(NLP)\n",
    "    - 4개의 문장 : [[나는 사과를 좋아해], [나는 바나나를 좋아해], [나는 사과를 싫어해], [나는 바나나를 싫어해]]\n",
    "    - 단어별로 나누기 : [['나는', '사과를', '좋아해'], ['나는', '바나나를', '좋아해'], ['나는', '사과를', '싫어해'], ['나는', '바나나를', '싫어해']] -> 4X3의 크기를 가지는 2D 텐서\n",
    "    - 각 단어를 벡터로 만들기 \n",
    "        - '나는' = [0.1, 0.2, 0.9]\n",
    "        - '사과를' = [0.3, 0.5, 0.1]\n",
    "        - '바나나를' = [0.3, 0.5, 0.2]\n",
    "        - '좋아해' = [0.7, 0.6, 0.5]\n",
    "        - '싫어해' = [0.5, 0.6, 0.7]\n",
    "    - 훈련 데이터를 재구성 : [[[0.1, 0.2, 0.9], [0.3, 0.5, 0.1], [0.7, 0.6, 0.5]],\n",
    "                             [[0.1, 0.2, 0.9], [0.3, 0.5, 0.2], [0.7, 0.6, 0.5]],\n",
    "                             [[0.1, 0.2, 0.9], [0.3, 0.5, 0.1], [0.5, 0.6, 0.7]],\n",
    "                             [[0.1, 0.2, 0.9], [0.3, 0.5, 0.2], [0.5, 0.6, 0.7]]] \n",
    "                             -> 4x3x3의 크기를 가지는 3D 텐서 \n",
    "    - batch size를 2로 : [[[0.1, 0.2, 0.9], [0.3, 0.5, 0.1], [0.7, 0.6, 0.5]],\n",
    "                          [[0.1, 0.2, 0.9], [0.3, 0.5, 0.2], [0.7, 0.6, 0.5]]]\n",
    "                         [[[[0.1, 0.2, 0.9], [0.3, 0.5, 0.1], [0.5, 0.6, 0.7]],\n",
    "                          [[0.1, 0.2, 0.9], [0.3, 0.5, 0.2], [0.5, 0.6, 0.7]]] \n",
    "                             "
   ]
  },
  {
   "cell_type": "markdown",
   "id": "4c4ccf74-2de3-43d6-bf3c-abc2cd80ffdb",
   "metadata": {},
   "source": [
    "-----------------------------------------------------------------------------------------------------------"
   ]
  },
  {
   "cell_type": "markdown",
   "id": "13f95de2-b072-43dc-8f0a-981debd5fb20",
   "metadata": {},
   "source": [
    "#### 2. 넘파이로 텐서 만들기(벡터와 행렬 만들기)"
   ]
  },
  {
   "cell_type": "markdown",
   "id": "ac28506d-353e-42c6-b13b-1386fd00d209",
   "metadata": {},
   "source": [
    "방법 : [숫자, 숫자, 숫자]와 같은 형식으로 만들고 이를 np.array()로 감싸주는 간단한 방법"
   ]
  },
  {
   "cell_type": "code",
   "execution_count": 2,
   "id": "7ea0fdd8-8e58-4281-9f73-f708292c0543",
   "metadata": {},
   "outputs": [],
   "source": [
    "import numpy as np"
   ]
  },
  {
   "cell_type": "markdown",
   "id": "f6fbae1a-d254-4d9e-bd36-9035506ee460",
   "metadata": {},
   "source": [
    "##### 1) 1D with Numpy"
   ]
  },
  {
   "cell_type": "code",
   "execution_count": 4,
   "id": "49958cbc-4c4f-4e1e-9041-2e83dcf1cedc",
   "metadata": {},
   "outputs": [
    {
     "name": "stdout",
     "output_type": "stream",
     "text": [
      "[0. 1. 2. 3. 4. 5. 6.]\n"
     ]
    }
   ],
   "source": [
    "# 파이썬으로 설명하면 list를 생성해서 np.array로 1차원 array로 변환\n",
    "t = np.array([0., 1., 2., 3., 4., 5., 6.])\n",
    "print(t)    "
   ]
  },
  {
   "cell_type": "code",
   "execution_count": 8,
   "id": "683581dc-e212-4920-84e7-dd09447f88d0",
   "metadata": {},
   "outputs": [
    {
     "name": "stdout",
     "output_type": "stream",
     "text": [
      "Rank of t :  1\n",
      "Shape of t :  (7,)\n"
     ]
    }
   ],
   "source": [
    "# 1차원 텐서인 벡터의 차원과 크기 출력\n",
    "print('Rank of t : ', t.ndim)\n",
    "print('Shape of t : ', t.shape)"
   ]
  },
  {
   "cell_type": "code",
   "execution_count": null,
   "id": "edcfe204-2f69-412a-87a4-b84319d1d4c8",
   "metadata": {},
   "outputs": [],
   "source": [
    "##### 1-1) 넘파이 기초 이해하기"
   ]
  },
  {
   "cell_type": "code",
   "execution_count": 9,
   "id": "b7428399-6217-4dea-9a39-82fcdd0ad303",
   "metadata": {},
   "outputs": [
    {
     "name": "stdout",
     "output_type": "stream",
     "text": [
      "t[0] t[1] t[-1] =  0.0 1.0 6.0\n"
     ]
    }
   ],
   "source": [
    "print('t[0] t[1] t[-1] = ', t[0], t[1], t[-1])"
   ]
  },
  {
   "cell_type": "code",
   "execution_count": 10,
   "id": "ac00db8d-73fb-4d65-ae3c-7d518e1f73bb",
   "metadata": {},
   "outputs": [
    {
     "name": "stdout",
     "output_type": "stream",
     "text": [
      "t[2:5] t[4:-1] =  [2. 3. 4.] [4. 5.]\n"
     ]
    }
   ],
   "source": [
    "print('t[2:5] t[4:-1] = ', t[2:5], t[4:-1])"
   ]
  },
  {
   "cell_type": "code",
   "execution_count": 11,
   "id": "24b66134-d6a8-41eb-8d1b-452f2e364058",
   "metadata": {},
   "outputs": [
    {
     "name": "stdout",
     "output_type": "stream",
     "text": [
      "t[:2] t[3:]   =  [0. 1.] [3. 4. 5. 6.]\n"
     ]
    }
   ],
   "source": [
    "print('t[:2] t[3:]   = ', t[:2], t[3:])"
   ]
  },
  {
   "cell_type": "markdown",
   "id": "92c595a9-1207-4d4e-b15d-071b69b6469a",
   "metadata": {},
   "source": [
    "##### 2) 2D with Numpy(Matrix)"
   ]
  },
  {
   "cell_type": "code",
   "execution_count": 16,
   "id": "fedf6647-d7ce-4955-b54b-9025c4c1de69",
   "metadata": {},
   "outputs": [
    {
     "name": "stdout",
     "output_type": "stream",
     "text": [
      "[[ 1.  2.  3.]\n",
      " [ 4.  5.  6.]\n",
      " [ 7.  8.  9.]\n",
      " [10. 11. 12.]]\n"
     ]
    }
   ],
   "source": [
    "t = np.array([[1., 2., 3.], [4., 5., 6.], [7., 8., 9.], [10., 11., 12]])\n",
    "print(t)"
   ]
  },
  {
   "cell_type": "code",
   "execution_count": 17,
   "id": "9a31fd4c-7b82-4b87-993f-0234de288c12",
   "metadata": {},
   "outputs": [
    {
     "name": "stdout",
     "output_type": "stream",
     "text": [
      "Rank of t :  2\n",
      "Shape of t :  (4, 3)\n"
     ]
    }
   ],
   "source": [
    "print('Rank of t : ', t.ndim)\n",
    "print('Shape of t : ', t.shape)"
   ]
  },
  {
   "cell_type": "markdown",
   "id": "a9323453-8512-48f7-a1a0-2b62e28a57d6",
   "metadata": {},
   "source": [
    "-----------------------------------------------------------------------------------------------------------"
   ]
  },
  {
   "cell_type": "markdown",
   "id": "4d90cdbe-7ec9-4ebc-9ba1-fe90f7d63475",
   "metadata": {},
   "source": [
    "#### 3. 파이토치 텐서 선언하기(PyTorch Tensor Allocation)"
   ]
  },
  {
   "cell_type": "code",
   "execution_count": 18,
   "id": "62ef27e5-97e5-460d-9827-d35da7af3652",
   "metadata": {},
   "outputs": [],
   "source": [
    "import torch"
   ]
  },
  {
   "cell_type": "markdown",
   "id": "d5efa6f2-8f9a-4797-bc51-28ed0cae6b98",
   "metadata": {},
   "source": [
    "##### 1) 1D with PyTorch"
   ]
  },
  {
   "cell_type": "code",
   "execution_count": 19,
   "id": "5d3b93e2-df07-4bb2-b32d-b8f70d787564",
   "metadata": {},
   "outputs": [
    {
     "name": "stdout",
     "output_type": "stream",
     "text": [
      "tensor([0., 1., 2., 3., 4., 5., 6.])\n"
     ]
    }
   ],
   "source": [
    "t = torch.FloatTensor([0., 1., 2., 3., 4. ,5. ,6.])\n",
    "print(t)"
   ]
  },
  {
   "cell_type": "code",
   "execution_count": 22,
   "id": "460e405b-5471-441f-9a98-741e82162706",
   "metadata": {},
   "outputs": [
    {
     "name": "stdout",
     "output_type": "stream",
     "text": [
      "1\n",
      "torch.Size([7])\n",
      "torch.Size([7])\n"
     ]
    }
   ],
   "source": [
    "print(t.dim())\n",
    "print(t.shape)\n",
    "print(t.size())"
   ]
  },
  {
   "cell_type": "code",
   "execution_count": 23,
   "id": "8f8ed541-75e5-4595-908e-8ca2701fc126",
   "metadata": {},
   "outputs": [
    {
     "name": "stdout",
     "output_type": "stream",
     "text": [
      "tensor(0.) tensor(1.) tensor(6.)\n",
      "tensor([2., 3., 4.]) tensor([4., 5.])\n",
      "tensor([0., 1.]) tensor([3., 4., 5., 6.])\n"
     ]
    }
   ],
   "source": [
    "print(t[0], t[1], t[-1])\n",
    "print(t[2:5], t[4:-1])\n",
    "print(t[:2], t[3:])"
   ]
  },
  {
   "cell_type": "markdown",
   "id": "b92b75cb-61d9-42bc-b6ec-49e2c5357784",
   "metadata": {},
   "source": [
    "##### 2) 2D with PyTorch"
   ]
  },
  {
   "cell_type": "code",
   "execution_count": 24,
   "id": "7e6c88ca-7e3a-4638-868c-1f5a3078ef71",
   "metadata": {},
   "outputs": [
    {
     "name": "stdout",
     "output_type": "stream",
     "text": [
      "tensor([[ 1.,  2.,  3.],\n",
      "        [ 4.,  5.,  6.],\n",
      "        [ 7.,  8.,  9.],\n",
      "        [10., 11., 12.]])\n"
     ]
    }
   ],
   "source": [
    "t = torch.FloatTensor([[1., 2., 3.],\n",
    "                       [4., 5., 6.],\n",
    "                       [7., 8., 9.],\n",
    "                       [10., 11., 12.]\n",
    "                      ])\n",
    "print(t)"
   ]
  },
  {
   "cell_type": "code",
   "execution_count": 25,
   "id": "e3583c41-bbe1-48f7-a896-e7c68d4f8057",
   "metadata": {},
   "outputs": [
    {
     "name": "stdout",
     "output_type": "stream",
     "text": [
      "2\n",
      "torch.Size([4, 3])\n"
     ]
    }
   ],
   "source": [
    "print(t.dim())\n",
    "print(t.size())"
   ]
  },
  {
   "cell_type": "code",
   "execution_count": 26,
   "id": "bf3ee786-6253-4ebd-8a85-707501a1a3cc",
   "metadata": {},
   "outputs": [
    {
     "name": "stdout",
     "output_type": "stream",
     "text": [
      "tensor([ 2.,  5.,  8., 11.])\n",
      "torch.Size([4])\n"
     ]
    }
   ],
   "source": [
    "print(t[:, 1])\n",
    "print(t[:, 1].size())"
   ]
  },
  {
   "cell_type": "code",
   "execution_count": 27,
   "id": "b13143a6-5a05-4771-a559-087557f51bdb",
   "metadata": {},
   "outputs": [
    {
     "name": "stdout",
     "output_type": "stream",
     "text": [
      "tensor([[ 1.,  2.],\n",
      "        [ 4.,  5.],\n",
      "        [ 7.,  8.],\n",
      "        [10., 11.]])\n"
     ]
    }
   ],
   "source": [
    "print(t[:, :-1])"
   ]
  },
  {
   "cell_type": "markdown",
   "id": "1d2a068c-49bd-4eab-ab98-5e590cdd1ff1",
   "metadata": {},
   "source": [
    "##### 3) 브로드캐스팅(Broadcasting)"
   ]
  },
  {
   "cell_type": "code",
   "execution_count": 32,
   "id": "d6826fe8-500a-4c42-9a54-eefc01b1e58e",
   "metadata": {},
   "outputs": [
    {
     "name": "stdout",
     "output_type": "stream",
     "text": [
      "tensor([[5., 5.]])\n"
     ]
    }
   ],
   "source": [
    "# 같은 크기일 때 연산\n",
    "m1 = torch.FloatTensor([[3,3]])\n",
    "m2 = torch.FloatTensor([[2,2]])\n",
    "print(m1+m2)"
   ]
  },
  {
   "cell_type": "code",
   "execution_count": 35,
   "id": "6eef7d21-8456-4f2b-a708-6204cd927703",
   "metadata": {},
   "outputs": [
    {
     "name": "stdout",
     "output_type": "stream",
     "text": [
      "tensor([[4., 5.]])\n",
      "torch.Size([1, 2])\n",
      "torch.Size([1])\n"
     ]
    }
   ],
   "source": [
    "# 다른 크기일 때 연산(스칼라+벡터)\n",
    "m1 = torch.FloatTensor([[1,2]]) \n",
    "m2 = torch.FloatTensor([3]) \n",
    "print(m1+m2)"
   ]
  },
  {
   "cell_type": "code",
   "execution_count": 36,
   "id": "e2024862-304c-4e74-910b-8f2b6600c9e5",
   "metadata": {},
   "outputs": [
    {
     "name": "stdout",
     "output_type": "stream",
     "text": [
      "tensor([[4., 5.],\n",
      "        [5., 6.]])\n"
     ]
    }
   ],
   "source": [
    "# 다른 크기일 때 연산(벡터간)\n",
    "m1 = torch.FloatTensor([[1,2]]) # 1x2\n",
    "m2 = torch.FloatTensor([[3], [4]]) # 2x1\n",
    "print(m1+m2) # 2x2"
   ]
  },
  {
   "cell_type": "markdown",
   "id": "262efd34-2600-4f0e-8534-96476e09a93e",
   "metadata": {},
   "source": [
    "##### 4) 자주 사용되는 기능들"
   ]
  },
  {
   "cell_type": "markdown",
   "id": "b5bfd936-7010-43fc-b8e8-0ecfe7e8faee",
   "metadata": {},
   "source": [
    "##### 4-1) 행렬 곱셈(.matmul)과 원소 별 곱셈(.mul)의 차이 "
   ]
  },
  {
   "cell_type": "code",
   "execution_count": 38,
   "id": "d9baa233-4799-467b-924a-0585d87ad5ae",
   "metadata": {},
   "outputs": [
    {
     "name": "stdout",
     "output_type": "stream",
     "text": [
      "Shape of Matrix 1 :  torch.Size([2, 2])\n",
      "Shape of Matrix 2 :  torch.Size([2, 1])\n",
      "tensor([[ 5.],\n",
      "        [11.]])\n"
     ]
    }
   ],
   "source": [
    "# 파이토치의 행렬 곱셈(.matmul)\n",
    "m1 = torch.FloatTensor([[1., 2.], [3., 4.]])\n",
    "m2 = torch.FloatTensor([[1], [2]])\n",
    "print('Shape of Matrix 1 : ', m1.shape)\n",
    "print('Shape of Matrix 2 : ', m2.shape)\n",
    "print(m1.matmul(m2))"
   ]
  },
  {
   "cell_type": "code",
   "execution_count": 39,
   "id": "1b86d622-0643-49e4-9dce-664349e0c3a0",
   "metadata": {},
   "outputs": [
    {
     "name": "stdout",
     "output_type": "stream",
     "text": [
      "Shape of Matrix 1 :  torch.Size([2, 2])\n",
      "Shape of Matrix 2 :  torch.Size([2, 1])\n",
      "tensor([[1., 2.],\n",
      "        [6., 8.]])\n",
      "tensor([[1., 2.],\n",
      "        [6., 8.]])\n"
     ]
    }
   ],
   "source": [
    "# 원소 별 곱셈(.mul)\n",
    "m1 = torch.FloatTensor([[1., 2.], [3., 4.]])\n",
    "m2 = torch.FloatTensor([[1], [2]])\n",
    "print('Shape of Matrix 1 : ', m1.shape)\n",
    "print('Shape of Matrix 2 : ', m2.shape)\n",
    "print(m1 * m2) \n",
    "print(m1.mul(m2))"
   ]
  },
  {
   "cell_type": "markdown",
   "id": "fc2a698c-9211-4944-9e50-62aed362fac3",
   "metadata": {},
   "source": [
    "##### 4-2) 평균"
   ]
  },
  {
   "cell_type": "code",
   "execution_count": 40,
   "id": "6004a43c-e723-4263-9750-02d9a005f1ec",
   "metadata": {},
   "outputs": [
    {
     "name": "stdout",
     "output_type": "stream",
     "text": [
      "tensor(1.5000)\n"
     ]
    }
   ],
   "source": [
    "t = torch.FloatTensor([1,2])\n",
    "print(t.mean())"
   ]
  },
  {
   "cell_type": "code",
   "execution_count": 44,
   "id": "66016711-56d3-43ec-ae97-f7d448b00295",
   "metadata": {},
   "outputs": [
    {
     "name": "stdout",
     "output_type": "stream",
     "text": [
      "tensor([[1., 2.],\n",
      "        [3., 4.]])\n",
      "tensor(2.5000)\n"
     ]
    }
   ],
   "source": [
    "t = torch.FloatTensor([[1,2], [3,4]])\n",
    "print(t)\n",
    "print(t.mean())"
   ]
  },
  {
   "cell_type": "code",
   "execution_count": 45,
   "id": "ca85accb-0971-4c84-a45d-097f5dea4636",
   "metadata": {},
   "outputs": [
    {
     "name": "stdout",
     "output_type": "stream",
     "text": [
      "tensor([2., 3.])\n"
     ]
    }
   ],
   "source": [
    "# dim=0은 첫번째 차원(행)을 의미\n",
    "# dim이라는 인자를 준다면 해당 차원을 제거한다는 의미 -> 열만 남기겠다. \n",
    "print(t.mean(dim=0))"
   ]
  },
  {
   "cell_type": "code",
   "execution_count": 46,
   "id": "85788663-9cf5-41d5-b212-f6c18701881f",
   "metadata": {},
   "outputs": [
    {
     "name": "stdout",
     "output_type": "stream",
     "text": [
      "tensor([1.5000, 3.5000])\n"
     ]
    }
   ],
   "source": [
    "# dim=1은 첫번째 차원(열)을 의미\n",
    "# dim이라는 인자를 준다면 해당 차원을 제거한다는 의미 -> 행만 남기겠다. \n",
    "print(t.mean(dim=1))"
   ]
  },
  {
   "cell_type": "code",
   "execution_count": 47,
   "id": "682de135-798f-4e06-95ad-7e5ef5b32464",
   "metadata": {},
   "outputs": [
    {
     "name": "stdout",
     "output_type": "stream",
     "text": [
      "tensor([1.5000, 3.5000])\n"
     ]
    }
   ],
   "source": [
    "# dim=-1은 마지막 차원을 제거한다는 의미로 열의 차원을 제거\n",
    "print(t.mean(dim=-1))"
   ]
  },
  {
   "cell_type": "markdown",
   "id": "198feacd-1f42-454b-a615-45845534b9bf",
   "metadata": {},
   "source": [
    "##### 4-3) 덧셈"
   ]
  },
  {
   "cell_type": "code",
   "execution_count": 48,
   "id": "038c7109-e43f-491f-93ee-465d64b906ef",
   "metadata": {},
   "outputs": [
    {
     "name": "stdout",
     "output_type": "stream",
     "text": [
      "tensor([[1., 2.],\n",
      "        [3., 4.]])\n"
     ]
    }
   ],
   "source": [
    "t = torch.FloatTensor([[1, 2], [3, 4]])\n",
    "print(t)"
   ]
  },
  {
   "cell_type": "code",
   "execution_count": 51,
   "id": "6be7bb51-25a6-4316-9ea1-ca00837f09b5",
   "metadata": {},
   "outputs": [
    {
     "name": "stdout",
     "output_type": "stream",
     "text": [
      "tensor(10.)\n",
      "tensor([4., 6.])\n",
      "tensor([3., 7.])\n",
      "tensor([3., 7.])\n"
     ]
    }
   ],
   "source": [
    "print(t.sum())\n",
    "print(t.sum(dim=0))\n",
    "print(t.sum(dim=1))\n",
    "print(t.sum(dim=-1))"
   ]
  },
  {
   "cell_type": "markdown",
   "id": "da154266-a909-4225-8aa3-83013fe1885d",
   "metadata": {},
   "source": [
    "##### 4-4) 최대(Max)와 아그맥스(ArgMax)"
   ]
  },
  {
   "cell_type": "markdown",
   "id": "8933638d-385a-41f9-80da-731ee5242e76",
   "metadata": {},
   "source": [
    "- 최대(Max) : 원소의 최대값을 리턴\n",
    "- 아그맥스(ArgMax) : 최댓값을 가진 인덱스를 리턴"
   ]
  },
  {
   "cell_type": "code",
   "execution_count": 52,
   "id": "483290ef-bcb6-4fd2-a62d-17acaf5229ec",
   "metadata": {},
   "outputs": [
    {
     "name": "stdout",
     "output_type": "stream",
     "text": [
      "tensor([[1., 2.],\n",
      "        [3., 4.]])\n"
     ]
    }
   ],
   "source": [
    "t = torch.FloatTensor([[1, 2], [3, 4]])\n",
    "print(t)"
   ]
  },
  {
   "cell_type": "code",
   "execution_count": 53,
   "id": "fe4b4c59-6927-4a1c-8feb-b5d61feba74f",
   "metadata": {},
   "outputs": [
    {
     "name": "stdout",
     "output_type": "stream",
     "text": [
      "tensor(4.)\n"
     ]
    }
   ],
   "source": [
    "print(t.max())"
   ]
  },
  {
   "cell_type": "code",
   "execution_count": 60,
   "id": "ab3a41f8-0a23-47d8-b6ce-cca24b085959",
   "metadata": {},
   "outputs": [
    {
     "name": "stdout",
     "output_type": "stream",
     "text": [
      "torch.return_types.max(\n",
      "values=tensor([3., 4.]),\n",
      "indices=tensor([1, 1]))\n"
     ]
    }
   ],
   "source": [
    "# max에 dim인자를 주면 argmax도 함께 리턴한다. \n",
    "# 행 제거\n",
    "print(t.max(dim=0))"
   ]
  },
  {
   "cell_type": "code",
   "execution_count": 56,
   "id": "091df405-4853-4ecc-a736-adac955eb8fd",
   "metadata": {},
   "outputs": [
    {
     "name": "stdout",
     "output_type": "stream",
     "text": [
      "Max :  tensor([3., 4.])\n",
      "Argmax :  tensor([1, 1])\n"
     ]
    }
   ],
   "source": [
    "# max, argmax 둘 중 하나만 리턴하고 싶다면, 리턴값에도 인덱스를 부여\n",
    "# 0번 인덱스 -> max값만\n",
    "# 1번 인덱스 -> argmax값만\n",
    "print('Max : ', t.max(dim=0)[0])\n",
    "print('Argmax : ', t.max(dim=0)[1])"
   ]
  },
  {
   "cell_type": "code",
   "execution_count": 59,
   "id": "97032030-335f-402e-85cc-4106bc0915cd",
   "metadata": {},
   "outputs": [
    {
     "name": "stdout",
     "output_type": "stream",
     "text": [
      "torch.return_types.max(\n",
      "values=tensor([2., 4.]),\n",
      "indices=tensor([1, 1]))\n",
      "torch.return_types.max(\n",
      "values=tensor([2., 4.]),\n",
      "indices=tensor([1, 1]))\n"
     ]
    }
   ],
   "source": [
    "# max에 dim인자를 주면 argmax도 함께 리턴한다. \n",
    "# 열 제거\n",
    "print(t.max(dim=1))\n",
    "print(t.max(dim=-1))"
   ]
  },
  {
   "cell_type": "markdown",
   "id": "2908a9f6-e467-4023-8f4d-9595950c7661",
   "metadata": {},
   "source": [
    "-----------------------------------------------------------------------------------------------------------"
   ]
  },
  {
   "cell_type": "markdown",
   "id": "1c8c0e66-cff5-4053-b901-1b0aba85e1d0",
   "metadata": {},
   "source": [
    "- 데이터 사이언스 분야 한정으로 3차원 이상의 텐서는 다차원 행렬(배열)로 간주 할 수 있다. 또한 3차원 이상을 텐서라고 하지만 1차원 벡터나 2차원 행렬도 텐서라고 표현하기도 한다. \n",
    "    - 벡터 = 1차원 텐서, 2차원 행렬 = 2차원 텐서, 3차원 텐서, 4차원 텐서 등\n",
    "- 훈련 데이터 하나의 크기를 256이라고 한다면 [3, 1, 2, 5, 10, ...] 이런 숫자들의 나열이 256 길이로 있다고 상상하면 된다. 다시 말해 훈련 데이터 하나 = 벡터의 차원 = 256\n",
    "    - 만약 이런 훈련 데이터의 개수가 3000개라고 한다면 현재 전체 훈련 데이터의 크기는 3000 x 256 -> 행렬(2D 텐서)\n",
    "    - 3000개를 1개씩 꺼내서 처리하는 것도 가능하지만 컴퓨터는 훈련 데이터를 하나씩 처리하는 것보다 보통 덩어리로 처리\n",
    "    - 3000개에서 64개씩 꺼내서 처리한다고 한다면 batch size를 64라고 한다.\n",
    "    - 이렇게 되면 컴퓨터가 한 번에 처리하는 2D 텐서의 크기는 (batch size x dim) = 64 x 256\n",
    "- 텐서의 크기(shape)를 표현할 때, ,(컴마)를 쓰기도 하고 x(곱하기)를 쓰기도 한다.\n",
    "    - 예를 들어 2행 3열의 2D 텐서를 표현할 때 (2,3) or (2x3)\n",
    "    - (5,)의 형식은 (1,5)를 의미한다.\n",
    "- 훈련 데이터의 개수가 굉장히 많을 떄, 컴퓨터가 한번에 들고가서 처리할 양을 배치 크기(batch size)라고 한다."
   ]
  }
 ],
 "metadata": {
  "kernelspec": {
   "display_name": "Python 3",
   "language": "python",
   "name": "python3"
  },
  "language_info": {
   "codemirror_mode": {
    "name": "ipython",
    "version": 3
   },
   "file_extension": ".py",
   "mimetype": "text/x-python",
   "name": "python",
   "nbconvert_exporter": "python",
   "pygments_lexer": "ipython3",
   "version": "3.9.7"
  }
 },
 "nbformat": 4,
 "nbformat_minor": 5
}
