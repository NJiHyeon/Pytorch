{
 "cells": [
  {
   "cell_type": "markdown",
   "id": "bed12837-8422-4faa-b094-01397cdd6d68",
   "metadata": {},
   "source": [
    "### 01. NLP에서의 원-핫 인코딩\n",
    "- 컴퓨터나 기계는 문자보다 숫자를 더 잘 처리할 수 있는데, 이를 위해 자연어 처리에서는 문자를 숫자로 바꾸는 여러가지 기법들이 있다.\n",
    "- 단어 집합(vocabulary)\n",
    "    - **서로 다른 단어들의 집합**\n",
    "    - 기본적으로 book과 books와 같이 단어의 변형 형태도 다른 단어로 간주\n",
    "    - 텍스트의 모든 단어를 중복을 허용하지 않고 모아놓은 것\n",
    "    - 단어 집합에 있는 단어들을 가지고, 문자를 숫자(더 구체적으로는 벡터)로 바꾸는 원-핫 인코딩을 포함한 여러 방법에 대해서 공부 \n",
    "    \n",
    "- 원-핫 인코딩 순서\n",
    "1. 단어 집합을 만든다. \n",
    "2. 단어 집합에 고유한 숫자를 부여하는 정수 인코딩을 진행\n",
    "    - ex. 텍스트에 단어가 총 5000개 존재한다면, 단어 집합의 크기는 5000\n",
    "    - 이 단어 집합의 단어들마다 1번부터 5000번까지 인덱스를 부여\n",
    "    - book은 150번, dog는 171번, love는 192번 등\n",
    "3. 이 숫자로 바뀐 단어들을 벡터로 바꾸고 싶다면 ?"
   ]
  },
  {
   "cell_type": "markdown",
   "id": "d5e2fc27-6a19-4ff0-97d1-91141f2ddbf6",
   "metadata": {},
   "source": [
    "#### 1. 원-핫 인코딩이란 ?"
   ]
  },
  {
   "cell_type": "markdown",
   "id": "47d24c37-49e1-4310-8b28-f79cda54a4c6",
   "metadata": {},
   "source": [
    "- 원-핫 인코딩\n",
    "    - 단어 집합의 크기를 벡터의 차원으로 하고, 표현하고 싶은 단어의 인덱스에 1의 값을 부여하고, 다른 인덱스에는 0을 부여하는 단어의 벡터 표현 방식\n",
    "    - 이렇게 표현된 벡터를 원-핫 벡터라고 한다.\n",
    "- 과정\n",
    "    - (1) 각 단어에 고유한 인덱스를 부여한다.(정수 인코딩)\n",
    "    - (2) 표현하고 싶은 단어의 인덱스의 위치에 1을 부여하고, 다른 단어의 인덱스의 위치에는 0을 부여"
   ]
  },
  {
   "cell_type": "code",
   "execution_count": 1,
   "id": "ee2bdfab-f47a-4574-8621-9d23ff6d80dd",
   "metadata": {},
   "outputs": [
    {
     "name": "stdout",
     "output_type": "stream",
     "text": [
      "Requirement already satisfied: konlpy in c:\\users\\ativ\\appdata\\local\\programs\\python\\python310\\lib\\site-packages (0.6.0)\n",
      "Requirement already satisfied: lxml>=4.1.0 in c:\\users\\ativ\\appdata\\local\\programs\\python\\python310\\lib\\site-packages (from konlpy) (4.9.1)\n",
      "Requirement already satisfied: JPype1>=0.7.0 in c:\\users\\ativ\\appdata\\local\\programs\\python\\python310\\lib\\site-packages (from konlpy) (1.4.0)\n",
      "Note: you may need to restart the kernel to use updated packages.Requirement already satisfied: numpy>=1.6 in c:\\users\\ativ\\appdata\\local\\programs\\python\\python310\\lib\\site-packages (from konlpy) (1.22.3)\n",
      "\n"
     ]
    },
    {
     "name": "stderr",
     "output_type": "stream",
     "text": [
      "\n",
      "[notice] A new release of pip available: 22.2.1 -> 22.2.2\n",
      "[notice] To update, run: python.exe -m pip install --upgrade pip\n"
     ]
    }
   ],
   "source": [
    "pip install konlpy"
   ]
  },
  {
   "cell_type": "markdown",
   "id": "3e7390cb-b6f2-4acb-a61c-4b9740f7da26",
   "metadata": {},
   "source": [
    "1. 코엔엘파이의 Okt 형태소 분석기를 통해서 문장에 대해 토큰화 수행"
   ]
  },
  {
   "cell_type": "code",
   "execution_count": 3,
   "id": "e28f4d3e-c108-4104-a968-d31d5e412a8d",
   "metadata": {},
   "outputs": [
    {
     "name": "stdout",
     "output_type": "stream",
     "text": [
      "['나', '는', '자연어', '처리', '를', '배운다', '.']\n"
     ]
    }
   ],
   "source": [
    "from konlpy.tag import Okt\n",
    "okt = Okt()\n",
    "token = okt.morphs(\"나는 자연어 처리를 배운다.\")\n",
    "print(token)"
   ]
  },
  {
   "cell_type": "markdown",
   "id": "6b9b9d74-f9f3-43b0-8c1e-d30b396ad5fb",
   "metadata": {},
   "source": [
    "2. 각 토큰에 대해서 인덱스를 부여(문장이 긴 경우에는 빈도수 순대로 단어를 정렬하여 고유한 인덱스를 부여하는 작업이 사용되기도 한다.)"
   ]
  },
  {
   "cell_type": "code",
   "execution_count": 4,
   "id": "3d294896-848b-4256-826a-04e97a13ba60",
   "metadata": {},
   "outputs": [
    {
     "name": "stdout",
     "output_type": "stream",
     "text": [
      "{'나': 0, '는': 1, '자연어': 2, '처리': 3, '를': 4, '배운다': 5, '.': 6}\n"
     ]
    }
   ],
   "source": [
    "word2index = {}\n",
    "for voca in token :\n",
    "    if voca not in word2index.keys() : \n",
    "        word2index[voca] = len(word2index)\n",
    "print(word2index)"
   ]
  },
  {
   "cell_type": "markdown",
   "id": "5a140222-28e7-4348-9890-7b63333aee1a",
   "metadata": {},
   "source": [
    "3. 토큰을 입력하면 해당 토큰에 대한 원-핫 벡터를 만들어내는 함수 만들기"
   ]
  },
  {
   "cell_type": "code",
   "execution_count": 14,
   "id": "e1e17f3a-ebdc-42a3-88f8-4dd331527780",
   "metadata": {},
   "outputs": [],
   "source": [
    "def one_hot_encoding(word, word2index) : \n",
    "    one_hot_vector = [0]*(len(word2index))\n",
    "    index = word2index[word]\n",
    "    one_hot_vector[index] = 1\n",
    "    return one_hot_vector"
   ]
  },
  {
   "cell_type": "markdown",
   "id": "b9f4864c-bc47-4cd4-9bdc-46939954ee88",
   "metadata": {},
   "source": [
    "4. 해당 함수에 '자연어'라는 토큰을 입력으로 넣었더니 아래와 같은 벡터가 나왔다. \n",
    "- 자연어는 단어 집합에서 인덱스가 2이므로, 자연어를 표현하는 원-핫 벡터는 인덱스 2의 값 : 1, 나머지 : 0"
   ]
  },
  {
   "cell_type": "code",
   "execution_count": 15,
   "id": "4d83d2e2-f757-4569-b761-0bbba2e5b960",
   "metadata": {},
   "outputs": [
    {
     "data": {
      "text/plain": [
       "[0, 0, 1, 0, 0, 0, 0]"
      ]
     },
     "execution_count": 15,
     "metadata": {},
     "output_type": "execute_result"
    }
   ],
   "source": [
    "one_hot_encoding(\"자연어\", word2index)"
   ]
  },
  {
   "cell_type": "markdown",
   "id": "ff762011-e6f6-4906-aa67-d97989d7ab71",
   "metadata": {},
   "source": [
    "------------------------------------------------------------------------------------------------------------"
   ]
  },
  {
   "cell_type": "markdown",
   "id": "3f39a072-6f76-45e0-be76-78e717f246ca",
   "metadata": {},
   "source": [
    "#### 2. 원-핫 인코딩의 한계"
   ]
  },
  {
   "cell_type": "markdown",
   "id": "51889b12-92e6-4fd2-a080-37f979767eb0",
   "metadata": {},
   "source": [
    "(1) 단어의 개수가 늘어날수록, 벡터를 저장하기 위해 필요한 공간이 계속 늘어난다는 단점이 있다. (벡터의 차원이 계속 늘어난다고 표현)\n",
    "- 원-핫 벡터는 단어 집합의 크기 = 벡터의 차원 수\n",
    "    - 단어가 1000개인 코퍼스를 가지고 원-핫 벡터를 만들면, 모든 단어 각각은 모두 1000개의 차원을 가진 벡터가 된다.\n",
    "    - 모든 단어 각각은 하나의 값만 1을 가지고, 999개의 값은 0의 값을 가지는 벡터가 된다.\n",
    "    - 저장 공간 측면에서 매우 비효율적인 표현 방법\n",
    "   "
   ]
  },
  {
   "cell_type": "markdown",
   "id": "2aa21306-6fe8-4681-a0df-10caedb6152f",
   "metadata": {},
   "source": [
    "(2) 단어의 유사도를 표현하지 못한다는 단점이 있다.\n",
    "- 예시\n",
    "    - 늑대, 호랑이, 강아지, 고양이라는 4개의 단어에 대해서 원-핫 인코딩을 해서 각각 원-핫 벡터를 부여받았다고 하자.\n",
    "    - 원-핫 벡터로는 강아지와 늑대가 유사, 호랑이와 고양이가 유사하다는 것을 표현할 수 없다.(극단적으로 강아지, 개, 냉장고라는 단어가 있을 때 강아지라는 단어와 개와 냉장고라는 단어 중 어떤 단어와 더 유사한지 알 수 없다.)\n",
    "- 검색 시스템 등에서 심각한 문제이다.\n",
    "    - 웹 검색창에 '삿포로 숙소'라는 단어를 검색\n",
    "    - 제대로 된 검색 시스템이라면, '삿포로 숙소'라는 검색어에 대해서 '삿포로 게스트 하우스', '삿포로 료칸', '삿포로 호텔'과 같은 유사 단어에 대한 결과도 함께 보여줄 수 있어야 한다.\n",
    "    - 단어간 유사성을 계산할 수 없다면, '게스트 하우스'와 '료칸'과 '호텔'이라는 연관 검색어를 보여줄 수 없다. "
   ]
  }
 ],
 "metadata": {
  "kernelspec": {
   "display_name": "Python 3 (ipykernel)",
   "language": "python",
   "name": "python3"
  },
  "language_info": {
   "codemirror_mode": {
    "name": "ipython",
    "version": 3
   },
   "file_extension": ".py",
   "mimetype": "text/x-python",
   "name": "python",
   "nbconvert_exporter": "python",
   "pygments_lexer": "ipython3",
   "version": "3.10.2"
  }
 },
 "nbformat": 4,
 "nbformat_minor": 5
}
