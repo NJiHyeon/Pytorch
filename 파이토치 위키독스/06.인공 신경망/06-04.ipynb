{
 "cells": [
  {
   "cell_type": "markdown",
   "id": "d3f74bc8-91a3-4eb0-b3f0-07fd93c46916",
   "metadata": {},
   "source": [
    "### 04. 역전파(BackPropagation)\n",
    "인공 신경망이 순전파 과정을 진행하여 예측값과 실제값의 오차를 계산하였을 때, 어떻게 역전파 과정에서 경사 하강법을 사용하여 가중치를 업데이트하는지 직접 계산을 통해 이해 !"
   ]
  },
  {
   "cell_type": "markdown",
   "id": "878e7ef6-e375-4162-abe8-9fb476ae8c38",
   "metadata": {},
   "source": [
    "#### 1. 인공 신경망의 이해(Neural Network Overview)\n"
   ]
  },
  {
   "cell_type": "code",
   "execution_count": null,
   "id": "ffc69af7-9d47-4b08-8d10-eee5608fe4cc",
   "metadata": {},
   "outputs": [],
   "source": []
  }
 ],
 "metadata": {
  "kernelspec": {
   "display_name": "Python 3 (ipykernel)",
   "language": "python",
   "name": "python3"
  },
  "language_info": {
   "codemirror_mode": {
    "name": "ipython",
    "version": 3
   },
   "file_extension": ".py",
   "mimetype": "text/x-python",
   "name": "python",
   "nbconvert_exporter": "python",
   "pygments_lexer": "ipython3",
   "version": "3.10.2"
  }
 },
 "nbformat": 4,
 "nbformat_minor": 5
}
