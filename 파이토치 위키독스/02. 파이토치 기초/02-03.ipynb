{
 "cells": [
  {
   "cell_type": "markdown",
   "id": "1e2f6ea7-73c0-4e4c-a345-43660368a76c",
   "metadata": {},
   "source": [
    "### 02. 텐서 조작하기(Tensor Manipulation) 2"
   ]
  },
  {
   "cell_type": "markdown",
   "id": "ff128cc6-ba21-474c-83e6-5b2950c02152",
   "metadata": {},
   "source": [
    "##### 4) 뷰(View) - 원소의 수를 유지하면서 텐서의 크기 변경(매우 중요)"
   ]
  },
  {
   "cell_type": "markdown",
   "id": "63a7d74c-cbee-4d3b-9162-548e70c23c0b",
   "metadata": {},
   "source": [
    "- 파이토치 텐서의 뷰(View)는 넘파이에서 리쉐이프(Reshpae)와 같은 역할을 한다.\n",
    "- 텐서의 크기(Shape)를 변경해주는 역할"
   ]
  },
  {
   "cell_type": "code",
   "execution_count": 2,
   "id": "b6da576a-ad75-483c-9367-7c95f365d313",
   "metadata": {},
   "outputs": [],
   "source": [
    "import numpy as np\n",
    "import torch\n",
    "t = np.array([[[0., 1., 2.],\n",
    "               [3., 4., 5.]],\n",
    "              [[6., 7., 8.],\n",
    "               [9., 10., 11]]])\n",
    "ft = torch.FloatTensor(t)"
   ]
  },
  {
   "cell_type": "code",
   "execution_count": 5,
   "id": "5e7e1445-a12c-4763-aef0-530c78199f16",
   "metadata": {},
   "outputs": [
    {
     "name": "stdout",
     "output_type": "stream",
     "text": [
      "torch.Size([3])\n",
      "(2, 2, 3)\n"
     ]
    }
   ],
   "source": [
    "print(ft.shape)\n",
    "print(t.shape)"
   ]
  },
  {
   "cell_type": "markdown",
   "id": "bee38d1c-e1c9-4d02-81f0-c2f605ca75e5",
   "metadata": {},
   "source": [
    "##### 4-1) 3차원 텐서에서 2차원 텐서로 변경\n",
    "- view([-1, 3])의 의미\n",
    "    - -1 : 첫번째 차원은 사용자가 잘 모르겠으니 파이토치에 맡기겠다\n",
    "    - 3 : 두번째 차원의 길이는 3을 가지도록 하라는 의미\n",
    "    - 다시 말해 현재 3차원 텐서를 2차원 텐서로 변경하되 (?, 3)의 크기로 변경하라 -> (4,3)의 크기를 가지는 텐서를 얻음\n",
    "- 규칙\n",
    "    - view는 기본적으로 변경 전과 변경 후의 텐서 안의 원소의 개수가 유지되어야 한다.\n",
    "    - 파이토치의 view는 사이즈가 -1로 설정되면 다른 차원으로부터 해당 값을 유추해야 한다."
   ]
  },
  {
   "cell_type": "code",
   "execution_count": 6,
   "id": "5af926a9-bbcc-4b40-bd94-4e44e5d4d1d7",
   "metadata": {},
   "outputs": [
    {
     "name": "stdout",
     "output_type": "stream",
     "text": [
      "tensor([[0., 1., 2.]])\n",
      "torch.Size([1, 3])\n"
     ]
    }
   ],
   "source": [
    "# ft라는 텐서를 (?, 3)의 크기로 변경\n",
    "print(ft.view([-1, 3]))\n",
    "print(ft.view([-1, 3]).shape)"
   ]
  },
  {
   "cell_type": "markdown",
   "id": "de9b2a84-abf4-4e90-b72c-a1eabd639344",
   "metadata": {},
   "source": [
    "##### 4-2) 3차원 텐서의 크기 변경\n",
    "- 3차원 텐서에서 3차원 텐서로 차원은 유지하되, 크기(shape)를 바꾸기\n",
    "- view로 텐서의 크기를 변경하더라도 원소의 수는 유지되어야 하므로 (2x2x3) -> (?x1x3) 텐서가 되려면 ?는 4가 되어야 한다."
   ]
  },
  {
   "cell_type": "code",
   "execution_count": 7,
   "id": "83bacd29-ae83-45d9-ac3a-8f077856ff83",
   "metadata": {},
   "outputs": [
    {
     "name": "stdout",
     "output_type": "stream",
     "text": [
      "tensor([[[0., 1., 2.]]])\n",
      "torch.Size([1, 1, 3])\n"
     ]
    }
   ],
   "source": [
    "print(ft.view([-1, 1, 3]))\n",
    "print(ft.view([-1, 1, 3]).shape)"
   ]
  },
  {
   "cell_type": "markdown",
   "id": "e3c059e1-0f2a-4a34-8f37-84b630876976",
   "metadata": {},
   "source": [
    "----------------------------------------------------------------------------------------------------------"
   ]
  },
  {
   "cell_type": "markdown",
   "id": "11535c33-8c29-401c-9a1e-dc4b7b00c7d2",
   "metadata": {},
   "source": [
    "##### 5) 스퀴즈(Squeeze) : 1인 차원을 제거한다."
   ]
  },
  {
   "cell_type": "code",
   "execution_count": 8,
   "id": "272fe780-5829-42d7-aa73-01c837634789",
   "metadata": {},
   "outputs": [
    {
     "name": "stdout",
     "output_type": "stream",
     "text": [
      "tensor([[0.],\n",
      "        [1.],\n",
      "        [2.]])\n",
      "torch.Size([3, 1])\n",
      "2\n"
     ]
    }
   ],
   "source": [
    "ft = torch.FloatTensor([[0], [1], [2]])\n",
    "print(ft)\n",
    "print(ft.shape)\n",
    "print(ft.dim())"
   ]
  },
  {
   "cell_type": "code",
   "execution_count": 9,
   "id": "7c7b3276-eac5-402b-aa0a-5edcd16188df",
   "metadata": {},
   "outputs": [
    {
     "name": "stdout",
     "output_type": "stream",
     "text": [
      "tensor([0., 1., 2.])\n",
      "torch.Size([3])\n"
     ]
    }
   ],
   "source": [
    "# 두번째 차원이 1이므로 squeeze를 사용하면 (3,)의 크기를 가지는 텐서로 변경 -> 1차원 벡터로!\n",
    "print(ft.squeeze())\n",
    "print(ft.squeeze().shape)"
   ]
  },
  {
   "cell_type": "markdown",
   "id": "43b6437b-7bef-43eb-b2b7-03f2080f3c01",
   "metadata": {},
   "source": [
    "----------------------------------------------------------------------------------------------------------"
   ]
  },
  {
   "cell_type": "markdown",
   "id": "7a62b842-4d91-46ef-a7fa-8645ed78be84",
   "metadata": {},
   "source": [
    "##### 6) 언스퀴즈(Unsqueeze) : 특정 위치에 1인 차원을 추가한다."
   ]
  },
  {
   "cell_type": "code",
   "execution_count": 10,
   "id": "c3748753-ee95-4c42-8416-edfa45d42fc9",
   "metadata": {},
   "outputs": [
    {
     "name": "stdout",
     "output_type": "stream",
     "text": [
      "torch.Size([3])\n"
     ]
    }
   ],
   "source": [
    "# (3,)의 크기를 가지는 1인 차원 텐서 임의로 생성\n",
    "ft = torch.Tensor([0,1,2])\n",
    "print(ft.shape)"
   ]
  },
  {
   "cell_type": "code",
   "execution_count": 11,
   "id": "1cbd79c9-e234-4627-85a1-d4bfccb7b750",
   "metadata": {},
   "outputs": [
    {
     "name": "stdout",
     "output_type": "stream",
     "text": [
      "tensor([[0., 1., 2.]])\n",
      "torch.Size([1, 3])\n"
     ]
    }
   ],
   "source": [
    "print(ft.unsqueeze(0)) # 0은 첫번째 차원을 의미한다.\n",
    "print(ft.unsqueeze(0).shape)"
   ]
  },
  {
   "cell_type": "code",
   "execution_count": 12,
   "id": "ea5c3094-be47-41eb-a10a-4e3594e42fda",
   "metadata": {},
   "outputs": [
    {
     "name": "stdout",
     "output_type": "stream",
     "text": [
      "tensor([[0., 1., 2.]])\n",
      "torch.Size([1, 3])\n"
     ]
    }
   ],
   "source": [
    "# 앞에서 배운 view로도 구현 가능 -> -1의 값이 3이 되어야 한다.\n",
    "print(ft.view(1, -1))\n",
    "print(ft.view(1, -1).shape)"
   ]
  },
  {
   "cell_type": "code",
   "execution_count": 15,
   "id": "9795bbf2-937b-451a-9ae1-c3779472d09b",
   "metadata": {},
   "outputs": [
    {
     "name": "stdout",
     "output_type": "stream",
     "text": [
      "tensor([[0.],\n",
      "        [1.],\n",
      "        [2.]])\n",
      "torch.Size([3, 1])\n"
     ]
    }
   ],
   "source": [
    "# unsqueeze의 인자로 -1(인덱스 상으로 마지막 차원) 넣기\n",
    "# 현재 크기는 (3,)이므로 마지막 차원에 1인 차원을 추가하면 (3,1)의 크기를 가진다.\n",
    "# 즉, 현재 텐서의 경우 1을 넣은 경우와 -1을 넣은 경우의 결과가 동일\n",
    "print(ft.unsqueeze(-1))\n",
    "print(ft.unsqueeze(-1).shape)"
   ]
  },
  {
   "cell_type": "markdown",
   "id": "4589f489-c757-45a4-9cd6-f2f7b612d0d8",
   "metadata": {},
   "source": [
    "- view(), squeeze(), unsqueeze()는 텐서의 원소 수를 그대로 유지하면서 모양과 차원을 조절한다."
   ]
  },
  {
   "cell_type": "markdown",
   "id": "e612ff3c-3e12-4b93-990a-f6f48e7a69b6",
   "metadata": {},
   "source": [
    "----------------------------------------------------------------------------------------------------------"
   ]
  },
  {
   "cell_type": "markdown",
   "id": "4e563f43-7f10-4d74-974a-81ba86d101f4",
   "metadata": {},
   "source": [
    "##### 7) 타입 캐스팅(Type Casting)"
   ]
  },
  {
   "cell_type": "markdown",
   "id": "59a16fcc-f5bf-4651-b730-68468694ef28",
   "metadata": {},
   "source": [
    "- 텐서에는 자료형이라는 것이 있다. 각 데이터형별로 정의되어져 있는데,\n",
    "    - ex) 32비트의 부동 소수점은 torch.FloatTensor, 64비트 부호 있는 정수는 torch.LongTensor를 사용한다.\n",
    "- GPU 연산을 위한 자료형도 있다.\n",
    "    - ex) torch.cuda.FloatTensor\n",
    "- 자료형을 변환하는 것을 타입 캐스팅이라고 한다. "
   ]
  },
  {
   "cell_type": "code",
   "execution_count": 16,
   "id": "ed767c32-be33-43b2-a2d4-4dde55b7ba67",
   "metadata": {},
   "outputs": [
    {
     "name": "stdout",
     "output_type": "stream",
     "text": [
      "tensor([1, 2, 3, 4])\n"
     ]
    }
   ],
   "source": [
    "# long 타입의 lt라는 텐서를 선언\n",
    "lt = torch.LongTensor([1,2,3,4])\n",
    "print(lt)"
   ]
  },
  {
   "cell_type": "code",
   "execution_count": 17,
   "id": "ff7acbc2-5379-4966-8339-35daeaa916bb",
   "metadata": {},
   "outputs": [
    {
     "name": "stdout",
     "output_type": "stream",
     "text": [
      "tensor([1., 2., 3., 4.])\n"
     ]
    }
   ],
   "source": [
    "# 텐서에다가 .float()를 붙이면 바로 float형 타입으로 변경\n",
    "print(lt.float())"
   ]
  },
  {
   "cell_type": "code",
   "execution_count": 18,
   "id": "6b64580c-f8d2-4606-81a9-832e4490cca7",
   "metadata": {},
   "outputs": [
    {
     "name": "stdout",
     "output_type": "stream",
     "text": [
      "tensor([1, 0, 0, 1], dtype=torch.uint8)\n"
     ]
    }
   ],
   "source": [
    "# Byte 타입의 bt라는 텐서를 선언\n",
    "bt = torch.ByteTensor([True, False, False, True])\n",
    "print(bt)"
   ]
  },
  {
   "cell_type": "code",
   "execution_count": 19,
   "id": "8a983db4-a39b-4f4e-a0f6-62d8c2de8173",
   "metadata": {},
   "outputs": [
    {
     "name": "stdout",
     "output_type": "stream",
     "text": [
      "tensor([1, 0, 0, 1])\n",
      "tensor([1., 0., 0., 1.])\n"
     ]
    }
   ],
   "source": [
    "print(bt.long())\n",
    "print(bt.float())"
   ]
  },
  {
   "cell_type": "markdown",
   "id": "70feb39c-b41a-4f86-b7b1-2cef338a7a44",
   "metadata": {},
   "source": [
    "----------------------------------------------------------------------------------------------------------"
   ]
  },
  {
   "cell_type": "markdown",
   "id": "79819f36-867d-4ff8-b45b-5418443baebc",
   "metadata": {},
   "source": [
    "##### 8) 연결하기(concatenate)\n",
    "- 두 텐서를 연결하는 방법"
   ]
  },
  {
   "cell_type": "code",
   "execution_count": 23,
   "id": "c8c64216-7268-47a4-b063-88f0509d1a3d",
   "metadata": {},
   "outputs": [],
   "source": [
    "# (2x2) 크기의 텐서를 두 개 만든다.\n",
    "x = torch.FloatTensor([[1,2], [3,4]])\n",
    "y = torch.FloatTensor([[5,6], [7,8]])"
   ]
  },
  {
   "cell_type": "markdown",
   "id": "a7148d23-2f8c-44ea-945e-bd79a340255a",
   "metadata": {},
   "source": [
    "- torch.cat은 어느 차원을 늘릴 것인지를 인자로 줄 수 있다."
   ]
  },
  {
   "cell_type": "code",
   "execution_count": 25,
   "id": "bbb8c260-24e1-4ffc-87bb-28b48c090d83",
   "metadata": {},
   "outputs": [
    {
     "name": "stdout",
     "output_type": "stream",
     "text": [
      "tensor([[1., 2.],\n",
      "        [3., 4.],\n",
      "        [5., 6.],\n",
      "        [7., 8.]])\n"
     ]
    }
   ],
   "source": [
    "# 1. dim=0 : 첫번째 차원을 늘리라는 의미 -> 행\n",
    "print(torch.cat([x, y], dim=0))"
   ]
  },
  {
   "cell_type": "code",
   "execution_count": 27,
   "id": "3acddf5b-19d6-4d8e-b3f4-d8f97706a925",
   "metadata": {},
   "outputs": [
    {
     "name": "stdout",
     "output_type": "stream",
     "text": [
      "tensor([[1., 2., 5., 6.],\n",
      "        [3., 4., 7., 8.]])\n"
     ]
    }
   ],
   "source": [
    "# 2. dim=1 : 두번째 차원을 늘리라는 의미 -> 열\n",
    "print(torch.cat([x, y], dim=1))"
   ]
  },
  {
   "cell_type": "markdown",
   "id": "ee05f8cd-af6c-4285-99c9-f33db6a1d2b7",
   "metadata": {},
   "source": [
    "- 딥러닝에서는 주로 모델의 입력 또는 중간 연산에서 두 개의 텐서를 연결하는 경우가 많다.\n",
    "- 두 텐서를 연결해서 입력으로 사용하는 것은 두 가지의 정보를 모두 사용한다는 의미 !"
   ]
  },
  {
   "cell_type": "markdown",
   "id": "bb79f1bf-da7e-4f4d-bd4b-1d0a90a795fc",
   "metadata": {},
   "source": [
    "----------------------------------------------------------------------------------------------------------"
   ]
  },
  {
   "cell_type": "markdown",
   "id": "d0390943-28cb-4d0a-a0e0-3d1a3117261f",
   "metadata": {},
   "source": [
    "##### 9) 스택킹(Stacking)\n",
    "- 연결(concatenate)을 하는 또 다른 방법\n",
    "- 쌓는다는 의미\n",
    "- 때로는 연결하는 것보다 스택킹이 더 편리할 때가 있는데, 이는 스택킹이 많은 연산을 포함하고 있기 때문"
   ]
  },
  {
   "cell_type": "code",
   "execution_count": 29,
   "id": "942ca862-4b08-444f-9fea-a4c0b5c7d4db",
   "metadata": {},
   "outputs": [],
   "source": [
    "# 크기가 (2,)로 모두 동일한 3개의 벡터를 만든다.\n",
    "x = torch.FloatTensor([1,4])\n",
    "y = torch.FloatTensor([2,5])\n",
    "z = torch.FloatTensor([3,6])"
   ]
  },
  {
   "cell_type": "code",
   "execution_count": 30,
   "id": "08a76897-3665-4d99-b10d-be6a4f607536",
   "metadata": {},
   "outputs": [
    {
     "name": "stdout",
     "output_type": "stream",
     "text": [
      "tensor([[1., 4.],\n",
      "        [2., 5.],\n",
      "        [3., 6.]])\n"
     ]
    }
   ],
   "source": [
    "# 1. 첫번째 차원이 증가한다.\n",
    "print(torch.stack([x,y,z]))"
   ]
  },
  {
   "cell_type": "code",
   "execution_count": 36,
   "id": "176df1c2-eb35-4fac-9e81-3a8e4002285a",
   "metadata": {},
   "outputs": [
    {
     "name": "stdout",
     "output_type": "stream",
     "text": [
      "tensor([[1., 4.],\n",
      "        [2., 5.],\n",
      "        [3., 6.]])\n"
     ]
    }
   ],
   "source": [
    "# 위의 코드와 동일한 결과를 갖는다(즉, 스택킹이 많은 연산을 한번에 축약하고 있음)\n",
    "print(torch.cat([x.unsqueeze(0), y.unsqueeze(0), z.unsqueeze(0)], dim=0))"
   ]
  },
  {
   "cell_type": "code",
   "execution_count": 37,
   "id": "ccbd045e-5724-4ee5-833f-703eadfdbfc7",
   "metadata": {},
   "outputs": [
    {
     "name": "stdout",
     "output_type": "stream",
     "text": [
      "tensor([[1., 2., 3.],\n",
      "        [4., 5., 6.]])\n"
     ]
    }
   ],
   "source": [
    "# 2. dim이라는 인자를 주어서 두번째 차원이 증가하도록\n",
    "print(torch.stack([x,y,z], dim=1))"
   ]
  },
  {
   "cell_type": "markdown",
   "id": "bd7ad82d-ef3b-43b7-a2b2-19067cdb480a",
   "metadata": {},
   "source": [
    "----------------------------------------------------------------------------------------------------------"
   ]
  },
  {
   "cell_type": "markdown",
   "id": "1f6c64bc-d319-4c75-97a7-ff9640fc8101",
   "metadata": {},
   "source": [
    "##### 10) ones_like와 zeros_like : 0으로 채워진 텐서와 1로 채워진 텐서"
   ]
  },
  {
   "cell_type": "code",
   "execution_count": 38,
   "id": "59ea8678-f21c-4d84-822e-e15e31e100e9",
   "metadata": {},
   "outputs": [
    {
     "name": "stdout",
     "output_type": "stream",
     "text": [
      "tensor([[0., 1., 2.],\n",
      "        [2., 1., 0.]])\n"
     ]
    }
   ],
   "source": [
    "# (2x3) 텐서를 만든다.\n",
    "x = torch.FloatTensor([[0, 1, 2], [2, 1, 0]])\n",
    "print(x)"
   ]
  },
  {
   "cell_type": "code",
   "execution_count": 39,
   "id": "e49a6fc9-05b3-428c-89c8-b0e78a76c112",
   "metadata": {},
   "outputs": [
    {
     "name": "stdout",
     "output_type": "stream",
     "text": [
      "tensor([[1., 1., 1.],\n",
      "        [1., 1., 1.]])\n"
     ]
    }
   ],
   "source": [
    "print(torch.ones_like(x))"
   ]
  },
  {
   "cell_type": "code",
   "execution_count": 40,
   "id": "82c56f1e-3697-4c3e-b828-8a648cc7b4c3",
   "metadata": {},
   "outputs": [
    {
     "name": "stdout",
     "output_type": "stream",
     "text": [
      "tensor([[0., 0., 0.],\n",
      "        [0., 0., 0.]])\n"
     ]
    }
   ],
   "source": [
    "print(torch.zeros_like(x))"
   ]
  },
  {
   "cell_type": "markdown",
   "id": "fb54fc30-3998-43bf-a238-e08364f40ce1",
   "metadata": {},
   "source": [
    "----------------------------------------------------------------------------------------------------------"
   ]
  },
  {
   "cell_type": "markdown",
   "id": "1609b4b1-6a64-4405-b87f-8ebb3791c076",
   "metadata": {},
   "source": [
    "##### 11) In-place Onperation(덮어쓰기 연산)"
   ]
  },
  {
   "cell_type": "code",
   "execution_count": 41,
   "id": "0b33195f-fc14-42e4-87c7-41ff590c6b09",
   "metadata": {},
   "outputs": [],
   "source": [
    "# (2x2) 텐서를 만들고 x에 저장\n",
    "x = torch.FloatTensor([[1, 2], [3, 4]])"
   ]
  },
  {
   "cell_type": "code",
   "execution_count": 42,
   "id": "2f0c3564-55dd-40a7-8233-ff684183f529",
   "metadata": {},
   "outputs": [
    {
     "name": "stdout",
     "output_type": "stream",
     "text": [
      "tensor([[2., 4.],\n",
      "        [6., 8.]])\n",
      "tensor([[1., 2.],\n",
      "        [3., 4.]])\n"
     ]
    }
   ],
   "source": [
    "# 곱하기 2를 수행한 결과를 출력\n",
    "print(x.mul(2.)) \n",
    "# 기존의 값을 출력\n",
    "print(x)"
   ]
  },
  {
   "cell_type": "code",
   "execution_count": 43,
   "id": "cc0278ca-97cb-4b76-9e2c-c422f671cd41",
   "metadata": {},
   "outputs": [
    {
     "name": "stdout",
     "output_type": "stream",
     "text": [
      "tensor([[2., 4.],\n",
      "        [6., 8.]])\n",
      "tensor([[2., 4.],\n",
      "        [6., 8.]])\n"
     ]
    }
   ],
   "source": [
    "# 연산 뒤에 _를 붙이면 기존의 값을 덮어쓰기 한다.\n",
    "print(x.mul_(2.))\n",
    "print(x)"
   ]
  },
  {
   "cell_type": "code",
   "execution_count": null,
   "id": "00ef8d01-c7b9-41bd-a907-71e46a9cc99b",
   "metadata": {},
   "outputs": [],
   "source": []
  }
 ],
 "metadata": {
  "kernelspec": {
   "display_name": "Python 3",
   "language": "python",
   "name": "python3"
  },
  "language_info": {
   "codemirror_mode": {
    "name": "ipython",
    "version": 3
   },
   "file_extension": ".py",
   "mimetype": "text/x-python",
   "name": "python",
   "nbconvert_exporter": "python",
   "pygments_lexer": "ipython3",
   "version": "3.9.7"
  }
 },
 "nbformat": 4,
 "nbformat_minor": 5
}
