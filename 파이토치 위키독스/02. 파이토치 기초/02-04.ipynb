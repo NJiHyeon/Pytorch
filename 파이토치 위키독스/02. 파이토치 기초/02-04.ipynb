{
 "cells": [
  {
   "cell_type": "markdown",
   "id": "5e0c2492-77ff-417e-9514-5025c6479d1f",
   "metadata": {},
   "source": [
    "### 04. 파이썬 클래스(class)"
   ]
  },
  {
   "cell_type": "markdown",
   "id": "f5b72f15-2e26-4a05-b535-94f95c03a6e9",
   "metadata": {},
   "source": [
    "#### 1. 함수(function)과 클래스(class)의 차이"
   ]
  },
  {
   "cell_type": "markdown",
   "id": "48d835ab-534f-4880-9a5f-a9d29f716382",
   "metadata": {},
   "source": [
    "##### 1. 함수(function)로 덧셈기 구현하기\n",
    "- add 함수를 파이썬으로 구현\n",
    "- result라는 전역 변수를 선언"
   ]
  },
  {
   "cell_type": "code",
   "execution_count": 1,
   "id": "10bf4ce9-306f-43cf-ac01-36261f850f74",
   "metadata": {},
   "outputs": [],
   "source": [
    "result = 0"
   ]
  },
  {
   "cell_type": "code",
   "execution_count": 2,
   "id": "6ad556ff-2379-4b2a-9869-3e42ca708d5b",
   "metadata": {},
   "outputs": [],
   "source": [
    "# add라는 함수를 구현\n",
    "# add라는 함수에서는 기존의 result에 함수의 인자로 온 숫자를 더하고 리턴한다. \n",
    "def add(num) : \n",
    "    global result\n",
    "    result += num\n",
    "    return result"
   ]
  },
  {
   "cell_type": "code",
   "execution_count": 3,
   "id": "be681863-c287-4012-96ec-c95e4d02d070",
   "metadata": {},
   "outputs": [
    {
     "name": "stdout",
     "output_type": "stream",
     "text": [
      "3\n",
      "7\n"
     ]
    }
   ],
   "source": [
    "print(add(3))\n",
    "print(add(4))"
   ]
  },
  {
   "cell_type": "markdown",
   "id": "8348820f-5715-4758-b435-5e322794e5c8",
   "metadata": {},
   "source": [
    "-------------------------------------------------------------------------------------------------------------"
   ]
  },
  {
   "cell_type": "markdown",
   "id": "564f7044-e979-48b6-a51b-dde7313ba0bc",
   "metadata": {},
   "source": [
    "##### 2. 함수(function)로 두 개의 덧셈기 구현하기\n",
    "- 독립적인 두 개의 덧셈기 만들기\n",
    "- 비유 : 두 개의 계산기를 두고 서로 다른 연산을 하고 싶은 것\n",
    "- 첫번째 계산기 : 3+7을 하고 있고, 두번째 계산기로는 3+10을 하고 싶은 것!\n",
    "- 두개의 계산기는 서로 다른 계산기이므로 독립적이여야 한다.\n",
    "- 이를 함수로 구현하려면 하나의 함수는 1개의 덧셈기만을 의미하므로 두 개의 함수를 독립적으로 만들어야 한다."
   ]
  },
  {
   "cell_type": "code",
   "execution_count": 4,
   "id": "122f651b-833e-411a-9366-bc01d27d6ba5",
   "metadata": {},
   "outputs": [
    {
     "name": "stdout",
     "output_type": "stream",
     "text": [
      "3\n",
      "7\n",
      "3\n",
      "10\n"
     ]
    }
   ],
   "source": [
    "result1 = 0\n",
    "result2 = 0\n",
    "\n",
    "def add1(num) : \n",
    "    global result1\n",
    "    result1 += num\n",
    "    return result1\n",
    "\n",
    "def add2(num) : \n",
    "    global result2\n",
    "    result2 += num\n",
    "    return result2\n",
    "\n",
    "print(add1(3))\n",
    "print(add1(4))\n",
    "print(add2(3))\n",
    "print(add2(7))"
   ]
  },
  {
   "cell_type": "markdown",
   "id": "8a976b89-17cb-4aef-a695-31d10b9c1a46",
   "metadata": {},
   "source": [
    "- 서로의 값에 영향을 주지 않고 서로 다른 연산을 하고 있는 것을 볼 수 있다.\n",
    "- 이런 두 개의 덧셈기를 클래스로 만들면 ??"
   ]
  },
  {
   "cell_type": "markdown",
   "id": "f142a5cd-9816-44ac-908e-0055a610d699",
   "metadata": {},
   "source": [
    "-------------------------------------------------------------------------------------------------------------"
   ]
  },
  {
   "cell_type": "markdown",
   "id": "1bd29cbf-ea3f-4127-acd7-c6795c83407d",
   "metadata": {},
   "source": [
    "##### 3. 클래스(class)로 덧셈기 구현하기"
   ]
  },
  {
   "cell_type": "code",
   "execution_count": 11,
   "id": "d26e390f-2afe-48f6-8393-69ef51e8c67b",
   "metadata": {},
   "outputs": [],
   "source": [
    "class Calculator :\n",
    "    # 객체 생성 시 호출될 때 실행되는 초기화 함수(생성자라고 부른다.)\n",
    "    def __init__(self) : \n",
    "        self.result = 0\n",
    "    \n",
    "    # 객체 생성 후 사용할 수 있는 함수\n",
    "    def add(self, num) : \n",
    "        self.result += num\n",
    "        return self.result"
   ]
  },
  {
   "cell_type": "markdown",
   "id": "54db80bb-1692-425e-8f1d-db520a09ea4d",
   "metadata": {},
   "source": [
    "- 클래스는 붕어빵 틀과 같아서 클래스를 생성한 후에는 -> 객체라는 것을 만들 수 있다.\n",
    "- cal1라는 객체를 만든다.(이는 붕어빵 틀로 하나의 붕어빵을 만드는 것에 비유)\n",
    "- 객체의 생성 방법 : 객체의 이름을 정한뒤에 '=클래스이름()'\n",
    "- 클래스가 붕어빵 틀과 같다는 이유는 하나의 클래스를 만든 후에는 여러 개의 객체를 만드는 것이 가능하기 때문"
   ]
  },
  {
   "cell_type": "code",
   "execution_count": 12,
   "id": "6f3a222e-0a4b-454c-8be9-97a9c11b4f59",
   "metadata": {},
   "outputs": [],
   "source": [
    "cal1 = Calculator()"
   ]
  },
  {
   "cell_type": "code",
   "execution_count": 13,
   "id": "c141e276-233c-41b0-94b3-14a54f147954",
   "metadata": {},
   "outputs": [],
   "source": [
    "cal2 = Calculator()"
   ]
  },
  {
   "cell_type": "code",
   "execution_count": 14,
   "id": "213f6253-16a2-4dae-97eb-d08b1cca7a76",
   "metadata": {},
   "outputs": [
    {
     "name": "stdout",
     "output_type": "stream",
     "text": [
      "3\n",
      "7\n",
      "3\n",
      "10\n"
     ]
    }
   ],
   "source": [
    "print(cal1.add(3))\n",
    "print(cal1.add(4))\n",
    "print(cal2.add(3))\n",
    "print(cal2.add(7))"
   ]
  },
  {
   "cell_type": "markdown",
   "id": "c4102b67-4419-4369-b15d-01ba6181daa0",
   "metadata": {},
   "source": [
    "- 함수 두개를 만들어야 하는 번거로움을 없애고 클래스를 하나 선언하고 이 클래스를 통해 별도의 객체를 생성하면 코드가 훨씬 간결해진다."
   ]
  }
 ],
 "metadata": {
  "kernelspec": {
   "display_name": "Python 3",
   "language": "python",
   "name": "python3"
  },
  "language_info": {
   "codemirror_mode": {
    "name": "ipython",
    "version": 3
   },
   "file_extension": ".py",
   "mimetype": "text/x-python",
   "name": "python",
   "nbconvert_exporter": "python",
   "pygments_lexer": "ipython3",
   "version": "3.9.7"
  }
 },
 "nbformat": 4,
 "nbformat_minor": 5
}
