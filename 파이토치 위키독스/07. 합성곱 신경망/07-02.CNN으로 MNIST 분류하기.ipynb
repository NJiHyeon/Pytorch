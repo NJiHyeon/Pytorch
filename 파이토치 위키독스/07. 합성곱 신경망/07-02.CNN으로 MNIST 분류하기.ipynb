{
 "cells": [
  {
   "cell_type": "markdown",
   "id": "1c3418f7-788c-44ed-87c4-2c78e70c5963",
   "metadata": {},
   "source": [
    "### 02. CNN으로 MNIST 분류하기"
   ]
  },
  {
   "cell_type": "markdown",
   "id": "e9f4c614-aee1-4e22-9b3c-6608cdfb49cc",
   "metadata": {
    "tags": []
   },
   "source": [
    "#### 1. 모델 이해하기\n",
    "- 모델의 아키텍처 먼저 공부\n",
    "- 합성곱 신경망은 출처에 따라서 합성곱 층을 부르는 단위가 조금 다르다. \n",
    "    - 첫번째 표기 방법\n",
    "        - 합성곱(nn.Conv2d) + 활성화 함수(nn.ReLU)를 하나의 합성곱 층으로 본다.\n",
    "        - 맥스풀링(nn.MaxPool2d)은 풀링 층으로 별도로 명명한다. \n",
    "    - 두번째 표기 방법\n",
    "        - 합성곱(nn.Conv2d) + 활성화 함수(nn.ReLU) + 맥스풀링(MaxPool2d)을 하나의 합성곱 층으로 본다."
   ]
  },
  {
   "cell_type": "markdown",
   "id": "a4f01a1a-9d21-46ab-901f-a2303e4d432f",
   "metadata": {},
   "source": [
    "##### **[모델의 아키텍처는 총 3개의 층으로 구성된다.]**\n",
    "1. 1번 레이어 : 합성곱 층(Convolutional layer)\n",
    "- 합성곱(in_channel = 1, out_channel=32, kernel_size=3, stride=1, padding=1) + 활성화함수 ReLU + 맥스풀링(kernel_size=2, stride=2)\n",
    "2. 2번 레이어 : 합성곱 층(Convolutional layer)\n",
    "- 합성곱(in_channel = 32, out_channel=64, kernel_size=3, stride=1, padding=1) + 활성화함수 ReLU + 맥스풀링(kernel_size=2, stride=2)\n",
    "3. 3번 레이어 : 전결합층(Fully-Connected layer)\n",
    "- 특성맵을 펼친다. \n",
    "- batch_size x 7 x 7 x 64 -> batch_size x 3136\n",
    "- 전결합층(뉴런 10개) + 활성화 함수 Softmax"
   ]
  },
  {
   "cell_type": "markdown",
   "id": "63eda655-ac0a-40d1-864b-95de420b59bd",
   "metadata": {},
   "source": [
    "-----------------------------------------------------------------------------------------------------------"
   ]
  },
  {
   "cell_type": "markdown",
   "id": "994d0dce-a169-4e8b-9c54-99856a3dd95b",
   "metadata": {},
   "source": [
    "#### 2. 모델 구현하기"
   ]
  },
  {
   "cell_type": "markdown",
   "id": "99e0d3b3-230e-4e8b-b5dd-e7c0217e3460",
   "metadata": {},
   "source": [
    "**2-1.** 필요한 도구 임포트와 입력의 정의"
   ]
  },
  {
   "cell_type": "markdown",
   "id": "196491ce-53b5-46aa-bea5-af6289f96501",
   "metadata": {},
   "source": [
    "필요한 도구들을 임포트한다. "
   ]
  },
  {
   "cell_type": "code",
   "execution_count": 2,
   "id": "135c5e92-1ac4-4343-b4ab-4b18c31ff446",
   "metadata": {},
   "outputs": [],
   "source": [
    "import torch\n",
    "import torch.nn as nn"
   ]
  },
  {
   "cell_type": "markdown",
   "id": "61ef5158-639a-4887-9365-06c12fceb0ff",
   "metadata": {},
   "source": [
    "임의의 텐서를 만든다. 텐서의 크기는 1 x 1 x 28 x 28"
   ]
  },
  {
   "cell_type": "code",
   "execution_count": 35,
   "id": "cad0d0e8-55a6-4895-81b5-418dd8d70fa2",
   "metadata": {},
   "outputs": [
    {
     "name": "stdout",
     "output_type": "stream",
     "text": [
      "텐서의 크기 : torch.Size([1, 1, 28, 28])\n"
     ]
    }
   ],
   "source": [
    "# 배치크기 x 채널 x 높이 x 너비의 크기의 텐서를 선언\n",
    "inputs = torch.Tensor(1, 1, 28, 28)\n",
    "print('텐서의 크기 : {}'.format(inputs.shape))"
   ]
  },
  {
   "cell_type": "markdown",
   "id": "f8b94d13-548f-4fae-bd8c-4f0d768242c7",
   "metadata": {},
   "source": [
    "**2-2.** 합성곱층과 풀링 선언하기"
   ]
  },
  {
   "cell_type": "markdown",
   "id": "8cf68c55-cb3a-4012-9249-e8bedb2a1fed",
   "metadata": {},
   "source": [
    "첫번째 합성곱 층을 구현 : 1채널 짜리를 입력받아 32채널을 뽑아내는데 커널 사이즈는 3이고 패딩은 1이다. "
   ]
  },
  {
   "cell_type": "code",
   "execution_count": 36,
   "id": "5146baaf-95ca-49ba-99e5-f6a613e4463c",
   "metadata": {},
   "outputs": [
    {
     "name": "stdout",
     "output_type": "stream",
     "text": [
      "Conv2d(1, 32, kernel_size=(3, 3), stride=(1, 1), padding=(1, 1))\n"
     ]
    }
   ],
   "source": [
    "conv1 = nn.Conv2d(1, 32, 3, padding=1)\n",
    "print(conv1)"
   ]
  },
  {
   "cell_type": "markdown",
   "id": "4b6f5bbc-d111-4130-86c5-968835f5258c",
   "metadata": {},
   "source": [
    "두번째 합성곱 층을 구현 : 32채널 짜리를 입력받아 64채널을 뽑아내는데 커널 사이즈는 3이고 패딩은 1이다."
   ]
  },
  {
   "cell_type": "code",
   "execution_count": 37,
   "id": "3603e65f-dfae-46ef-9bd4-64d3d67f9991",
   "metadata": {},
   "outputs": [
    {
     "name": "stdout",
     "output_type": "stream",
     "text": [
      "Conv2d(32, 64, kernel_size=(3, 3), stride=(1, 1), padding=(1, 1))\n"
     ]
    }
   ],
   "source": [
    "conv2 = nn.Conv2d(32, 64, 3, padding=1)\n",
    "print(conv2)"
   ]
  },
  {
   "cell_type": "markdown",
   "id": "a0e8c787-b9c3-4d4d-8303-4b04fc72fd85",
   "metadata": {},
   "source": [
    "맥스 풀링 구현 : 정수 하나를 인자로 넣으면 커널 사이즈와 스트라이드가 둘 다 해당값으로 지정된다. "
   ]
  },
  {
   "cell_type": "code",
   "execution_count": 38,
   "id": "2865f9d6-1cfb-4222-9f24-acaf9dea2f15",
   "metadata": {},
   "outputs": [
    {
     "name": "stdout",
     "output_type": "stream",
     "text": [
      "MaxPool2d(kernel_size=2, stride=2, padding=0, dilation=1, ceil_mode=False)\n"
     ]
    }
   ],
   "source": [
    "pool = nn.MaxPool2d(2)\n",
    "print(pool)"
   ]
  },
  {
   "cell_type": "markdown",
   "id": "b7dadf76-5f04-4653-808d-9abdc560aa9d",
   "metadata": {},
   "source": [
    "**2-3.** 구현체를 연결하여 모델 만들기"
   ]
  },
  {
   "cell_type": "markdown",
   "id": "9cba0e28-2781-4396-a7bd-960a2e13e07c",
   "metadata": {},
   "source": [
    "우선 입력을 첫번째 합성곱층을 통과시키고 합성곱층을 통과시킨 후의 텐서의 크기 확인"
   ]
  },
  {
   "cell_type": "code",
   "execution_count": 39,
   "id": "3d14a84d-a9be-4177-b8f8-c3cf3f8c8298",
   "metadata": {},
   "outputs": [
    {
     "name": "stdout",
     "output_type": "stream",
     "text": [
      "torch.Size([1, 32, 28, 28])\n"
     ]
    }
   ],
   "source": [
    "out = conv1(inputs)\n",
    "print(out.shape)"
   ]
  },
  {
   "cell_type": "markdown",
   "id": "eebd3760-8925-47fa-9f2e-44b5314bd8de",
   "metadata": {},
   "source": [
    "- 출력 결과\n",
    "    - 32채널, 28너비, 28높이의 텐서가 출력\n",
    "    - 32가 나온 이유는 conv1의 out_channel로 32를 지정해주었기 때문\n",
    "    - 28이 나온 이유는 패딩을 1폭으로 하고 3x3 커널을 사용하면 크기가 보존된다. "
   ]
  },
  {
   "cell_type": "markdown",
   "id": "9c4e4016-011e-4658-90f0-6a218a37fca2",
   "metadata": {},
   "source": [
    "이제 맥스풀링을 통과시키고 맥스 풀링을 통과한 후의 텐서 크기 확인"
   ]
  },
  {
   "cell_type": "code",
   "execution_count": 40,
   "id": "6f3c0211-64a8-479f-a93e-156182c937ba",
   "metadata": {},
   "outputs": [
    {
     "name": "stdout",
     "output_type": "stream",
     "text": [
      "torch.Size([1, 32, 14, 14])\n"
     ]
    }
   ],
   "source": [
    "out = pool(out)\n",
    "print(out.shape)"
   ]
  },
  {
   "cell_type": "markdown",
   "id": "4a728de7-dc41-4c0d-8edf-92d414495afc",
   "metadata": {},
   "source": [
    "- 출력결과\n",
    "    - 32채널 수 그대로 출력\n",
    "    - 높이와 너비는 1/2가 되므로 각각 14"
   ]
  },
  {
   "cell_type": "markdown",
   "id": "0f5550c5-6bbb-4af5-965c-84958729299c",
   "metadata": {},
   "source": [
    "다시 두번째 합성곱층에 통과시키고 통과한 후의 텐서의 크기 확인"
   ]
  },
  {
   "cell_type": "code",
   "execution_count": 41,
   "id": "8dd4f885-e5ba-4ae6-8238-5e8b149b817a",
   "metadata": {},
   "outputs": [
    {
     "name": "stdout",
     "output_type": "stream",
     "text": [
      "torch.Size([1, 64, 14, 14])\n"
     ]
    }
   ],
   "source": [
    "out = conv2(out)\n",
    "print(out.shape)"
   ]
  },
  {
   "cell_type": "markdown",
   "id": "39b0f759-9712-4301-9170-c3d1ab414404",
   "metadata": {},
   "source": [
    "- 출력결과\n",
    "    - 64채널의 14너비 14높이의 텐서 출력\n",
    "    - 64가 나온 이유는 conv2의 out_channel을 64로 지정해주었기 때문\n",
    "    - 14너비, 14높이가 나온 이유는 패딩을 1폭으로 하고 3x3 커널을 사용하여 크기가 보존됨"
   ]
  },
  {
   "cell_type": "markdown",
   "id": "3e5b32fd-fccb-4cb7-8b5f-7e2cac5f5f58",
   "metadata": {},
   "source": [
    "이를 맥스풀링을 통과시키고 맥스풀링을 통과한 후의 텐서의 크기 확인"
   ]
  },
  {
   "cell_type": "code",
   "execution_count": 42,
   "id": "8a91881d-82f6-4d6c-bc34-31d2ff31ffa3",
   "metadata": {},
   "outputs": [
    {
     "name": "stdout",
     "output_type": "stream",
     "text": [
      "torch.Size([1, 64, 7, 7])\n"
     ]
    }
   ],
   "source": [
    "out = pool(out)\n",
    "print(out.shape)"
   ]
  },
  {
   "cell_type": "markdown",
   "id": "47e86efa-0628-44cc-a454-425d88821129",
   "metadata": {},
   "source": [
    "이 텐서를 펼치는 작업을 한다. 그런데 펼쳐지기 전에 **텐서의 n번째 차원** 을 접근하게 해주는 **.size(n)** 에 대해서 먼저 공부"
   ]
  },
  {
   "cell_type": "code",
   "execution_count": 43,
   "id": "1af640da-4788-4e46-a246-887b64721923",
   "metadata": {},
   "outputs": [
    {
     "data": {
      "text/plain": [
       "1"
      ]
     },
     "execution_count": 43,
     "metadata": {},
     "output_type": "execute_result"
    }
   ],
   "source": [
    "# 첫번째 차원 몇인지 출력\n",
    "out.size(0)"
   ]
  },
  {
   "cell_type": "code",
   "execution_count": 44,
   "id": "fd627bfb-6a77-419c-a2e3-63d9a4528126",
   "metadata": {},
   "outputs": [
    {
     "data": {
      "text/plain": [
       "64"
      ]
     },
     "execution_count": 44,
     "metadata": {},
     "output_type": "execute_result"
    }
   ],
   "source": [
    "# 두번째 차원 몇인지 출력\n",
    "out.size(1)"
   ]
  },
  {
   "cell_type": "code",
   "execution_count": 45,
   "id": "a7e57869-8622-4dc8-9473-4087d7c6ddd8",
   "metadata": {},
   "outputs": [
    {
     "data": {
      "text/plain": [
       "7"
      ]
     },
     "execution_count": 45,
     "metadata": {},
     "output_type": "execute_result"
    }
   ],
   "source": [
    "# 세번째 차원 몇인지 출력\n",
    "out.size(2)"
   ]
  },
  {
   "cell_type": "code",
   "execution_count": 46,
   "id": "fe94864b-b49f-45c1-b372-0071e7041cb5",
   "metadata": {},
   "outputs": [
    {
     "data": {
      "text/plain": [
       "7"
      ]
     },
     "execution_count": 46,
     "metadata": {},
     "output_type": "execute_result"
    }
   ],
   "source": [
    "# 네번째 차원 몇인지 출력\n",
    "out.size(3)"
   ]
  },
  {
   "cell_type": "markdown",
   "id": "1dde021f-7040-47e6-9ec5-f14d2e906b10",
   "metadata": {},
   "source": [
    "이를 가지고 **.view()** 를 사용하여 텐서를 펼치는 작업"
   ]
  },
  {
   "cell_type": "code",
   "execution_count": 31,
   "id": "ec0a52ee-7028-4d19-b302-12b8ef4ffa46",
   "metadata": {},
   "outputs": [
    {
     "name": "stdout",
     "output_type": "stream",
     "text": [
      "torch.Size([1, 3136])\n"
     ]
    }
   ],
   "source": [
    "# 첫번째 차원인 배치 차원은 그대로 두고 나머지는 펼쳐라\n",
    "out = out.view(out.size(0), -1)\n",
    "print(out.shape)"
   ]
  },
  {
   "cell_type": "markdown",
   "id": "9d2941e1-bb47-4950-aeb0-cff6f0debf7b",
   "metadata": {},
   "source": [
    "- 출력 결과\n",
    "    - 배치 차원을 제외하고 모두 하나의 차원으로 통합되었다."
   ]
  },
  {
   "cell_type": "markdown",
   "id": "eb97fbc6-9ea5-4cfa-a165-c8765f8d5051",
   "metadata": {},
   "source": [
    "이에 대해서 전결합층(Fully-Connected layer)를 통과"
   ]
  },
  {
   "cell_type": "code",
   "execution_count": 32,
   "id": "62c4e0da-5a67-46fa-9810-f19932e3c1d8",
   "metadata": {},
   "outputs": [
    {
     "name": "stdout",
     "output_type": "stream",
     "text": [
      "torch.Size([1, 10])\n"
     ]
    }
   ],
   "source": [
    "fc = nn.Linear(3136, 10)\n",
    "out = fc(out)\n",
    "print(out.shape)"
   ]
  },
  {
   "cell_type": "markdown",
   "id": "f6f1cd1a-45bb-466c-a8b1-44054cb7b385",
   "metadata": {},
   "source": [
    "- 출력 결과\n",
    "    - 출력층으로 10개의 뉴런을 배치하여 10개 차원의 텐서로 변환한다. "
   ]
  },
  {
   "cell_type": "markdown",
   "id": "5495ee28-48c7-40aa-a020-e6f83b104d7f",
   "metadata": {},
   "source": [
    "------------------------------------------------------------------------------------------------------------"
   ]
  },
  {
   "cell_type": "markdown",
   "id": "31e57962-8dd7-495d-af3a-aa23e6c75240",
   "metadata": {},
   "source": [
    "#### 3. CNN으로 MNIST 분류하기 "
   ]
  },
  {
   "cell_type": "markdown",
   "id": "9df34fcc-95a6-4821-a393-42353c92b08e",
   "metadata": {},
   "source": [
    "필요한 도구들을 임포트"
   ]
  },
  {
   "cell_type": "code",
   "execution_count": 2,
   "id": "5e6c8f3d-dcc2-4d26-ac57-aed574ec5353",
   "metadata": {},
   "outputs": [],
   "source": [
    "import torch\n",
    "import torchvision.datasets as dsets\n",
    "import torchvision.transforms as transforms\n",
    "import torch.nn.init"
   ]
  },
  {
   "cell_type": "markdown",
   "id": "865e5c7a-f9cc-477a-9cd7-350f570d17d9",
   "metadata": {},
   "source": [
    "만약 GPU를 사용 가능하다면 device 값이 cuda가 되고, 아니라면 cpu가 된다. "
   ]
  },
  {
   "cell_type": "code",
   "execution_count": 3,
   "id": "bff229f4-c882-4821-887b-f69626cb3dd4",
   "metadata": {},
   "outputs": [],
   "source": [
    "device = 'cuda' if torch.cuda.is_available() else 'cpu'\n",
    "\n",
    "# 랜덤 시드 고정\n",
    "torch.manual_seed(777)\n",
    "\n",
    "# GPU 사용 가능일 경우 랜덤 시드 고정\n",
    "if device == 'cuda' :\n",
    "    torch.cuda.manual_seed_all(777)"
   ]
  },
  {
   "cell_type": "markdown",
   "id": "7da68650-d371-4094-8d4c-8dd3a0bf9642",
   "metadata": {},
   "source": [
    "학습에 사용할 파라미터 설정"
   ]
  },
  {
   "cell_type": "code",
   "execution_count": 4,
   "id": "0b9640aa-9e13-48f2-88b5-41c244527626",
   "metadata": {},
   "outputs": [],
   "source": [
    "learning_rate = 0.001\n",
    "training_epochs = 15\n",
    "batch_size = 100"
   ]
  },
  {
   "cell_type": "markdown",
   "id": "f997ea28-3ad0-4c69-91d6-2b9150aecc0a",
   "metadata": {},
   "source": [
    "데이터로더를 사용하여 데이터를 다루기 위해서 **데이터셋**을 정의"
   ]
  },
  {
   "cell_type": "code",
   "execution_count": 5,
   "id": "b25b99fd-7b9f-4432-a62e-c28a1cb2f73d",
   "metadata": {},
   "outputs": [],
   "source": [
    "mnist_train = dsets.MNIST(root = 'MNIST_data/',               # 다운로드 경로 지정\n",
    "                          train = True,                       # True로 지정하면 훈련 데이터로 다운로드\n",
    "                          transform = transforms.ToTensor(), # 텐서로 변환\n",
    "                          download=True)\n",
    "\n",
    "mnist_test = dsets.MNIST(root= 'MNIST_data/',\n",
    "                         train = False,\n",
    "                         transform = transforms.ToTensor(),\n",
    "                         download=True)                 "
   ]
  },
  {
   "cell_type": "markdown",
   "id": "75d09574-064d-46cd-a45f-eadda40c3cae",
   "metadata": {},
   "source": [
    "데이터로더를 사용하여 **배치 크기**를 지정해준다. "
   ]
  },
  {
   "cell_type": "code",
   "execution_count": 6,
   "id": "85ee0abe-a141-4832-b0e9-5e31c8c0b392",
   "metadata": {},
   "outputs": [],
   "source": [
    "data_loader = torch.utils.data.DataLoader(dataset=mnist_train,\n",
    "                                          batch_size=batch_size,\n",
    "                                          shuffle=True,\n",
    "                                          drop_last=True)"
   ]
  },
  {
   "cell_type": "markdown",
   "id": "86c6266c-d3e6-4ee9-a610-fbee9c47a0f5",
   "metadata": {},
   "source": [
    "클래스로 모델을 설계"
   ]
  },
  {
   "cell_type": "code",
   "execution_count": 7,
   "id": "8cbf9db5-4966-4635-9b65-730516a64d4a",
   "metadata": {},
   "outputs": [],
   "source": [
    "class CNN(torch.nn.Module) : \n",
    "    def __init__(self) : \n",
    "        super(CNN, self).__init__()\n",
    "        \n",
    "        # 첫번째층\n",
    "        self.layer1 = torch.nn.Sequential(\n",
    "            torch.nn.Conv2d(1, 32, kernel_size=3, stride=1, padding=1),\n",
    "            torch.nn.ReLU(),\n",
    "            torch.nn.MaxPool2d(kernel_size=2, stride=2))\n",
    "        \n",
    "        # 두번째 층\n",
    "        self.layer2 = torch.nn.Sequential(\n",
    "            torch.nn.Conv2d(32, 64, kernel_size=3, stride=1, padding=1),\n",
    "            torch.nn.ReLU(),\n",
    "            torch.nn.MaxPool2d(kernel_size=2, stride=2))\n",
    "        \n",
    "        # 전결합층 7x7x64 inputs -> 10 outputs\n",
    "        self.fc = torch.nn.Linear(7*7*64, 10, bias=True)\n",
    "        \n",
    "        # 전결합층 한정으로 가중치 초기화\n",
    "        torch.nn.init.xavier_uniform_(self.fc.weight)\n",
    "        \n",
    "    def forward(self, x) : \n",
    "        out = self.layer1(x)\n",
    "        out = self.layer2(out)\n",
    "        out = out.view(out.size(0), -1)   # Flatten them for FC(배치 사이즈를 고려 해야 하므로 맨 앞은 그래도 냅두고(배치자리), 나머지 곱)\n",
    "        out = self.fc(out)\n",
    "        return out"
   ]
  },
  {
   "cell_type": "markdown",
   "id": "5452ac92-6d1b-458c-88c9-243523cd060d",
   "metadata": {},
   "source": [
    "CNN 모델 정의"
   ]
  },
  {
   "cell_type": "code",
   "execution_count": 8,
   "id": "568b9208-6b62-4595-b725-6a2f382b2493",
   "metadata": {},
   "outputs": [],
   "source": [
    "model = CNN().to(device)"
   ]
  },
  {
   "cell_type": "markdown",
   "id": "416c010d-0749-49d0-abad-eed8c9577b50",
   "metadata": {},
   "source": [
    "비용함수와 옵티마이저 정의"
   ]
  },
  {
   "cell_type": "code",
   "execution_count": 22,
   "id": "41155332-1d6a-43c6-b910-9861101c8d1a",
   "metadata": {},
   "outputs": [],
   "source": [
    "criterion = torch.nn.CrossEntropyLoss().to(device)\n",
    "optimizer = torch.optim.Adam(model.parameters(), lr=learning_rate)"
   ]
  },
  {
   "cell_type": "markdown",
   "id": "c82e85c3-a656-42bd-8057-a6c6599db23b",
   "metadata": {},
   "source": [
    "총 배치의 수 출력"
   ]
  },
  {
   "cell_type": "code",
   "execution_count": 25,
   "id": "46da01fc-5b50-4e01-925f-6c981fcf97c8",
   "metadata": {},
   "outputs": [
    {
     "name": "stdout",
     "output_type": "stream",
     "text": [
      "총 배치의 수 : 600\n"
     ]
    }
   ],
   "source": [
    "total_batch = len(data_loader)\n",
    "print('총 배치의 수 : {}'.format(total_batch))"
   ]
  },
  {
   "cell_type": "markdown",
   "id": "3c0fa6a7-aca1-4e80-a37c-aa8ce4c728fd",
   "metadata": {},
   "source": [
    "배치 크기를 100으로 했으므로 훈련 데이터는 총 60000개란 의미"
   ]
  },
  {
   "cell_type": "markdown",
   "id": "f35fbd0e-6327-4c36-bdcc-f1aa0be8c2e0",
   "metadata": {},
   "source": [
    "모델 훈련"
   ]
  },
  {
   "cell_type": "code",
   "execution_count": 23,
   "id": "cb39bcc3-4cea-4a82-94b5-ebbf8e63aeeb",
   "metadata": {},
   "outputs": [
    {
     "name": "stdout",
     "output_type": "stream",
     "text": [
      "[Epoch:    1] cost = 0.225158006\n",
      "[Epoch:    2] cost = 0.0619881377\n",
      "[Epoch:    3] cost = 0.0446749516\n",
      "[Epoch:    4] cost = 0.0363330655\n",
      "[Epoch:    5] cost = 0.029910991\n",
      "[Epoch:    6] cost = 0.0251833797\n",
      "[Epoch:    7] cost = 0.0205985568\n",
      "[Epoch:    8] cost = 0.018061744\n",
      "[Epoch:    9] cost = 0.0143755153\n",
      "[Epoch:   10] cost = 0.0114146387\n",
      "[Epoch:   11] cost = 0.0105878217\n",
      "[Epoch:   12] cost = 0.0102650467\n",
      "[Epoch:   13] cost = 0.00796501897\n",
      "[Epoch:   14] cost = 0.00606820127\n",
      "[Epoch:   15] cost = 0.00661244895\n"
     ]
    }
   ],
   "source": [
    "for epoch in range(training_epochs) : \n",
    "    avg_cost = 0\n",
    "    \n",
    "    # 미니 배치 단위로 꺼내온다. (X는 미니배치, Y는 레이블)\n",
    "    for X, Y in data_loader : \n",
    "        # 이미지는 28x28 사이즈, no reshape\n",
    "        # 레이블은 원-핫 인코딩됨\n",
    "        X = X.to(device)\n",
    "        Y = Y.to(device)\n",
    "        \n",
    "        optimizer.zero_grad()\n",
    "        hypothesis = model(X)\n",
    "        cost = criterion(hypothesis, Y)\n",
    "        cost.backward()\n",
    "        optimizer.step()\n",
    "        \n",
    "        avg_cost += cost / total_batch\n",
    "        \n",
    "    print('[Epoch: {:>4}] cost = {:>.9}'.format(epoch+1, avg_cost))"
   ]
  },
  {
   "cell_type": "markdown",
   "id": "107c7a5d-ef10-449a-a755-fb49d2d8bf0c",
   "metadata": {},
   "source": [
    "테스트"
   ]
  },
  {
   "cell_type": "code",
   "execution_count": 26,
   "id": "e6e63b85-ea91-4681-80f0-7b179b935648",
   "metadata": {},
   "outputs": [
    {
     "name": "stderr",
     "output_type": "stream",
     "text": [
      "C:\\Users\\ATIV\\AppData\\Local\\Programs\\Python\\Python310\\lib\\site-packages\\torchvision\\datasets\\mnist.py:80: UserWarning: test_data has been renamed data\n",
      "  warnings.warn(\"test_data has been renamed data\")\n"
     ]
    },
    {
     "name": "stdout",
     "output_type": "stream",
     "text": [
      "Accuracy:  0.9871000051498413\n"
     ]
    }
   ],
   "source": [
    "# 학습을 진행하지 않을 것이므로 torch.no_grad()\n",
    "with torch.no_grad() : \n",
    "    # view()를 안하면 torch.Size([10000, 28, 28])\n",
    "    X_test = mnist_test.test_data.view(len(mnist_test), 1, 28, 28).float().to(device)\n",
    "    Y_test = mnist_test.test_labels.to(device)\n",
    "    \n",
    "    prediction = model(X_test)\n",
    "    correct_prediction = torch.argmax(prediction, 1) == Y_test\n",
    "    accuracy = correct_prediction.float().mean()\n",
    "    print('Accuracy: ', accuracy.item())"
   ]
  },
  {
   "cell_type": "code",
   "execution_count": 33,
   "id": "d796f8d2-a5a2-4fdd-8ef2-098aa2842cc8",
   "metadata": {},
   "outputs": [
    {
     "data": {
      "text/plain": [
       "torch.Size([10000, 1, 28, 28])"
      ]
     },
     "execution_count": 33,
     "metadata": {},
     "output_type": "execute_result"
    }
   ],
   "source": [
    "X_test.shape"
   ]
  },
  {
   "cell_type": "code",
   "execution_count": 28,
   "id": "5f10814d-5062-4b7e-853e-6806d0709352",
   "metadata": {},
   "outputs": [
    {
     "name": "stdout",
     "output_type": "stream",
     "text": [
      "torch.Size([10000, 10])\n"
     ]
    }
   ],
   "source": [
    "print(prediction.shape)"
   ]
  },
  {
   "cell_type": "code",
   "execution_count": 31,
   "id": "939ec680-4938-4686-8281-a5eb9e74628e",
   "metadata": {},
   "outputs": [
    {
     "data": {
      "text/plain": [
       "tensor([7, 2, 1,  ..., 4, 5, 6])"
      ]
     },
     "execution_count": 31,
     "metadata": {},
     "output_type": "execute_result"
    }
   ],
   "source": [
    "torch.argmax(prediction, 1)"
   ]
  },
  {
   "cell_type": "code",
   "execution_count": 29,
   "id": "b802e74f-a7e8-41b1-b032-4dbd99c315e3",
   "metadata": {},
   "outputs": [
    {
     "data": {
      "text/plain": [
       "tensor([True, True, True,  ..., True, True, True])"
      ]
     },
     "execution_count": 29,
     "metadata": {},
     "output_type": "execute_result"
    }
   ],
   "source": [
    "correct_prediction"
   ]
  }
 ],
 "metadata": {
  "kernelspec": {
   "display_name": "Python 3 (ipykernel)",
   "language": "python",
   "name": "python3"
  },
  "language_info": {
   "codemirror_mode": {
    "name": "ipython",
    "version": 3
   },
   "file_extension": ".py",
   "mimetype": "text/x-python",
   "name": "python",
   "nbconvert_exporter": "python",
   "pygments_lexer": "ipython3",
   "version": "3.10.2"
  }
 },
 "nbformat": 4,
 "nbformat_minor": 5
}
