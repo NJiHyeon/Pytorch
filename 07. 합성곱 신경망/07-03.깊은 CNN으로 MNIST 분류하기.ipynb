{
 "cells": [
  {
   "cell_type": "markdown",
   "id": "44a6fc9c-5491-4f84-9aef-8485829c47a1",
   "metadata": {},
   "source": [
    "### 03. 깊은 CNN으로 MNIST 분류하기"
   ]
  },
  {
   "cell_type": "markdown",
   "id": "3e500597-812e-44a3-aa97-cca964681cda",
   "metadata": {},
   "source": [
    "#### 1. 모델 이해하기\n",
    "- 앞에서 공부한 1번 레이어와 2번 레이어는 동일하되, 새로운 합성곱층과 전결합층을 추가"
   ]
  },
  {
   "cell_type": "markdown",
   "id": "43f76d3f-7306-404b-bc5f-a9615b001d3a",
   "metadata": {},
   "source": [
    "1. 1번 레이어 : 합성곱층(Convolutional layer)\n",
    "- 합성곱(in_channel=1, out_channel=32, kernel_size=3, stride=1, padding=1) + 활성화함수 ReLU + 맥스풀링(kernel_size=2, stride=2))\n",
    "\n",
    "2. 2번 레이어 : 합성곱층(Convolutional layer)\n",
    "- 합성곱(in_channel=32, out_channel=32, kernel_size=3, stride=1, padding=1) + 활성화함수 ReLU + 맥스풀링(kernel_size=2, stride=2))\n",
    "\n",
    "3. 3번 레이어(new) : 합성곱층(Convolutional layer)\n",
    "- 합성곱(in_channel=64, out_channe=128, kernel_size=3, stride=1, padding=1) + 활성화함수 ReLU + 맥스풀링(kernel_size=2, stride=2, padding=1))\n",
    "\n",
    "4. 4번 레이어(new) : 전결합층(Fully-Connected layer)\n",
    "- 특성맵을 펼친다 : batch_size x 4 x 4 x 128 -> batch_size x 2048\n",
    "- 전결합층(뉴런 625개) + 활성화함수 ReLU\n",
    "\n",
    "5. 5번 레이어 : 전결합층(Fully-Connected layer)\n",
    "- 전결합층(뉴런 10개) + 활성화함수 Softmax"
   ]
  },
  {
   "cell_type": "markdown",
   "id": "8a58c536-06b5-45d4-aa0f-95c41224d173",
   "metadata": {},
   "source": [
    "-------------------------------------------------------------------------------------------------------------"
   ]
  },
  {
   "cell_type": "markdown",
   "id": "667a77ff-2c58-4d54-8a43-44e039188a5f",
   "metadata": {},
   "source": [
    "#### 2. 깊은 CNN으로 MNIST 분류하기"
   ]
  },
  {
   "cell_type": "code",
   "execution_count": 1,
   "id": "3116df29-bf80-4dab-8e8f-a8649b7fcba6",
   "metadata": {},
   "outputs": [],
   "source": [
    "import torch\n",
    "import torchvision.datasets as dsets\n",
    "import torchvision.transforms as transforms\n",
    "import torch.nn.init"
   ]
  },
  {
   "cell_type": "markdown",
   "id": "47e2e48b-dda6-4ec4-8562-f20c201ddd57",
   "metadata": {},
   "source": [
    "만약 GPU를 사용 가능하다면 device 값이 cuda가 되고, 아니라면 cpu가 된다. "
   ]
  },
  {
   "cell_type": "code",
   "execution_count": 26,
   "id": "5c84ed42-1ea7-4c3c-9969-0f2c8dd46bce",
   "metadata": {},
   "outputs": [],
   "source": [
    "device = 'cuda' if torch.cuda.is_available() else 'cpu'\n",
    "\n",
    "# 랜덤 시드 고정\n",
    "torch.manual_seed(777)\n",
    "\n",
    "# GPU 사용 가능일 경우 랜덤 시드 고정\n",
    "if device == 'cuda' : \n",
    "    torch.manual_seed_all(777)"
   ]
  },
  {
   "cell_type": "markdown",
   "id": "edd97858-14d9-4eaa-8b19-00b931b5796b",
   "metadata": {},
   "source": [
    "학습에 사용될 파라미터 설정"
   ]
  },
  {
   "cell_type": "code",
   "execution_count": 27,
   "id": "36dc5ac6-eaf1-4909-8ef0-5806360847a1",
   "metadata": {},
   "outputs": [],
   "source": [
    "learning_rate = 0.001\n",
    "training_epochs = 15\n",
    "batch_size = 100"
   ]
  },
  {
   "cell_type": "markdown",
   "id": "15a4202e-fd23-401d-a214-1538c29b6419",
   "metadata": {},
   "source": [
    "데이터로더를 사용하여 데이터를 다루기 위해 데이터셋을 정의"
   ]
  },
  {
   "cell_type": "code",
   "execution_count": 28,
   "id": "6efef2be-d734-4e9f-a5de-c19c593f1a52",
   "metadata": {},
   "outputs": [],
   "source": [
    "mnist_train = dsets.MNIST(root = 'MNIST_data/',\n",
    "                          train = True,\n",
    "                          transform = transforms.ToTensor(),\n",
    "                          download = True)\n",
    "mnist_test = dsets.MNIST(root = 'MNIST_data/',\n",
    "                         train = False,\n",
    "                         transform = transforms.ToTensor(),\n",
    "                         download = True)"
   ]
  },
  {
   "cell_type": "markdown",
   "id": "c528e851-22c1-4644-bf75-d29a05886832",
   "metadata": {},
   "source": [
    "데이터 로더를 사용하여 배치 크기 지정"
   ]
  },
  {
   "cell_type": "code",
   "execution_count": 29,
   "id": "48b9ac5a-3e07-411e-b002-d45696610a0e",
   "metadata": {},
   "outputs": [],
   "source": [
    "data_loader = torch.utils.data.DataLoader(dataset=mnist_train,\n",
    "                                          batch_size=batch_size,\n",
    "                                          shuffle=True,\n",
    "                                          drop_last=True)"
   ]
  },
  {
   "cell_type": "markdown",
   "id": "3043d4af-735a-4398-be1e-1187fa2c5cd3",
   "metadata": {},
   "source": [
    "클래스로 모델 설계"
   ]
  },
  {
   "cell_type": "code",
   "execution_count": 43,
   "id": "d211b398-7832-4ea8-8324-39b9d90a71ef",
   "metadata": {},
   "outputs": [],
   "source": [
    "class CNN(torch.nn.Module) : \n",
    "    def __init__(self) : \n",
    "        super(CNN, self).__init__()\n",
    "        # 드롭아웃을 지원하기 위해 x 이외에 keep_prob 변수를 인수로 받아야 한다. \n",
    "        self.keep_prob = 0.5\n",
    "        \n",
    "        self.layer1 = torch.nn.Sequential(\n",
    "            torch.nn.Conv2d(1, 32, kernel_size=3, stride=1, padding=1),\n",
    "            torch.nn.ReLU(),\n",
    "            torch.nn.MaxPool2d(kernel_size=2, stride=2))\n",
    "        \n",
    "        self.layer2 = torch.nn.Sequential(\n",
    "            torch.nn.Conv2d(32, 64, kernel_size=3, stride=1, padding=1),\n",
    "            torch.nn.ReLU(),\n",
    "            torch.nn.MaxPool2d(kernel_size=2, stride=2))\n",
    "        \n",
    "        self.layer3 = torch.nn.Sequential(\n",
    "            torch.nn.Conv2d(64, 128, kernel_size=3, stride=1, padding=1),\n",
    "            torch.nn.ReLU(),\n",
    "            torch.nn.MaxPool2d(kernel_size=2, stride=2, padding=1))\n",
    "        \n",
    "        self.fc1 = torch.nn.Linear(4*4*128, 625, bias=True)\n",
    "        torch.nn.init.xavier_uniform_(self.fc1.weight)\n",
    "        self.layer4 = torch.nn.Sequential(\n",
    "            self.fc1,\n",
    "            torch.nn.ReLU(),\n",
    "            torch.nn.Dropout(p=1 - self.keep_prob))\n",
    "        \n",
    "        self.fc2 = torch.nn.Linear(625, 10, bias=True)\n",
    "        torch.nn.init.xavier_uniform_(self.fc2.weight)\n",
    "        \n",
    "    def forward(self, x) : \n",
    "        out = self.layer1(x)\n",
    "        out = self.layer2(out)\n",
    "        out = self.layer3(out)\n",
    "        out = out.view(out.size(0), -1)   # Flatten them for FC(배치 사이즈를 고려 해야 하므로 맨 앞은 그래도 냅두고(배치자리), 나머지 곱)\n",
    "        out = self.layer4(out)\n",
    "        out = self.fc2(out)\n",
    "        return out"
   ]
  },
  {
   "cell_type": "markdown",
   "id": "eead17f6-3e8c-465b-b2be-b521027241b2",
   "metadata": {},
   "source": [
    "모델 정의"
   ]
  },
  {
   "cell_type": "code",
   "execution_count": 44,
   "id": "665cd2a1-609a-41f5-b429-362a8f2632fa",
   "metadata": {},
   "outputs": [],
   "source": [
    "model = CNN().to(device)"
   ]
  },
  {
   "cell_type": "markdown",
   "id": "ed0531d4-f330-4c9d-b003-6a1891539ec3",
   "metadata": {},
   "source": [
    "비용함수와 옵티마이저 정의"
   ]
  },
  {
   "cell_type": "code",
   "execution_count": 45,
   "id": "f930b85f-81d5-43ce-b881-7c6a5ca38b92",
   "metadata": {},
   "outputs": [],
   "source": [
    "criterion = torch.nn.CrossEntropyLoss().to(device)\n",
    "optimizer = torch.optim.Adam(model.parameters(), lr=learning_rate)"
   ]
  },
  {
   "cell_type": "markdown",
   "id": "7e5f3c67-12a4-46c1-8c59-90877747c43c",
   "metadata": {},
   "source": [
    "총 배치의 수 출력"
   ]
  },
  {
   "cell_type": "code",
   "execution_count": 46,
   "id": "815a2682-9937-43cf-9ada-d6bac55d421f",
   "metadata": {},
   "outputs": [
    {
     "name": "stdout",
     "output_type": "stream",
     "text": [
      "총 배치의 수 : 600\n"
     ]
    }
   ],
   "source": [
    "total_batch = len(data_loader)\n",
    "print('총 배치의 수 : {}'.format(total_batch))"
   ]
  },
  {
   "cell_type": "markdown",
   "id": "65c6b811-13ef-4742-b417-288d29eb41bc",
   "metadata": {},
   "source": [
    "총 배치의 수는 600인데 배치 크기를 100으로 했으므로 결국 훈련 데이터는 총 60,000개"
   ]
  },
  {
   "cell_type": "code",
   "execution_count": null,
   "id": "33b72ea9-e8d6-4d0d-9dd0-e82589a13441",
   "metadata": {},
   "outputs": [
    {
     "name": "stdout",
     "output_type": "stream",
     "text": [
      "[Epoch:    1] cost = 0.198674247\n",
      "[Epoch:    2] cost = 0.0524641909\n",
      "[Epoch:    3] cost = 0.0381815024\n",
      "[Epoch:    4] cost = 0.0296787079\n",
      "[Epoch:    5] cost = 0.0239549074\n",
      "[Epoch:    6] cost = 0.0213318095\n",
      "[Epoch:    7] cost = 0.0174029246\n",
      "[Epoch:    8] cost = 0.0154676111\n",
      "[Epoch:    9] cost = 0.0128467595\n",
      "[Epoch:   10] cost = 0.0132595785\n",
      "[Epoch:   11] cost = 0.010218841\n",
      "[Epoch:   12] cost = 0.0100592244\n"
     ]
    }
   ],
   "source": [
    "for epoch in range(training_epochs) : \n",
    "    avg_cost = 0\n",
    "    \n",
    "    # 미니 배치 단위로 꺼내온다. (X는 미니배치, Y는 레이블)\n",
    "    for X, Y in data_loader : \n",
    "        # 이미지는 28x28 사이즈, no reshape\n",
    "        # 레이블은 원-핫 인코딩됨\n",
    "        X = X.to(device)\n",
    "        Y = Y.to(device)\n",
    "        \n",
    "        optimizer.zero_grad()\n",
    "        hypothesis = model(X)\n",
    "        cost = criterion(hypothesis, Y)\n",
    "        cost.backward()\n",
    "        optimizer.step()\n",
    "        \n",
    "        avg_cost += cost / total_batch\n",
    "        \n",
    "    print('[Epoch: {:>4}] cost = {:>.9}'.format(epoch+1, avg_cost))"
   ]
  },
  {
   "cell_type": "markdown",
   "id": "3eb34180-4913-42f2-9bce-b45952aa78b1",
   "metadata": {},
   "source": [
    "테스트"
   ]
  },
  {
   "cell_type": "code",
   "execution_count": null,
   "id": "ae7ad135-a8a2-4c89-9444-52454544889e",
   "metadata": {},
   "outputs": [],
   "source": [
    "# 학습을 진행하지 않을 것이므로 \n",
    "with torch.no_grad() : \n",
    "    X_test = mnist_test.test_data.view(len(mnist_test), 1, 28, 28).float().to(device)\n",
    "    Y_test = mnist_test.test_labels.to(device)\n",
    "    \n",
    "    prediction = modle(X_test)\n",
    "    correct_prediction = torch.argmax(prediction, 1) == Y_test\n",
    "    accuracy = correct_prediction.float().mean()\n",
    "    print('Accuracy:', accuracy.item())"
   ]
  }
 ],
 "metadata": {
  "kernelspec": {
   "display_name": "Python 3 (ipykernel)",
   "language": "python",
   "name": "python3"
  },
  "language_info": {
   "codemirror_mode": {
    "name": "ipython",
    "version": 3
   },
   "file_extension": ".py",
   "mimetype": "text/x-python",
   "name": "python",
   "nbconvert_exporter": "python",
   "pygments_lexer": "ipython3",
   "version": "3.10.2"
  }
 },
 "nbformat": 4,
 "nbformat_minor": 5
}
