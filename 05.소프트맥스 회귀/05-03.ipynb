{
 "cells": [
  {
   "cell_type": "markdown",
   "id": "b2d0e63a-e108-4cae-90c1-6780c18c8b5d",
   "metadata": {},
   "source": [
    "### 3. 소프트맥스 회귀의 비용함수 구현하기"
   ]
  },
  {
   "cell_type": "code",
   "execution_count": 1,
   "id": "5243318d-e64f-498c-b831-07e49f1b7a8e",
   "metadata": {},
   "outputs": [],
   "source": [
    "import torch\n",
    "import torch.nn.functional as F"
   ]
  },
  {
   "cell_type": "code",
   "execution_count": 2,
   "id": "8e5ed9c7-b51d-4efb-877d-43922ea09734",
   "metadata": {},
   "outputs": [
    {
     "data": {
      "text/plain": [
       "<torch._C.Generator at 0x16f0c4c7210>"
      ]
     },
     "execution_count": 2,
     "metadata": {},
     "output_type": "execute_result"
    }
   ],
   "source": [
    "torch.manual_seed(1)"
   ]
  },
  {
   "cell_type": "markdown",
   "id": "a395dd2d-d7b6-4d93-974a-a0c51318fd1f",
   "metadata": {},
   "source": [
    "#### 1. 파이토치로 소프트맥스의 비용 함수 구현하기(로우-레벨)\n",
    "- 3개의 원소를 가진 벡터 텐서를 정의하고, 이 텐서를 통해 소프트맥스 함수를 이해\n",
    "- 이 텐서를 소프트맥스 함수의 입력으로 사용하고 그 결과를 확인"
   ]
  },
  {
   "cell_type": "code",
   "execution_count": 30,
   "id": "fbbed146-fd7d-4811-96f5-4277747b7d21",
   "metadata": {},
   "outputs": [],
   "source": [
    "# 이 텐서를 소프트맥스 함수의 입력으로 사용하고 그 결과를 확인\n",
    "z = torch.FloatTensor([1, 2, 3])"
   ]
  },
  {
   "cell_type": "code",
   "execution_count": 31,
   "id": "17084f73-e29d-477b-b783-5164a3bb6f97",
   "metadata": {},
   "outputs": [
    {
     "name": "stdout",
     "output_type": "stream",
     "text": [
      "tensor([0.0900, 0.2447, 0.6652])\n"
     ]
    }
   ],
   "source": [
    "hypothesis = F.softmax(z, dim=0)\n",
    "print(hypothesis)"
   ]
  },
  {
   "cell_type": "code",
   "execution_count": 32,
   "id": "61d8e1c1-74f1-4c58-9cf1-9395b0cb3fdb",
   "metadata": {},
   "outputs": [
    {
     "data": {
      "text/plain": [
       "tensor(1.)"
      ]
     },
     "execution_count": 32,
     "metadata": {},
     "output_type": "execute_result"
    }
   ],
   "source": [
    "# 3개의 원소의 값이 0과 1사이의 값을 가지는 벡터로 변환\n",
    "# 이 원소들의 값의 합이 1인지 확인\n",
    "hypothesis.sum()"
   ]
  },
  {
   "cell_type": "code",
   "execution_count": 33,
   "id": "1aae1916-d11f-41e0-b2e6-f56a55882947",
   "metadata": {},
   "outputs": [],
   "source": [
    "# 비용함수를 직접 구현\n",
    "# 임의의 3x5 행렬의 크기를 가진 텐서를 만든다. \n",
    "z = torch.rand(3, 5, requires_grad=True)"
   ]
  },
  {
   "cell_type": "code",
   "execution_count": 34,
   "id": "1d86d02e-9c7c-4819-90e1-3e08d4ff1fb5",
   "metadata": {},
   "outputs": [
    {
     "name": "stdout",
     "output_type": "stream",
     "text": [
      "tensor([[0.1339, 0.2536, 0.2184, 0.1354, 0.2588],\n",
      "        [0.2428, 0.2792, 0.1354, 0.1651, 0.1775],\n",
      "        [0.2307, 0.1467, 0.1504, 0.2815, 0.1907]], grad_fn=<SoftmaxBackward0>)\n"
     ]
    }
   ],
   "source": [
    "# 이 텐서에 소프트맥스 함수를 적용\n",
    "# 각 샘플에 대해서 소프트맥스 함수를 적용하여야 하므로 두번째 차원에 대해서 소프트맥스 함수를 적용한다는 의미에서 dim=1 사용\n",
    "hypothesis = F.softmax(z, dim=1)\n",
    "print(hypothesis)"
   ]
  },
  {
   "cell_type": "markdown",
   "id": "e2dbf5a1-ddf3-4dff-a1e6-b6e8d116deb6",
   "metadata": {},
   "source": [
    "- 각 행의 원소들의 합은 1이 되는 텐서로 변환\n",
    "- 소프트맥스 함수의 출력값은 결국 예측값으로 위 텐서는 3개의 샘플에 대해서 5개의 클래스 중 어떤 클래스가 정답인지를 예측한 결과"
   ]
  },
  {
   "cell_type": "code",
   "execution_count": 35,
   "id": "88aabd86-2222-4cd0-866e-4ccf73d53981",
   "metadata": {},
   "outputs": [
    {
     "name": "stdout",
     "output_type": "stream",
     "text": [
      "tensor([0, 2, 2])\n"
     ]
    }
   ],
   "source": [
    "# 각 샘플에 대해서 임의의 레이블 만들기\n",
    "y = torch.randint(5, (3,)).long()\n",
    "print(y)"
   ]
  },
  {
   "cell_type": "code",
   "execution_count": 36,
   "id": "7c6725f5-4a26-4f63-8914-379c40f6dce5",
   "metadata": {},
   "outputs": [
    {
     "data": {
      "text/plain": [
       "tensor([[1., 0., 0., 0., 0.],\n",
       "        [0., 0., 1., 0., 0.],\n",
       "        [0., 0., 1., 0., 0.]])"
      ]
     },
     "execution_count": 36,
     "metadata": {},
     "output_type": "execute_result"
    }
   ],
   "source": [
    "# 각 레이블에 대해서 원-핫 인코딩을 수행\n",
    "# 모든 원소가 0의 값을 가진 3x5 텐서 생성\n",
    "y_one_hot = torch.zeros_like(hypothesis)\n",
    "y_one_hot.scatter_(1, y.unsqueeze(1), 1)"
   ]
  },
  {
   "cell_type": "markdown",
   "id": "475f41e6-8c52-4c8c-8658-e8bdd73bd787",
   "metadata": {},
   "source": [
    "- 위의 연산이 어떻게 원-핫 인코딩이 수행 ?\n",
    "    - torch.zeros_like(hypothesis) : 모든 원소가 0의 값을 가진 3x5 텐서를 만든다.\n",
    "    - 이 텐서는 y_one_hot에 저장이 된 상태\n",
    "    - y.unsqueeze(1) : (3,)의 크기를 가졌던 y텐서는 (3x1) 텐서가 된다. (print(y.unsqueeze(1)))\n",
    "    - scatter의 첫번째 인자로 dim=1에 대해서 수행하라고 알려주고, 세번째 인자에 숫자 1을 넣어주므로서 두번째 인자인 y_unsqueeze(1)이 알려주는 위치에 숫자 1을 넣도록 한다. \n",
    "    - 연산 뒤에 _를 붙이면 in-place operation(덮어쓰기 연산)을 수행한다.\n",
    "                                                        "
   ]
  },
  {
   "cell_type": "code",
   "execution_count": 37,
   "id": "fab8f4ff-60e3-45fe-a4a4-477ee13ed033",
   "metadata": {},
   "outputs": [
    {
     "name": "stdout",
     "output_type": "stream",
     "text": [
      "tensor([[1., 0., 0., 0., 0.],\n",
      "        [0., 0., 1., 0., 0.],\n",
      "        [0., 0., 1., 0., 0.]])\n"
     ]
    }
   ],
   "source": [
    "# 최종 결과\n",
    "print(y_one_hot)"
   ]
  },
  {
   "cell_type": "code",
   "execution_count": 39,
   "id": "9f44d7b7-26ef-49bd-b26d-13b112110672",
   "metadata": {},
   "outputs": [
    {
     "data": {
      "image/png": "[encoded data removed]",
      "text/plain": [
       "<IPython.core.display.Image object>"
      ]
     },
     "execution_count": 39,
     "metadata": {},
     "output_type": "execute_result"
    }
   ],
   "source": [
    "from IPython.display import Image\n",
    "Image(\"cross2.PNG\")"
   ]
  },
  {
   "cell_type": "code",
   "execution_count": 41,
   "id": "458652f7-3436-44c9-a365-8a14e9cc6195",
   "metadata": {},
   "outputs": [
    {
     "name": "stdout",
     "output_type": "stream",
     "text": [
      "tensor(1.9681, grad_fn=<MeanBackward0>)\n"
     ]
    }
   ],
   "source": [
    "# 비용함수 구현\n",
    "# sum은 sum(dim=1), 평균은 mean()으로 구현\n",
    "cost = (y_one_hot * -torch.log(hypothesis)).sum(dim=1).mean()\n",
    "print(cost)"
   ]
  },
  {
   "cell_type": "markdown",
   "id": "14dac758-9974-4260-a988-4a60ddaa5d7b",
   "metadata": {},
   "source": [
    "---------------------------------------------------------------------------------------------------------"
   ]
  },
  {
   "cell_type": "markdown",
   "id": "e8ffbcd8-c40a-4776-9151-a28b50c59b63",
   "metadata": {},
   "source": [
    "#### 2. 파이토치로 소프트맥스 비용함수 구현하기(하이-레벨)"
   ]
  },
  {
   "cell_type": "markdown",
   "id": "e812c371-d493-42b2-bde6-db963e0ac4b0",
   "metadata": {},
   "source": [
    "##### 1. F.softmax() + torch.log() = F.log_softmax()\n",
    "- 앞서 소프트맥스 함수의 결과에 로그를 씌울 때는 다음과 같이 소프트맥스 함수의 출력값을 로그 함수의 입력으로 사용했다. "
   ]
  },
  {
   "cell_type": "code",
   "execution_count": 44,
   "id": "2fb83667-f131-456e-8b60-cca3f4d5f54a",
   "metadata": {},
   "outputs": [
    {
     "data": {
      "text/plain": [
       "tensor([[-2.0104, -1.3722, -1.5215, -1.9999, -1.3519],\n",
       "        [-1.4156, -1.2757, -1.9994, -1.8014, -1.7288],\n",
       "        [-1.4667, -1.9192, -1.8945, -1.2677, -1.6570]], grad_fn=<LogBackward0>)"
      ]
     },
     "execution_count": 44,
     "metadata": {},
     "output_type": "execute_result"
    }
   ],
   "source": [
    "# low level\n",
    "torch.log(F.softmax(z, dim=1))"
   ]
  },
  {
   "cell_type": "markdown",
   "id": "6d46679b-75c5-47f8-ab0b-a3536ee9c7cd",
   "metadata": {},
   "source": [
    "파이토치에서는 두 개의 함수를 결합한 **F.log_softmax()** 라는 도구 제공"
   ]
  },
  {
   "cell_type": "code",
   "execution_count": 46,
   "id": "b0c10bf7-ed3c-4586-a92d-931c53c31fcf",
   "metadata": {},
   "outputs": [
    {
     "data": {
      "text/plain": [
       "tensor([[-2.0104, -1.3722, -1.5215, -1.9999, -1.3519],\n",
       "        [-1.4156, -1.2757, -1.9994, -1.8014, -1.7288],\n",
       "        [-1.4667, -1.9192, -1.8945, -1.2677, -1.6570]],\n",
       "       grad_fn=<LogSoftmaxBackward0>)"
      ]
     },
     "execution_count": 46,
     "metadata": {},
     "output_type": "execute_result"
    }
   ],
   "source": [
    "# High level\n",
    "F.log_softmax(z, dim=1)"
   ]
  },
  {
   "cell_type": "markdown",
   "id": "c41acc4d-41f5-48eb-ad45-ba6e7fa4114c",
   "metadata": {},
   "source": [
    "##### 2. F.log_softmax(m) + F.nll_loss9) = F.cross_entropy()"
   ]
  },
  {
   "cell_type": "code",
   "execution_count": 48,
   "id": "8d736c45-9e77-4c27-8b41-764967a5e001",
   "metadata": {},
   "outputs": [
    {
     "data": {
      "text/plain": [
       "tensor(1.9681, grad_fn=<MeanBackward0>)"
      ]
     },
     "execution_count": 48,
     "metadata": {},
     "output_type": "execute_result"
    }
   ],
   "source": [
    "# low level\n",
    "# 첫번째 수식\n",
    "(y_one_hot * -torch.log(F.softmax(z, dim=1))).sum(dim=1).mean()"
   ]
  },
  {
   "cell_type": "markdown",
   "id": "b8f42498-28e0-4f1f-8e95-d1e24dd197bd",
   "metadata": {},
   "source": [
    "torch.log(F.softmax(z, dim=1))을 F.log_softmax()로 대체"
   ]
  },
  {
   "cell_type": "code",
   "execution_count": 49,
   "id": "9a988c92-cda0-4140-90f7-f914219be37c",
   "metadata": {},
   "outputs": [
    {
     "data": {
      "text/plain": [
       "tensor(1.9681, grad_fn=<MeanBackward0>)"
      ]
     },
     "execution_count": 49,
     "metadata": {},
     "output_type": "execute_result"
    }
   ],
   "source": [
    "# 두번째 수식\n",
    "(y_one_hot * -F.log_softmax(z, dim=1)).sum(dim=1).mean()"
   ]
  },
  {
   "cell_type": "code",
   "execution_count": 50,
   "id": "4e11a4b2-ac4a-4185-8ead-f6dcb5f7a3e2",
   "metadata": {},
   "outputs": [
    {
     "data": {
      "text/plain": [
       "tensor(1.9681, grad_fn=<NllLossBackward0>)"
      ]
     },
     "execution_count": 50,
     "metadata": {},
     "output_type": "execute_result"
    }
   ],
   "source": [
    "# High level\n",
    "# 세번째 수식\n",
    "F.nll_loss(F.log_softmax(z, dim=1), y)"
   ]
  },
  {
   "cell_type": "markdown",
   "id": "7dca1b28-44f9-4b68-bafa-f879ee987b31",
   "metadata": {},
   "source": [
    "- nll : Negative Log Likelihood의 약자로, nll_loss는 F.log_softmax()를 수행한 후에 남은 수식들을 수행한다. \n",
    "- 이를 더 간단하게 하면 다음과 같이 사용할 수 있다. \n",
    "- F.cross_entropy() : F.log_softmax()와 F.nll_loss()를 포함하고 있다."
   ]
  },
  {
   "cell_type": "code",
   "execution_count": 51,
   "id": "73dd6a2a-fe35-45ee-8660-0d29f254d685",
   "metadata": {},
   "outputs": [
    {
     "data": {
      "text/plain": [
       "tensor(1.9681, grad_fn=<NllLossBackward0>)"
      ]
     },
     "execution_count": 51,
     "metadata": {},
     "output_type": "execute_result"
    }
   ],
   "source": [
    "# 네번째 수식\n",
    "F.cross_entropy(z, y)"
   ]
  },
  {
   "cell_type": "markdown",
   "id": "2d36ee60-c5a2-4725-957c-46a854725761",
   "metadata": {},
   "source": [
    "**F.cross_entropy는 비용 함수에 소프트맥스 함수까지 포함하고 있음을 기억하고 있어야 구현 시 혼동하지 않는다.**"
   ]
  }
 ],
 "metadata": {
  "kernelspec": {
   "display_name": "Python 3 (ipykernel)",
   "language": "python",
   "name": "python3"
  },
  "language_info": {
   "codemirror_mode": {
    "name": "ipython",
    "version": 3
   },
   "file_extension": ".py",
   "mimetype": "text/x-python",
   "name": "python",
   "nbconvert_exporter": "python",
   "pygments_lexer": "ipython3",
   "version": "3.10.2"
  }
 },
 "nbformat": 4,
 "nbformat_minor": 5
}
