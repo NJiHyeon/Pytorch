{
 "cells": [
  {
   "cell_type": "markdown",
   "id": "421b0b4c-9032-498c-9e6a-68d515105d29",
   "metadata": {},
   "source": [
    "#### 🔎 4.2.1 그래디언트 텐서"
   ]
  },
  {
   "cell_type": "markdown",
   "id": "2a655c35-b352-40e3-aa67-1e7ed56e0aa2",
   "metadata": {},
   "source": [
    "- `requires_grad=True` \n",
    "    - 변수를 만들 때, 위와 같이 입력하면 해당 텐서를 기준으로 모든 연산들을 추적하여 **그래디언트** 라고 하는 미분값의 모임(배열) 계산할 수 있게 한다."
   ]
  },
  {
   "cell_type": "code",
   "execution_count": 16,
   "id": "86b4389d-55f6-40cb-b995-53a09ac9ea03",
   "metadata": {},
   "outputs": [
    {
     "name": "stdout",
     "output_type": "stream",
     "text": [
      "Result:  tensor(8., grad_fn=<MeanBackward0>)\n"
     ]
    }
   ],
   "source": [
    "import torch\n",
    "x = torch.ones(2, 2, requires_grad=True)\n",
    "y = x+1\n",
    "z = 2*y**2\n",
    "r = z.mean()\n",
    "print(\"Result: \", r)"
   ]
  },
  {
   "cell_type": "code",
   "execution_count": 17,
   "id": "cdc1a0eb-9828-40ce-ae82-66d300bb99d0",
   "metadata": {},
   "outputs": [
    {
     "name": "stdout",
     "output_type": "stream",
     "text": [
      "tensor([[2., 2.],\n",
      "        [2., 2.]])\n"
     ]
    }
   ],
   "source": [
    "r.backward()\n",
    "print(x.grad)"
   ]
  },
  {
   "cell_type": "code",
   "execution_count": 19,
   "id": "6aa06f25-daec-4f33-81cc-297fa2f92c01",
   "metadata": {},
   "outputs": [
    {
     "name": "stdout",
     "output_type": "stream",
     "text": [
      "None\n",
      "None\n",
      "None\n"
     ]
    }
   ],
   "source": [
    "print(y.grad)\n",
    "print(z.grad)\n",
    "print(r.grad)"
   ]
  },
  {
   "cell_type": "markdown",
   "id": "1f6f4182-47a2-479a-b752-7c58a0dce845",
   "metadata": {},
   "source": [
    "--------------------------------------------------------------------------------------------------"
   ]
  },
  {
   "cell_type": "markdown",
   "id": "ded01958-5e74-4a39-a566-195acd291ce5",
   "metadata": {},
   "source": [
    "#### 🔎 4.2.2 자동 미분 - 선형회귀식"
   ]
  },
  {
   "cell_type": "markdown",
   "id": "86be0339-1ded-4ab6-8d82-64e8dea6571f",
   "metadata": {},
   "source": [
    "- `requires_grad = True` \n",
    "     - 텐서 변수에 넣어주면 이 변수 업데이트 하도록\n",
    "    - 데이터(x, y) 변수를 만들 때는 넣지 않는다.\n",
    "- `with torch.no_grad() :` \n",
    "    - 이 구문 내부에 있는 requires_grad가 작동하지 않도록\n",
    "    - eval, test를 할 때 사용"
   ]
  },
  {
   "cell_type": "code",
   "execution_count": 24,
   "id": "3a7ca8a7-bbc4-43a1-a3dd-ddb9ad75f848",
   "metadata": {},
   "outputs": [],
   "source": [
    "import torch\n",
    "from matplotlib import pyplot as plt\n",
    "# x, y는 업데이트 되는 값이 아니므로 requires_grad 넣지 않는다.\n",
    "x = torch.FloatTensor(range(5)).unsqueeze(1)\n",
    "y = 2*x + torch.rand(5, 1)\n",
    "num_features = x.shape[1]"
   ]
  },
  {
   "cell_type": "code",
   "execution_count": 29,
   "id": "9b09062d-c71c-4e31-8b74-d4b3bc8712b7",
   "metadata": {},
   "outputs": [],
   "source": [
    "w = torch.randn(num_features, 1, requires_grad = True) # [1, 1]\n",
    "b = torch.randn(1, requires_grad = True) # [1]"
   ]
  },
  {
   "cell_type": "code",
   "execution_count": 36,
   "id": "8e9666ed-7c03-48bd-a2fd-af0e940a9813",
   "metadata": {},
   "outputs": [],
   "source": [
    "learning_rate = 1e-3\n",
    "optimizer = torch.optim.SGD([w, b], lr = learning_rate)"
   ]
  },
  {
   "cell_type": "code",
   "execution_count": 37,
   "id": "9631447c-3368-4005-a220-4428377d10e0",
   "metadata": {},
   "outputs": [],
   "source": [
    "# 매 에폭마다 손실함수값을 저장하기 위해 빈 리스트 \n",
    "loss_stack = [] \n",
    "for epoch in range(1001) :\n",
    "    optimizer.zero_grad()\n",
    "    y_hat = torch.matmul(x, w) + b\n",
    "    # loss function으로는 MSE 사용\n",
    "    loss = torch.mean((y_hat-y)**2)\n",
    "    loss.backward()\n",
    "    optimizer.step()\n",
    "    # 그래프를 그리기 위해 손실 함수값만 loss_stack에 넣는다.\n",
    "    # item()을 사용하지 않으면 loss 텐서 전체를 저장하게 된다. \n",
    "    loss_stack.append(loss.item())"
   ]
  },
  {
   "cell_type": "code",
   "execution_count": 39,
   "id": "c0663871-ed46-4fe4-88a6-458b5b695f35",
   "metadata": {},
   "outputs": [
    {
     "data": {
      "image/png": "[encoded data removed]",
      "text/plain": [
       "<Figure size 720x360 with 2 Axes>"
      ]
     },
     "metadata": {
      "needs_background": "light"
     },
     "output_type": "display_data"
    }
   ],
   "source": [
    "# 예측은 업데이트/최적화를 사용하지 않으므로 requires_grad를 비활성화\n",
    "with torch.no_grad() :\n",
    "    y_hat = torch.matmul(x, w) + b\n",
    "    plt.figure(figsize=(10, 5))\n",
    "    plt.subplot(121)\n",
    "    plt.plot(loss_stack)\n",
    "    plt.title(\"Loss\")\n",
    "    \n",
    "    plt.title(\"Loss\")\n",
    "    plt.subplot(122)\n",
    "    plt.plot(x, y, '.b')\n",
    "    plt.plot(x, y_hat, 'r-')\n",
    "    plt.legend(['ground truth', 'prediction'])\n",
    "    plt.title(\"Prediction\")\n",
    "    plt.show()"
   ]
  }
 ],
 "metadata": {
  "kernelspec": {
   "display_name": "Python 3 (ipykernel)",
   "language": "python",
   "name": "python3"
  },
  "language_info": {
   "codemirror_mode": {
    "name": "ipython",
    "version": 3
   },
   "file_extension": ".py",
   "mimetype": "text/x-python",
   "name": "python",
   "nbconvert_exporter": "python",
   "pygments_lexer": "ipython3",
   "version": "3.10.2"
  }
 },
 "nbformat": 4,
 "nbformat_minor": 5
}
