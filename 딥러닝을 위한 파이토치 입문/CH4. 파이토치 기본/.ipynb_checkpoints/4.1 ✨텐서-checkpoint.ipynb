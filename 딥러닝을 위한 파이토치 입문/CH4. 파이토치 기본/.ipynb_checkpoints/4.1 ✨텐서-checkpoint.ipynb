{
 "cells": [
  {
   "cell_type": "markdown",
   "id": "74c0580d-5d57-43c6-8ac2-84d6802115d9",
   "metadata": {},
   "source": [
    "#### 🔎 4.1.1 여러 가지 텐서"
   ]
  },
  {
   "cell_type": "markdown",
   "id": "c1ace06d-f547-40ec-a289-21924d461b37",
   "metadata": {},
   "source": [
    "- 주어진 값을 가지는 텐서 생성\n",
    "    - `torch.empty(크기)`\n",
    "    - `torch.ones(크기)` : 주어진 사이즈의 1로 이루어진 텐서 생성\n",
    "        - `torch.ones_like()` : 사이즈를 튜플로 입력하지 않고 기존의 텐서로 정의\n",
    "    - `torch.zeros(크기)` : 주어진 사이즈의 0으로 이루어진 텐서 생성\n",
    "        - `torch.zeros_like()` : 사이즈를 튜플로 입력하지 않고 기존의 텐서로 정의\n",
    "    - `torch.arange(크기)` : 주어진 범위 내의 정수를 순서대로 생성\n",
    "    - `torch.linspace()` : 시작점과 끝점을 주어진 갯수만큼 균등하게 나눈 간격점을 행벡터로 출력\n",
    "\n",
    "- 랜덤한 값을 가지는 텐서 생성\n",
    "    - `torch.rand(크기)` : 0과 1 사이의 숫자를 균등하게 생성\n",
    "        - `torch.rand_like(크기)` : 사이즈를 튜플로 입력하지 않고 기존의 텐서로 정의\n",
    "    - 'torch.randn(크기)` : 평균이 0이고 표준편차가 1인 가우시안 정규분포를 이용해 생성\n",
    "        - `torch.randn_like()` :  사이즈를 튜플로 입력하지 않고 기존의 텐서로 정의\n",
    "    - `torch.randint()` : 주어진 범위 내의 정수를 균등하게 생성, 자료형은 torch.float32\n",
    "        - `torch.randint_like()` : 사이즈를 튜플로 입력하지 않고 기존의 텐서로 정의\n",
    "    - `torch.randperm()` : 주어진 범위 내의 정수를 랜덤하게 생성"
   ]
  },
  {
   "cell_type": "code",
   "execution_count": 1,
   "id": "86940cb5-637c-4289-a9e1-7793a362d164",
   "metadata": {},
   "outputs": [
    {
     "name": "stdout",
     "output_type": "stream",
     "text": [
      "tensor([[7.9452e+08, 3.2604e-12, 7.4086e+28, 6.9397e+22],\n",
      "        [1.7260e+25, 2.2856e+20, 3.2607e-12, 1.4583e-19],\n",
      "        [1.0899e+27, 6.8943e+34, 1.6212e-19, 3.0881e+29],\n",
      "        [6.3828e+28, 1.4603e-19, 1.8888e+31, 4.9656e+28],\n",
      "        [7.9463e+08, 5.0944e-14, 6.3828e+28, 3.8016e-39]])\n"
     ]
    }
   ],
   "source": [
    "import torch\n",
    "import numpy as np\n",
    "\n",
    "# empty를 해도 초기화되지 않은 행렬인 경우 해당 시점에 할당된 메모리에 존재하던 값들이 초깃값으로 나타난다. \n",
    "x = torch.empty(5, 4)\n",
    "print(x)"
   ]
  },
  {
   "cell_type": "code",
   "execution_count": 2,
   "id": "64e778c1-9468-4d2a-a484-682e19ff42dc",
   "metadata": {},
   "outputs": [
    {
     "name": "stdout",
     "output_type": "stream",
     "text": [
      "tensor([[1., 1., 1.],\n",
      "        [1., 1., 1.],\n",
      "        [1., 1., 1.]])\n",
      "tensor([0., 0.])\n",
      "tensor([[0.1886, 0.6836, 0.2447, 0.6007, 0.7931, 0.1050],\n",
      "        [0.8082, 0.7970, 0.4788, 0.1299, 0.3825, 0.7846],\n",
      "        [0.4129, 0.1868, 0.0459, 0.5918, 0.3574, 0.4013],\n",
      "        [0.4235, 0.1121, 0.8781, 0.1931, 0.4079, 0.6287],\n",
      "        [0.7454, 0.8235, 0.8512, 0.6908, 0.0159, 0.8026]])\n"
     ]
    }
   ],
   "source": [
    "print(torch.ones(3, 3))\n",
    "print(torch.zeros(2))\n",
    "print(torch.rand(5, 6))"
   ]
  },
  {
   "cell_type": "markdown",
   "id": "d11c2c2a-e17c-45ef-b0fc-769ee49bf7b3",
   "metadata": {},
   "source": [
    "----------------------------------------------------------------------------------------------------"
   ]
  },
  {
   "cell_type": "markdown",
   "id": "98f184e6-abf8-4231-9f89-cc7123b6d7f4",
   "metadata": {},
   "source": [
    "#### 🔎 4.1.2 리스트, 넘파이 배열 -> 텐서"
   ]
  },
  {
   "cell_type": "markdown",
   "id": "0ab61879-d29e-476f-80d8-ac54a7b50e0d",
   "metadata": {},
   "source": [
    "- `torch.tensor(변수)`\n",
    "    - `torch.FloatTensor( )`\n",
    "    - `torch.LongTensor( )`"
   ]
  },
  {
   "cell_type": "code",
   "execution_count": 7,
   "id": "ad1e497d-4352-483e-9a46-0b7c3b28d864",
   "metadata": {},
   "outputs": [
    {
     "name": "stdout",
     "output_type": "stream",
     "text": [
      "tensor([13,  4])\n",
      "tensor([ 4, 56,  7], dtype=torch.int32)\n"
     ]
    }
   ],
   "source": [
    "# 리스트 생성\n",
    "l = [13, 4] \n",
    "# 넘파이 배열 생성\n",
    "r = np.array([4, 56, 7])\n",
    "\n",
    "print(torch.tensor(l))\n",
    "print(torch.tensor(r))"
   ]
  },
  {
   "cell_type": "markdown",
   "id": "996d4edb-5c69-4452-be10-810699cae294",
   "metadata": {},
   "source": [
    "----------------------------------------------------------------------------------------------------"
   ]
  },
  {
   "cell_type": "markdown",
   "id": "0045ce29-8935-4925-9808-8d3208752ba6",
   "metadata": {},
   "source": [
    "#### 🔎 4.1.3 텐서의 크기, 타입, 연산"
   ]
  },
  {
   "cell_type": "markdown",
   "id": "d28e5d6e-0df1-4328-939e-9af612aca31e",
   "metadata": {},
   "source": [
    "- `.size( )` : 텐서의 크기 확인\n",
    "    - `x.size( ).[1]`\n",
    "    - `x.size(1)`"
   ]
  },
  {
   "cell_type": "code",
   "execution_count": 9,
   "id": "4942b0eb-4799-43ea-8547-54719cd345f2",
   "metadata": {},
   "outputs": [
    {
     "name": "stdout",
     "output_type": "stream",
     "text": [
      "torch.Size([5, 4])\n",
      "4\n",
      "4\n"
     ]
    }
   ],
   "source": [
    "print(x.size())\n",
    "print(x.size()[1])\n",
    "print(x.size(1))"
   ]
  },
  {
   "cell_type": "markdown",
   "id": "a7c360ed-cb5d-46f7-a085-f02ec36bb20e",
   "metadata": {},
   "source": [
    "- `type(변수)` : 텐서의 타입 확인"
   ]
  },
  {
   "cell_type": "code",
   "execution_count": 10,
   "id": "c877e998-8129-4221-8e85-29572bcbd8ed",
   "metadata": {},
   "outputs": [
    {
     "data": {
      "text/plain": [
       "torch.Tensor"
      ]
     },
     "execution_count": 10,
     "metadata": {},
     "output_type": "execute_result"
    }
   ],
   "source": [
    "type(x)"
   ]
  },
  {
   "cell_type": "markdown",
   "id": "175f55bf-de52-4a13-8f85-98be63d31cfd",
   "metadata": {},
   "source": [
    "- 텐서의 사칙연산, 제곱, 몫 계산 등의 기본 연산은 넘파이와 동일\n",
    "    - `y.add_(x)`를 실행하면 y를 갱신하는 것 (In-place 방식)"
   ]
  },
  {
   "cell_type": "code",
   "execution_count": 14,
   "id": "2dbf386b-7614-421c-bac6-f9797ba7b8db",
   "metadata": {},
   "outputs": [
    {
     "name": "stdout",
     "output_type": "stream",
     "text": [
      "tensor([[1.5698, 1.0093],\n",
      "        [1.1627, 1.0430]])\n",
      "tensor([[1.5698, 1.0093],\n",
      "        [1.1627, 1.0430]])\n",
      "tensor([[1.5698, 1.0093],\n",
      "        [1.1627, 1.0430]])\n",
      "tensor([[1.5698, 1.0093],\n",
      "        [1.1627, 1.0430]])\n",
      "tensor([[1.5698, 1.0093],\n",
      "        [1.1627, 1.0430]])\n"
     ]
    }
   ],
   "source": [
    "x = torch.rand(2, 2)\n",
    "y = torch.rand(2, 2)\n",
    "\n",
    "print(x+y)\n",
    "print(torch.add(x, y))\n",
    "print(y.add(x))\n",
    "print(y.add_(x))\n",
    "print(y)"
   ]
  },
  {
   "cell_type": "markdown",
   "id": "8948e6a6-b1ed-4956-9148-c577d1d23f81",
   "metadata": {},
   "source": [
    "----------------------------------------------------------------------------------------------------"
   ]
  },
  {
   "cell_type": "markdown",
   "id": "696489b8-3b50-48b5-adf8-d7404adaa6fb",
   "metadata": {},
   "source": [
    "#### 🔎 4.1.4 텐서의 크기 변환"
   ]
  },
  {
   "cell_type": "markdown",
   "id": "aa0bb7bb-ad39-4898-b1a0-e2f2220814e6",
   "metadata": {},
   "source": [
    "- `.view(크기)`"
   ]
  },
  {
   "cell_type": "code",
   "execution_count": 17,
   "id": "3071380c-f216-48ad-9ce1-4108a0c8fd4d",
   "metadata": {},
   "outputs": [
    {
     "name": "stdout",
     "output_type": "stream",
     "text": [
      "torch.Size([8, 8])\n"
     ]
    }
   ],
   "source": [
    "x = torch.rand(8, 8)\n",
    "print(x.size())"
   ]
  },
  {
   "cell_type": "code",
   "execution_count": 18,
   "id": "c4a79ec9-aeb5-4d33-994f-705c735fa869",
   "metadata": {},
   "outputs": [
    {
     "name": "stdout",
     "output_type": "stream",
     "text": [
      "torch.Size([64])\n",
      "torch.Size([4, 4, 4])\n"
     ]
    }
   ],
   "source": [
    "a = x.view(64)\n",
    "print(a.size())\n",
    "\n",
    "b = x.view(-1, 4, 4)\n",
    "print(b.size())"
   ]
  },
  {
   "cell_type": "markdown",
   "id": "3e17d13c-7fb4-4360-b294-92966af1e6ce",
   "metadata": {},
   "source": [
    "----------------------------------------------------------------------------------------------------"
   ]
  },
  {
   "cell_type": "markdown",
   "id": "e4165b3c-fd5a-4ae7-acb2-c3509a7e09ef",
   "metadata": {},
   "source": [
    "#### 🔎 4.1.5 텐서 -> 넘파이 배열"
   ]
  },
  {
   "cell_type": "markdown",
   "id": "6a318070-daaa-46c0-a5e5-b34e29d792e7",
   "metadata": {},
   "source": [
    "- `변수.numpy()`"
   ]
  },
  {
   "cell_type": "code",
   "execution_count": 20,
   "id": "bf2e612b-4344-4173-aa41-8fc8f24c84c2",
   "metadata": {},
   "outputs": [
    {
     "data": {
      "text/plain": [
       "numpy.ndarray"
      ]
     },
     "execution_count": 20,
     "metadata": {},
     "output_type": "execute_result"
    }
   ],
   "source": [
    "x = torch.rand(8, 8)\n",
    "y = x.numpy()\n",
    "type(y)"
   ]
  },
  {
   "cell_type": "markdown",
   "id": "20c9ae4a-8c14-4f3e-b0bf-c364c283f915",
   "metadata": {},
   "source": [
    "----------------------------------------------------------------------------------------------------"
   ]
  },
  {
   "cell_type": "markdown",
   "id": "a05a89ca-6159-45a2-880d-43691c64cfff",
   "metadata": {},
   "source": [
    "#### 🔎 4.1.6 단일 텐서 -> 값"
   ]
  },
  {
   "cell_type": "markdown",
   "id": "3bafd1cc-d6bd-4a34-a063-bf2cf100b99e",
   "metadata": {},
   "source": [
    "- `변수.item()` \n",
    "    - 손실 함수값과 같이 숫자가 하나인 텐서를 텐서가 아닌 값으로 만들어준다."
   ]
  },
  {
   "cell_type": "code",
   "execution_count": 22,
   "id": "6b8c41fc-c61b-40de-96bf-18bca9ff455d",
   "metadata": {},
   "outputs": [
    {
     "name": "stdout",
     "output_type": "stream",
     "text": [
      "1.0\n"
     ]
    }
   ],
   "source": [
    "x = torch.ones(1)\n",
    "print(x.item())"
   ]
  }
 ],
 "metadata": {
  "kernelspec": {
   "display_name": "Python 3 (ipykernel)",
   "language": "python",
   "name": "python3"
  },
  "language_info": {
   "codemirror_mode": {
    "name": "ipython",
    "version": 3
   },
   "file_extension": ".py",
   "mimetype": "text/x-python",
   "name": "python",
   "nbconvert_exporter": "python",
   "pygments_lexer": "ipython3",
   "version": "3.10.2"
  }
 },
 "nbformat": 4,
 "nbformat_minor": 5
}
