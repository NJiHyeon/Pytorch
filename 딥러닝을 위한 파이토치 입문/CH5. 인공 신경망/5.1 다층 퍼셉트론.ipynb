{
 "cells": [
  {
   "cell_type": "markdown",
   "id": "ca7d39ae-50a6-4c01-9ef1-df7af778b2f3",
   "metadata": {},
   "source": [
    "#### 🔎 5.1.1 선형회귀(단층 퍼셉트론)"
   ]
  },
  {
   "cell_type": "markdown",
   "id": "dcd77696-175f-46da-b478-c445a6795154",
   "metadata": {},
   "source": [
    "- `unsqueeze()` : 차원을 하나 늘려줄 때"
   ]
  },
  {
   "cell_type": "code",
   "execution_count": 1,
   "id": "fea70dbb-3146-4469-a48d-61091f14acd0",
   "metadata": {},
   "outputs": [],
   "source": [
    "import torch\n",
    "import torch.nn as nn\n",
    "from matplotlib import pyplot as plt"
   ]
  },
  {
   "cell_type": "code",
   "execution_count": 2,
   "id": "573ebc8b-7ec6-464d-92cf-0c3be71d2069",
   "metadata": {},
   "outputs": [],
   "source": [
    "x = torch.FloatTensor(range(5)).unsqueeze(1)\n",
    "y = 2*x + torch.randn(5, 1)"
   ]
  },
  {
   "cell_type": "markdown",
   "id": "52102b06-6d28-4493-83ef-617371dd3871",
   "metadata": {},
   "source": [
    "- `nn.Module`을 상속받는 클래스 `LinearRegressor` 만들기\n",
    "- `__init__`, `super().__init__()` : 초기 세팅에 필요한 내용 입력\n",
    "- `nn.Linear(N, M, bias=True)`\n",
    "    - N : 입력 변수의 개수(x의 크기 1)\n",
    "    - M : 출력 변수의 개수(y의 크기1)\n",
    "- `forward` : 실제 입력값이 들어와 연산이 진행하는 순서와 방법을 정하는 곳"
   ]
  },
  {
   "cell_type": "code",
   "execution_count": 3,
   "id": "4cd5db92-5492-40f0-b6a3-bb58acfccebd",
   "metadata": {},
   "outputs": [],
   "source": [
    "class LinearRegressor(nn.Module) :\n",
    "    def __init__(self) :\n",
    "        super().__init__()\n",
    "        self.fc = nn.Linear(1, 1, bias=True)\n",
    "        \n",
    "    def forward(self, x) :\n",
    "        y = self.fc(x)\n",
    "        \n",
    "        return y"
   ]
  },
  {
   "cell_type": "markdown",
   "id": "89ff2bc8-0949-4799-a955-bd2c48aeb1a5",
   "metadata": {},
   "source": [
    "- 클래스가 완성 됐으면 `model` 선언\n",
    "- 손실함수 : MSE\n",
    "- 최적화 방법에 모델 파라미터를 넣어 줄 때는 `model.parameters()` 입력"
   ]
  },
  {
   "cell_type": "code",
   "execution_count": 4,
   "id": "7eef7a81-6889-4b31-bc86-e0c35052a72c",
   "metadata": {},
   "outputs": [],
   "source": [
    "model = LinearRegressor()\n",
    "learning_rate = 1e-3\n",
    "criterion = nn.MSELoss()\n",
    "optimizer = torch.optim.SGD(model.parameters(), lr=learning_rate)"
   ]
  },
  {
   "cell_type": "code",
   "execution_count": 5,
   "id": "957a6476-82a7-4cd9-a415-5418050f5985",
   "metadata": {},
   "outputs": [
    {
     "name": "stdout",
     "output_type": "stream",
     "text": [
      "Epoch 0:6.793081760406494\n",
      "Epoch 100:0.6982947587966919\n",
      "Epoch 200:0.2869405150413513\n",
      "Epoch 300:0.25816071033477783\n",
      "Epoch 400:0.25524789094924927\n",
      "Epoch 500:0.25418558716773987\n",
      "Epoch 600:0.2533453404903412\n",
      "Epoch 700:0.2526065707206726\n",
      "Epoch 800:0.2519514262676239\n",
      "Epoch 900:0.25137001276016235\n",
      "Epoch 1000:0.25085389614105225\n"
     ]
    }
   ],
   "source": [
    "loss_stack = [] # loss값 저장할 공간\n",
    "for epoch in range(1001) :\n",
    "    optimizer.zero_grad() # 옵티마이저 0으로 초기화\n",
    "    y_hat = model(x) # x값으로 모델 예측\n",
    "    loss = criterion(y_hat, y) # 손실값 계산\n",
    "    loss.backward() # 역전파 계산\n",
    "    optimizer.step() # 최적화(업데이트)\n",
    "    loss_stack.append(loss.item()) # loss값 저장\n",
    "    if epoch % 100 == 0 :\n",
    "        print(f'Epoch {epoch}:{loss.item()}')"
   ]
  },
  {
   "cell_type": "code",
   "execution_count": 6,
   "id": "64f5c794-3953-44cd-a80b-dd7507cadc4c",
   "metadata": {},
   "outputs": [],
   "source": [
    "# 예측할 때는 gradient 계산 필요 없으므로\n",
    "with torch.no_grad() :\n",
    "    y_hat = model(x)"
   ]
  },
  {
   "cell_type": "code",
   "execution_count": 7,
   "id": "92e1d28f-f581-4af7-9bc9-187fe36a4849",
   "metadata": {},
   "outputs": [
    {
     "data": {
      "image/png": "[encoded data removed]",
      "text/plain": [
       "<Figure size 720x360 with 2 Axes>"
      ]
     },
     "metadata": {
      "needs_background": "light"
     },
     "output_type": "display_data"
    }
   ],
   "source": [
    "# 그래프 그리기\n",
    "plt.figure(figsize=(10, 5))\n",
    "\n",
    "plt.subplot(121)\n",
    "plt.plot(loss_stack)\n",
    "plt.title(\"Loss\")\n",
    "\n",
    "plt.subplot(122)\n",
    "plt.plot(x, y, '.b')\n",
    "plt.plot(x, y_hat, 'r-')\n",
    "plt.legend(['ground truth', 'prediction'])\n",
    "plt.title(\"Prediction\")\n",
    "plt.show()"
   ]
  },
  {
   "cell_type": "markdown",
   "id": "8461fd35-1009-4158-91c5-99905d233dac",
   "metadata": {},
   "source": [
    "---------------------------------------------------------------------------------------------------"
   ]
  },
  {
   "cell_type": "markdown",
   "id": "0c59e783-e72d-408f-bb88-beddb92d844b",
   "metadata": {},
   "source": [
    "#### 🔎 5.1.2 집값 예측하기"
   ]
  },
  {
   "cell_type": "code",
   "execution_count": 10,
   "id": "321a6aef-52c7-4442-ba69-36840ac807a7",
   "metadata": {},
   "outputs": [],
   "source": [
    "import pandas as pd\n",
    "import numpy as np\n",
    "\n",
    "from sklearn.model_selection import train_test_split\n",
    "from sklearn.metrics import mean_squared_error\n",
    "\n",
    "import torch\n",
    "from torch import nn, optim\n",
    "import torch.nn.functional as F\n",
    "from torch.utils.data import DataLoader, Dataset\n",
    "\n",
    "import matplotlib.pyplot as plt"
   ]
  },
  {
   "cell_type": "markdown",
   "id": "5c225407-c3b6-44ba-8dca-d2101c1a9a3a",
   "metadata": {},
   "source": [
    "##### 💡 데이터 세트 만들기"
   ]
  },
  {
   "cell_type": "markdown",
   "id": "2ad15e98-eee2-43dc-8217-0fcc0776a85c",
   "metadata": {},
   "source": [
    "- 스케일링 된 집값 데이터를 read_csv를 통해 불러온다.\n",
    "    - 변수의 개수 : 13개\n",
    "    - 인스턴스 개수 : 506개\n",
    "- `index_col=[0]` \n",
    "    - csv 파일의 첫번째 열에 있는 데이터 인덱스를 배제하고 데이터 프레임 만들기"
   ]
  },
  {
   "cell_type": "code",
   "execution_count": 14,
   "id": "5ae18f02-fba4-4ae5-8744-76e940313e53",
   "metadata": {},
   "outputs": [
    {
     "data": {
      "text/html": [
       "<div>\n",
       "<style scoped>\n",
       "    .dataframe tbody tr th:only-of-type {\n",
       "        vertical-align: middle;\n",
       "    }\n",
       "\n",
       "    .dataframe tbody tr th {\n",
       "        vertical-align: top;\n",
       "    }\n",
       "\n",
       "    .dataframe thead th {\n",
       "        text-align: right;\n",
       "    }\n",
       "</style>\n",
       "<table border=\"1\" class=\"dataframe\">\n",
       "  <thead>\n",
       "    <tr style=\"text-align: right;\">\n",
       "      <th></th>\n",
       "      <th>x1</th>\n",
       "      <th>x2</th>\n",
       "      <th>x3</th>\n",
       "      <th>x4</th>\n",
       "      <th>x5</th>\n",
       "      <th>x6</th>\n",
       "      <th>x7</th>\n",
       "      <th>x8</th>\n",
       "      <th>x9</th>\n",
       "      <th>x10</th>\n",
       "      <th>x11</th>\n",
       "      <th>x12</th>\n",
       "      <th>x13</th>\n",
       "      <th>Price</th>\n",
       "    </tr>\n",
       "  </thead>\n",
       "  <tbody>\n",
       "    <tr>\n",
       "      <th>0</th>\n",
       "      <td>0.034633</td>\n",
       "      <td>0.206919</td>\n",
       "      <td>0.137057</td>\n",
       "      <td>0.540526</td>\n",
       "      <td>0.193941</td>\n",
       "      <td>0.699239</td>\n",
       "      <td>0.630532</td>\n",
       "      <td>0.239410</td>\n",
       "      <td>0.027375</td>\n",
       "      <td>0.209857</td>\n",
       "      <td>0.347609</td>\n",
       "      <td>0.996394</td>\n",
       "      <td>0.102644</td>\n",
       "      <td>0.422222</td>\n",
       "    </tr>\n",
       "    <tr>\n",
       "      <th>1</th>\n",
       "      <td>0.028920</td>\n",
       "      <td>0.014315</td>\n",
       "      <td>0.276113</td>\n",
       "      <td>0.255945</td>\n",
       "      <td>0.618886</td>\n",
       "      <td>0.555407</td>\n",
       "      <td>0.782263</td>\n",
       "      <td>0.482977</td>\n",
       "      <td>0.103031</td>\n",
       "      <td>0.106690</td>\n",
       "      <td>0.520776</td>\n",
       "      <td>0.996650</td>\n",
       "      <td>0.187120</td>\n",
       "      <td>0.368889</td>\n",
       "    </tr>\n",
       "    <tr>\n",
       "      <th>2</th>\n",
       "      <td>0.020627</td>\n",
       "      <td>0.033230</td>\n",
       "      <td>0.281116</td>\n",
       "      <td>0.525591</td>\n",
       "      <td>0.165269</td>\n",
       "      <td>0.624102</td>\n",
       "      <td>0.586005</td>\n",
       "      <td>0.272713</td>\n",
       "      <td>0.036010</td>\n",
       "      <td>0.106986</td>\n",
       "      <td>0.595301</td>\n",
       "      <td>0.983284</td>\n",
       "      <td>0.084079</td>\n",
       "      <td>0.660000</td>\n",
       "    </tr>\n",
       "    <tr>\n",
       "      <th>3</th>\n",
       "      <td>0.022749</td>\n",
       "      <td>0.033801</td>\n",
       "      <td>0.125044</td>\n",
       "      <td>0.263253</td>\n",
       "      <td>0.251509</td>\n",
       "      <td>0.658532</td>\n",
       "      <td>0.432160</td>\n",
       "      <td>0.344932</td>\n",
       "      <td>0.150018</td>\n",
       "      <td>0.068317</td>\n",
       "      <td>0.651297</td>\n",
       "      <td>0.989989</td>\n",
       "      <td>0.015990</td>\n",
       "      <td>0.631111</td>\n",
       "    </tr>\n",
       "    <tr>\n",
       "      <th>4</th>\n",
       "      <td>0.022148</td>\n",
       "      <td>0.029374</td>\n",
       "      <td>0.121057</td>\n",
       "      <td>0.521126</td>\n",
       "      <td>0.399670</td>\n",
       "      <td>0.448086</td>\n",
       "      <td>0.520158</td>\n",
       "      <td>0.495342</td>\n",
       "      <td>0.104383</td>\n",
       "      <td>0.069360</td>\n",
       "      <td>0.560116</td>\n",
       "      <td>0.998723</td>\n",
       "      <td>0.092782</td>\n",
       "      <td>0.693333</td>\n",
       "    </tr>\n",
       "    <tr>\n",
       "      <th>...</th>\n",
       "      <td>...</td>\n",
       "      <td>...</td>\n",
       "      <td>...</td>\n",
       "      <td>...</td>\n",
       "      <td>...</td>\n",
       "      <td>...</td>\n",
       "      <td>...</td>\n",
       "      <td>...</td>\n",
       "      <td>...</td>\n",
       "      <td>...</td>\n",
       "      <td>...</td>\n",
       "      <td>...</td>\n",
       "      <td>...</td>\n",
       "      <td>...</td>\n",
       "    </tr>\n",
       "    <tr>\n",
       "      <th>501</th>\n",
       "      <td>0.028702</td>\n",
       "      <td>0.019528</td>\n",
       "      <td>0.455716</td>\n",
       "      <td>0.097575</td>\n",
       "      <td>0.576859</td>\n",
       "      <td>0.588769</td>\n",
       "      <td>0.654701</td>\n",
       "      <td>0.188444</td>\n",
       "      <td>0.007595</td>\n",
       "      <td>0.165409</td>\n",
       "      <td>0.736795</td>\n",
       "      <td>0.982923</td>\n",
       "      <td>0.219891</td>\n",
       "      <td>0.386667</td>\n",
       "    </tr>\n",
       "    <tr>\n",
       "      <th>502</th>\n",
       "      <td>0.034217</td>\n",
       "      <td>0.009498</td>\n",
       "      <td>0.490485</td>\n",
       "      <td>0.372934</td>\n",
       "      <td>0.532351</td>\n",
       "      <td>0.580505</td>\n",
       "      <td>0.750547</td>\n",
       "      <td>0.143776</td>\n",
       "      <td>0.051186</td>\n",
       "      <td>0.166428</td>\n",
       "      <td>0.867950</td>\n",
       "      <td>0.995114</td>\n",
       "      <td>0.207453</td>\n",
       "      <td>0.346667</td>\n",
       "    </tr>\n",
       "    <tr>\n",
       "      <th>503</th>\n",
       "      <td>0.035352</td>\n",
       "      <td>0.021495</td>\n",
       "      <td>0.423918</td>\n",
       "      <td>0.397988</td>\n",
       "      <td>0.349407</td>\n",
       "      <td>0.610529</td>\n",
       "      <td>0.907637</td>\n",
       "      <td>0.087385</td>\n",
       "      <td>0.083448</td>\n",
       "      <td>0.164870</td>\n",
       "      <td>0.782704</td>\n",
       "      <td>0.995791</td>\n",
       "      <td>0.094044</td>\n",
       "      <td>0.420000</td>\n",
       "    </tr>\n",
       "    <tr>\n",
       "      <th>504</th>\n",
       "      <td>0.026182</td>\n",
       "      <td>0.028603</td>\n",
       "      <td>0.443442</td>\n",
       "      <td>0.509663</td>\n",
       "      <td>0.229142</td>\n",
       "      <td>0.667841</td>\n",
       "      <td>0.867135</td>\n",
       "      <td>0.236241</td>\n",
       "      <td>0.016177</td>\n",
       "      <td>0.167554</td>\n",
       "      <td>0.749186</td>\n",
       "      <td>0.986855</td>\n",
       "      <td>0.107399</td>\n",
       "      <td>0.377778</td>\n",
       "    </tr>\n",
       "    <tr>\n",
       "      <th>505</th>\n",
       "      <td>0.045519</td>\n",
       "      <td>0.029289</td>\n",
       "      <td>0.446156</td>\n",
       "      <td>0.499371</td>\n",
       "      <td>0.239768</td>\n",
       "      <td>0.379320</td>\n",
       "      <td>0.775146</td>\n",
       "      <td>0.157582</td>\n",
       "      <td>0.084328</td>\n",
       "      <td>0.166314</td>\n",
       "      <td>0.835237</td>\n",
       "      <td>0.994221</td>\n",
       "      <td>0.146302</td>\n",
       "      <td>0.153333</td>\n",
       "    </tr>\n",
       "  </tbody>\n",
       "</table>\n",
       "<p>506 rows × 14 columns</p>\n",
       "</div>"
      ],
      "text/plain": [
       "           x1        x2        x3        x4        x5        x6        x7  \\\n",
       "0    0.034633  0.206919  0.137057  0.540526  0.193941  0.699239  0.630532   \n",
       "1    0.028920  0.014315  0.276113  0.255945  0.618886  0.555407  0.782263   \n",
       "2    0.020627  0.033230  0.281116  0.525591  0.165269  0.624102  0.586005   \n",
       "3    0.022749  0.033801  0.125044  0.263253  0.251509  0.658532  0.432160   \n",
       "4    0.022148  0.029374  0.121057  0.521126  0.399670  0.448086  0.520158   \n",
       "..        ...       ...       ...       ...       ...       ...       ...   \n",
       "501  0.028702  0.019528  0.455716  0.097575  0.576859  0.588769  0.654701   \n",
       "502  0.034217  0.009498  0.490485  0.372934  0.532351  0.580505  0.750547   \n",
       "503  0.035352  0.021495  0.423918  0.397988  0.349407  0.610529  0.907637   \n",
       "504  0.026182  0.028603  0.443442  0.509663  0.229142  0.667841  0.867135   \n",
       "505  0.045519  0.029289  0.446156  0.499371  0.239768  0.379320  0.775146   \n",
       "\n",
       "           x8        x9       x10       x11       x12       x13     Price  \n",
       "0    0.239410  0.027375  0.209857  0.347609  0.996394  0.102644  0.422222  \n",
       "1    0.482977  0.103031  0.106690  0.520776  0.996650  0.187120  0.368889  \n",
       "2    0.272713  0.036010  0.106986  0.595301  0.983284  0.084079  0.660000  \n",
       "3    0.344932  0.150018  0.068317  0.651297  0.989989  0.015990  0.631111  \n",
       "4    0.495342  0.104383  0.069360  0.560116  0.998723  0.092782  0.693333  \n",
       "..        ...       ...       ...       ...       ...       ...       ...  \n",
       "501  0.188444  0.007595  0.165409  0.736795  0.982923  0.219891  0.386667  \n",
       "502  0.143776  0.051186  0.166428  0.867950  0.995114  0.207453  0.346667  \n",
       "503  0.087385  0.083448  0.164870  0.782704  0.995791  0.094044  0.420000  \n",
       "504  0.236241  0.016177  0.167554  0.749186  0.986855  0.107399  0.377778  \n",
       "505  0.157582  0.084328  0.166314  0.835237  0.994221  0.146302  0.153333  \n",
       "\n",
       "[506 rows x 14 columns]"
      ]
     },
     "execution_count": 14,
     "metadata": {},
     "output_type": "execute_result"
    }
   ],
   "source": [
    "df = pd.read_csv('C:/nozzi/Pytorch/딥러닝을 위한 파이토치 입문/CH5. 인공 신경망/data/reg.csv', index_col=[0])\n",
    "df"
   ]
  },
  {
   "cell_type": "markdown",
   "id": "7f110cd8-5cd2-45cc-a525-dbe04655f05b",
   "metadata": {},
   "source": [
    "##### 💡 데이터 프레임을 넘파이 배열로 만들기"
   ]
  },
  {
   "cell_type": "markdown",
   "id": "ad81f840-e32c-4b83-8965-72d57ed4a038",
   "metadata": {},
   "source": [
    "- `drop` : 삭제\n",
    "    - Price를 axis=1(열)을 기준으로 삭제\n",
    "- X, Y 둘 다 numpy로 변환"
   ]
  },
  {
   "cell_type": "code",
   "execution_count": 77,
   "id": "d8886ae3-2df2-473f-971a-dd63c125b9a7",
   "metadata": {},
   "outputs": [],
   "source": [
    "X = df.drop('Price', axis = 1).to_numpy()\n",
    "Y = df[\"Price\"].to_numpy().reshape((-1, 1))"
   ]
  },
  {
   "cell_type": "code",
   "execution_count": 78,
   "id": "d815934f-abb4-4912-a9be-cc417151c555",
   "metadata": {},
   "outputs": [],
   "source": [
    "X_train, X_test, Y_train, Y_test = train_test_split(X, Y, test_size = 0.5)"
   ]
  },
  {
   "cell_type": "markdown",
   "id": "41b3f1eb-4ea7-4ae2-aa14-23b7fe5302be",
   "metadata": {},
   "source": [
    "##### 💡 텐서 데이터 만들기"
   ]
  },
  {
   "cell_type": "markdown",
   "id": "b88af61e-f3b6-4d7b-a372-0742cda81265",
   "metadata": {},
   "source": [
    "- trainloader, testloader 만들기"
   ]
  },
  {
   "cell_type": "code",
   "execution_count": 79,
   "id": "993687cb-a976-4c08-bd25-dfa22a6304dd",
   "metadata": {},
   "outputs": [],
   "source": [
    "class TensorData(Dataset) :\n",
    "    def __init__(self, x_data, y_data) :\n",
    "        self.x_data = torch.FloatTensor(x_data)\n",
    "        self.y_data = torch.FloatTensor(y_data)\n",
    "        self.len = self.y_data.shape[0]\n",
    "        \n",
    "    def __getitem__(self, index) :\n",
    "        return self.x_data[index], self.y_data[index]\n",
    "    \n",
    "    def __len__(self) :\n",
    "        return self.len\n",
    "    \n",
    "trainsets = TensorData(X_train, Y_train)\n",
    "testsets = TensorData(X_test, Y_test)\n",
    "\n",
    "trainloader = torch.utils.data.DataLoader(trainsets, batch_size = 32, shuffle=True)\n",
    "testloader = torch.utils.data.DataLoader(testsets, batch_size = 32, shuffle=False)"
   ]
  },
  {
   "cell_type": "markdown",
   "id": "aaa1397f-70bd-44be-92b6-ca85e56985d1",
   "metadata": {},
   "source": [
    "##### 💡 모델 구축하기"
   ]
  },
  {
   "cell_type": "markdown",
   "id": "3ccefd71-03ac-4242-900d-51ae018e21f4",
   "metadata": {},
   "source": [
    "- `Regressor` \n",
    "    - 입력층 : 1개\n",
    "    - 은닉층 : 2개\n",
    "    - 출력층 : 1개\n",
    "- Data feature의 개수가 13개 이므로 입력층의 노드 : 13개(x변수의 개수)\n",
    "- 하나의 값으로 표현된 집값을 예측하는 것이므로 출력층은의 노드 : 1개\n",
    "- 은닉층은 사용자의 선택으로 정할 수 있다. \n",
    "    - 본 모델에서는 각 은닉층마다 50, 30개의 노드를 갖도록 구축\n",
    "    - 기본적으로 **이전 층의 출력값과 다음 층의 입력값의 크기는 같아**야 한다."
   ]
  },
  {
   "cell_type": "markdown",
   "id": "a5867931-25c4-4bb6-92b9-3256c36b6c97",
   "metadata": {},
   "source": [
    "- 나머지 Linear 모델에 관한 내용은 티스토리 참고"
   ]
  },
  {
   "cell_type": "code",
   "execution_count": 80,
   "id": "7bb7a453-02d4-478b-95a1-6513ec2e9be3",
   "metadata": {},
   "outputs": [],
   "source": [
    "class Regressor(nn.Module) :\n",
    "    def __init__(self) : \n",
    "        super().__init__()\n",
    "        self.fc1 = nn.Linear(13, 50, bias = True)\n",
    "        self.fc2 = nn.Linear(50, 30, bias = True)\n",
    "        self.fc3 = nn.Linear(30, 1, bias = True)\n",
    "        # 연산이 될 때마다 50%의 비율로 랜덤하게 노드를 없앤다. (forward 함수에서 적용 위치를 정해준다.)\n",
    "        self.dropout = nn.Dropout(0.5)\n",
    "        \n",
    "        \n",
    "    def forward(self, x) :\n",
    "        x = F.relu(self.fc1(x))\n",
    "        x = self.dropout(F.relu(self.fc2(x)))\n",
    "        x = F.relu(self.fc3(x))\n",
    "        return x"
   ]
  },
  {
   "cell_type": "markdown",
   "id": "81cf5e17-f319-429c-841e-451a9847afe2",
   "metadata": {},
   "source": [
    "##### 💡 모델 학습하기"
   ]
  },
  {
   "cell_type": "markdown",
   "id": "03f2f5aa-1de9-4c0c-9756-65ce169c0905",
   "metadata": {},
   "source": [
    "- `weight_decay` : L2 정규화에서의 penalty 값 (값이 클수록 제약조건이 강함 - 가중치가 작아짐 - 오버피팅 방지)"
   ]
  },
  {
   "cell_type": "code",
   "execution_count": 81,
   "id": "4ef09c02-9fcb-4778-af7d-6e410f66337b",
   "metadata": {},
   "outputs": [],
   "source": [
    "model = Regressor()\n",
    "criterion = nn.MSELoss()\n",
    "optimizer = optim.Adam(model.parameters(), lr=0.001, weight_decay = 1e-7)"
   ]
  },
  {
   "cell_type": "code",
   "execution_count": 82,
   "id": "bce1bcc6-32e2-4345-a377-abcddf7ea113",
   "metadata": {},
   "outputs": [],
   "source": [
    "loss_ = []\n",
    "n = len(trainloader) # 학습 데이터 수 253개(32개*7개 + 29개*1개 = 8)\n",
    "for epoch in range(400) :\n",
    "    \n",
    "    # 매 에폭 손실 함수값의 평균을 구하기 위해 초깃값을 0으로 \n",
    "    running_loss = 0.0\n",
    "    \n",
    "    # 배치를 불러와 학습\n",
    "    for data in trainloader :\n",
    "        inputs, values = data\n",
    "        # gradient 초기화\n",
    "        optimizer.zero_grad()\n",
    "        outputs = model(inputs)\n",
    "        loss = criterion(outputs, values)\n",
    "        loss.backward()\n",
    "        optimizer.step()\n",
    "        running_loss += loss.item()\n",
    "        \n",
    "    loss_.append(running_loss/n)"
   ]
  },
  {
   "cell_type": "markdown",
   "id": "0a3b6583-1b2a-47cd-bb34-df0668f83323",
   "metadata": {},
   "source": [
    "##### 💡 손실 함수값 그리기"
   ]
  },
  {
   "cell_type": "markdown",
   "id": "2379fe7f-f6c0-4b8e-8387-9a73410f817b",
   "metadata": {},
   "source": [
    "- 학습 데이터의 손실 함수값으로는 모델의 성능을 판단할 수 없지만, 학습이 잘 진행되었는지 파악할 수 있다.\n",
    "- 손실 함수값이 감소하는 것을 학습이 잘 진행되었다는 의미\n",
    "- 과적합 현상이 나타났는지 평가 결과가 어떤지에 따라 모델을 **튜닝**하거나 **학습 전략**을 다르게 설정해야 한다."
   ]
  },
  {
   "cell_type": "code",
   "execution_count": 83,
   "id": "7cf9c7ae-211e-4895-907c-c0fcfb9b272f",
   "metadata": {},
   "outputs": [
    {
     "data": {
      "image/png": "[encoded data removed]",
      "text/plain": [
       "<Figure size 432x288 with 1 Axes>"
      ]
     },
     "metadata": {
      "needs_background": "light"
     },
     "output_type": "display_data"
    }
   ],
   "source": [
    "plt.plot(loss_)\n",
    "plt.title(\"Training Loss\")\n",
    "plt.xlabel(\"epoch\")\n",
    "plt.show()"
   ]
  },
  {
   "cell_type": "markdown",
   "id": "84e2e807-1beb-4cb4-8321-65f8633ef2f6",
   "metadata": {},
   "source": [
    "##### ✨✨모델 평가하기"
   ]
  },
  {
   "cell_type": "markdown",
   "id": "9cf42653-54e6-4e58-8095-26a590163dd9",
   "metadata": {},
   "source": [
    "- 최종 모델 평가 : RMSE 사용"
   ]
  },
  {
   "cell_type": "code",
   "execution_count": 96,
   "id": "7b10b41f-ae00-460d-965a-de3a2df4eb81",
   "metadata": {},
   "outputs": [],
   "source": [
    "# evaluation 함수에 dataloader 받는다.\n",
    "def evaluation(dataloader) :\n",
    "    \n",
    "    # 예측값과 실제값을 저장하기 위해 빈 텐서 만든다. \n",
    "    # 값들을 모두 저장하지 않고 for문에서 누적 방식으로도 계산할 수 있지만 예시를 통해 torch.cat 공부 !\n",
    "    predictions = torch.tensor([], dtype=torch.float) # 예측값을 저장하는 텐서\n",
    "    actual = torch.tensor([], dtype = torch.float) # 실제값을 저장하는 텐서\n",
    "    \n",
    "    # requires_grad 비활성화\n",
    "    with torch.no_grad() :\n",
    "        # 드롭아웃과 같은 정규화 기법은 학습시에만 적용해야 하므로\n",
    "        # 모델 내에서 학습 시에만 동작하는 장치들을 비활성화\n",
    "        model.eval()\n",
    "        for data in dataloader :\n",
    "            inputs, values = data\n",
    "            outputs = model(inputs)\n",
    "            # 0번째 차원을 기준으로 누적한다는 의미\n",
    "            # (예를 들어) 10x2, 10x2인 두 텐서가 있을 때, cat 기준이 0이면 20x2, 1이면 10x4\n",
    "            predictions = torch.cat((predictions, outputs), 0)\n",
    "            actual = torch.cat((actual, values), 0)\n",
    "            \n",
    "            \n",
    "    # 텐서 데이터를 넘파이 배열로 변경        \n",
    "    predictions = predictions.numpy()\n",
    "    actual = actual.numpy()\n",
    "    rmse = np.sqrt(mean_squared_error(predictions, actual))\n",
    "    \n",
    "    return rmse"
   ]
  },
  {
   "cell_type": "code",
   "execution_count": 97,
   "id": "534f702a-18db-4377-9769-3c57b87a07bf",
   "metadata": {},
   "outputs": [
    {
     "name": "stdout",
     "output_type": "stream",
     "text": [
      "Train RMSE:  0.060758144\n",
      "Test RMSE:  0.11639263\n"
     ]
    }
   ],
   "source": [
    "train_rmse = evaluation(trainloader)\n",
    "test_rmse = evaluation(testloader)\n",
    "\n",
    "print(\"Train RMSE: \", train_rmse)\n",
    "print(\"Test RMSE: \", test_rmse)"
   ]
  },
  {
   "cell_type": "markdown",
   "id": "06c94419-7f64-4ef3-9841-bd230f7de3f7",
   "metadata": {},
   "source": [
    "- 결과를 보면 학습 결과와 테스트 결과 차이가 크다.\n",
    "- 따라서 학습 데이터에 과적합이 되어 있다고 판단하지만, 데이터를 무작위로 나누고 모델의 초깃값도 random initial parameter를 사용했기 때문에 학습을 할 때마다 다를 수도 있다.\n",
    "- 따라서 교차 검증이나 여러 번의 실험을 통해 결과의 경향성 확인해야 한다."
   ]
  }
 ],
 "metadata": {
  "kernelspec": {
   "display_name": "Python 3 (ipykernel)",
   "language": "python",
   "name": "python3"
  },
  "language_info": {
   "codemirror_mode": {
    "name": "ipython",
    "version": 3
   },
   "file_extension": ".py",
   "mimetype": "text/x-python",
   "name": "python",
   "nbconvert_exporter": "python",
   "pygments_lexer": "ipython3",
   "version": "3.10.2"
  }
 },
 "nbformat": 4,
 "nbformat_minor": 5
}
