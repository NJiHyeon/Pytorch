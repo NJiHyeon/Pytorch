{
 "cells": [
  {
   "cell_type": "markdown",
   "id": "f912f641-429b-4633-9379-8422175b2f79",
   "metadata": {},
   "source": [
    "#### 🔎 5.6.1 모델 구조"
   ]
  },
  {
   "cell_type": "markdown",
   "id": "38425a14-ea02-4de0-a3d5-7a1606c18f01",
   "metadata": {},
   "source": [
    "- `torchsummary` : 구조와 모델 변수를 간략히 알려주는 라이브러리"
   ]
  },
  {
   "cell_type": "markdown",
   "id": "10e55e13-585d-4bd9-8c6d-21914a89c359",
   "metadata": {},
   "source": [
    "- 입력층 -> 첫번째 은닉층으로 넘어가는 부분의 가중치 : 13x50 = 650개 + 편향 : 50개 = 총 700개의 변수\n",
    "- 첫번째 -> 두번째 은닉층 사이의 가중치 : 50x30 = 1500개 + 편향 : 30개 = 1530개의 변수\n",
    "- 마지막 출력층으로 가는 가중치 : 30개 + 편향 : 1개 = 31개의 변수"
   ]
  },
  {
   "cell_type": "code",
   "execution_count": 1,
   "id": "9412c4e9-ffce-4794-a9ea-58225ac14c5b",
   "metadata": {},
   "outputs": [],
   "source": [
    "import torch\n",
    "from torch import nn\n",
    "import torch.nn.functional as F\n",
    "from torchsummary import summary"
   ]
  },
  {
   "cell_type": "code",
   "execution_count": 3,
   "id": "f9f06c08-dead-43e0-804c-c53a042c380b",
   "metadata": {},
   "outputs": [],
   "source": [
    "class Regressor(nn.Module) :\n",
    "    def __init__(self) :\n",
    "        super().__init__()\n",
    "        self.fc1 = nn.Linear(13, 50)\n",
    "        self.fc2 = nn.Linear(50, 30)\n",
    "        self.fc3 = nn.Linear(30, 1)\n",
    "        self.dropout = nn.Dropout(0.5)\n",
    "        \n",
    "    def forward(self, x) :\n",
    "        x = F.relu(self.fc1(x))\n",
    "        x = self.dropout(F.relu(self.fc2(x)))\n",
    "        x = F.relu(self.fc3(x))\n",
    "        \n",
    "        return x"
   ]
  },
  {
   "cell_type": "markdown",
   "id": "d985f4d7-2f24-4370-89b5-0722c569648a",
   "metadata": {},
   "source": [
    "- 모델을 출력하면 __init__ 부분에서 정의된 구조 확인 가능"
   ]
  },
  {
   "cell_type": "code",
   "execution_count": 4,
   "id": "9c58aa28-9237-45f4-81e6-fddb5a822fe4",
   "metadata": {},
   "outputs": [
    {
     "name": "stdout",
     "output_type": "stream",
     "text": [
      "Regressor(\n",
      "  (fc1): Linear(in_features=13, out_features=50, bias=True)\n",
      "  (fc2): Linear(in_features=50, out_features=30, bias=True)\n",
      "  (fc3): Linear(in_features=30, out_features=1, bias=True)\n",
      "  (dropout): Dropout(p=0.5, inplace=False)\n",
      ")\n"
     ]
    }
   ],
   "source": [
    "model = Regressor()\n",
    "print(model)"
   ]
  },
  {
   "cell_type": "markdown",
   "id": "c1989bc2-1a1f-4e2d-b22a-7f86a41872a7",
   "metadata": {},
   "source": [
    "--------------------------------------------------------------------------------------------"
   ]
  },
  {
   "cell_type": "markdown",
   "id": "2ddb6044-37f1-4bc3-9650-c7367173cec0",
   "metadata": {},
   "source": [
    "#### 🔎 5.6.2 모델 변수"
   ]
  },
  {
   "cell_type": "markdown",
   "id": "6cd55abb-1d9d-4a3f-9a68-24058fe46d61",
   "metadata": {},
   "source": [
    "##### 💡 `model.parameters() : `를 통해 정의된 순서대로 변수를 얻을 수 있다."
   ]
  },
  {
   "cell_type": "code",
   "execution_count": 9,
   "id": "97bf2b09-2a70-48bb-9691-31b3f6d88af4",
   "metadata": {},
   "outputs": [
    {
     "name": "stdout",
     "output_type": "stream",
     "text": [
      "torch.Size([50, 13])\n",
      "torch.Size([50])\n",
      "torch.Size([30, 50])\n",
      "torch.Size([30])\n",
      "torch.Size([1, 30])\n",
      "torch.Size([1])\n"
     ]
    }
   ],
   "source": [
    "for parameter in model.parameters() :\n",
    "    print(parameter.size())"
   ]
  },
  {
   "cell_type": "markdown",
   "id": "383331e3-cf7f-421d-afa4-42e37c827e68",
   "metadata": {},
   "source": [
    "##### 💡 변수명을 알고 있다면 직접 접근하여 변수를 불러올 수 있다.\n",
    "- 예를 들어 model에 fc1의 가중치를 불러오고 싶다면 `model.fc1.weight.size()`\n",
    "- 편향을 불러오고 싶다면 `model.fc1.bias.size()`"
   ]
  },
  {
   "cell_type": "code",
   "execution_count": 8,
   "id": "30ff4931-86c7-4d6d-9637-d8b77bef1221",
   "metadata": {},
   "outputs": [
    {
     "name": "stdout",
     "output_type": "stream",
     "text": [
      "torch.Size([50, 13]) torch.Size([50])\n"
     ]
    }
   ],
   "source": [
    "print(model.fc1.weight.size(), model.fc1.bias.size())"
   ]
  },
  {
   "cell_type": "markdown",
   "id": "b9f6834f-484d-47dd-9d92-be8aad41bb6c",
   "metadata": {},
   "source": [
    "##### 💡 변수명을 잘 모를 경우에는 `model.named_parameters()`를 통해 변수명과 변수를 동시에 불러올 수 있다."
   ]
  },
  {
   "cell_type": "code",
   "execution_count": 10,
   "id": "bffb5219-346f-42d4-8d41-a56a55aaa6e2",
   "metadata": {},
   "outputs": [
    {
     "name": "stdout",
     "output_type": "stream",
     "text": [
      "fc1.weight torch.Size([50, 13])\n",
      "fc1.bias torch.Size([50])\n",
      "fc2.weight torch.Size([30, 50])\n",
      "fc2.bias torch.Size([30])\n",
      "fc3.weight torch.Size([1, 30])\n",
      "fc3.bias torch.Size([1])\n"
     ]
    }
   ],
   "source": [
    "for name, param in model.named_parameters() :\n",
    "    print(name, param.size())"
   ]
  },
  {
   "cell_type": "markdown",
   "id": "9196c831-f10c-4651-8726-4fb9051ab7e7",
   "metadata": {},
   "source": [
    "##### 💡 특정 변수에 대한 옵션과 값을 변경할 수 있다.\n",
    "- torchsummary에서 제공하는 summary에 model을 넣고 임의의 입력 데이터 사이즈를 넣으면 층마다 출력값의 크기와 변수에 대한 정보를 테이블로 만들어준다."
   ]
  },
  {
   "cell_type": "code",
   "execution_count": 23,
   "id": "f5d335b5-9381-4526-bb86-3368d8d5d67a",
   "metadata": {},
   "outputs": [
    {
     "name": "stdout",
     "output_type": "stream",
     "text": [
      "----------------------------------------------------------------\n",
      "        Layer (type)               Output Shape         Param #\n",
      "================================================================\n",
      "            Linear-1               [-1, 10, 50]             700\n",
      "            Linear-2               [-1, 10, 30]           1,530\n",
      "           Dropout-3               [-1, 10, 30]               0\n",
      "            Linear-4                [-1, 10, 1]              31\n",
      "================================================================\n",
      "Total params: 2,261\n",
      "Trainable params: 2,261\n",
      "Non-trainable params: 0\n",
      "----------------------------------------------------------------\n",
      "Input size (MB): 0.00\n",
      "Forward/backward pass size (MB): 0.01\n",
      "Params size (MB): 0.01\n",
      "Estimated Total Size (MB): 0.02\n",
      "----------------------------------------------------------------\n"
     ]
    }
   ],
   "source": [
    "summary(model, (10, 13))"
   ]
  }
 ],
 "metadata": {
  "kernelspec": {
   "display_name": "Python 3 (ipykernel)",
   "language": "python",
   "name": "python3"
  },
  "language_info": {
   "codemirror_mode": {
    "name": "ipython",
    "version": 3
   },
   "file_extension": ".py",
   "mimetype": "text/x-python",
   "name": "python",
   "nbconvert_exporter": "python",
   "pygments_lexer": "ipython3",
   "version": "3.10.2"
  }
 },
 "nbformat": 4,
 "nbformat_minor": 5
}
