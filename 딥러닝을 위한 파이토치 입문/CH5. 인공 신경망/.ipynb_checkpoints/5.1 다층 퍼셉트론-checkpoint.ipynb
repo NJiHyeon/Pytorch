{
 "cells": [
  {
   "cell_type": "markdown",
   "id": "ca7d39ae-50a6-4c01-9ef1-df7af778b2f3",
   "metadata": {},
   "source": [
    "#### 🔎 5.1.1 선형회귀(단층 퍼셉트론)"
   ]
  },
  {
   "cell_type": "markdown",
   "id": "dcd77696-175f-46da-b478-c445a6795154",
   "metadata": {},
   "source": [
    "- `unsqueeze()` : 차원을 하나 늘려줄 때"
   ]
  },
  {
   "cell_type": "code",
   "execution_count": 1,
   "id": "fea70dbb-3146-4469-a48d-61091f14acd0",
   "metadata": {},
   "outputs": [],
   "source": [
    "import torch\n",
    "import torch.nn as nn\n",
    "from matplotlib import pyplot as plt"
   ]
  },
  {
   "cell_type": "code",
   "execution_count": 2,
   "id": "573ebc8b-7ec6-464d-92cf-0c3be71d2069",
   "metadata": {},
   "outputs": [],
   "source": [
    "x = torch.FloatTensor(range(5)).unsqueeze(1)\n",
    "y = 2*x + torch.randn(5, 1)"
   ]
  },
  {
   "cell_type": "markdown",
   "id": "52102b06-6d28-4493-83ef-617371dd3871",
   "metadata": {},
   "source": [
    "- `nn.Module`을 상속받는 클래스 `LinearRegressor` 만들기\n",
    "- `__init__`, `super().__init__()` : 초기 세팅에 필요한 내용 입력\n",
    "- `nn.Linear(N, M, bias=True)`\n",
    "    - N : 입력 변수의 개수(x의 크기 1)\n",
    "    - M : 출력 변수의 개수(y의 크기1)\n",
    "- `forward` : 실제 입력값이 들어와 연산이 진행하는 순서와 방법을 정하는 곳"
   ]
  },
  {
   "cell_type": "code",
   "execution_count": 11,
   "id": "4cd5db92-5492-40f0-b6a3-bb58acfccebd",
   "metadata": {},
   "outputs": [],
   "source": [
    "class LinearRegressor(nn.Module) :\n",
    "    def __init__(self) :\n",
    "        super().__init__()\n",
    "        self.fc = nn.Linear(1, 1, bias=True)\n",
    "        \n",
    "    def forward(self, x) :\n",
    "        y = self.fc(x)\n",
    "        \n",
    "        return y"
   ]
  },
  {
   "cell_type": "markdown",
   "id": "89ff2bc8-0949-4799-a955-bd2c48aeb1a5",
   "metadata": {},
   "source": [
    "- 클래스가 완성 됐으면 `model` 선언\n",
    "- 손실함수 : MSE\n",
    "- 최적화 방법에 모델 파라미터를 넣어 줄 때는 `model.parameters()` 입력"
   ]
  },
  {
   "cell_type": "code",
   "execution_count": 14,
   "id": "7eef7a81-6889-4b31-bc86-e0c35052a72c",
   "metadata": {},
   "outputs": [],
   "source": [
    "model = LinearRegressor()\n",
    "learning_rate = 1e-3\n",
    "criterion = nn.MSELoss()\n",
    "optimizer = torch.optim.SGD(model.parameters(), lr=learning_rate)"
   ]
  },
  {
   "cell_type": "code",
   "execution_count": 15,
   "id": "957a6476-82a7-4cd9-a415-5418050f5985",
   "metadata": {},
   "outputs": [
    {
     "name": "stdout",
     "output_type": "stream",
     "text": [
      "Epoch 0:31.468257904052734\n",
      "Epoch 100:4.089526176452637\n",
      "Epoch 200:2.129930019378662\n",
      "Epoch 300:1.8939749002456665\n",
      "Epoch 400:1.7857205867767334\n",
      "Epoch 500:1.6964565515518188\n",
      "Epoch 600:1.6176973581314087\n",
      "Epoch 700:1.547833800315857\n",
      "Epoch 800:1.4858360290527344\n",
      "Epoch 900:1.430816888809204\n",
      "Epoch 1000:1.381990671157837\n"
     ]
    }
   ],
   "source": [
    "loss_stack = []\n",
    "for epoch in range(1001) :\n",
    "    optimizer.zero_grad()\n",
    "    y_hat = model(x)\n",
    "    loss = criterion(y_hat, y)\n",
    "    loss.backward()\n",
    "    optimizer.step()\n",
    "    loss_stack.append(loss.item())\n",
    "    if epoch % 100 == 0 :\n",
    "        print(f'Epoch {epoch}:{loss.item()}')"
   ]
  },
  {
   "cell_type": "code",
   "execution_count": 16,
   "id": "64f5c794-3953-44cd-a80b-dd7507cadc4c",
   "metadata": {},
   "outputs": [],
   "source": [
    "with torch.no_grad() :\n",
    "    y_hat = model(x)"
   ]
  },
  {
   "cell_type": "code",
   "execution_count": 17,
   "id": "92e1d28f-f581-4af7-9bc9-187fe36a4849",
   "metadata": {},
   "outputs": [
    {
     "data": {
      "image/png": "[encoded data removed]",
      "text/plain": [
       "<Figure size 720x360 with 2 Axes>"
      ]
     },
     "metadata": {
      "needs_background": "light"
     },
     "output_type": "display_data"
    }
   ],
   "source": [
    "plt.figure(figsize=(10, 5))\n",
    "\n",
    "plt.subplot(121)\n",
    "plt.plot(loss_stack)\n",
    "plt.title(\"Loss\")\n",
    "\n",
    "plt.subplot(122)\n",
    "plt.plot(x, y, '.b')\n",
    "plt.plot(x, y_hat, 'r-')\n",
    "plt.legend(['ground truth', 'prediction'])\n",
    "plt.title(\"Prediction\")\n",
    "plt.show()"
   ]
  },
  {
   "cell_type": "markdown",
   "id": "8461fd35-1009-4158-91c5-99905d233dac",
   "metadata": {},
   "source": [
    "---------------------------------------------------------------------------------------------------"
   ]
  },
  {
   "cell_type": "markdown",
   "id": "0c59e783-e72d-408f-bb88-beddb92d844b",
   "metadata": {},
   "source": [
    "#### 🔎 5.1.2 집값 예측하기"
   ]
  },
  {
   "cell_type": "code",
   "execution_count": 18,
   "id": "321a6aef-52c7-4442-ba69-36840ac807a7",
   "metadata": {},
   "outputs": [],
   "source": [
    "import pandas as pd\n",
    "import numpy as np"
   ]
  },
  {
   "cell_type": "markdown",
   "id": "5c225407-c3b6-44ba-8dca-d2101c1a9a3a",
   "metadata": {},
   "source": [
    "##### 💡 데이터 세트 만들기"
   ]
  },
  {
   "cell_type": "code",
   "execution_count": null,
   "id": "5ae18f02-fba4-4ae5-8744-76e940313e53",
   "metadata": {},
   "outputs": [],
   "source": [
    "df = pd.read_csv('C:/nozzi/Pytorch/딥러닝을 위한 파이토치 입문/CH4. 파이토치 기본/data/reg.csv', index_col=[0])"
   ]
  },
  {
   "cell_type": "markdown",
   "id": "7f110cd8-5cd2-45cc-a525-dbe04655f05b",
   "metadata": {},
   "source": [
    "##### 💡 데이터 프레임을 넘파이 배열로 만들기"
   ]
  },
  {
   "cell_type": "code",
   "execution_count": null,
   "id": "d8886ae3-2df2-473f-971a-dd63c125b9a7",
   "metadata": {},
   "outputs": [],
   "source": []
  },
  {
   "cell_type": "code",
   "execution_count": null,
   "id": "916ea6b1-d3db-4468-a16d-34330b163038",
   "metadata": {},
   "outputs": [],
   "source": []
  },
  {
   "cell_type": "markdown",
   "id": "41b3f1eb-4ea7-4ae2-aa14-23b7fe5302be",
   "metadata": {},
   "source": [
    "##### 💡 텐서 데이터 만들기"
   ]
  },
  {
   "cell_type": "code",
   "execution_count": null,
   "id": "993687cb-a976-4c08-bd25-dfa22a6304dd",
   "metadata": {},
   "outputs": [],
   "source": []
  },
  {
   "cell_type": "markdown",
   "id": "aaa1397f-70bd-44be-92b6-ca85e56985d1",
   "metadata": {},
   "source": [
    "##### 💡 모델 구축하기"
   ]
  },
  {
   "cell_type": "code",
   "execution_count": null,
   "id": "93508a1f-0e6a-43c3-af75-5a5d42e15465",
   "metadata": {},
   "outputs": [],
   "source": []
  },
  {
   "cell_type": "markdown",
   "id": "81cf5e17-f319-429c-841e-451a9847afe2",
   "metadata": {},
   "source": [
    "##### 💡 모델 학습하기"
   ]
  },
  {
   "cell_type": "code",
   "execution_count": null,
   "id": "4ef09c02-9fcb-4778-af7d-6e410f66337b",
   "metadata": {},
   "outputs": [],
   "source": []
  },
  {
   "cell_type": "markdown",
   "id": "0a3b6583-1b2a-47cd-bb34-df0668f83323",
   "metadata": {},
   "source": [
    "##### 💡 손실 함수값 그리기"
   ]
  },
  {
   "cell_type": "code",
   "execution_count": null,
   "id": "7cf9c7ae-211e-4895-907c-c0fcfb9b272f",
   "metadata": {},
   "outputs": [],
   "source": []
  },
  {
   "cell_type": "markdown",
   "id": "84e2e807-1beb-4cb4-8321-65f8633ef2f6",
   "metadata": {},
   "source": [
    "##### 💡 모델 평가하기"
   ]
  },
  {
   "cell_type": "code",
   "execution_count": null,
   "id": "29062bc5-86f4-4734-9e48-da7b2b351830",
   "metadata": {},
   "outputs": [],
   "source": []
  },
  {
   "cell_type": "code",
   "execution_count": null,
   "id": "7b10b41f-ae00-460d-965a-de3a2df4eb81",
   "metadata": {},
   "outputs": [],
   "source": []
  }
 ],
 "metadata": {
  "kernelspec": {
   "display_name": "Python 3 (ipykernel)",
   "language": "python",
   "name": "python3"
  },
  "language_info": {
   "codemirror_mode": {
    "name": "ipython",
    "version": 3
   },
   "file_extension": ".py",
   "mimetype": "text/x-python",
   "name": "python",
   "nbconvert_exporter": "python",
   "pygments_lexer": "ipython3",
   "version": "3.10.2"
  }
 },
 "nbformat": 4,
 "nbformat_minor": 5
}
