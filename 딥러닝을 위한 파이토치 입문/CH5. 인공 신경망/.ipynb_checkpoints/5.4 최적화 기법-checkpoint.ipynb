{
 "cells": [
  {
   "cell_type": "markdown",
   "id": "760f6477-7959-49df-b591-9d716bfb98fd",
   "metadata": {},
   "source": [
    "#### 5.4.1 🔎 확률적 경사하강법(SGD) - torch.optim.SGD"
   ]
  },
  {
   "cell_type": "code",
   "execution_count": null,
   "id": "6d92982c-eb69-4194-9eb5-a4ca87a09079",
   "metadata": {},
   "outputs": [],
   "source": []
  },
  {
   "cell_type": "markdown",
   "id": "98b34753-edaf-4fd3-8a06-89ea7cd712fc",
   "metadata": {},
   "source": [
    "#### 5.4.2 🔎 다양한 최적화 기법"
   ]
  },
  {
   "cell_type": "code",
   "execution_count": null,
   "id": "9e675a54-8d54-4f14-b26e-ea3e6eeba33e",
   "metadata": {},
   "outputs": [],
   "source": []
  },
  {
   "cell_type": "markdown",
   "id": "ddb27e88-c7de-4c48-89da-de4aa9e315a9",
   "metadata": {},
   "source": [
    "##### 💡 momentum"
   ]
  },
  {
   "cell_type": "code",
   "execution_count": null,
   "id": "a47415a3-1b22-457d-b9ad-b2fcfa6faf01",
   "metadata": {},
   "outputs": [],
   "source": []
  },
  {
   "cell_type": "markdown",
   "id": "530b4ce8-cb27-4bf7-950b-8bcaaee8d578",
   "metadata": {},
   "source": [
    "##### 💡 Adam"
   ]
  },
  {
   "cell_type": "code",
   "execution_count": null,
   "id": "8b5b035b-0fb7-4c37-a781-f8596a51b83d",
   "metadata": {},
   "outputs": [],
   "source": []
  },
  {
   "cell_type": "markdown",
   "id": "5ca9ee57-777e-4e6a-a5ff-36d328cedaf7",
   "metadata": {},
   "source": [
    "##### 💡 기타"
   ]
  },
  {
   "cell_type": "code",
   "execution_count": null,
   "id": "30cf201f-398c-4477-9ebb-adcfe08307ec",
   "metadata": {},
   "outputs": [],
   "source": []
  },
  {
   "cell_type": "markdown",
   "id": "6fe400fd-a709-4340-b8ba-bd84f3cb893b",
   "metadata": {},
   "source": [
    "#### 5.4.3 🔎 스케줄링"
   ]
  },
  {
   "cell_type": "code",
   "execution_count": null,
   "id": "4f3bf090-ab9c-4fa0-be1c-1a5f8416a30f",
   "metadata": {},
   "outputs": [],
   "source": []
  },
  {
   "cell_type": "code",
   "execution_count": null,
   "id": "d2ec14ac-6476-402d-b22b-6c6275dc2b21",
   "metadata": {},
   "outputs": [],
   "source": []
  },
  {
   "cell_type": "markdown",
   "id": "c08bd2f3-a25a-4adc-86d9-6e4568c39dde",
   "metadata": {},
   "source": [
    "#### 5.4.4 🔎 MADGRAD"
   ]
  },
  {
   "cell_type": "code",
   "execution_count": null,
   "id": "cc2c2d86-1ca7-472a-aecb-62d9e53a11a5",
   "metadata": {},
   "outputs": [],
   "source": []
  }
 ],
 "metadata": {
  "kernelspec": {
   "display_name": "Python 3 (ipykernel)",
   "language": "python",
   "name": "python3"
  },
  "language_info": {
   "codemirror_mode": {
    "name": "ipython",
    "version": 3
   },
   "file_extension": ".py",
   "mimetype": "text/x-python",
   "name": "python",
   "nbconvert_exporter": "python",
   "pygments_lexer": "ipython3",
   "version": "3.10.2"
  }
 },
 "nbformat": 4,
 "nbformat_minor": 5
}
