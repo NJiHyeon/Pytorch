{
 "cells": [
  {
   "cell_type": "markdown",
   "id": "f912f641-429b-4633-9379-8422175b2f79",
   "metadata": {},
   "source": [
    "#### 🔎 5.6.1 모델 구조"
   ]
  },
  {
   "cell_type": "code",
   "execution_count": null,
   "id": "9412c4e9-ffce-4794-a9ea-58225ac14c5b",
   "metadata": {},
   "outputs": [],
   "source": []
  },
  {
   "cell_type": "code",
   "execution_count": null,
   "id": "f9f06c08-dead-43e0-804c-c53a042c380b",
   "metadata": {},
   "outputs": [],
   "source": []
  },
  {
   "cell_type": "code",
   "execution_count": null,
   "id": "9c58aa28-9237-45f4-81e6-fddb5a822fe4",
   "metadata": {},
   "outputs": [],
   "source": []
  },
  {
   "cell_type": "code",
   "execution_count": null,
   "id": "d2e17d3d-5517-483d-8b23-53ddbadc7850",
   "metadata": {},
   "outputs": [],
   "source": []
  },
  {
   "cell_type": "code",
   "execution_count": null,
   "id": "61f41b7d-5cd4-4e49-a2a5-d04c27b3f19b",
   "metadata": {},
   "outputs": [],
   "source": []
  },
  {
   "cell_type": "markdown",
   "id": "c1989bc2-1a1f-4e2d-b22a-7f86a41872a7",
   "metadata": {},
   "source": [
    "--------------------------------------------------------------------------------------------"
   ]
  },
  {
   "cell_type": "markdown",
   "id": "2ddb6044-37f1-4bc3-9650-c7367173cec0",
   "metadata": {},
   "source": [
    "#### 🔎 5.6.2 모델 변수"
   ]
  },
  {
   "cell_type": "code",
   "execution_count": null,
   "id": "97bf2b09-2a70-48bb-9691-31b3f6d88af4",
   "metadata": {},
   "outputs": [],
   "source": []
  }
 ],
 "metadata": {
  "kernelspec": {
   "display_name": "Python 3 (ipykernel)",
   "language": "python",
   "name": "python3"
  },
  "language_info": {
   "codemirror_mode": {
    "name": "ipython",
    "version": 3
   },
   "file_extension": ".py",
   "mimetype": "text/x-python",
   "name": "python",
   "nbconvert_exporter": "python",
   "pygments_lexer": "ipython3",
   "version": "3.10.2"
  }
 },
 "nbformat": 4,
 "nbformat_minor": 5
}
