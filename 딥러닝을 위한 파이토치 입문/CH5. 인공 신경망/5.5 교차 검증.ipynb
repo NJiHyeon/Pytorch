{
 "cells": [
  {
   "cell_type": "markdown",
   "id": "9d8ff784-87b4-43fe-8cef-d44904d7498c",
   "metadata": {},
   "source": [
    "#### 🔎 5.5.1 교차 검증을 통한 집값 예측 모델 평가"
   ]
  },
  {
   "cell_type": "markdown",
   "id": "a4e70a1f-ba74-4087-a591-84e96cdce285",
   "metadata": {},
   "source": [
    "##### 💡 **모델 평가하기**"
   ]
  },
  {
   "cell_type": "markdown",
   "id": "8747ef26-6005-4c95-8019-3628b1338594",
   "metadata": {},
   "source": [
    "- `from sklearn.model_selection import KFold`\n",
    "    - 학습 데이터 세트를 k개의 부분 데이터 세트(폴드)로 나눈 후\n",
    "    - k-1개의 폴드는 학습데이터, 1개는 검증 데이터로 사용할 수 있도록\n",
    "    - **전체 학습 데이터 세트에서 인덱스를 나눠주는 역할** "
   ]
  },
  {
   "cell_type": "code",
   "execution_count": 4,
   "id": "68b1412f-9687-4b75-9e1e-5c851b5af10d",
   "metadata": {},
   "outputs": [],
   "source": [
    "import pandas as pd\n",
    "import numpy as np\n",
    "\n",
    "from sklearn.model_selection import train_test_split\n",
    "from sklearn.model_selection import KFold\n",
    "from sklearn.metrics import mean_squared_error\n",
    "\n",
    "import torch\n",
    "from torch import optim, nn\n",
    "import torch.nn.functional as F\n",
    "from torch.utils.data import Dataset, DataLoader\n",
    "\n",
    "import matplotlib.pyplot as plt"
   ]
  },
  {
   "cell_type": "markdown",
   "id": "8c4a0239-fccb-46d6-8a86-b0b0ac1d39ed",
   "metadata": {},
   "source": [
    "##### 💡 **데이터 프레임을 넘파이 배열로 만들기**"
   ]
  },
  {
   "cell_type": "code",
   "execution_count": 5,
   "id": "8090fbbf-cc31-4390-8c56-ea6f44ee8e74",
   "metadata": {},
   "outputs": [],
   "source": [
    "df = pd.read_csv('C:/nozzi/Pytorch/딥러닝을 위한 파이토치 입문/CH5. 인공 신경망/data/reg.csv', index_col=[0])\n",
    "X = df.drop('Price', axis=1).to_numpy()\n",
    "Y = df['Price'].to_numpy().reshape((-1, 1))"
   ]
  },
  {
   "cell_type": "markdown",
   "id": "7149de7b-eaf5-4946-9969-dbb479cf5379",
   "metadata": {},
   "source": [
    "##### 💡 **텐서 데이터 만들기**"
   ]
  },
  {
   "cell_type": "markdown",
   "id": "6c0ac0e6-6c76-44ac-94ed-cc84122b5ddc",
   "metadata": {},
   "source": [
    "- trainset는 교차 검증을 위해 나누기 때문에 미리 DataLoader를 정의하지 않는다."
   ]
  },
  {
   "cell_type": "code",
   "execution_count": 9,
   "id": "7ab343e6-680f-437c-a85b-24b1b33d43b5",
   "metadata": {},
   "outputs": [],
   "source": [
    "class TensorData(Dataset) :\n",
    "    def __init__(self, x_data, y_data) :\n",
    "        self.x_data = torch.FloatTensor(x_data)\n",
    "        self.y_data = torch.FloatTensor(y_data)\n",
    "        self.len = self.y_data.shape[0]\n",
    "        \n",
    "    def __getitem__(self, index) :\n",
    "        return self.x_data[index], self.y_data[index]\n",
    "    \n",
    "    def __len__(self) :\n",
    "        return self.len\n",
    "    \n",
    "X_train, X_test, Y_train, Y_test = train_test_split(X, Y, test_size = 0.7)\n",
    "trainset = TensorData(X_train, Y_train)\n",
    "testset = TensorData(X_test, Y_test)\n",
    "testloader = torch.utils.data.DataLoader(testset, batch_size=32, shuffle=False)"
   ]
  },
  {
   "cell_type": "markdown",
   "id": "f77a3c36-3480-4d89-b53f-a532dd9c6e46",
   "metadata": {},
   "source": [
    "##### 💡 **모델 구축**"
   ]
  },
  {
   "cell_type": "code",
   "execution_count": 10,
   "id": "3bc66656-4208-44c8-8f5f-74f4d016b5a1",
   "metadata": {},
   "outputs": [],
   "source": [
    "class Regressor(nn.Module) :\n",
    "    def __init__(self) :\n",
    "        super().__init__()\n",
    "        self.fc1 = nn.Linear(13, 50, bias=True)\n",
    "        self.fc2 = nn.Linear(50, 30, bias=True)\n",
    "        self.fc3 = nn.Linear(30, 1, bias=True)\n",
    "        \n",
    "    def forward(self, x) :\n",
    "        x = self.fc1(x)\n",
    "        x = self.fc2(x)\n",
    "        x = self.fc3(x)\n",
    "        return x"
   ]
  },
  {
   "cell_type": "markdown",
   "id": "e7e83f6c-3de7-4cf0-a937-1144c4159d07",
   "metadata": {},
   "source": [
    "##### 💡 **손실 함수와 교차 검증 정의**"
   ]
  },
  {
   "cell_type": "code",
   "execution_count": 11,
   "id": "0e68d49f-3310-46cc-904a-3a3cc04f32fa",
   "metadata": {},
   "outputs": [],
   "source": [
    "kfold = KFold(n_splits=3, shuffle=True)\n",
    "criterion = nn.MSELoss()"
   ]
  },
  {
   "cell_type": "markdown",
   "id": "9cb69ea2-c77c-4ec8-8bc1-b42b8d0f4343",
   "metadata": {},
   "source": [
    "##### 💡 **평가 함수 정의**"
   ]
  },
  {
   "cell_type": "code",
   "execution_count": 38,
   "id": "8116d1e2-7c25-4e06-a806-ac94a24441e5",
   "metadata": {},
   "outputs": [],
   "source": [
    "def evaluation(dataloader) :\n",
    "    \n",
    "    # 예측값/실제값 저장할 빈 텐서 \n",
    "    predictions = torch.tensor([], dtype=torch.float)\n",
    "    actual = torch.tensor([], dtype=torch.float)\n",
    "    \n",
    "    with torch.no_grad() :\n",
    "        model.eval()\n",
    "        for data in dataloader :\n",
    "            inputs, values = data\n",
    "            outputs = model(inputs)\n",
    "            \n",
    "            # cat을 통해 예측값/실제값 누적\n",
    "            predictions = torch.cat((predictions, outputs), 0)\n",
    "            actual = torch.cat((actual, values), 0)\n",
    "            \n",
    "    # CPU용 텐서를 넘파이 배열로 변환\n",
    "    predictions = predictions.numpy()\n",
    "    actual = actual.numpy()\n",
    "    rmse = np.sqrt(mean_squared_error(predictions, actual))\n",
    "    \n",
    "    # 여기서는 상관없지만, 평가 시에는 정규화 기술을 배제하여 온전한 모델로 평가해야 한다. (.eval() 사용)\n",
    "    # 즉, 드롭아웃이나 배치 정규화 등과 같이 학습 시에만 사용하는 기술들이 적용된 모델은 평가 시에는 비활성화해야 하며,\n",
    "    # 다시 .train() 사용해야 한다.\n",
    "    model.train()\n",
    "    return rmse"
   ]
  },
  {
   "cell_type": "markdown",
   "id": "0d364096-2524-46fb-bc50-b31e00869a3c",
   "metadata": {},
   "source": [
    "##### 💡 **교차 검증을 이용한 학습 및 평가**"
   ]
  },
  {
   "cell_type": "code",
   "execution_count": 27,
   "id": "22ccf527-7fc0-4f6f-bbc1-bda1a67c1165",
   "metadata": {},
   "outputs": [
    {
     "name": "stdout",
     "output_type": "stream",
     "text": [
      "trainset 길이 :  151\n",
      "0\n",
      "[  0   2   3   4   5   7  10  11  12  13  14  15  16  17  20  21  22  24\n",
      "  25  28  29  30  31  32  35  36  37  39  40  42  43  44  46  49  53  55\n",
      "  56  58  59  63  64  67  68  69  70  71  72  74  75  76  79  81  82  83\n",
      "  85  86  88  92  93  94  95  96  99 101 102 103 104 105 106 109 111 112\n",
      " 114 115 116 117 118 119 121 122 124 126 127 130 131 132 133 135 136 137\n",
      " 138 139 140 142 143 144 145 148 149 150] 100\n",
      "[  1   6   8   9  18  19  23  26  27  33  34  38  41  45  47  48  50  51\n",
      "  52  54  57  60  61  62  65  66  73  77  78  80  84  87  89  90  91  97\n",
      "  98 100 107 108 110 113 120 123 125 128 129 134 141 146 147] 51\n",
      "1\n",
      "[  1   2   3   6   7   8   9  11  12  16  17  18  19  20  21  23  24  25\n",
      "  26  27  28  30  31  33  34  37  38  40  41  43  44  45  47  48  49  50\n",
      "  51  52  54  56  57  60  61  62  65  66  71  73  75  76  77  78  79  80\n",
      "  82  84  87  89  90  91  93  94  95  96  97  98  99 100 101 102 104 106\n",
      " 107 108 110 111 113 114 116 118 119 120 121 122 123 124 125 126 128 129\n",
      " 131 133 134 136 138 139 140 141 142 146 147] 101\n",
      "[  0   4   5  10  13  14  15  22  29  32  35  36  39  42  46  53  55  58\n",
      "  59  63  64  67  68  69  70  72  74  81  83  85  86  88  92 103 105 109\n",
      " 112 115 117 127 130 132 135 137 143 144 145 148 149 150] 50\n",
      "2\n",
      "[  0   1   4   5   6   8   9  10  13  14  15  18  19  22  23  26  27  29\n",
      "  32  33  34  35  36  38  39  41  42  45  46  47  48  50  51  52  53  54\n",
      "  55  57  58  59  60  61  62  63  64  65  66  67  68  69  70  72  73  74\n",
      "  77  78  80  81  83  84  85  86  87  88  89  90  91  92  97  98 100 103\n",
      " 105 107 108 109 110 112 113 115 117 120 123 125 127 128 129 130 132 134\n",
      " 135 137 141 143 144 145 146 147 148 149 150] 101\n",
      "[  2   3   7  11  12  16  17  20  21  24  25  28  30  31  37  40  43  44\n",
      "  49  56  71  75  76  79  82  93  94  95  96  99 101 102 104 106 111 114\n",
      " 116 118 119 121 122 124 126 131 133 136 138 139 140 142] 50\n"
     ]
    }
   ],
   "source": [
    "print(\"trainset 길이 : \",len(trainset))\n",
    "for fold, (train_idx, val_idx) in enumerate(kfold.split(trainset)) :\n",
    "    print(fold)\n",
    "    print(train_idx, len(train_idx))\n",
    "    print(val_idx, len(val_idx))"
   ]
  },
  {
   "cell_type": "code",
   "execution_count": 39,
   "id": "677bed3f-f141-4749-83c4-1fd0c1fb0bf7",
   "metadata": {},
   "outputs": [
    {
     "name": "stdout",
     "output_type": "stream",
     "text": [
      "k-fold 0 Train Loss: 0.1115, Validation Loss: 0.2015\n",
      "k-fold 1 Train Loss: 0.1171, Validation Loss: 0.1317\n",
      "k-fold 2 Train Loss: 0.1143, Validation Loss: 0.1387\n"
     ]
    }
   ],
   "source": [
    "# 검증 점수를 산출하기 위해 fold 별 loss 저장 리스트\n",
    "validation_loss = []\n",
    "\n",
    "# kfold.split(trainset)을 이용하여 나눠진 학습 데이터의 인덱스를 불러온다. \n",
    "for fold, (train_idx, val_idx) in enumerate(kfold.split(trainset)) :\n",
    "    \n",
    "    # TensorData로 정의된 데이터의 일부를 불러와 데이터의 일부를 불러와 배치 데이터 형태로 활용할 수 있도록 \n",
    "        # 길이, 인덱스 사용할 수 있도록 \n",
    "    # DataLoader, SubsetRandomSampler를 함께 사용한다. \n",
    "    train_subsampler = torch.utils.data.SubsetRandomSampler(train_idx)\n",
    "    val_subsampler = torch.utils.data.SubsetRandomSampler(val_idx)\n",
    "    trainloader = torch.utils.data.DataLoader(trainset, batch_size=32, sampler = train_subsampler)\n",
    "    valloader = torch.utils.data.DataLoader(trainset, batch_size=32, sampler = val_subsampler)\n",
    "    \n",
    "    # (fold별로) 매 학습마다 모델 파라미터를 초기화하기 위해 for문 안에 모델을 선언\n",
    "    model = Regressor()\n",
    "    optimizer = optim.Adam(model.parameters(), lr=0.001, weight_decay=1e-7)\n",
    "    \n",
    "    for epoch in range(400) :\n",
    "        for data in trainloader : \n",
    "            inputs, values = data\n",
    "            optimizer.zero_grad()\n",
    "            \n",
    "            outputs = model(inputs)\n",
    "            loss = criterion(outputs, values)\n",
    "            loss.backward()\n",
    "            optimizer.step()\n",
    "            \n",
    "    # 각 검증마다 학습 데이터와 검증 데이터를 가지고 RMSE 계산 (총 3번)\n",
    "    train_rmse = evaluation(trainloader)\n",
    "    val_rmse = evaluation(valloader)\n",
    "    print(\"k-fold\", fold, \"Train Loss: %.4f, Validation Loss: %.4f\" %(train_rmse, val_rmse))\n",
    "    \n",
    "    # 검증 RMSE 저장\n",
    "    validation_loss.append(val_rmse)           "
   ]
  },
  {
   "cell_type": "markdown",
   "id": "c38dc7a6-5ecc-40bc-839f-594062a6e3e0",
   "metadata": {},
   "source": [
    "##### 💡 **검증 점수 산출**"
   ]
  },
  {
   "cell_type": "code",
   "execution_count": 41,
   "id": "c1c980c7-10f6-4f5f-8baf-4c50b2882f91",
   "metadata": {},
   "outputs": [
    {
     "name": "stdout",
     "output_type": "stream",
     "text": [
      "validation Score: 0.157294, +- 0.0314\n"
     ]
    }
   ],
   "source": [
    "validation_loss = np.array(validation_loss)\n",
    "mean = np.mean(validation_loss)\n",
    "std = np.std(validation_loss)\n",
    "print(\"validation Score: %4f, +- %.4f\" %(mean, std))"
   ]
  },
  {
   "cell_type": "markdown",
   "id": "f6df97b7-102c-4e0a-94df-2cff0fd60fac",
   "metadata": {},
   "source": [
    "##### 💡 **모델 평가**"
   ]
  },
  {
   "cell_type": "markdown",
   "id": "45b20d8c-4d21-4529-b6de-6e0daac6e4b5",
   "metadata": {},
   "source": [
    "- Train, Test의 차이가 줄어들었다."
   ]
  },
  {
   "cell_type": "code",
   "execution_count": 42,
   "id": "2efc3e21-2aef-439c-9903-e6a38fa67891",
   "metadata": {},
   "outputs": [
    {
     "name": "stdout",
     "output_type": "stream",
     "text": [
      "Train RMSE: 0.1229\n",
      "Test RMSE: 0.1318\n"
     ]
    }
   ],
   "source": [
    "# 다시 합쳐주기 (학습 데이터 전체에 대해 DataLoader 생성해서 RMSE 계산)\n",
    "trainloader = torch.utils.data.DataLoader(trainset, batch_size=32, shuffle=False)\n",
    "train_rmse = evaluation(trainloader)\n",
    "test_rmse = evaluation(testloader)\n",
    "print(\"Train RMSE: %.4f\" %train_rmse)\n",
    "print(\"Test RMSE: %.4f\" %test_rmse)"
   ]
  }
 ],
 "metadata": {
  "kernelspec": {
   "display_name": "Python 3 (ipykernel)",
   "language": "python",
   "name": "python3"
  },
  "language_info": {
   "codemirror_mode": {
    "name": "ipython",
    "version": 3
   },
   "file_extension": ".py",
   "mimetype": "text/x-python",
   "name": "python",
   "nbconvert_exporter": "python",
   "pygments_lexer": "ipython3",
   "version": "3.10.2"
  }
 },
 "nbformat": 4,
 "nbformat_minor": 5
}
