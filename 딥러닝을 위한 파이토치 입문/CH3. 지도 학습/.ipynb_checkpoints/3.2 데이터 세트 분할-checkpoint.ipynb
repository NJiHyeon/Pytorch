{
 "cells": [
  {
   "cell_type": "markdown",
   "id": "8b39db73-f8eb-44f9-a264-7b3a6b8f5f76",
   "metadata": {},
   "source": [
    "##### 💡 **무작위로 섞어서 데이터 분할**"
   ]
  },
  {
   "cell_type": "code",
   "execution_count": 2,
   "id": "c12677d9-0698-42af-8f42-438eb8c13464",
   "metadata": {},
   "outputs": [],
   "source": [
    "import numpy as np\n",
    "from sklearn.model_selection import train_test_split\n",
    "\n",
    "X, y = np.arange(1000).reshape((100, 10)), np.arange(100)\n",
    "X_train, X_test, y_train, y_test = train_test_split(X, y, test_size = 0.3, random_state=0)"
   ]
  },
  {
   "cell_type": "markdown",
   "id": "a55ade06-df28-4fbe-9a18-93f1ffff418d",
   "metadata": {},
   "source": [
    "- train, validation, test로 분할 하고 싶을 때\n",
    "    - test를 다시 val과 test로 1:1로 나눠주기\n",
    "    - random_state=1 이라고 하면 random 함수의 seed 값을 고정시키기 때문에 여러번 수행하더라도 같은 레코드를 추출"
   ]
  },
  {
   "cell_type": "code",
   "execution_count": 3,
   "id": "0a35e4ec-c4dd-42db-93c1-2334d97957af",
   "metadata": {},
   "outputs": [],
   "source": [
    "import numpy as np\n",
    "from sklearn.model_selection import train_test_split\n",
    "\n",
    "X, y = np.arange(1000).reshape((100, 10)), np.arange(100)\n",
    "X_train, X_test, y_train, y_test = train_test_split(X, y, test_size = 0.4, random_state=0)\n",
    "X_test, X_val, y_test, y_val = train_test_split(X_test, y_test, test_size=0.5, random_state=1)"
   ]
  }
 ],
 "metadata": {
  "kernelspec": {
   "display_name": "Python 3 (ipykernel)",
   "language": "python",
   "name": "python3"
  },
  "language_info": {
   "codemirror_mode": {
    "name": "ipython",
    "version": 3
   },
   "file_extension": ".py",
   "mimetype": "text/x-python",
   "name": "python",
   "nbconvert_exporter": "python",
   "pygments_lexer": "ipython3",
   "version": "3.10.2"
  }
 },
 "nbformat": 4,
 "nbformat_minor": 5
}
