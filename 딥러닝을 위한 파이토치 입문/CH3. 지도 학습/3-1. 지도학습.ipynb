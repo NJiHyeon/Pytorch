{
 "cells": [
  {
   "cell_type": "code",
   "execution_count": null,
   "id": "2295fffc-5a38-4d7e-ab22-fa6ce41145fb",
   "metadata": {},
   "outputs": [],
   "source": [
    "# 데이터 정의 (1)\n",
    "train_data = ...\n",
    "train_loader = ...\n",
    "\n",
    "# 반복 학습\n",
    "# 전체 데이터에 대한 반복 학습 (6)\n",
    "for epoch in range(num_epochs) :\n",
    "    # 입력값과 실제값 - 배치 데이터* (2)\n",
    "    for inputs, labels in train_loader : \n",
    "        ...중략...\n",
    "        # 최적화 초기화\n",
    "        optimizer.zero_grad()\n",
    "        # 예측값 산출 (2)\n",
    "        outputs = model(inputs)\n",
    "        # 손실 함수 계산 (3)\n",
    "        loss = criterion(output, labels)\n",
    "        # 손실 함수를 기준으로 역전파 설정 (4)\n",
    "        loss.backward()\n",
    "        # 모델 가중치 업데이트 (5)\n",
    "        optimizer.step()\n",
    "        \n",
    "    ...중략..."
   ]
  }
 ],
 "metadata": {
  "kernelspec": {
   "display_name": "Python 3 (ipykernel)",
   "language": "python",
   "name": "python3"
  },
  "language_info": {
   "codemirror_mode": {
    "name": "ipython",
    "version": 3
   },
   "file_extension": ".py",
   "mimetype": "text/x-python",
   "name": "python",
   "nbconvert_exporter": "python",
   "pygments_lexer": "ipython3",
   "version": "3.10.2"
  }
 },
 "nbformat": 4,
 "nbformat_minor": 5
}
