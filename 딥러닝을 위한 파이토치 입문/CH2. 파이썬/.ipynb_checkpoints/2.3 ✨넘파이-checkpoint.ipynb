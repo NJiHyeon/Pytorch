{
 "cells": [
  {
   "cell_type": "markdown",
   "id": "470ed501-d8d1-4e37-bc50-d8877c69b693",
   "metadata": {
    "tags": []
   },
   "source": [
    "#### 🔎 2.3.1 여러가지 배열"
   ]
  },
  {
   "cell_type": "code",
<<<<<<< HEAD
   "execution_count": 2,
=======
   "execution_count": 1,
>>>>>>> 99325cd03628147416d97a327748c4edcfad4e88
   "id": "cdc37d1b-2525-4c7a-af42-e5851bdcf22e",
   "metadata": {},
   "outputs": [],
   "source": [
    "import numpy as np"
   ]
  },
  {
   "cell_type": "code",
   "execution_count": 2,
   "id": "218f5838-361c-4fa1-82fe-73b0e23b34c4",
   "metadata": {},
   "outputs": [
    {
     "name": "stdout",
     "output_type": "stream",
     "text": [
      "a:  [ 1  5  0 -1]\n",
      "b:  [[[1. 1.]\n",
      "  [1. 1.]]\n",
      "\n",
      " [[1. 1.]\n",
      "  [1. 1.]]]\n",
      "c:  [[0. 0. 0.]\n",
      " [0. 0. 0.]]\n",
      "d:  [0 1 2 3 4 5 6 7 8 9]\n",
      "e:  [ 0.   2.5  5.   7.5 10. ]\n",
      "f:  [8 4 7 5 2]\n"
     ]
    }
   ],
   "source": [
    "a = np.array([1, 5, 0, -1])\n",
    "b = np.ones((2, 2, 2))\n",
    "c = np.zeros((2, 3))\n",
    "d = np.arange(10) \n",
    "e = np.linspace(0, 10, 5)\n",
    "f = np.random.randint(2, 10, 5)\n",
    "print(\"a: \", a)\n",
    "print(\"b: \", b)\n",
    "print(\"c: \", c)\n",
    "print(\"d: \", d)\n",
    "print(\"e: \", e)\n",
    "print(\"f: \", f)"
   ]
  },
  {
   "cell_type": "markdown",
   "id": "8a4b7417-b689-4e13-b301-7f90246446c9",
   "metadata": {},
   "source": [
    "-------------------------------------------------------------------------------------------------------"
   ]
  },
  {
   "cell_type": "markdown",
   "id": "6e2a0101-93e5-4d71-a038-e7fcf66ec3e8",
   "metadata": {
    "tags": []
   },
   "source": [
    "#### 🔎 2.3.2 배열의 크기와 변환"
   ]
  },
  {
   "cell_type": "markdown",
   "id": "c1535f95-45d1-4a4a-bbe4-0754a4111997",
   "metadata": {},
   "source": [
    "- `x.shape` : 배열의 모양 확인\n",
    "    - `x.reshape(숫자1, 숫자2)` : 배열의 크기 변경\n",
    "    - `x.reshape(숫자, -1)` : -1은 자동으로 계산해줌\n",
    "- `len(x)` : 길이 확인\n",
    "    - 2차원 이상인 경우, 맨 앞의 숫자가 길이\n",
    "- `x.ndim` : 차원 확인\n",
    "- `x.dtype` : 배열 내 속성/타입 확인\n",
    "    - `x.astype('int', 'float'...)` : 배열의 속성/타입 변경\n",
    "- `x.ravel` : 배열을 행 순서로 이어 붙여 1차원 배열로 변환"
   ]
  },
  {
   "cell_type": "code",
   "execution_count": 3,
   "id": "3bf81a6a-d333-478b-af92-258ae968c839",
   "metadata": {},
   "outputs": [
    {
     "name": "stdout",
     "output_type": "stream",
     "text": [
      "(4,)\n",
      "(2, 2, 2)\n",
      "(2, 3)\n",
      "(10,)\n",
      "(5,)\n",
      "(5,)\n"
     ]
    }
   ],
   "source": [
    "print(a.shape)\n",
    "print(b.shape)\n",
    "print(c.shape)\n",
    "print(d.shape)\n",
    "print(e.shape)\n",
    "print(f.shape)"
   ]
  },
  {
   "cell_type": "code",
   "execution_count": 4,
   "id": "0883c5c7-53b0-47bd-8ad6-ac73961c6b0a",
   "metadata": {},
   "outputs": [
    {
     "name": "stdout",
     "output_type": "stream",
     "text": [
      "4\n",
      "2\n",
      "2\n",
      "10\n",
      "5\n",
      "5\n"
     ]
    }
   ],
   "source": [
    "print(len(a))\n",
    "print(len(b)) \n",
    "print(len(c)) \n",
    "print(len(d))\n",
    "print(len(e))\n",
    "print(len(f))"
   ]
  },
  {
   "cell_type": "code",
   "execution_count": 5,
   "id": "8b640580-a90f-4a11-bd54-5fe0f876375b",
   "metadata": {},
   "outputs": [
    {
     "name": "stdout",
     "output_type": "stream",
     "text": [
      "1\n",
      "3\n",
      "2\n",
      "1\n",
      "1\n",
      "1\n"
     ]
    }
   ],
   "source": [
    "print(a.ndim)\n",
    "print(b.ndim)\n",
    "print(c.ndim)\n",
    "print(d.ndim)\n",
    "print(e.ndim)\n",
    "print(f.ndim)"
   ]
  },
  {
   "cell_type": "code",
   "execution_count": 6,
   "id": "45b20673-d89e-42b7-a80b-baed08516c7e",
   "metadata": {},
   "outputs": [
    {
     "name": "stdout",
     "output_type": "stream",
     "text": [
      "int32\n",
      "float64\n",
      "float64\n",
      "int32\n",
      "float64\n",
      "int32\n"
     ]
    }
   ],
   "source": [
    "print(a.dtype)\n",
    "print(b.dtype)\n",
    "print(c.dtype)\n",
    "print(d.dtype)\n",
    "print(e.dtype)\n",
    "print(f.dtype)"
   ]
  },
  {
   "cell_type": "code",
   "execution_count": 7,
   "id": "8eaca777-edd7-4ebc-8c31-e17528b9e7b1",
   "metadata": {},
   "outputs": [
    {
     "data": {
      "text/plain": [
       "array([[0., 0., 0., 0., 0., 0.]])"
      ]
     },
     "execution_count": 7,
     "metadata": {},
     "output_type": "execute_result"
    }
   ],
   "source": [
    "# 배열의 크기 변경\n",
    "c.reshape(1, 6)"
   ]
  },
  {
   "cell_type": "code",
   "execution_count": 8,
   "id": "7fb725ee-fd9b-4e63-b61c-b904201d3cbe",
   "metadata": {},
   "outputs": [
    {
     "data": {
      "text/plain": [
       "array([[0, 0, 0],\n",
       "       [0, 0, 0]])"
      ]
     },
     "execution_count": 8,
     "metadata": {},
     "output_type": "execute_result"
    }
   ],
   "source": [
    "# 배열 내의 성분의 타입 변경\n",
    "c.astype('int')"
   ]
  },
  {
   "cell_type": "code",
   "execution_count": 9,
   "id": "39dc8c42-1025-4c90-badc-a9b34815dd0e",
   "metadata": {},
   "outputs": [
    {
     "name": "stdout",
     "output_type": "stream",
     "text": [
      "(10,)\n",
      "[[0 1 2 3 4]\n",
      " [5 6 7 8 9]] (2, 5)\n",
      "[0 1 2 3 4 5 6 7 8 9]\n"
     ]
    }
   ],
   "source": [
    "# ravel \n",
    "print(d.shape)\n",
    "d1 = d.reshape(2, 5)\n",
    "print(d1, d1.shape)\n",
    "print(d1.ravel())"
   ]
  },
  {
   "cell_type": "code",
   "execution_count": 31,
   "id": "cf05fe79-16f5-4bf6-9dc4-a56a34a135e0",
   "metadata": {},
   "outputs": [
    {
     "name": "stdout",
     "output_type": "stream",
     "text": [
      "[0 1 2 3 4]\n",
      "[5 6 7 8 9]\n",
      "1\n",
      "2\n",
      "2\n",
      "[2 3]\n",
      "[0 1]\n",
      "8\n"
     ]
    }
   ],
   "source": [
    "# 인덱스 사용 가능\n",
    "# d1 = array([[0, 1, 2, 3, 4], [5, 6, 7, 8, 9]])\n",
    "print(d1[0])\n",
    "print(d1[1])\n",
    "print(d1[0][1])\n",
    "print(d1[0][2])\n",
    "print(d1[0, 2])\n",
    "print(d1[0, 2:4])\n",
    "print(d1[0, :2])\n",
    "print(d1[-1, 3])"
   ]
  },
  {
   "cell_type": "markdown",
   "id": "6c75bcec-00bc-4a88-b55b-b221d4e7ba64",
   "metadata": {},
   "source": [
    "-------------------------------------------------------------------------------------------------------"
   ]
  },
  {
   "cell_type": "markdown",
   "id": "28eae80e-ed66-42b8-9e6f-704ec859850c",
   "metadata": {},
   "source": [
    "#### 🔎 2.3.3 조건문을 이용한 인덱스 검색"
   ]
  },
  {
   "cell_type": "markdown",
   "id": "726a85b8-b473-40f7-8a46-4311609a0213",
   "metadata": {},
   "source": [
    "- `np.where` : 특정 조건을 만족하는 성분의 위치를 알고 싶을 때\n",
    "    - `np.where(조건문, 참 결과, 거짓 결과)로 표현`"
   ]
  },
  {
   "cell_type": "code",
   "execution_count": 33,
   "id": "c077a256-d6e5-4766-8cd3-2104b5797c87",
   "metadata": {},
   "outputs": [
    {
     "data": {
      "text/plain": [
       "array([[ 0.29469689, -0.66144429, -0.118407  ],\n",
       "       [-1.82579704, -0.64288423, -1.6873289 ],\n",
       "       [ 0.9559588 , -0.7325095 , -0.07468272],\n",
       "       [ 0.16387291,  1.31507952,  0.37441821],\n",
       "       [ 0.64986743,  1.4142455 , -0.70554772]])"
      ]
     },
     "execution_count": 33,
     "metadata": {},
     "output_type": "execute_result"
    }
   ],
   "source": [
    "mu = 0\n",
    "sigma = 1\n",
    "arr = np.random.normal(mu, sigma, (5, 3))\n",
    "arr"
   ]
  },
  {
   "cell_type": "code",
   "execution_count": 35,
   "id": "80034a25-de73-4d1f-9cb3-316392ef1d85",
   "metadata": {},
   "outputs": [
    {
     "data": {
      "text/plain": [
       "array([['in', 'in', 'in'],\n",
       "       ['out', 'in', 'out'],\n",
       "       ['in', 'in', 'in'],\n",
       "       ['in', 'out', 'in'],\n",
       "       ['in', 'out', 'in']], dtype='<U3')"
      ]
     },
     "execution_count": 35,
     "metadata": {},
     "output_type": "execute_result"
    }
   ],
   "source": [
    "# arr의 절댓값이 1보다 크면 \"out\" 출력, 그렇지 않으면 \"in\" 출력\n",
    "np.where(abs(arr) > sigma, \"out\", \"in\") "
   ]
  },
  {
   "cell_type": "code",
   "execution_count": 36,
   "id": "a35d6b2f-a56d-4fba-893e-3ad6e6c9d2c6",
   "metadata": {},
   "outputs": [
    {
     "data": {
      "text/plain": [
       "(array([1, 1, 3, 4], dtype=int64), array([0, 2, 1, 1], dtype=int64))"
      ]
     },
     "execution_count": 36,
     "metadata": {},
     "output_type": "execute_result"
    }
   ],
   "source": [
    "# 반환값을 설정하지 않으면 해당 인덱스를 산출\n",
    "    # 첫번째 array는 행에 대한 인덱스\n",
    "    # 두번째 array는 열에 대한 인덱스\n",
    "    # 2차원 배열은 행과 열을 나타내는 2개의 성분을 가진 튜플로 반환 -> n차원 배열은 n개의 성분을 가진 튜플 반환\n",
    "np.where(abs(arr) > sigma)"
   ]
  },
  {
   "cell_type": "markdown",
   "id": "e99a8fe8-03fe-4080-9e83-2d77b4481c89",
   "metadata": {},
   "source": [
    "-------------------------------------------------------------------------------------------------------"
   ]
  },
  {
   "cell_type": "markdown",
   "id": "8d30bfc8-26ee-4c1d-b1d9-09216b04ace6",
   "metadata": {},
   "source": [
    "#### 🔎 2.3.4 배열의 기본 연산"
   ]
  },
  {
   "cell_type": "code",
   "execution_count": 48,
   "id": "bd0db507-2bc8-4c2b-87e7-0d896ed3f950",
   "metadata": {},
   "outputs": [
    {
     "name": "stdout",
     "output_type": "stream",
     "text": [
      "a, b : [[ 1  3]\n",
      " [ 0 -1]] [[8 8]\n",
      " [9 0]]\n",
      "a+b : [[ 9 11]\n",
      " [ 9 -1]]\n",
      "a*b : [[ 8 24]\n",
      " [ 0  0]]\n",
      "a**b : [[   1 6561]\n",
      " [   0    1]]\n",
      "2*a : [[ 2  6]\n",
      " [ 0 -2]]\n",
      "a-1 : [[ 0  2]\n",
      " [-1 -2]]\n",
      "matmul : [[35  8]\n",
      " [-9  0]]\n"
     ]
    }
   ],
   "source": [
    "a = np.array([[1, 3], [0, -1]])\n",
    "b = np.random.randint(0, 10, 4).reshape(2, 2)\n",
    "print('a, b :', a, b)\n",
    "\n",
    "print('a+b :', a + b)\n",
    "print('a*b :', a * b)\n",
    "print('a**b :', a ** b)\n",
    "print('2*a :', 2 * a)\n",
    "print('a-1 :', a - 1)\n",
    "print('matmul :', np.matmul(a, b))"
   ]
  },
  {
   "cell_type": "markdown",
   "id": "1e6aba51-27b1-4cd3-9119-8a438abe0fbd",
   "metadata": {},
   "source": [
    "-------------------------------------------------------------------------------------------------------"
   ]
  },
  {
   "cell_type": "markdown",
   "id": "c6be7852-9ccd-444f-968d-bccae36bafb0",
   "metadata": {},
   "source": [
    "#### 🔎 2.3.5 배열의 병합"
   ]
  },
  {
   "cell_type": "markdown",
   "id": "11df623a-6ec1-4f76-ae04-aaeb7c0d3fb3",
   "metadata": {},
   "source": [
    "- `concatenate` : 여러 개의 배열을 합쳐서 데이터를 모아야 할 때\n",
    "    - `axis` : 어느 차원으로 배열을 합쳐야 하는지 결정"
   ]
  },
  {
   "cell_type": "code",
   "execution_count": 49,
   "id": "b7a395c5-7129-48e9-a0d8-d16250916a86",
   "metadata": {},
   "outputs": [
    {
     "data": {
      "text/plain": [
       "array([[ 1,  3],\n",
       "       [ 0, -1],\n",
       "       [ 8,  8],\n",
       "       [ 9,  0]])"
      ]
     },
     "execution_count": 49,
     "metadata": {},
     "output_type": "execute_result"
    }
   ],
   "source": [
    "np.concatenate([a, b], axis=0)"
   ]
  },
  {
   "cell_type": "code",
   "execution_count": 50,
   "id": "08101d8e-4b98-4aca-a068-5e71090327e2",
   "metadata": {},
   "outputs": [
    {
     "data": {
      "text/plain": [
       "array([[ 1,  3],\n",
       "       [ 0, -1],\n",
       "       [ 8,  8],\n",
       "       [ 9,  0]])"
      ]
     },
     "execution_count": 50,
     "metadata": {},
     "output_type": "execute_result"
    }
   ],
   "source": [
    "np.vstack((a, b))"
   ]
  },
  {
   "cell_type": "code",
   "execution_count": 51,
   "id": "6711492a-3a34-4a74-8e3b-d8d5caad13bd",
   "metadata": {},
   "outputs": [
    {
     "data": {
      "text/plain": [
       "array([[ 1,  3,  8,  8],\n",
       "       [ 0, -1,  9,  0]])"
      ]
     },
     "execution_count": 51,
     "metadata": {},
     "output_type": "execute_result"
    }
   ],
   "source": [
    "np.concatenate([a, b], axis=1)"
   ]
  },
  {
   "cell_type": "code",
   "execution_count": 53,
   "id": "8d1ff1e6-edd7-4e73-8acd-9d0fe09a4b4b",
   "metadata": {},
   "outputs": [
    {
     "data": {
      "text/plain": [
       "array([[ 1,  3,  8,  8],\n",
       "       [ 0, -1,  9,  0]])"
      ]
     },
     "execution_count": 53,
     "metadata": {},
     "output_type": "execute_result"
    }
   ],
   "source": [
    "np.hstack((a, b))"
   ]
  },
  {
   "cell_type": "markdown",
   "id": "8e6ab0f5-e5c2-47c9-96b3-f859b3c80d38",
   "metadata": {},
   "source": [
    "-------------------------------------------------------------------------------------------------------"
   ]
  },
  {
   "cell_type": "markdown",
   "id": "c9f1954f-18cc-481d-85d0-424e8909d606",
   "metadata": {},
   "source": [
    "#### 🔎 2.3.6 다양한 계산 함수"
   ]
  },
  {
   "cell_type": "code",
   "execution_count": 54,
   "id": "4a92b86e-3b14-4a4e-9481-7946cd58e02d",
   "metadata": {},
   "outputs": [
    {
     "name": "stdout",
     "output_type": "stream",
     "text": [
      "[3, 0.75, 1.479019945774904, -1]\n"
     ]
    }
   ],
   "source": [
    "des = [np.sum(a), np.mean(a), np.std(a), np.min(a)]\n",
    "print(des)"
   ]
  }
 ],
 "metadata": {
  "kernelspec": {
   "display_name": "Python 3 (ipykernel)",
   "language": "python",
   "name": "python3"
  },
  "language_info": {
   "codemirror_mode": {
    "name": "ipython",
    "version": 3
   },
   "file_extension": ".py",
   "mimetype": "text/x-python",
   "name": "python",
   "nbconvert_exporter": "python",
   "pygments_lexer": "ipython3",
   "version": "3.10.2"
  }
 },
 "nbformat": 4,
 "nbformat_minor": 5
}
