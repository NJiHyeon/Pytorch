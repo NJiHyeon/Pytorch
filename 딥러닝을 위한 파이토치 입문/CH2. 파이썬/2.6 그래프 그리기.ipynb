{
 "cells": [
  {
   "cell_type": "code",
   "execution_count": 3,
   "id": "6c705476-863a-4591-96ea-4510add34f28",
   "metadata": {},
   "outputs": [],
   "source": [
    "import numpy as np\n",
    "from matplotlib import pyplot as plt\n",
    "\n",
    "epoch = np.arange(1, 100)\n",
    "train_loss = 1.5/(epoch)\n",
    "val_loss = .3+1/(epoch)"
   ]
  },
  {
   "cell_type": "markdown",
   "id": "3fd3d30f-a395-4c3d-bf68-938542f45356",
   "metadata": {},
   "source": [
    "- `plt.figure( )`\n",
    "    - 그래프의 틀을 담당\n",
    "    - figsize = (너비, 높이)로 전체 표의 사이즈 조절 가능\n",
    "- `plt.plot( )`\n",
    "    - 리스트나 넘파이 배열을 모두 2차원 그래프로 표현\n",
    "    - 추가적인 함수를 통해 그래프를 꾸며준다.\n",
    "    - `plot(x변수, y변수, ...)`로 표현하면 (x, y)에 해당하는 그패르르 그려준다.\n",
    "    - `plot(y변수, ..._)`로 표현하면 x변수는 0, 1, 2...의 정수가 자동으로 들어간다.\n",
    "    - 표시 방법\n",
    "        - `r-` : 빨간색 선\n",
    "        - `*` : 해당 점을 별로 표시\n",
    "- `legend( )`\n",
    "    - 범례를 나타내는 함수\n",
    "    - 그래프가 그려지는 순서로 할당\n",
    "- `title( )` : 제목\n",
    "- `xlabel( )`, `ylabel()` : x축명, y축명\n",
    "- `show( )` : 그래프를 다 꾸몄다면 마지막에 입력하여 그래프 출력\n",
    "- `savefig(\"./loss.png\")` : 동일 폴더에 그래프 저장"
   ]
  },
  {
   "cell_type": "code",
   "execution_count": 12,
   "id": "9f41530b-e89e-4df9-bb07-fa5f224530cb",
   "metadata": {},
   "outputs": [
    {
     "data": {
      "image/png": "[encoded data removed]",
      "text/plain": [
       "<Figure size 720x360 with 1 Axes>"
      ]
     },
     "metadata": {
      "needs_background": "light"
     },
     "output_type": "display_data"
    }
   ],
   "source": [
    "plt.figure(figsize=(10, 5))\n",
    "plt.plot(train_loss, 'r-*')\n",
    "plt.plot(val_loss, 'b-*')\n",
    "plt.legend(['train', 'validatioin'])\n",
    "plt.title(\"MNIST\")\n",
    "plt.xlabel(\"epoch\")\n",
    "plt.ylabel(\"loss\")\n",
    "plt.show()"
   ]
  },
  {
   "cell_type": "markdown",
   "id": "8f7a3834-dbf2-4470-b432-751680acd6ed",
   "metadata": {},
   "source": [
    "##### 💡 **다중 그래프 그리기**"
   ]
  },
  {
   "cell_type": "markdown",
   "id": "ba0739cc-d37e-4171-80f4-bf400418795a",
   "metadata": {},
   "source": [
    "- `plt.subsplot( )`\n",
    "    - 3개의 숫자를 통해 틀의 위치를 정할 수 있다.\n",
    "    - 예를 들어, 221이면 2행 2열 형태의 그패르 4개를 만들겠다는 의미이고, 그 중에서 첫번째 그래프\n",
    "- `plt.imshow( )`\n",
    "    - 이미지로 출력 가능\n",
    "    - `cmap` : 컬러 스타일 지정 가능\n",
    "- `plt.clim( )` \n",
    "    - 컬러 스케일링을 위해 컬러 값의 범위 지정\n",
    "- `plt.axis('off')`\n",
    "    - 이미지만 얻고 싶을 때 x축, y축 없앨 수 있다."
   ]
  },
  {
   "cell_type": "code",
   "execution_count": 20,
   "id": "48280757-7a46-46fe-9bb1-00980a345fa4",
   "metadata": {},
   "outputs": [
    {
     "data": {
      "image/png": "[encoded data removed]",
      "text/plain": [
       "<Figure size 360x360 with 4 Axes>"
      ]
     },
     "metadata": {
      "needs_background": "light"
     },
     "output_type": "display_data"
    }
   ],
   "source": [
    "random_images = np.random.normal(0, 1, (4, 216, 216))\n",
    "extend = [-1, 1, -1, 1]\n",
    "plt.figure(figsize=(5, 5))\n",
    "\n",
    "plt.subplot(221)\n",
    "plt.imshow(random_images[0], interpolation='nearest', cmap='jet')\n",
    "plt.title(\"t=0\", fontsize=20)\n",
    "plt.clim(-1, -1)\n",
    "plt.axis('off')\n",
    "\n",
    "plt.subplot(222)\n",
    "plt.imshow(random_images[1], interpolation='nearest', cmap='jet')\n",
    "plt.title(\"t=1\", fontsize=20)\n",
    "plt.clim(-1, -1)\n",
    "plt.axis('off')\n",
    "\n",
    "plt.subplot(223)\n",
    "plt.imshow(random_images[2], interpolation='nearest', cmap='jet')\n",
    "plt.title(\"t=2\", fontsize=20)\n",
    "plt.clim(-1, -1)\n",
    "plt.axis('off')\n",
    "\n",
    "plt.subplot(224)\n",
    "plt.imshow(random_images[3], interpolation='nearest', cmap='jet')\n",
    "plt.title(\"t=3\", fontsize=20)\n",
    "plt.clim(-1, -1)\n",
    "plt.axis('off')\n",
    "\n",
    "plt.show()"
   ]
  }
 ],
 "metadata": {
  "kernelspec": {
   "display_name": "Python 3 (ipykernel)",
   "language": "python",
   "name": "python3"
  },
  "language_info": {
   "codemirror_mode": {
    "name": "ipython",
    "version": 3
   },
   "file_extension": ".py",
   "mimetype": "text/x-python",
   "name": "python",
   "nbconvert_exporter": "python",
   "pygments_lexer": "ipython3",
   "version": "3.10.2"
  }
 },
 "nbformat": 4,
 "nbformat_minor": 5
}
