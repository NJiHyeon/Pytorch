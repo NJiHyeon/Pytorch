{
 "cells": [
  {
   "cell_type": "markdown",
   "id": "aec64911-5273-4dc4-abcb-fc82c6274975",
   "metadata": {},
   "source": [
    "#### 🔎 2.4.1 if문"
   ]
  },
  {
   "cell_type": "code",
   "execution_count": 1,
   "id": "930894f6-79d5-41d4-ab0f-887415e94b97",
   "metadata": {},
   "outputs": [
    {
     "name": "stdout",
     "output_type": "stream",
     "text": [
      "x != 1\n"
     ]
    }
   ],
   "source": [
    "x = 10\n",
    "if x==1 :\n",
    "    print(\"x = 1\")\n",
    "else : \n",
    "    print(\"x != 1\")"
   ]
  },
  {
   "cell_type": "code",
   "execution_count": 2,
   "id": "7268676d-bbc2-42a8-8257-8f8629d82886",
   "metadata": {},
   "outputs": [
    {
     "name": "stdout",
     "output_type": "stream",
     "text": [
      "x는 4이상 입니다.\n"
     ]
    }
   ],
   "source": [
    "x = 10\n",
    "\n",
    "if x==1 :\n",
    "    print(\"x는 1입니다.\")\n",
    "elif x==2 :\n",
    "    print(\"x는 2입니다.\")\n",
    "elif x==3 :\n",
    "    print(\"x는 3입니다.\")\n",
    "else : \n",
    "    print(\"x는 4이상 입니다.\")"
   ]
  },
  {
   "cell_type": "markdown",
   "id": "0c96dd8d-e70a-439a-8ac3-873334830b0c",
   "metadata": {},
   "source": [
    "----------------------------------------------------------------------------------------------------"
   ]
  },
  {
   "cell_type": "markdown",
   "id": "77c8e74f-819a-4c31-8ee5-f0808bb9df33",
   "metadata": {},
   "source": [
    "#### 🔎 2.4.2 for문"
   ]
  },
  {
   "cell_type": "code",
   "execution_count": 3,
   "id": "d3bce2d2-a627-4757-8d3b-5225f25d0aff",
   "metadata": {},
   "outputs": [
    {
     "name": "stdout",
     "output_type": "stream",
     "text": [
      "0\n",
      "1\n",
      "2\n",
      "3\n",
      "4\n"
     ]
    }
   ],
   "source": [
    "for i in range(5) : # range(5) = [0, 1, 2, 3, 4]list\n",
    "    print(i)"
   ]
  },
  {
   "cell_type": "markdown",
   "id": "9ec04609-303b-45d7-8c77-f77e2d7165c7",
   "metadata": {},
   "source": [
    "----------------------------------------------------------------------------------------------------"
   ]
  },
  {
   "cell_type": "markdown",
   "id": "22b5ba1a-0e9b-4523-9bd5-6f2978712a04",
   "metadata": {},
   "source": [
    "#### 🔎 2.4.3 while문"
   ]
  },
  {
   "cell_type": "code",
   "execution_count": 4,
   "id": "02ccec6f-d1af-4084-aa6f-9916261206c3",
   "metadata": {},
   "outputs": [
    {
     "name": "stdout",
     "output_type": "stream",
     "text": [
      "0\n",
      "1\n",
      "2\n",
      "3\n",
      "4\n"
     ]
    }
   ],
   "source": [
    "i = 0\n",
    "while i < 5 :\n",
    "    print(i)\n",
    "    i += 1"
   ]
  },
  {
   "cell_type": "markdown",
   "id": "f02304b8-56f1-4f23-a0dc-26eb8f330f25",
   "metadata": {},
   "source": [
    "----------------------------------------------------------------------------------------------------"
   ]
  },
  {
   "cell_type": "markdown",
   "id": "2fe6a547-c2fb-4415-988c-8a074320569a",
   "metadata": {},
   "source": [
    "#### 🔎 2.4.4 break, continue문"
   ]
  },
  {
   "cell_type": "markdown",
   "id": "8531ee81-ce31-4cc9-ac25-7b0dc296088e",
   "metadata": {},
   "source": [
    "- `continue` : 조건문에 들어오게 되면 해당 반복 회차를 건너뛰게 된다. (즉, 그거 빼고 계속 실행)\n",
    "- `break` : 조건문에 들어오게 되면 해당 반복문을 중단한다."
   ]
  },
  {
   "cell_type": "code",
   "execution_count": 7,
   "id": "ab608489-27cf-456c-8c8f-5558ea714f24",
   "metadata": {},
   "outputs": [
    {
     "name": "stdout",
     "output_type": "stream",
     "text": [
      "0\n",
      "1\n",
      "2\n",
      "4\n"
     ]
    }
   ],
   "source": [
    "for i in range(5) :\n",
    "    if i==3 :\n",
    "        continue\n",
    "    print(i)"
   ]
  },
  {
   "cell_type": "code",
   "execution_count": 8,
   "id": "5e8cd7a7-5ef9-4083-8aaa-fab856389a62",
   "metadata": {},
   "outputs": [
    {
     "name": "stdout",
     "output_type": "stream",
     "text": [
      "0\n",
      "1\n",
      "2\n"
     ]
    }
   ],
   "source": [
    "for i in range(5) :\n",
    "    if i ==3 :\n",
    "        break\n",
    "    print(i)"
   ]
  },
  {
   "cell_type": "markdown",
   "id": "e12a0956-65e1-459b-985b-3ad8a1364382",
   "metadata": {},
   "source": [
    "----------------------------------------------------------------------------------------------------"
   ]
  },
  {
   "cell_type": "markdown",
   "id": "89aa6c49-8a61-4fee-828e-8b7163504f54",
   "metadata": {},
   "source": [
    "#### 🔎 2.4.5 try & except문"
   ]
  },
  {
   "cell_type": "markdown",
   "id": "853dfd0e-0c2e-4ad7-9f4f-c85c8a05d55e",
   "metadata": {},
   "source": [
    "- 오류가 나더라도 오류를 배제하고 다음 반복문을 진행하기 위해\n",
    "- print( )를 통해 오류에 대해서 메시지를 출력할 수도 있다.\n",
    "- 소수의 오류로 인해 알고리즘이 멈추는 것을 방지하기 위함 !"
   ]
  },
  {
   "cell_type": "code",
   "execution_count": 10,
   "id": "34def7f2-b718-4e36-85e8-c20a6ffb57c1",
   "metadata": {},
   "outputs": [
    {
     "name": "stdout",
     "output_type": "stream",
     "text": [
      "2\n",
      "3\n",
      "4\n",
      "5\n",
      "6\n"
     ]
    }
   ],
   "source": [
    "x = [1, 2, 3, \"s\", 4, 5]\n",
    "for i in x :\n",
    "    try :\n",
    "        y = i + 1\n",
    "        print(y)\n",
    "    # 문자열과 숫자는 연산을 못하지만 에러를 출력하지 않고 excep문을 이용해 pass 실행\n",
    "    except :\n",
    "        pass"
   ]
  },
  {
   "cell_type": "markdown",
   "id": "e96a86bd-d556-4e32-b447-cb3312288d76",
   "metadata": {},
   "source": [
    "- 조건 반복문"
   ]
  },
  {
   "cell_type": "code",
   "execution_count": 12,
   "id": "4b3def60-a1ae-4f35-bddd-15eb0ac45e95",
   "metadata": {},
   "outputs": [
    {
     "name": "stdout",
     "output_type": "stream",
     "text": [
      "꽝입니다.\n",
      "3등입니다.\n"
     ]
    }
   ],
   "source": [
    "import numpy as np\n",
    "Z = np.random.randint(0, 2, (2, 3))\n",
    "\n",
    "for z in Z :\n",
    "    cond = sum(z)\n",
    "    if cond == 3 :\n",
    "        print(\"1등입니다.\")\n",
    "    elif cond == 0 :\n",
    "        print(\"2등입니다.\")\n",
    "    elif (cond==2) and (z[0]==1) :\n",
    "        print(\"3등입니다.\")\n",
    "    else :\n",
    "        print(\"꽝입니다.\")"
   ]
  }
 ],
 "metadata": {
  "kernelspec": {
   "display_name": "Python 3 (ipykernel)",
   "language": "python",
   "name": "python3"
  },
  "language_info": {
   "codemirror_mode": {
    "name": "ipython",
    "version": 3
   },
   "file_extension": ".py",
   "mimetype": "text/x-python",
   "name": "python",
   "nbconvert_exporter": "python",
   "pygments_lexer": "ipython3",
   "version": "3.10.2"
  }
 },
 "nbformat": 4,
 "nbformat_minor": 5
}
