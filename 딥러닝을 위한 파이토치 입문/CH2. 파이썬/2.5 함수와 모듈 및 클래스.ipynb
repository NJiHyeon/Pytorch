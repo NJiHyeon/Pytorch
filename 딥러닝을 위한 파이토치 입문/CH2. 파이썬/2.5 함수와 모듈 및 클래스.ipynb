{
 "cells": [
  {
   "cell_type": "markdown",
   "id": "068a0ec5-2d22-4220-a1e9-680874af5431",
   "metadata": {},
   "source": [
    "#### 🔎 2.5.1 함수"
   ]
  },
  {
   "cell_type": "markdown",
   "id": "16e3487d-8f8c-47aa-867e-c771fe11eb15",
   "metadata": {},
   "source": [
    "- 주어진 문제에서 반복적인 연산이 나올 때 해당 연산을 함수로 만들어 사용"
   ]
  },
  {
   "cell_type": "code",
   "execution_count": 1,
   "id": "66a0c185-2e3f-4eca-b88c-2644a52329ef",
   "metadata": {},
   "outputs": [
    {
     "data": {
      "text/plain": [
       "1.3817732906760363"
      ]
     },
     "execution_count": 1,
     "metadata": {},
     "output_type": "execute_result"
    }
   ],
   "source": [
    "import numpy as np\n",
    "\n",
    "def sincos(x) :\n",
    "    return np.sin(x) + np.cos(x)\n",
    "\n",
    "sincos(1)"
   ]
  },
  {
   "cell_type": "markdown",
   "id": "e6ee430f-5376-4e8f-a1bc-40c2487dc94b",
   "metadata": {},
   "source": [
    "----------------------------------------------------------------------------------------------------------"
   ]
  },
  {
   "cell_type": "markdown",
   "id": "f33e5a3c-1057-464e-8976-750ddafeeb00",
   "metadata": {},
   "source": [
    "#### 🔎 2.5.2 모듈"
   ]
  },
  {
   "cell_type": "markdown",
   "id": "4b9f2098-8637-4601-bd18-d676172c8524",
   "metadata": {},
   "source": [
    "- 한 파일 내에 많은 기능들을 구현한다면 코드가 복잡해지며 지저분해진다.\n",
    "- 기능에 따라 파일을 별도로 만들어 전체적인 코드 완성\n",
    "- 모듈 : 전역 변수, 함수 등을 포함한 별도의 파일"
   ]
  },
  {
   "cell_type": "markdown",
   "id": "92a66958-51a8-4686-95f5-9fa3644b65d3",
   "metadata": {},
   "source": [
    "import models\n",
    "X = ... # 변수 데이터\n",
    "y = ... # 타깃 데이터\n",
    "# models.py에서 linear_regression이라는 함수 실행\n",
    "models.linear_regression(X, y)"
   ]
  },
  {
   "cell_type": "markdown",
   "id": "b729fcd8-e4e3-4de2-beca-ce4728f52513",
   "metadata": {},
   "source": [
    "----------------------------------------------------------------------------------------------------------"
   ]
  },
  {
   "cell_type": "markdown",
   "id": "4af00dec-693d-4a0f-9b64-a733fe94a3a8",
   "metadata": {},
   "source": [
    "#### 🔎 2.5.3 클래스"
   ]
  },
  {
   "cell_type": "markdown",
   "id": "6c542c4b-8b91-4f3b-85d0-7b378fec30b4",
   "metadata": {},
   "source": [
    "- 하나의 기능을 구현하는데 여러개의 함수가 필요할 때\n",
    "- 데이터와 세부적인 기능을 수행하는 함수들을 묶어서 구현"
   ]
  },
  {
   "cell_type": "markdown",
   "id": "2baf6612-aa8e-4a58-b875-1dc7b5129830",
   "metadata": {},
   "source": [
    "- `__init__( )` \n",
    "    - 클래스 내부에 외부 변수를 불러올 때 사용하는 함수\n",
    "    - 괄호 안에 반드시 self 넣어주고 추가적으로 원하는 변수 나열 "
   ]
  },
  {
   "cell_type": "code",
   "execution_count": null,
   "id": "30310dc1-55f4-4214-bdce-e243a77125bf",
   "metadata": {},
   "outputs": [],
   "source": [
    "import numpy as np\n",
    "\n",
    "class DataPreprocessing :\n",
    "    def __init__(self, data, target) :\n",
    "        self.data = data\n",
    "        self.target = target\n",
    "        self.num_instances = self.data.shape[0]\n",
    "        self.num_features = self.data.shape[1]\n",
    "    def minmax(self) :\n",
    "        "
   ]
  }
 ],
 "metadata": {
  "kernelspec": {
   "display_name": "Python 3 (ipykernel)",
   "language": "python",
   "name": "python3"
  },
  "language_info": {
   "codemirror_mode": {
    "name": "ipython",
    "version": 3
   },
   "file_extension": ".py",
   "mimetype": "text/x-python",
   "name": "python",
   "nbconvert_exporter": "python",
   "pygments_lexer": "ipython3",
   "version": "3.10.2"
  }
 },
 "nbformat": 4,
 "nbformat_minor": 5
}
