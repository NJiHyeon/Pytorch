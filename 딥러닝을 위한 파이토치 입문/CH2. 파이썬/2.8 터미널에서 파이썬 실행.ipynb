{
 "cells": [
  {
   "cell_type": "markdown",
   "id": "ecdff4cc-49c4-46ef-a148-61934ee69e11",
   "metadata": {},
   "source": [
    "##### 💡 **main.py**"
   ]
  },
  {
   "cell_type": "markdown",
   "id": "ffc09e12-4575-4933-9ce1-410278a77f3e",
   "metadata": {},
   "source": [
    "- 메인 코드에서 `if __name__ == \"__main__\"` : 가 시작하는 곳에 parse들을 정의\n",
    "- `parser.add_argument('--변수명', default=기본값, type=int, float..., help='변수 설명')`\n",
    "    "
   ]
  },
  {
<<<<<<< HEAD
   "cell_type": "code",
   "execution_count": null,
   "id": "c27d1818-404f-46a0-95a5-1b9e9909f7ae",
   "metadata": {},
   "outputs": [],
=======
   "cell_type": "raw",
   "id": "29a90843-f835-46cc-a277-7466a0508e17",
   "metadata": {},
>>>>>>> 99325cd03628147416d97a327748c4edcfad4e88
   "source": [
    "import argparse\n",
    "\n",
    "if __name__ == \"__main__\" :\n",
    "    parser = argparse.ArgumentParser(description='Image Classification')\n",
    "    parser.add_argument('--img_size', default=216, type=int, help='image size')\n",
    "    parser.add_argument('--batch_size', default=30, type=int, help='batch size')\n",
    "    parser.add_argument('--num_epochs', default=101, type=int, help='training epoch')\n",
    "    parser.add_argument('--data', default=2, type=int, help='data')\n",
    "    parser.add_argument('--cv', default=3, type=int, help='k-folds')\n",
    "    parser.add_argument('--lr', default=5e-4, type=float, help='learning rate')\n",
    "    parser.add_argument('--l2', default=0, type=float, help='weight decay')\n",
    "    parser.add_argument('--ls', default=0.2, type=float, help='label smoothing')\n",
    "    parser.add_argument('--cutmix', default='n', type=str, help='mixed image')\n",
    "    parser.add_argument('--type', default='train', type=str, help='train or eval')\n",
    "    args = parser.parse_args()"
   ]
  },
  {
   "cell_type": "markdown",
   "id": "bcb57ef0-0e55-4d8e-af1b-e2ea885197a6",
   "metadata": {},
   "source": [
    "##### 💡 **execute.sh**"
   ]
  },
  {
   "cell_type": "markdown",
   "id": "3cb46318-a40b-4f66-bddf-197a70900276",
   "metadata": {},
   "source": [
    "- 결과가 자동으로 저장되도록 코드가 잘 짜였다면 `Shell file`을 통해 **여러 개의 옵션에 대한 실험** 가능\n",
    "- 어떤 실험을 할 지 정했다면 \n",
    "    - 1) `sh` 파일 만들고\n",
    "    - 2) `!/bin/bash` 아래에 파이썬을 실행하는 명령어 나열 (`%`는 주석을 의미)\n",
    "    - 3) 해당 디렉터리의 터미널에서 `sh execute.sh`를 입력하면 `execute.sh` 파일이 실행되고 작성한 파이썬 파일 코드가 순차적으로 실행된다."
   ]
  },
  {
<<<<<<< HEAD
   "cell_type": "code",
   "execution_count": null,
   "id": "3da2da9c-0166-4b00-9658-b4aab0ce0fa4",
   "metadata": {},
   "outputs": [],
=======
   "cell_type": "raw",
   "id": "548d3450-748e-4e60-a447-1468791ad94a",
   "metadata": {},
>>>>>>> 99325cd03628147416d97a327748c4edcfad4e88
   "source": [
    "% 4개의 실험을 순차적으로 진행\n",
    "python main.py\n",
    "python main.py --data 1\n",
    "python main.py --data 3 --ls 0.4"
   ]
  }
 ],
 "metadata": {
  "kernelspec": {
   "display_name": "Python 3 (ipykernel)",
   "language": "python",
   "name": "python3"
  },
  "language_info": {
   "codemirror_mode": {
    "name": "ipython",
    "version": 3
   },
   "file_extension": ".py",
   "mimetype": "text/x-python",
   "name": "python",
   "nbconvert_exporter": "python",
   "pygments_lexer": "ipython3",
   "version": "3.10.2"
  }
 },
 "nbformat": 4,
 "nbformat_minor": 5
}
