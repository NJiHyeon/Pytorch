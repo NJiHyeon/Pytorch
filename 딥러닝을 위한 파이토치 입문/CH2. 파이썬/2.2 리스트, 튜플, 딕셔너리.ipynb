{
 "cells": [
  {
   "cell_type": "markdown",
   "id": "a7b150af-e5a5-44d7-b6c9-05198286fe2d",
   "metadata": {},
   "source": [
    "#### 🔎 2.2.1 리스트 (list)"
   ]
  },
  {
   "cell_type": "markdown",
   "id": "ae6ae43f-d90b-4060-88b1-c153b1dc6731",
   "metadata": {},
   "source": [
    "##### **1️⃣ 리스트 print 해보기**"
   ]
  },
  {
   "cell_type": "code",
   "execution_count": 3,
   "id": "cf505079-4089-4fb4-aee3-70e409a49440",
   "metadata": {},
   "outputs": [
    {
     "name": "stdout",
     "output_type": "stream",
     "text": [
      "[1, 2, 3, 4] <class 'list'>\n",
      "1 2 3 [2, 3]\n"
     ]
    }
   ],
   "source": [
    "# 리스트 안에 숫자\n",
    "list1 = [1, 2, 3, 4]\n",
    "print(list1, type(list1))\n",
    "print(list1[0], list1[1], list1[2], list1[1:3])"
   ]
  },
  {
   "cell_type": "code",
   "execution_count": 6,
   "id": "e958a57f-28e5-42ea-b96f-fd606f1f0558",
   "metadata": {},
   "outputs": [
    {
     "name": "stdout",
     "output_type": "stream",
     "text": [
      "math\n",
      "a\n"
     ]
    }
   ],
   "source": [
    "# 리스트 안에 문자 (단, 당연히 \"\")\n",
    "list2 = ['math', 'english']\n",
    "print(list2[0])\n",
    "print(list2[0][1])"
   ]
  },
  {
   "cell_type": "code",
   "execution_count": 7,
   "id": "c68ccf7d-f59f-4439-b99c-c799a0662ed0",
   "metadata": {},
   "outputs": [
    {
     "name": "stdout",
     "output_type": "stream",
     "text": [
      "[1, 2, 3]\n"
     ]
    }
   ],
   "source": [
    "# 리스트 안에 서로 다른 타입\n",
    "list3 = [1, '2', [1, 2, 3]]\n",
    "print(list3[2])"
   ]
  },
  {
   "cell_type": "markdown",
   "id": "2dd7b76e-1d40-480f-ba53-7eaf5a8fb080",
   "metadata": {},
   "source": [
    "##### **2️⃣ 리스트 연산**"
   ]
  },
  {
   "cell_type": "code",
   "execution_count": 30,
   "id": "7dbbd6ca-bd2b-4419-81a7-73acc3518112",
   "metadata": {},
   "outputs": [
    {
     "name": "stdout",
     "output_type": "stream",
     "text": [
      "[1, 2, 3, 4, 5]\n",
      "[1, 2, 3, 1, 2, 3, 1, 2, 3]\n"
     ]
    }
   ],
   "source": [
    "list4 = [1, 2, 3]\n",
    "list5 = [4, 5]\n",
    "print(list4 + list5)\n",
    "print(list4 * 3)"
   ]
  },
  {
   "cell_type": "code",
   "execution_count": 31,
   "id": "2fd84066-0166-4a7d-94ed-e2f39c3a7e08",
   "metadata": {},
   "outputs": [
    {
     "name": "stdout",
     "output_type": "stream",
     "text": [
      "[1, 2, 3, [4, 5]]\n"
     ]
    }
   ],
   "source": [
    "# append\n",
    "list4.append(list5)\n",
    "print(list4)"
   ]
  },
  {
   "cell_type": "code",
   "execution_count": 32,
   "id": "e97ee9e0-9e23-4a5b-941b-c9c7e9ff294c",
   "metadata": {},
   "outputs": [
    {
     "name": "stdout",
     "output_type": "stream",
     "text": [
      "[1, 2]\n"
     ]
    }
   ],
   "source": [
    "# 빈 리스트로 대체\n",
    "list4[-2:] = []\n",
    "print(list4)"
   ]
  },
  {
   "cell_type": "code",
   "execution_count": 33,
   "id": "a00e3447-1e27-486e-948c-1d17807048ab",
   "metadata": {},
   "outputs": [
    {
     "name": "stdout",
     "output_type": "stream",
     "text": [
      "[[1, 2], [0, 5]]\n",
      "2\n",
      "[[1, 10], [0, 5]]\n"
     ]
    }
   ],
   "source": [
    "# 다른 값으로 대체\n",
    "a = [1, 2]\n",
    "b = [0, 5]\n",
    "c = [a, b]\n",
    "\n",
    "print(c)\n",
    "print(c[0][1])\n",
    "\n",
    "c[0][1] = 10\n",
    "print(c)"
   ]
  },
  {
   "cell_type": "markdown",
   "id": "b64d89b0-672a-4ab7-a346-7fa8180d2bfb",
   "metadata": {},
   "source": [
    "##### **3️⃣ 리스트 관련 함수**"
   ]
  },
  {
   "cell_type": "code",
   "execution_count": 35,
   "id": "4d41c3c1-9927-4c8f-92e7-6427faf264e2",
   "metadata": {},
   "outputs": [
    {
     "name": "stdout",
     "output_type": "stream",
     "text": [
      "range(0, 10)\n",
      "45\n"
     ]
    }
   ],
   "source": [
    "# range(n)\n",
    "a = range(10)\n",
    "print(a)\n",
    "print(sum(a))"
   ]
  },
  {
   "cell_type": "code",
   "execution_count": 36,
   "id": "804ed92e-d617-45de-96d6-f1525e67d733",
   "metadata": {},
   "outputs": [
    {
     "name": "stdout",
     "output_type": "stream",
     "text": [
      "[-2, 0, 2, 10]\n"
     ]
    }
   ],
   "source": [
    "# sorted()\n",
    "b = [2, 10, 0, -2]\n",
    "print(sorted(b))"
   ]
  },
  {
   "cell_type": "code",
   "execution_count": 39,
   "id": "e1ae4227-f94b-4e55-adb7-045833a2da5f",
   "metadata": {},
   "outputs": [
    {
     "name": "stdout",
     "output_type": "stream",
     "text": [
      "3\n"
     ]
    }
   ],
   "source": [
    "# .index(값)\n",
    "print(b.index(-2))"
   ]
  },
  {
   "cell_type": "code",
   "execution_count": 40,
   "id": "d5a9933b-b3b8-46b0-8db0-5661d75598f7",
   "metadata": {},
   "outputs": [
    {
     "name": "stdout",
     "output_type": "stream",
     "text": [
      "4\n"
     ]
    }
   ],
   "source": [
    "# len()\n",
    "print(len(b))"
   ]
  },
  {
   "cell_type": "markdown",
   "id": "e342cd8e-8783-4463-99f1-f2c10f2dcb6c",
   "metadata": {},
   "source": [
    "--------------------------------------------------------------------------------------------------------"
   ]
  },
  {
   "cell_type": "markdown",
   "id": "154eeecc-1752-4f9e-873c-7a2c1066b637",
   "metadata": {},
   "source": [
    "#### 🔎 2.2.2 튜플 (tuple)"
   ]
  },
  {
   "cell_type": "code",
   "execution_count": 43,
   "id": "5b0d243f-dcca-4af9-b865-74818ee3916d",
   "metadata": {},
   "outputs": [
    {
     "name": "stdout",
     "output_type": "stream",
     "text": [
      "(1, 2) <class 'tuple'>\n"
     ]
    }
   ],
   "source": [
    "a = (1, 2)\n",
    "print(a, type(a))"
   ]
  },
  {
   "cell_type": "code",
   "execution_count": 44,
   "id": "a1b706a5-fde5-4782-bb2d-525de2d43c59",
   "metadata": {},
   "outputs": [
    {
     "ename": "TypeError",
     "evalue": "'tuple' object does not support item assignment",
     "output_type": "error",
     "traceback": [
      "\u001b[1;31m---------------------------------------------------------------------------\u001b[0m",
      "\u001b[1;31mTypeError\u001b[0m                                 Traceback (most recent call last)",
      "Input \u001b[1;32mIn [44]\u001b[0m, in \u001b[0;36m<cell line: 1>\u001b[1;34m()\u001b[0m\n\u001b[1;32m----> 1\u001b[0m a[\u001b[38;5;241m0\u001b[39m] \u001b[38;5;241m=\u001b[39m \u001b[38;5;241m4\u001b[39m\n",
      "\u001b[1;31mTypeError\u001b[0m: 'tuple' object does not support item assignment"
     ]
    }
   ],
   "source": [
    "a[0] = 4"
   ]
  },
  {
   "cell_type": "code",
   "execution_count": 46,
   "id": "2623bb74-dfee-4da3-83e3-87ea65790fd8",
   "metadata": {},
   "outputs": [
    {
     "data": {
      "text/plain": [
       "(1, 2, 0, (1, 4))"
      ]
     },
     "execution_count": 46,
     "metadata": {},
     "output_type": "execute_result"
    }
   ],
   "source": [
    "# 리스트와 비슷한 연산 (+를 하면 두개의 튜플을 이어준다.)\n",
    "a = (1, 2)\n",
    "b = (0, (1, 4))\n",
    "a+b"
   ]
  },
  {
   "cell_type": "markdown",
   "id": "898aad3a-bdef-4f19-9fe1-07ebe8f4ce3c",
   "metadata": {},
   "source": [
    "--------------------------------------------------------------------------------------------------------"
   ]
  },
  {
   "cell_type": "markdown",
   "id": "d496a1a1-9f6d-4831-a708-e4c77acc9657",
   "metadata": {},
   "source": [
    "#### 🔎 2.2.3 딕셔너리 (dict)"
   ]
  },
  {
   "cell_type": "code",
   "execution_count": 49,
   "id": "fb3b3e1f-6bc8-41e9-bb85-9b9cfa0c5360",
   "metadata": {},
   "outputs": [
    {
     "name": "stdout",
     "output_type": "stream",
     "text": [
      "{'class': ['deep learning', 'machine learning'], 'num_students': [20, 40]}\n",
      "<class 'dict'>\n"
     ]
    }
   ],
   "source": [
    "a = {\"class\" : [\"deep learning\", \"machine learning\"],\n",
    "     \"num_students\" : [20, 40] }\n",
    "print(a)\n",
    "print(type(a))"
   ]
  },
  {
   "cell_type": "code",
   "execution_count": 57,
   "id": "5a924b48-42f4-4c63-9472-58ad61708e62",
   "metadata": {},
   "outputs": [
    {
     "name": "stdout",
     "output_type": "stream",
     "text": [
      "['deep learning', 'machine learning']\n",
      "['deep learning', 'machine learning']\n"
     ]
    }
   ],
   "source": [
    "# 원하는 key의 value 불러오기\n",
    "print(a[\"class\"])\n",
    "print(a.get(\"class\"))"
   ]
  },
  {
   "cell_type": "code",
   "execution_count": 51,
   "id": "dbd675cc-cf3f-4101-b813-f7d9edf3dc02",
   "metadata": {},
   "outputs": [
    {
     "name": "stdout",
     "output_type": "stream",
     "text": [
      "{'class': ['deep learning', 'machine learning'], 'num_students': [20, 40], 'grade': ['A', 'B', 'C']}\n"
     ]
    }
   ],
   "source": [
    "# 새로운 key 생성\n",
    "a[\"grade\"] = [\"A\", \"B\", \"C\"]\n",
    "print(a)"
   ]
  },
  {
   "cell_type": "code",
   "execution_count": 54,
   "id": "485872aa-19bf-4274-b1b9-9442b2052479",
   "metadata": {},
   "outputs": [
    {
     "name": "stdout",
     "output_type": "stream",
     "text": [
      "dict_keys(['class', 'num_students', 'grade'])\n",
      "['class', 'num_students', 'grade']\n"
     ]
    }
   ],
   "source": [
    "# key 목록 \n",
    "print(a.keys())\n",
    "print(list(a.keys()))"
   ]
  },
  {
   "cell_type": "code",
   "execution_count": 55,
   "id": "61939753-a462-4a6c-9d55-9683823ac454",
   "metadata": {},
   "outputs": [
    {
     "name": "stdout",
     "output_type": "stream",
     "text": [
      "dict_values([['deep learning', 'machine learning'], [20, 40], ['A', 'B', 'C']])\n"
     ]
    }
   ],
   "source": [
    "# value만 얻고 싶을 때\n",
    "print(a.values())"
   ]
  },
  {
   "cell_type": "code",
   "execution_count": 56,
   "id": "bd3c1223-07bf-4da3-93f5-752a54040530",
   "metadata": {},
   "outputs": [
    {
     "name": "stdout",
     "output_type": "stream",
     "text": [
      "dict_items([('class', ['deep learning', 'machine learning']), ('num_students', [20, 40]), ('grade', ['A', 'B', 'C'])])\n"
     ]
    }
   ],
   "source": [
    "# key, value 모두\n",
    "print(a.items())"
   ]
  },
  {
   "cell_type": "code",
   "execution_count": 59,
   "id": "7a3dd4f0-06a2-48e0-b32a-729a8df7e25a",
   "metadata": {},
   "outputs": [
    {
     "name": "stdout",
     "output_type": "stream",
     "text": [
      "['deep learning', 'machine learning']\n"
     ]
    }
   ],
   "source": [
    "# get()\n",
    "print(a.get(\"class\"))"
   ]
  },
  {
   "cell_type": "code",
   "execution_count": 60,
   "id": "76c01b4a-ec95-4bc8-b393-9ab66cbd2672",
   "metadata": {},
   "outputs": [
    {
     "name": "stdout",
     "output_type": "stream",
     "text": [
      "True\n",
      "False\n"
     ]
    }
   ],
   "source": [
    "# in\n",
    "print(\"class\" in a)\n",
    "print(\"njh\" in a)"
   ]
  }
 ],
 "metadata": {
  "kernelspec": {
   "display_name": "Python 3 (ipykernel)",
   "language": "python",
   "name": "python3"
  },
  "language_info": {
   "codemirror_mode": {
    "name": "ipython",
    "version": 3
   },
   "file_extension": ".py",
   "mimetype": "text/x-python",
   "name": "python",
   "nbconvert_exporter": "python",
   "pygments_lexer": "ipython3",
   "version": "3.10.2"
  }
 },
 "nbformat": 4,
 "nbformat_minor": 5
}
