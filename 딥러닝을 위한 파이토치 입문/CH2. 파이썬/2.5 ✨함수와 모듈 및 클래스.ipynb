{
 "cells": [
  {
   "cell_type": "markdown",
   "id": "068a0ec5-2d22-4220-a1e9-680874af5431",
   "metadata": {},
   "source": [
    "#### 🔎 2.5.1 함수"
   ]
  },
  {
   "cell_type": "markdown",
   "id": "16e3487d-8f8c-47aa-867e-c771fe11eb15",
   "metadata": {},
   "source": [
    "- 주어진 문제에서 반복적인 연산이 나올 때 해당 연산을 함수로 만들어 사용"
   ]
  },
  {
   "cell_type": "code",
   "execution_count": 1,
   "id": "66a0c185-2e3f-4eca-b88c-2644a52329ef",
   "metadata": {},
   "outputs": [
    {
     "data": {
      "text/plain": [
       "1.3817732906760363"
      ]
     },
     "execution_count": 1,
     "metadata": {},
     "output_type": "execute_result"
    }
   ],
   "source": [
    "import numpy as np\n",
    "\n",
    "def sincos(x) :\n",
    "    return np.sin(x) + np.cos(x)\n",
    "\n",
    "sincos(1)"
   ]
  },
  {
   "cell_type": "markdown",
   "id": "e6ee430f-5376-4e8f-a1bc-40c2487dc94b",
   "metadata": {},
   "source": [
    "----------------------------------------------------------------------------------------------------------"
   ]
  },
  {
   "cell_type": "markdown",
   "id": "f33e5a3c-1057-464e-8976-750ddafeeb00",
   "metadata": {},
   "source": [
    "#### 🔎 2.5.2 모듈"
   ]
  },
  {
   "cell_type": "markdown",
   "id": "4b9f2098-8637-4601-bd18-d676172c8524",
   "metadata": {},
   "source": [
    "- 한 파일 내에 많은 기능들을 구현한다면 코드가 복잡해지며 지저분해진다.\n",
    "- 기능에 따라 파일을 별도로 만들어 전체적인 코드 완성\n",
    "- 모듈 : 전역 변수, 함수 등을 포함한 별도의 파일"
   ]
  },
  {
   "cell_type": "raw",
   "id": "a1bacc68-456b-4a9e-be39-54040b012bf0",
   "metadata": {},
   "source": [
    "import models\n",
    "X = ... # 변수 데이터\n",
    "y = ... # 타깃 데이터\n",
    "# models.py에서 linear_regression이라는 함수 실행\n",
    "models.linear_regression(X, y)"
   ]
  },
  {
   "cell_type": "markdown",
   "id": "b729fcd8-e4e3-4de2-beca-ce4728f52513",
   "metadata": {},
   "source": [
    "----------------------------------------------------------------------------------------------------------"
   ]
  },
  {
   "cell_type": "markdown",
   "id": "4af00dec-693d-4a0f-9b64-a733fe94a3a8",
   "metadata": {},
   "source": [
    "#### 🔎 2.5.3 클래스"
   ]
  },
  {
   "cell_type": "markdown",
   "id": "6c542c4b-8b91-4f3b-85d0-7b378fec30b4",
   "metadata": {},
   "source": [
    "- 하나의 기능을 구현하는데 여러개의 함수가 필요할 때\n",
    "- 데이터와 세부적인 기능을 수행하는 함수들을 묶어서 구현"
   ]
  },
  {
   "cell_type": "markdown",
   "id": "2baf6612-aa8e-4a58-b875-1dc7b5129830",
   "metadata": {},
   "source": [
    "- `__init__( )` \n",
    "    - 클래스 내부에 외부 변수를 불러올 때 사용하는 함수\n",
    "    - 괄호 안에 반드시 self 넣어주고 추가적으로 원하는 변수 나열 \n",
    "    - 인스턴스가 실행될 때마다 자동으로 실행되는 메서드\n",
    "- `def 함수(self)`\n",
    "    - 클래스 내부의 함수에는 self를 반드시 기입한다.\n",
    "    - 변수에서 self를 붙여 선언할 수 있다. (self를 붙인 변수는 클래스 내부의 함수들에서 별도의 선언 없이 자유롭게 사용 가능)\n",
    "- `return self` \n",
    "    - 단순히 메서드(함수)가 호출된 인스턴스 개체에 대한 참조를 반환한다는 것을 의미"
   ]
  },
  {
   "cell_type": "code",
   "execution_count": 2,
   "id": "30310dc1-55f4-4214-bdce-e243a77125bf",
   "metadata": {},
   "outputs": [],
   "source": [
    "import numpy as np\n",
    "\n",
    "class DataPreprocessing :\n",
    "    def __init__(self, data, target) :\n",
    "        self.data = data\n",
    "        self.target = target\n",
    "        self.num_instances = self.data.shape[0]\n",
    "        self.num_features = self.data.shape[1]\n",
    "    def minmax(self) :\n",
    "        for i in range(self.num_features) :\n",
    "            col = self.data[:, i]\n",
    "            self.data[:, i] = (self.data[:, i] - np.min(col))/(np.max(col) - np.min(col))\n",
    "        return self\n",
    "    def normalization(self) :\n",
    "        for i in range(self.num_features) :\n",
    "            col = self.data[:, i]\n",
    "            mu, sigma = np.mean(col), np.std(col)\n",
    "            self.data[:, i] = (self.data[:, i]-mu)/sigma\n",
    "        return self\n",
    "    def scaler(self, scaling=None):\n",
    "        if scaling == 'minmax' :\n",
    "            self.minmax()\n",
    "        elif scaling == 'standard' :\n",
    "            self.normalization()\n",
    "        else :\n",
    "            pass\n",
    "        return self.data        "
   ]
  },
  {
   "cell_type": "markdown",
   "id": "0b059b54-0315-4b9d-8599-e1cb89ea5f08",
   "metadata": {},
   "source": [
    "##### 💡 **클래스 불러오기**\n",
    "- 클래스 불러오는 방법\n",
    "    - 클래스명과 괄호 안에는 필요한 변수들을 넣어주고 `data_processor` 변수명으로 선언\n",
    "- 클래스의 함수나 변수를 사용하는 방법\n",
    "    - `data_processor.함수명(또는 변수명)`을 선언"
   ]
  },
  {
   "cell_type": "code",
   "execution_count": 15,
   "id": "097a81d7-e0c4-46f7-9fb8-b13ac050991c",
   "metadata": {},
   "outputs": [
    {
     "name": "stdout",
     "output_type": "stream",
     "text": [
      "[[10.29841619 -4.52369192 15.37549818  3.97545762 -9.17115555]\n",
      " [ 4.88842302 11.62025543  2.24048304 -1.03505831 17.47825633]\n",
      " [-4.7432619  -5.3220069  -7.64560588 -4.41344159 -4.76287524]\n",
      " [24.42244854  0.44914417  2.59433146 -4.56839545  5.1209493 ]\n",
      " [-3.72515748  9.76491329 -5.04395495  4.82667957  9.82492904]]\n",
      "[[0.51573159 0.04711974 1.         0.909397   0.        ]\n",
      " [0.33024002 1.         0.42943592 0.37608397 1.        ]\n",
      " [0.         0.         0.         0.01649309 0.16541755]\n",
      " [1.         0.34063639 0.44480653 0.         0.53630095]\n",
      " [0.03490758 0.8904903  0.11301156 1.         0.7128144 ]]\n"
     ]
    }
   ],
   "source": [
    "data = np.random.normal(0, 10, (5, 5))\n",
    "target = np.random.normal(0, 1, 5)\n",
    "print(data)\n",
    "data_processor = DataPreprocessing(data, target)\n",
    "data = data_processor.scaler('minmax')\n",
    "print(data)"
   ]
  },
  {
   "cell_type": "markdown",
   "id": "89d72c2a-f9a7-4fa3-a686-c14b0b6f5769",
   "metadata": {},
   "source": [
    "##### 💡 **클래스 상속**\n",
    "- 클래스 상속을 통해 다른 클래스의 메서드를 모두 사용할 수 있다.\n",
    "- `__init__`에 self만 적으면 함수가 안돌아가고 에러 발생하므로 필요한 변수명을 적어주어야 한다.\n",
    "- 클래스 상속 방법\n",
    "    - 상속받고자 하는 하위 클래스명 괄호 안에 상속을 해 주는 클래스명 입력\n",
    "    - 여러개의 클래스 상속 가능(콤마로 여러 개의 상위 클래스명 입력)"
   ]
  },
  {
   "cell_type": "code",
   "execution_count": 16,
   "id": "ee8650d8-a762-432d-8c1c-305645cce098",
   "metadata": {},
   "outputs": [],
   "source": [
    "class DataPipeline(DataPreprocessing) :\n",
    "    def __init__(self, data) :\n",
    "        self.data = data\n",
    "        self.num_features = self.data.shape[1]\n",
    "        \n",
    "pipe = DataPipeline(data)\n",
    "data = pipe.scaler('minmax')"
   ]
  }
 ],
 "metadata": {
  "kernelspec": {
   "display_name": "Python 3 (ipykernel)",
   "language": "python",
   "name": "python3"
  },
  "language_info": {
   "codemirror_mode": {
    "name": "ipython",
    "version": 3
   },
   "file_extension": ".py",
   "mimetype": "text/x-python",
   "name": "python",
   "nbconvert_exporter": "python",
   "pygments_lexer": "ipython3",
   "version": "3.10.2"
  }
 },
 "nbformat": 4,
 "nbformat_minor": 5
}
