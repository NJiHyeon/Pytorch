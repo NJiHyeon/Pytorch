{
 "cells": [
  {
   "cell_type": "markdown",
   "id": "402dab99-8a7f-421f-940f-d619be91b984",
   "metadata": {},
   "source": [
    "##### 💡 **폴더 생성**"
   ]
  },
  {
   "cell_type": "markdown",
   "id": "ef89127a-f92b-47fc-abb9-b5b8506ce4ae",
   "metadata": {},
   "source": [
    "- `os.makedirs( )` : 폴더 생성\n",
    "- `os.path.exists( )` : 폴더가 이미 존재하는지 확인"
   ]
  },
  {
   "cell_type": "code",
   "execution_count": 4,
   "id": "975d9488-e9c4-4b94-a961-a5b9a9ad2c81",
   "metadata": {},
   "outputs": [],
   "source": [
    "import os\n",
    "\n",
    "def newfolder(directory) :\n",
    "    try :\n",
    "        if not os.path.exists(directory) :\n",
    "            os.makedirs(directory)\n",
    "    except OSError :\n",
    "        print(\"Error\")\n",
    "        \n",
    "# 현재 경로에서 new라는 폴더 생성\n",
    "parent_folder = './new'\n",
    "newfolder(parent_folder)"
   ]
  },
  {
   "cell_type": "markdown",
   "id": "81d5dd7f-4b9e-48e5-9c4d-33b80ad9acb0",
   "metadata": {},
   "source": [
    "##### 💡 **경로 불러오기**"
   ]
  },
  {
   "cell_type": "markdown",
   "id": "eb016758-b60f-4b32-b5c3-09094013b7aa",
   "metadata": {},
   "source": [
    "- `glob( )` : 필요한 경로를 리스트에 담을 수 있다.\n",
    "    - `glob.glob('./data/*')` : 현재 디렉터리에서 data 폴더 안에 모든 폴더 및 파일에 관한 경로를 불러온다.\n",
    "    - `glob.glob('./data/*png')` : 만약에 data라는 폴더 안에 png, csv, jpg 등 다양한 확장자가 존재하고 png만 불러오고 싶을 때\n",
    "    - `glob.glob('./*/*.jpg')` : 현재 디렉터리에서 모든 폴더에 대한 jpg 파일을 불러올 경우\n",
    "    - 이렇게 해서 흩어져 있는 데이터에 대해서 한 곳에 모을 수 없다면 `glob`를 통해 경로를 모아서 데이터 일괄처리 가능"
   ]
  },
  {
   "cell_type": "code",
   "execution_count": null,
   "id": "dfe541da-925d-42e8-ab48-312f719d2dac",
   "metadata": {},
   "outputs": [],
   "source": [
    "import glob\n",
    "path = glob.glob.('./data/*')\n",
    "print(path)"
   ]
  },
  {
   "cell_type": "markdown",
   "id": "2f35d94e-a43e-472e-a2fb-e64497eadbc9",
   "metadata": {},
   "source": [
    "##### 💡 **파일 불러오기 및 저장하기**"
   ]
  },
  {
   "cell_type": "markdown",
   "id": "0cf98247-56a6-4aff-9873-074d7038199d",
   "metadata": {},
   "source": [
    "- 파일을 불러오거나 저장하는 것은 코드 구성, 파일의 형태, 데이터의 형태마다 다르기 때문에 구글링을 통해 찾거나 직접 작성\n",
    "    - 파일 쓰기 : `open( )`, `numpy.load( )`, pandas.read_csv( )`, `pandas.read_pickle( )`\n",
    "    - 파일 저장 : `write( )`, `numpy.save( )`, `numpy.savetxt( )`, `pandas.to_csv( )`"
   ]
  }
 ],
 "metadata": {
  "kernelspec": {
   "display_name": "Python 3 (ipykernel)",
   "language": "python",
   "name": "python3"
  },
  "language_info": {
   "codemirror_mode": {
    "name": "ipython",
    "version": 3
   },
   "file_extension": ".py",
   "mimetype": "text/x-python",
   "name": "python",
   "nbconvert_exporter": "python",
   "pygments_lexer": "ipython3",
   "version": "3.10.2"
  }
 },
 "nbformat": 4,
 "nbformat_minor": 5
}
