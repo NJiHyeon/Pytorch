{
 "cells": [
  {
   "cell_type": "markdown",
   "metadata": {},
   "source": [
    "### 📚 가중 무작위 샘플링"
   ]
  },
  {
   "cell_type": "markdown",
   "metadata": {},
   "source": [
    "#### 💡 가중치 함수 만들기"
   ]
  },
  {
   "cell_type": "code",
   "execution_count": 5,
   "metadata": {},
   "outputs": [],
   "source": [
    "import torch\n",
    "import torchvision\n",
    "import torchvision.transforms as tr\n",
    "from torch.utils.data import DataLoader\n",
    "import torch.nn as nn\n",
    "import torch.nn.functional as F\n",
    "import torch.optim as optim\n",
    "import matplotlib.pyplot as plt"
   ]
  },
  {
   "cell_type": "code",
   "execution_count": 25,
   "metadata": {},
   "outputs": [],
   "source": [
    "import numpy as np\n",
    "def make_weights(labels, nclasses) :\n",
    "    # 리스트를 넘파이 배열로 바꾼다. \n",
    "    labels = np.array(labels)\n",
    "    weight_list = []\n",
    "    \n",
    "    # 각 클래스마다 라벨의 개수를 센다.\n",
    "    for cls in range(nclasses) :\n",
    "        idx = np.where(labels == cls)[0]\n",
    "        count = len(idx)\n",
    "        \n",
    "        # 라벨이 뽑힐 가중치를 1/count로 동일하게 해당 라벨 전체에 할당\n",
    "        weight = 1/count\n",
    "        # 개수만큼 만들기\n",
    "        weights = [weight]*count\n",
    "        # 데이터를 불러올 때 ImageFolder를 사용할 경우 라벨이 0부터 N까지 나열되어 있기 때문에 각 클래스의 가중치를 일렬로 이어주기\n",
    "        weight_list += weights\n",
    "    return weight_list"
   ]
  },
  {
   "cell_type": "markdown",
   "metadata": {},
   "source": [
    "#### 💡 이미지 데이터 불러오기"
   ]
  },
  {
   "cell_type": "code",
   "execution_count": 26,
   "metadata": {},
   "outputs": [],
   "source": [
    "transf = tr.Compose([tr.Resize((16, 16)),\n",
    "                     tr.ToTensor()])\n",
    "trainset = torchvision.datasets.ImageFolder(root='./class', transform=transf)"
   ]
  },
  {
   "cell_type": "markdown",
   "metadata": {},
   "source": [
    "#### 💡 가중치 생성하기"
   ]
  },
  {
   "cell_type": "code",
   "execution_count": 27,
   "metadata": {},
   "outputs": [
    {
     "name": "stdout",
     "output_type": "stream",
     "text": [
      "tensor([0.2500, 0.2500, 0.2500, 0.2500, 0.0714, 0.0714, 0.0714, 0.0714, 0.0714,\n",
      "        0.0714, 0.0714, 0.0714, 0.0714, 0.0714, 0.0714, 0.0714, 0.0714, 0.0714],\n",
      "       dtype=torch.float64)\n"
     ]
    }
   ],
   "source": [
    "# 가중치 생성 후 텐서로 변환\n",
    "# 각 클래스의 가중치는 같다. \n",
    "weights = make_weights(trainset.targets, len(trainset.classes))\n",
    "weights = torch.DoubleTensor(weights)\n",
    "print(weights)"
   ]
  },
  {
   "cell_type": "markdown",
   "metadata": {},
   "source": [
    "#### 💡 데이터 로더 생성하기"
   ]
  },
  {
   "cell_type": "markdown",
   "metadata": {},
   "source": [
    "- `WeightedRandomSampler` : 배치를 불러올 때 자동으로 클래스에 대한 균일 분포를 갖는 배치를 만들 수 있다. (데이터로더에 추가)"
   ]
  },
  {
   "cell_type": "code",
   "execution_count": 32,
   "metadata": {},
   "outputs": [],
   "source": [
    "sampler = torch.utils.data.sampler.WeightedRandomSampler(weights, len(weights))\n",
    "# 가중 무작위 샘플링\n",
    "trainloader_wrs = DataLoader(trainset, batch_size=6, sampler=sampler)\n",
    "# 무작위 샘플링\n",
    "trainloader_rs = DataLoader(trainset, batch_size=6, shuffle=True)"
   ]
  },
  {
   "cell_type": "markdown",
   "metadata": {},
   "source": [
    "#### 💡 가중 무작위 샘플링 vs 무작위 샘플링"
   ]
  },
  {
   "cell_type": "code",
   "execution_count": 29,
   "metadata": {},
   "outputs": [
    {
     "name": "stdout",
     "output_type": "stream",
     "text": [
      "tensor([1, 1, 0, 0, 1, 0])\n",
      "tensor([1, 0, 0, 0, 0, 0])\n",
      "tensor([1, 1, 0, 0, 1, 1])\n",
      "tensor([0, 0, 1, 0, 1, 1])\n",
      "tensor([0, 0, 1, 0, 0, 0])\n",
      "tensor([0, 0, 1, 0, 0, 0])\n",
      "tensor([0, 1, 0, 0, 1, 0])\n",
      "tensor([1, 0, 0, 0, 0, 1])\n",
      "tensor([1, 0, 0, 1, 0, 1])\n",
      "tensor([0, 0, 1, 0, 0, 1])\n",
      "tensor([1, 1, 1, 0, 1, 1])\n",
      "tensor([1, 1, 0, 1, 1, 0])\n",
      "tensor([0, 1, 1, 0, 0, 1])\n",
      "tensor([1, 0, 1, 0, 0, 0])\n",
      "tensor([1, 1, 0, 0, 0, 1])\n"
     ]
    }
   ],
   "source": [
    "for epoch in range(5) :\n",
    "    for data in trainloader_wrs :\n",
    "        print(data[1])"
   ]
  },
  {
   "cell_type": "code",
   "execution_count": 34,
   "metadata": {},
   "outputs": [
    {
     "name": "stdout",
     "output_type": "stream",
     "text": [
      "tensor([1, 1, 1, 1, 1, 1])\n",
      "tensor([0, 1, 1, 0, 1, 1])\n",
      "tensor([0, 0, 1, 1, 1, 1])\n",
      "tensor([1, 1, 0, 1, 1, 0])\n",
      "tensor([1, 0, 1, 1, 1, 1])\n",
      "tensor([1, 1, 0, 1, 1, 1])\n",
      "tensor([1, 1, 1, 1, 0, 0])\n",
      "tensor([1, 1, 1, 1, 0, 1])\n",
      "tensor([1, 1, 1, 0, 1, 1])\n",
      "tensor([1, 1, 1, 1, 1, 1])\n",
      "tensor([1, 1, 1, 1, 0, 0])\n",
      "tensor([1, 0, 1, 0, 1, 1])\n",
      "tensor([0, 1, 1, 1, 1, 1])\n",
      "tensor([1, 1, 1, 1, 1, 1])\n",
      "tensor([0, 0, 1, 1, 0, 1])\n"
     ]
    }
   ],
   "source": [
    "# 1이 대부분으로 뽑힌다.\n",
    "for epoch in range(5) :\n",
    "    for data in trainloader_rs :\n",
    "        print(data[1])"
   ]
  },
  {
   "cell_type": "markdown",
   "metadata": {},
   "source": [
    "--------------------------------------------------------------------------------------"
   ]
  },
  {
   "cell_type": "markdown",
   "metadata": {},
   "source": [
    "### 📚 가중 손실 함수"
   ]
  },
  {
   "cell_type": "markdown",
   "metadata": {},
   "source": [
    "- `nn.CrossEntropyLoss` : 가중 손실 함수를 제공하므로, 미리 정의된 weights를 입력하면 쉽게 구현 가능"
   ]
  },
  {
   "cell_type": "code",
   "execution_count": 36,
   "metadata": {},
   "outputs": [],
   "source": [
    "device = torch.device(\"cuda:0\" if torch.cuda.is_available() else \"cpu\")\n",
    "# 10개의 클래스 별 이미지 개수\n",
    "# 가중 손실 함수는 데이터가 적은 클래스에 대해서 큰 가중치를 부여함으로써 업데이트 균형을 맞추려는 의도\n",
    "num_ins = [40, 45, 30, 62, 70, 153, 395, 46, 75, 194]\n",
    "weights = [1-(x/sum(num_ins)) for x in num_ins]\n",
    "class_weights = torch.FloatTensor(weights).to(device)\n",
    "criterion = nn.CrossEntropyLoss(weight=class_weights)"
   ]
  },
  {
   "cell_type": "markdown",
   "metadata": {},
   "source": [
    "--------------------------------------------------------------------------------------"
   ]
  },
  {
   "cell_type": "markdown",
   "metadata": {},
   "source": [
    "### 📚 혼동 행렬"
   ]
  },
  {
   "cell_type": "code",
   "execution_count": 39,
   "metadata": {},
   "outputs": [
    {
     "data": {
      "image/png": "[encoded data removed]",
      "text/plain": [
       "<Figure size 576x432 with 2 Axes>"
      ]
     },
     "metadata": {
      "needs_background": "light"
     },
     "output_type": "display_data"
    }
   ],
   "source": [
    "from sklearn.metrics import confusion_matrix\n",
    "import seaborn as sns\n",
    "from matplotlib import pyplot as plt\n",
    "actual = [1, 1, 1, 0, 0, 0, 0, 0, 2, 2, 2, 2, 2, 2, 2, 2]\n",
    "prediction = [1, 2, 2, 0, 2, 2, 1, 2, 0, 1, 0, 2, 2, 2, 2, 2]\n",
    "c_mat = confusion_matrix(actual, prediction)\n",
    "\n",
    "plt.figure(figsize=(8, 6))\n",
    "sns.heatmap(c_mat, annot=True, fmt=\"d\", cmap='Blues', linewidth=.5)\n",
    "\n",
    "# plt.yplim()을 그냥 사용할 경우 버전에 따라 위 아래가 잘려서 그래프가 출력될 수 있으므로 위아래 볌위를 0.5씩 확보\n",
    "b, t = plt.ylim()\n",
    "b += 0.5\n",
    "t -= 0.5\n",
    "\n",
    "plt.ylim(b, t)\n",
    "plt.savefig('confusion_matrix.png')\n",
    "plt.show()"
   ]
  }
 ],
 "metadata": {
  "kernelspec": {
   "display_name": "Python 3",
   "language": "python",
   "name": "python3"
  },
  "language_info": {
   "codemirror_mode": {
    "name": "ipython",
    "version": 3
   },
   "file_extension": ".py",
   "mimetype": "text/x-python",
   "name": "python",
   "nbconvert_exporter": "python",
   "pygments_lexer": "ipython3",
   "version": "3.8.5"
  }
 },
 "nbformat": 4,
 "nbformat_minor": 4
}
