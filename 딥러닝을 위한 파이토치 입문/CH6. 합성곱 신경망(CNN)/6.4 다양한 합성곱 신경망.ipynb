{
 "cells": [
  {
   "cell_type": "code",
   "execution_count": 3,
   "metadata": {},
   "outputs": [],
   "source": [
    "import torch"
   ]
  },
  {
   "cell_type": "code",
   "execution_count": 4,
   "metadata": {},
   "outputs": [],
   "source": [
    "device = torch.device(\"cuda:0\" if torch.cuda.is_available() else \"cpu\")"
   ]
  },
  {
   "cell_type": "code",
   "execution_count": 5,
   "metadata": {},
   "outputs": [],
   "source": [
    "# 모델 불러오기\n",
    "import torchvision.models as models\n",
    "alexnet = models.alexnet().to(device)\n",
    "alexnet.classifier[6] = nn.Linear(4096, 5)\n",
    "\n",
    "\"\"\"\n",
    "resnet18 = models.resnet18().to(device)\n",
    "vgg16 = models.vgg16().to(device)\n",
    "densenet = models.densenet161().to(device)\n",
    "inception = models.inception_v3().to(device)\n",
    "googlenet = models.googlenet().to(device)\n",
    "shufflenet = models.shufflenet_v2_x1_0().to(device)\n",
    "mobilenet_v2 = models.mobilenet_v2().to(device)\n",
    "resnext50_32x4d = models.resnext50_32x4d().to(device)\n",
    "wide_resnet50_2 = models.wide_resnet50_2().to(device)\n",
    "mnasnet = models.mnasnet1_0().to(device)\n",
    "\"\"\""
   ]
  },
  {
   "cell_type": "markdown",
   "metadata": {},
   "source": [
    "- `alexnet = models.alexnet().to(device)`\n",
    "    - AlexNet 모델을 사용한다면 위와 같이 선언\n",
    "    - 중요한 것은 제공 모델들의 클래스 개수가 1000개인 ImageNet 데이터를 위해 만들어졌기 때문에 모델의 최종 출력 노드수가 1000개이다.\n",
    "    - 따라서 문제에서 다루는 데이터의 클래스 수로 변경해야 한다. \n",
    "- `alexnet.classifier[6] = nn.Linear(4096, 5)`\n",
    "    - 만약 5개의 클래스를 분류하는 문제일 때, AlexNet의 경우는 마지막 층이 alexnet.classifier[6]이다.\n",
    "    - 따라서 위와 같이 layer를 재정의\n",
    "    - 모델마다 layer의 이름과 인덱스가 다를 수 있다.(5.6 모델 구조 및 가중치 확인 파트 참고)"
   ]
  }
 ],
 "metadata": {
  "kernelspec": {
   "display_name": "Python 3",
   "language": "python",
   "name": "python3"
  },
  "language_info": {
   "codemirror_mode": {
    "name": "ipython",
    "version": 3
   },
   "file_extension": ".py",
   "mimetype": "text/x-python",
   "name": "python",
   "nbconvert_exporter": "python",
   "pygments_lexer": "ipython3",
   "version": "3.8.5"
  }
 },
 "nbformat": 4,
 "nbformat_minor": 4
}
