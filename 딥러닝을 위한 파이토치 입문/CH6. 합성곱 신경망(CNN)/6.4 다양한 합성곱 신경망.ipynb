{
 "cells": [
  {
   "cell_type": "markdown",
   "id": "ba2ce8aa-c039-4f5c-8cb6-7e08c6087aa4",
   "metadata": {},
   "source": [
    "- 파이토치에서는 손쉽게 이용할 수 있는 다양한 신경망 제공\n",
    "- `torchvision.models as models`을 이용해 모델을 불러올 수 있다.\n",
    "- `AlexNet`\n",
    "    - `models.alexnet().to(device)` 선언\n",
    "    - 제공 모델들이 클래스 개수가 1000개인 ImageNet 데이터를 위해 만들어졌기 때문에 모델의 최종 출력 노드수가 1000개\n",
    "    - 데이터의 클래스 수 변경 필요\n",
    "        - 예를 들어, 5개의 클래스를 분류하는 문제일 때, AlexNet의 경우 마지막 층이 `alexnet.classifier[6]`이므로 `alexnet.classifier[6]=nn.Linear(4096, 5)`라고 층을 재정의\n",
    "        - 모델마다 해당 층의 이름과 인덱스가 다를 수 있다. (5.6에서처럼 이름을 알아낼 수 있다.)\n",
    "- 현재 파이토치에서는 30여 개의 합성곱 신경망(CNN)을 제공하고 있다.\n",
    "        "
   ]
  },
  {
   "cell_type": "code",
   "execution_count": null,
   "id": "d75afce3-b289-43f2-a42a-3acda1a9cccb",
   "metadata": {},
   "outputs": [],
   "source": [
    "alexnet = models.alexnet().to(device)\n",
    "alexnet.classifier[6] = nn.Linear(4096, 5)\n",
    "\n",
    "\"\"\"\n",
    "resnet18 = models.resnet18().to(device)\n",
    "vgg16 = models.vgg16().to(device)\n",
    "densenet = models.densenet161().to(device)\n",
    "inception = models.inception_v3().to(device)\n",
    "googlenet = models.googlenet().to(device)\n",
    "shufflenet = models.shufflenet_v2_x1_0().to(device)\n",
    "mobilenet_v2 = models.mobilenet_v2().to(device)\n",
    "resnext50_32x4d = models.resnext50_32x4d().to(device)\n",
    "wide_resnet50_2 = models.wide_resnet50_2().to(device)\n",
    "mnasnet = models.mnasnet1_0().to(device)\n",
    "\"\"\""
   ]
  }
 ],
 "metadata": {
  "kernelspec": {
   "display_name": "Python 3 (ipykernel)",
   "language": "python",
   "name": "python3"
  },
  "language_info": {
   "codemirror_mode": {
    "name": "ipython",
    "version": 3
   },
   "file_extension": ".py",
   "mimetype": "text/x-python",
   "name": "python",
   "nbconvert_exporter": "python",
   "pygments_lexer": "ipython3",
   "version": "3.9.13"
  }
 },
 "nbformat": 4,
 "nbformat_minor": 5
}
