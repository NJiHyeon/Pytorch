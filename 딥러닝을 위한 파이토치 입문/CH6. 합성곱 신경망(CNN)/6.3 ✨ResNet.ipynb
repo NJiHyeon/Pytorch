{
 "cells": [
  {
   "cell_type": "markdown",
   "metadata": {},
   "source": [
    "#### 💡 Residual block 구축하기"
   ]
  },
  {
   "cell_type": "markdown",
   "metadata": {},
   "source": [
    "- ResNet은 ResidualBlock 하나를 거칠 때마다 이미지 사이즈가 줄어들고, 채널 수는 늘어나는 구조\n",
    "- 따라서 처음 들어오는 x값과 블록을 거친 출력값 out의 크기가 같아야만 한다. \n",
    "- 따라서 차이가 나는 경우 출력값의 크기와 입력값의 크기를 동일하게 하기 위해 별도의 컨볼루션 연산을 수행하여 입력 크기를 출력 크기와 맞춰준다."
   ]
  },
  {
   "cell_type": "code",
   "execution_count": 10,
   "metadata": {},
   "outputs": [],
   "source": [
    "import torch\n",
    "from torch import nn"
   ]
  },
  {
   "cell_type": "code",
   "execution_count": 11,
   "metadata": {},
   "outputs": [],
   "source": [
    "class ResidualBlock(nn.Module) :\n",
    "    \n",
    "    def __init__(self, in_channels, out_channels, stride=1) :\n",
    "        super(ResidualBlock, self).__init__()\n",
    "        self.stride = stride\n",
    "        self.in_channels = in_channels\n",
    "        self.out_channels = out_channels\n",
    "        \n",
    "        # 컨볼루션 연산 2개를 포함한 블록 만들기\n",
    "            # Batch Normalization : 각 배치의 평균과 분산을 이용해서 데이터를 정규화하는 방법으로 학습을 빠르게 할 수 있다.\n",
    "        self.conv_block = nn.Sequential(nn.Conv2d(self.in_channels, self.out_channels, kernel_size=3, stride=stride, padding=1, bias=False),\n",
    "                                        nn.BatchNorm2d(self.out_channels),\n",
    "                                        nn.ReLU(),\n",
    "                                        nn.Conv2d(self.out_channels, self.out_channels, kernel_size=3, stride=1, padding=1, bias=False),\n",
    "                                        nn.BatchNorm2d(self.out_channels))\n",
    "        \n",
    "        # 위의 설명 참고 (사이즈가 달라지거나, 채널이 달라지면 ~ 조건문 실행)\n",
    "        if self.stride != 1 or self.in_channels != self.out_channels :\n",
    "            self.downsample = nn.Sequential(nn.Conv2d(self.in_channels, self.out_channels, kernel_size=1, stride=stride, bias=False),\n",
    "                                            nn.BatchNorm2d(self.out_channels))\n",
    "            \n",
    "    def forward(self, x) :\n",
    "        out = self.conv_block(x)\n",
    "        \n",
    "        # 사이즈 조정이 필요하다면 입력값의 크기를 조정한다. \n",
    "        if self.stride != 1 or self.in_channels != self.out_channels :\n",
    "            x = self.downsample(x)\n",
    "            \n",
    "        # Skip connection\n",
    "        out = F.relu(x + out)\n",
    "        return out"
   ]
  },
  {
   "cell_type": "markdown",
   "metadata": {},
   "source": [
    "---------------------------------------------------------------------------------------------------------"
   ]
  },
  {
   "cell_type": "markdown",
   "metadata": {},
   "source": [
    "#### 💡 ResNet 모델 구축하기"
   ]
  },
  {
   "cell_type": "code",
   "execution_count": 12,
   "metadata": {},
   "outputs": [],
   "source": [
    "class ResNet(nn.Module) :\n",
    "    def __init__(self, num_blocks, num_classes=10) :\n",
    "        super(ResNet, self).__init__()\n",
    "        self.in_channels = 64\n",
    "        \n",
    "        # 입력 이미지가 들어와 연산을 수행하는 기본층\n",
    "        self.base = nn.Sequential(nn.Conv2d(3, 64, kernel_size=3, stride=1, padding=1, bias=False),\n",
    "                                  nn.BatchNorm2d(64),\n",
    "                                  nn.ReLU())\n",
    "        \n",
    "        # 기본층을 제외한 4개의 블록이 필요하므로, self._make_layer를 이용하여 4개의 블록 묶음을 선언한다. \n",
    "        self.layer1 = self._make_layer(64, num_blocks[0], stride=1)\n",
    "        self.layer2 = self._make_layer(128, num_blocks[1], stride=2)\n",
    "        self.layer3 = self._make_layer(256, num_blocks[2], stride=2)\n",
    "        self.layer4 = self._make_layer(512, num_blocks[3], stride=2)\n",
    "        \n",
    "        # 합성곱 층들을 지나면 최종적으로 크기가 4x4인 feature map 512개가 나온다. \n",
    "        # 크기가 4x4인 평균 풀링을 이용하면 각 피쳐맵 당 1개의 평균값이 나오기 때문에 성분이 512개인 벡터를 얻을 수 있다.\n",
    "        self.gap = nn.AvgPool2d(4) # 4 is filter size\n",
    "        \n",
    "        # 클래스가 10개인 이미지를 분류하는 것이므로 최종적으로 512개의 노드에서 10개의 노드로 가는 FC를 정의한다. \n",
    "        self.fc = nn.Linear(512, num_classes)\n",
    "        \n",
    "        \n",
    "    def _make_layer(self, out_channels, num_blocks, stride) :\n",
    "        # 블록의 반복 횟수만큼 stride를 저장\n",
    "        strides = [stride] + [1]*(num_blocks-1)\n",
    "        \n",
    "        # ResidualBlock을 불러와서 append를 이용해 차례로 붙여준다.\n",
    "        # 이때 이전 출력 채널 크기와 다음 입력 채널 크기가 같아야 한다. \n",
    "        layers = []\n",
    "        for stride in strides :\n",
    "            block = ResidualBlock(self.in_channels, out_channels, stride)\n",
    "            layers.append(block) \n",
    "            self.in_channels = out_channels\n",
    "            \n",
    "        # nn.Sequential에 넣어 모델을 구축한다.\n",
    "        # *리스트 : 리스트의 길이에 상관 없이 모든 성분을 별도로 nn.Sequential에 전달하는 역할을 한다. \n",
    "        return nn.Sequential(*layers)\n",
    "        \n",
    "    \n",
    "    # ResNet 클래스 안에 연산을 행하는 forward\n",
    "    def forward(self, x) :\n",
    "        out = self.base(x)\n",
    "        out = self.layer1(out)\n",
    "        out = self.layer2(out)\n",
    "        out = self.layer3(out)\n",
    "        out = self.layer4(out)\n",
    "        out = self.gap(out)\n",
    "        out = out.view(out.size(0), -1)\n",
    "        out = self.fc(out)\n",
    "        return out"
   ]
  },
  {
   "cell_type": "code",
   "execution_count": 13,
   "metadata": {},
   "outputs": [],
   "source": [
    "# 클래스를 불러오는 함수\n",
    "# 각 모델마다 블록의 반복 횟수를 리스트로 정의하여 입력한다. \n",
    "# 이를 통해 18, 34 외에 4개의 블록을 가진 레이어의 개수를 조정할 수 있다. \n",
    "def modeltype(model) :\n",
    "    if model == 'resnet18' :\n",
    "        return ResNet([2, 2, 2, 2])\n",
    "    elif model == 'resnet34' :\n",
    "        return ResNet([3, 4, 6, 3])"
   ]
  },
  {
   "cell_type": "markdown",
   "metadata": {},
   "source": [
    "---------------------------------------------------------------------------------------------------------"
   ]
  },
  {
   "cell_type": "markdown",
   "metadata": {},
   "source": [
    "#### 💡 ResNet18 학습 및 평가하기"
   ]
  },
  {
   "cell_type": "markdown",
   "metadata": {},
   "source": [
    "- AlexNet 평가에서 사용한 코드로 학습과 평가 과정 동일하게 진행"
   ]
  },
  {
   "cell_type": "markdown",
   "metadata": {},
   "source": [
    "---------------------------------------------------------------------------------------------------------"
   ]
  },
  {
   "cell_type": "markdown",
   "metadata": {},
   "source": [
    "#### 📚 전체적으로 구성"
   ]
  },
  {
   "cell_type": "code",
   "execution_count": 2,
   "metadata": {},
   "outputs": [],
   "source": [
    "import torch\n",
    "import torchvision\n",
    "import torchvision.transforms as transforms\n",
    "from torch.utils.data import DataLoader\n",
    "import torch.nn as nn\n",
    "import torch.nn.functional as F\n",
    "import torch.optim as optim\n",
    "import matplotlib.pyplot as plt"
   ]
  },
  {
   "cell_type": "code",
   "execution_count": 3,
   "metadata": {},
   "outputs": [],
   "source": [
    "import torchsummary"
   ]
  },
  {
   "cell_type": "code",
   "execution_count": 4,
   "metadata": {},
   "outputs": [],
   "source": [
    "# CIFAR10 데이터 세트 불러오기\n",
    "transform = transforms.Compose([transforms.ToTensor(),\n",
    "                                transforms.Normalize((0.5, 0.5, 0.5), (0.5, 0.5, 0.5))])"
   ]
  },
  {
   "cell_type": "code",
   "execution_count": 5,
   "metadata": {},
   "outputs": [
    {
     "name": "stdout",
     "output_type": "stream",
     "text": [
      "Downloading https://www.cs.toronto.edu/~kriz/cifar-10-python.tar.gz to ./data/cifar-10-python.tar.gz\n"
     ]
    },
    {
     "data": {
      "application/vnd.jupyter.widget-view+json": {
       "model_id": "52ad17ea1b634a51a915a2368977463b",
       "version_major": 2,
       "version_minor": 0
      },
      "text/plain": [
       "0it [00:00, ?it/s]"
      ]
     },
     "metadata": {},
     "output_type": "display_data"
    },
    {
     "name": "stdout",
     "output_type": "stream",
     "text": [
      "Extracting ./data/cifar-10-python.tar.gz to ./data\n",
      "Files already downloaded and verified\n"
     ]
    }
   ],
   "source": [
    "trainset = torchvision.datasets.CIFAR10(root='./data', train=True, download=True, transform=transform)\n",
    "testset = torchvision.datasets.CIFAR10(root='./data', train=False, download=True, transform=transform)"
   ]
  },
  {
   "cell_type": "code",
   "execution_count": 7,
   "metadata": {},
   "outputs": [],
   "source": [
    "trainloader = torch.utils.data.DataLoader(trainset, batch_size=32, shuffle=True)\n",
    "testloader = torch.utils.data.DataLoader(testset, batch_size=32, shuffle=False)"
   ]
  },
  {
   "cell_type": "code",
   "execution_count": 8,
   "metadata": {},
   "outputs": [
    {
     "name": "stdout",
     "output_type": "stream",
     "text": [
      "cuda:0 is available\n"
     ]
    }
   ],
   "source": [
    "# GPU 연산 체크\n",
    "device = torch.device(\"cuda:0\" if torch.cuda.is_available() else \"cpu\")\n",
    "print(f'{device} is available')"
   ]
  },
  {
   "cell_type": "code",
   "execution_count": 16,
   "metadata": {},
   "outputs": [
    {
     "name": "stdout",
     "output_type": "stream",
     "text": [
      "ResNet(\n",
      "  (base): Sequential(\n",
      "    (0): Conv2d(3, 64, kernel_size=(3, 3), stride=(1, 1), padding=(1, 1), bias=False)\n",
      "    (1): BatchNorm2d(64, eps=1e-05, momentum=0.1, affine=True, track_running_stats=True)\n",
      "    (2): ReLU()\n",
      "  )\n",
      "  (layer1): Sequential(\n",
      "    (0): ResidualBlock(\n",
      "      (conv_block): Sequential(\n",
      "        (0): Conv2d(64, 64, kernel_size=(3, 3), stride=(1, 1), padding=(1, 1), bias=False)\n",
      "        (1): BatchNorm2d(64, eps=1e-05, momentum=0.1, affine=True, track_running_stats=True)\n",
      "        (2): ReLU()\n",
      "        (3): Conv2d(64, 64, kernel_size=(3, 3), stride=(1, 1), padding=(1, 1), bias=False)\n",
      "        (4): BatchNorm2d(64, eps=1e-05, momentum=0.1, affine=True, track_running_stats=True)\n",
      "      )\n",
      "    )\n",
      "    (1): ResidualBlock(\n",
      "      (conv_block): Sequential(\n",
      "        (0): Conv2d(64, 64, kernel_size=(3, 3), stride=(1, 1), padding=(1, 1), bias=False)\n",
      "        (1): BatchNorm2d(64, eps=1e-05, momentum=0.1, affine=True, track_running_stats=True)\n",
      "        (2): ReLU()\n",
      "        (3): Conv2d(64, 64, kernel_size=(3, 3), stride=(1, 1), padding=(1, 1), bias=False)\n",
      "        (4): BatchNorm2d(64, eps=1e-05, momentum=0.1, affine=True, track_running_stats=True)\n",
      "      )\n",
      "    )\n",
      "  )\n",
      "  (layer2): Sequential(\n",
      "    (0): ResidualBlock(\n",
      "      (conv_block): Sequential(\n",
      "        (0): Conv2d(64, 128, kernel_size=(3, 3), stride=(2, 2), padding=(1, 1), bias=False)\n",
      "        (1): BatchNorm2d(128, eps=1e-05, momentum=0.1, affine=True, track_running_stats=True)\n",
      "        (2): ReLU()\n",
      "        (3): Conv2d(128, 128, kernel_size=(3, 3), stride=(1, 1), padding=(1, 1), bias=False)\n",
      "        (4): BatchNorm2d(128, eps=1e-05, momentum=0.1, affine=True, track_running_stats=True)\n",
      "      )\n",
      "      (downsample): Sequential(\n",
      "        (0): Conv2d(64, 128, kernel_size=(1, 1), stride=(2, 2), bias=False)\n",
      "        (1): BatchNorm2d(128, eps=1e-05, momentum=0.1, affine=True, track_running_stats=True)\n",
      "      )\n",
      "    )\n",
      "    (1): ResidualBlock(\n",
      "      (conv_block): Sequential(\n",
      "        (0): Conv2d(128, 128, kernel_size=(3, 3), stride=(1, 1), padding=(1, 1), bias=False)\n",
      "        (1): BatchNorm2d(128, eps=1e-05, momentum=0.1, affine=True, track_running_stats=True)\n",
      "        (2): ReLU()\n",
      "        (3): Conv2d(128, 128, kernel_size=(3, 3), stride=(1, 1), padding=(1, 1), bias=False)\n",
      "        (4): BatchNorm2d(128, eps=1e-05, momentum=0.1, affine=True, track_running_stats=True)\n",
      "      )\n",
      "    )\n",
      "  )\n",
      "  (layer3): Sequential(\n",
      "    (0): ResidualBlock(\n",
      "      (conv_block): Sequential(\n",
      "        (0): Conv2d(128, 256, kernel_size=(3, 3), stride=(2, 2), padding=(1, 1), bias=False)\n",
      "        (1): BatchNorm2d(256, eps=1e-05, momentum=0.1, affine=True, track_running_stats=True)\n",
      "        (2): ReLU()\n",
      "        (3): Conv2d(256, 256, kernel_size=(3, 3), stride=(1, 1), padding=(1, 1), bias=False)\n",
      "        (4): BatchNorm2d(256, eps=1e-05, momentum=0.1, affine=True, track_running_stats=True)\n",
      "      )\n",
      "      (downsample): Sequential(\n",
      "        (0): Conv2d(128, 256, kernel_size=(1, 1), stride=(2, 2), bias=False)\n",
      "        (1): BatchNorm2d(256, eps=1e-05, momentum=0.1, affine=True, track_running_stats=True)\n",
      "      )\n",
      "    )\n",
      "    (1): ResidualBlock(\n",
      "      (conv_block): Sequential(\n",
      "        (0): Conv2d(256, 256, kernel_size=(3, 3), stride=(1, 1), padding=(1, 1), bias=False)\n",
      "        (1): BatchNorm2d(256, eps=1e-05, momentum=0.1, affine=True, track_running_stats=True)\n",
      "        (2): ReLU()\n",
      "        (3): Conv2d(256, 256, kernel_size=(3, 3), stride=(1, 1), padding=(1, 1), bias=False)\n",
      "        (4): BatchNorm2d(256, eps=1e-05, momentum=0.1, affine=True, track_running_stats=True)\n",
      "      )\n",
      "    )\n",
      "  )\n",
      "  (layer4): Sequential(\n",
      "    (0): ResidualBlock(\n",
      "      (conv_block): Sequential(\n",
      "        (0): Conv2d(256, 512, kernel_size=(3, 3), stride=(2, 2), padding=(1, 1), bias=False)\n",
      "        (1): BatchNorm2d(512, eps=1e-05, momentum=0.1, affine=True, track_running_stats=True)\n",
      "        (2): ReLU()\n",
      "        (3): Conv2d(512, 512, kernel_size=(3, 3), stride=(1, 1), padding=(1, 1), bias=False)\n",
      "        (4): BatchNorm2d(512, eps=1e-05, momentum=0.1, affine=True, track_running_stats=True)\n",
      "      )\n",
      "      (downsample): Sequential(\n",
      "        (0): Conv2d(256, 512, kernel_size=(1, 1), stride=(2, 2), bias=False)\n",
      "        (1): BatchNorm2d(512, eps=1e-05, momentum=0.1, affine=True, track_running_stats=True)\n",
      "      )\n",
      "    )\n",
      "    (1): ResidualBlock(\n",
      "      (conv_block): Sequential(\n",
      "        (0): Conv2d(512, 512, kernel_size=(3, 3), stride=(1, 1), padding=(1, 1), bias=False)\n",
      "        (1): BatchNorm2d(512, eps=1e-05, momentum=0.1, affine=True, track_running_stats=True)\n",
      "        (2): ReLU()\n",
      "        (3): Conv2d(512, 512, kernel_size=(3, 3), stride=(1, 1), padding=(1, 1), bias=False)\n",
      "        (4): BatchNorm2d(512, eps=1e-05, momentum=0.1, affine=True, track_running_stats=True)\n",
      "      )\n",
      "    )\n",
      "  )\n",
      "  (gap): AvgPool2d(kernel_size=4, stride=4, padding=0)\n",
      "  (fc): Linear(in_features=512, out_features=10, bias=True)\n",
      ")\n"
     ]
    }
   ],
   "source": [
    "# 모델 선언\n",
    "model = modeltype('resnet18').to(device)\n",
    "print(model)"
   ]
  },
  {
   "cell_type": "code",
   "execution_count": 17,
   "metadata": {},
   "outputs": [
    {
     "name": "stdout",
     "output_type": "stream",
     "text": [
      "----------------------------------------------------------------\n",
      "        Layer (type)               Output Shape         Param #\n",
      "================================================================\n",
      "            Conv2d-1           [-1, 64, 32, 32]           1,728\n",
      "       BatchNorm2d-2           [-1, 64, 32, 32]             128\n",
      "              ReLU-3           [-1, 64, 32, 32]               0\n",
      "            Conv2d-4           [-1, 64, 32, 32]          36,864\n",
      "       BatchNorm2d-5           [-1, 64, 32, 32]             128\n",
      "              ReLU-6           [-1, 64, 32, 32]               0\n",
      "            Conv2d-7           [-1, 64, 32, 32]          36,864\n",
      "       BatchNorm2d-8           [-1, 64, 32, 32]             128\n",
      "     ResidualBlock-9           [-1, 64, 32, 32]               0\n",
      "           Conv2d-10           [-1, 64, 32, 32]          36,864\n",
      "      BatchNorm2d-11           [-1, 64, 32, 32]             128\n",
      "             ReLU-12           [-1, 64, 32, 32]               0\n",
      "           Conv2d-13           [-1, 64, 32, 32]          36,864\n",
      "      BatchNorm2d-14           [-1, 64, 32, 32]             128\n",
      "    ResidualBlock-15           [-1, 64, 32, 32]               0\n",
      "           Conv2d-16          [-1, 128, 16, 16]          73,728\n",
      "      BatchNorm2d-17          [-1, 128, 16, 16]             256\n",
      "             ReLU-18          [-1, 128, 16, 16]               0\n",
      "           Conv2d-19          [-1, 128, 16, 16]         147,456\n",
      "      BatchNorm2d-20          [-1, 128, 16, 16]             256\n",
      "           Conv2d-21          [-1, 128, 16, 16]           8,192\n",
      "      BatchNorm2d-22          [-1, 128, 16, 16]             256\n",
      "    ResidualBlock-23          [-1, 128, 16, 16]               0\n",
      "           Conv2d-24          [-1, 128, 16, 16]         147,456\n",
      "      BatchNorm2d-25          [-1, 128, 16, 16]             256\n",
      "             ReLU-26          [-1, 128, 16, 16]               0\n",
      "           Conv2d-27          [-1, 128, 16, 16]         147,456\n",
      "      BatchNorm2d-28          [-1, 128, 16, 16]             256\n",
      "    ResidualBlock-29          [-1, 128, 16, 16]               0\n",
      "           Conv2d-30            [-1, 256, 8, 8]         294,912\n",
      "      BatchNorm2d-31            [-1, 256, 8, 8]             512\n",
      "             ReLU-32            [-1, 256, 8, 8]               0\n",
      "           Conv2d-33            [-1, 256, 8, 8]         589,824\n",
      "      BatchNorm2d-34            [-1, 256, 8, 8]             512\n",
      "           Conv2d-35            [-1, 256, 8, 8]          32,768\n",
      "      BatchNorm2d-36            [-1, 256, 8, 8]             512\n",
      "    ResidualBlock-37            [-1, 256, 8, 8]               0\n",
      "           Conv2d-38            [-1, 256, 8, 8]         589,824\n",
      "      BatchNorm2d-39            [-1, 256, 8, 8]             512\n",
      "             ReLU-40            [-1, 256, 8, 8]               0\n",
      "           Conv2d-41            [-1, 256, 8, 8]         589,824\n",
      "      BatchNorm2d-42            [-1, 256, 8, 8]             512\n",
      "    ResidualBlock-43            [-1, 256, 8, 8]               0\n",
      "           Conv2d-44            [-1, 512, 4, 4]       1,179,648\n",
      "      BatchNorm2d-45            [-1, 512, 4, 4]           1,024\n",
      "             ReLU-46            [-1, 512, 4, 4]               0\n",
      "           Conv2d-47            [-1, 512, 4, 4]       2,359,296\n",
      "      BatchNorm2d-48            [-1, 512, 4, 4]           1,024\n",
      "           Conv2d-49            [-1, 512, 4, 4]         131,072\n",
      "      BatchNorm2d-50            [-1, 512, 4, 4]           1,024\n",
      "    ResidualBlock-51            [-1, 512, 4, 4]               0\n",
      "           Conv2d-52            [-1, 512, 4, 4]       2,359,296\n",
      "      BatchNorm2d-53            [-1, 512, 4, 4]           1,024\n",
      "             ReLU-54            [-1, 512, 4, 4]               0\n",
      "           Conv2d-55            [-1, 512, 4, 4]       2,359,296\n",
      "      BatchNorm2d-56            [-1, 512, 4, 4]           1,024\n",
      "    ResidualBlock-57            [-1, 512, 4, 4]               0\n",
      "        AvgPool2d-58            [-1, 512, 1, 1]               0\n",
      "           Linear-59                   [-1, 10]           5,130\n",
      "================================================================\n",
      "Total params: 11,173,962\n",
      "Trainable params: 11,173,962\n",
      "Non-trainable params: 0\n",
      "----------------------------------------------------------------\n",
      "Input size (MB): 0.01\n",
      "Forward/backward pass size (MB): 13.63\n",
      "Params size (MB): 42.63\n",
      "Estimated Total Size (MB): 56.27\n",
      "----------------------------------------------------------------\n"
     ]
    }
   ],
   "source": [
    "# 모델 출력\n",
    "torchsummary.summary(model, (3, 32, 32))"
   ]
  },
  {
   "cell_type": "code",
   "execution_count": 19,
   "metadata": {},
   "outputs": [],
   "source": [
    "# 손실 함수 및 최적화 방법 정의하기\n",
    "criterion = nn.CrossEntropyLoss()\n",
    "resnet = modeltype('resnet18').to(device)\n",
    "optimizer = optim.Adam(resnet.parameters(), lr=1e-3)"
   ]
  },
  {
   "cell_type": "code",
   "execution_count": 20,
   "metadata": {},
   "outputs": [
    {
     "name": "stdout",
     "output_type": "stream",
     "text": [
      "[1] loss: 1.330\n",
      "[2] loss: 0.831\n",
      "[3] loss: 0.619\n",
      "[4] loss: 0.481\n",
      "[5] loss: 0.377\n",
      "[6] loss: 0.277\n",
      "[7] loss: 0.195\n",
      "[8] loss: 0.140\n",
      "[9] loss: 0.103\n",
      "[10] loss: 0.086\n",
      "[11] loss: 0.068\n",
      "[12] loss: 0.066\n",
      "[13] loss: 0.053\n",
      "[14] loss: 0.049\n",
      "[15] loss: 0.041\n",
      "[16] loss: 0.043\n",
      "[17] loss: 0.036\n",
      "[18] loss: 0.036\n",
      "[19] loss: 0.034\n",
      "[20] loss: 0.031\n",
      "[21] loss: 0.029\n",
      "[22] loss: 0.027\n",
      "[23] loss: 0.028\n",
      "[24] loss: 0.025\n",
      "[25] loss: 0.022\n",
      "[26] loss: 0.022\n",
      "[27] loss: 0.021\n",
      "[28] loss: 0.021\n",
      "[29] loss: 0.021\n",
      "[30] loss: 0.019\n",
      "[31] loss: 0.019\n",
      "[32] loss: 0.018\n",
      "[33] loss: 0.016\n",
      "[34] loss: 0.016\n",
      "[35] loss: 0.018\n",
      "[36] loss: 0.016\n",
      "[37] loss: 0.014\n",
      "[38] loss: 0.016\n",
      "[39] loss: 0.014\n",
      "[40] loss: 0.015\n",
      "[41] loss: 0.010\n",
      "[42] loss: 0.013\n",
      "[43] loss: 0.013\n",
      "[44] loss: 0.012\n",
      "[45] loss: 0.010\n",
      "[46] loss: 0.015\n",
      "[47] loss: 0.010\n",
      "[48] loss: 0.011\n",
      "[49] loss: 0.010\n",
      "[50] loss: 0.013\n"
     ]
    }
   ],
   "source": [
    "# 모델 학습하기\n",
    "\n",
    "# 그래프를 그리기 위한 loss 저장용 리스트\n",
    "loss_ = []\n",
    "\n",
    "# 배치개수\n",
    "n = len(trainloader)\n",
    "\n",
    "for epoch in range(50) :\n",
    "    running_loss = 0.0\n",
    "    for data in trainloader :\n",
    "        # 원래는 inputs, labels = data로 하는데 각각 device 붙여주기 위해 인덱스로 따로 뗌\n",
    "        # 배치 데이터\n",
    "        inputs, labels = data[0].to(device), data[1].to(device)\n",
    "        optimizer.zero_grad()\n",
    "        \n",
    "        # 예측값 산출\n",
    "        outputs = resnet(inputs)\n",
    "        \n",
    "        # 손실함수 계산\n",
    "        loss = criterion(outputs, labels)\n",
    "        \n",
    "        # 손실 함수 기준으로 역전파 선언\n",
    "        loss.backward()\n",
    "        \n",
    "        # 가중치 최적화\n",
    "        optimizer.step()\n",
    "        \n",
    "        running_loss += loss.item()\n",
    "        \n",
    "    loss_.append(running_loss/n)\n",
    "    print('[%d] loss: %.3f' % (epoch+1, running_loss/len(trainloader)))"
   ]
  },
  {
   "cell_type": "code",
   "execution_count": 21,
   "metadata": {},
   "outputs": [
    {
     "data": {
      "image/png": "[encoded data removed]",
      "text/plain": [
       "<Figure size 432x288 with 1 Axes>"
      ]
     },
     "metadata": {
      "needs_background": "light"
     },
     "output_type": "display_data"
    }
   ],
   "source": [
    "# 학습 손실 함수 그래프 그리기\n",
    "plt.plot(loss_)\n",
    "plt.title(\"Training Loss\")\n",
    "plt.xlabel(\"epoch\")\n",
    "plt.show()"
   ]
  },
  {
   "cell_type": "code",
   "execution_count": 24,
   "metadata": {},
   "outputs": [],
   "source": [
    "# 모델 저장 경로와 모델평.pth 입력 (폴더는 만들어주어야 함)\n",
    "PATH = './model/cifal_resnet.pth'\n",
    "# 모델 저장\n",
    "torch.save(resnet.state_dict(), PATH)"
   ]
  },
  {
   "cell_type": "code",
   "execution_count": 25,
   "metadata": {},
   "outputs": [
    {
     "name": "stdout",
     "output_type": "stream",
     "text": [
      "Test accuracy: 84.77 %\n"
     ]
    }
   ],
   "source": [
    "# 평가하기\n",
    "\n",
    "# 정답 개수\n",
    "correct = 0\n",
    "\n",
    "# 전체 개수\n",
    "total = 0\n",
    "\n",
    "# 평가 시에는 requires_grad 비활성화\n",
    "with torch.no_grad() :\n",
    "    # 평가 시에는 드롭아웃 등과 같은 정규화 작업 X (비활성화)\n",
    "    resnet.eval()\n",
    "    for data in testloader :\n",
    "        images, labels = data[0].to(device), data[1].to(device)\n",
    "        outputs = resnet(images)\n",
    "        _, predicted = torch.max(outputs, 1)\n",
    "        total += labels.size(0)\n",
    "        correct += (predicted == labels).sum().item()\n",
    "        \n",
    "print('Test accuracy: %.2f %%' %(100*correct/total))"
   ]
  },
  {
   "cell_type": "markdown",
   "metadata": {},
   "source": [
    "✨ 평가 결과, AlexNet 보다 정확도가 높게 나왔다 !!!"
   ]
  }
 ],
 "metadata": {
  "kernelspec": {
   "display_name": "Python 3",
   "language": "python",
   "name": "python3"
  },
  "language_info": {
   "codemirror_mode": {
    "name": "ipython",
    "version": 3
   },
   "file_extension": ".py",
   "mimetype": "text/x-python",
   "name": "python",
   "nbconvert_exporter": "python",
   "pygments_lexer": "ipython3",
   "version": "3.8.5"
  }
 },
 "nbformat": 4,
 "nbformat_minor": 4
}
