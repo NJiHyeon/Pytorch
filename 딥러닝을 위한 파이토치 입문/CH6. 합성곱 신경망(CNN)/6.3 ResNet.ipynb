{
 "cells": [
  {
   "cell_type": "markdown",
   "id": "3cf78cd9-5ad9-4ed8-8e77-fd7668c6600d",
   "metadata": {},
   "source": [
    "##### 💡 Residual block 구축하기"
   ]
  },
  {
   "cell_type": "code",
   "execution_count": null,
   "id": "1cd5b27b-77d2-4c96-9292-0184851dab7f",
   "metadata": {},
   "outputs": [],
   "source": []
  },
  {
   "cell_type": "markdown",
   "id": "0f9ff84f-1738-4326-b95d-717a0c8196d2",
   "metadata": {},
   "source": [
    "------------------------------------------------------------------------------------------------"
   ]
  },
  {
   "cell_type": "markdown",
   "id": "f7715507-3df9-493a-9d06-518c22cb9c7b",
   "metadata": {},
   "source": [
    "##### 💡 ResNet 모델 구축하기"
   ]
  },
  {
   "cell_type": "code",
   "execution_count": null,
   "id": "af8c371c-7ac3-437b-bfd8-9c7621333097",
   "metadata": {},
   "outputs": [],
   "source": []
  },
  {
   "cell_type": "markdown",
   "id": "9222ebda-9909-4b16-aa40-c386a2c5c64a",
   "metadata": {},
   "source": [
    "------------------------------------------------------------------------------------------------"
   ]
  },
  {
   "cell_type": "markdown",
   "id": "b464ae03-a64a-45a7-b85b-4418b7b4b2a3",
   "metadata": {},
   "source": [
    "##### 💡 ResNet18 학습 및 평가하기"
   ]
  },
  {
   "cell_type": "code",
   "execution_count": null,
   "id": "84cbe139-838d-4db3-9245-eb330d456d98",
   "metadata": {},
   "outputs": [],
   "source": []
  }
 ],
 "metadata": {
  "kernelspec": {
   "display_name": "Python 3 (ipykernel)",
   "language": "python",
   "name": "python3"
  },
  "language_info": {
   "codemirror_mode": {
    "name": "ipython",
    "version": 3
   },
   "file_extension": ".py",
   "mimetype": "text/x-python",
   "name": "python",
   "nbconvert_exporter": "python",
   "pygments_lexer": "ipython3",
   "version": "3.9.13"
  }
 },
 "nbformat": 4,
 "nbformat_minor": 5
}
