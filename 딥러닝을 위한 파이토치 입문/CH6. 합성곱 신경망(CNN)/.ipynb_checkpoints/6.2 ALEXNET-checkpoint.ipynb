{
 "cells": [
  {
   "cell_type": "markdown",
   "id": "4f137425-46f4-4b3a-adf2-1f41fbc2be79",
   "metadata": {},
   "source": [
    "##### 💡 라이브러리 불러오기"
   ]
  },
  {
   "cell_type": "code",
   "execution_count": null,
   "id": "5d792b77-3ab3-4466-b6de-516b9d369af9",
   "metadata": {},
   "outputs": [],
   "source": []
  },
  {
   "cell_type": "markdown",
   "id": "0ce24396-4f06-443f-80fb-5b51645179dd",
   "metadata": {},
   "source": [
    "##### 💡 CIFAR10 데이터 세트 불러오기"
   ]
  },
  {
   "cell_type": "markdown",
   "id": "8df969f7-fa90-4651-bb84-c35256020b8b",
   "metadata": {},
   "source": [
    "주의) 데이터 다른 곳에 저장할 것.."
   ]
  },
  {
   "cell_type": "code",
   "execution_count": null,
   "id": "c3e57cd7-854b-404b-b727-7da395c7eee1",
   "metadata": {},
   "outputs": [],
   "source": []
  },
  {
   "cell_type": "markdown",
   "id": "eaccf20f-7a74-4069-9377-05fb4075a95b",
   "metadata": {},
   "source": [
    "##### 💡 GPU 연산 체크하기"
   ]
  },
  {
   "cell_type": "markdown",
   "id": "2942c64a-4844-43d5-a0bb-6f0aacb7ef62",
   "metadata": {},
   "source": [
    "코랩에서 돌리고 캡쳐"
   ]
  },
  {
   "cell_type": "markdown",
   "id": "d5e0200d-240e-4e18-a3b7-964ce038c504",
   "metadata": {},
   "source": [
    "##### 💡 AlexNet 구축하기"
   ]
  },
  {
   "cell_type": "code",
   "execution_count": null,
   "id": "ad010b30-ece8-4d5f-8f18-2d73424f9e63",
   "metadata": {},
   "outputs": [],
   "source": []
  },
  {
   "cell_type": "code",
   "execution_count": null,
   "id": "2e13697a-d73b-4e2d-a0b3-e49863984e79",
   "metadata": {},
   "outputs": [],
   "source": []
  },
  {
   "cell_type": "markdown",
   "id": "abf3a9db-9511-4698-a52d-28bcd8a8ed4d",
   "metadata": {},
   "source": [
    "##### 💡 손실함수 및 최적화 방법 정의하기"
   ]
  },
  {
   "cell_type": "code",
   "execution_count": null,
   "id": "14b7eb54-a4a2-4e3b-a403-f5b6e934e29e",
   "metadata": {},
   "outputs": [],
   "source": []
  },
  {
   "cell_type": "markdown",
   "id": "887c3c6d-3489-4c4c-b0c9-59256c1c6f8d",
   "metadata": {},
   "source": [
    "##### 💡 AlexNet 모델 학습하기"
   ]
  },
  {
   "cell_type": "code",
   "execution_count": null,
   "id": "2d654801-cecc-4a37-9349-0e7d61960acc",
   "metadata": {},
   "outputs": [],
   "source": []
  },
  {
   "cell_type": "markdown",
   "id": "a45a5f9a-f80f-4339-8533-e0a8bc3ccc70",
   "metadata": {},
   "source": [
    "##### 💡 (학습) 손실함수 그래프 그리기"
   ]
  },
  {
   "cell_type": "code",
   "execution_count": null,
   "id": "32e860c9-af6d-4847-a3fc-bf3553276315",
   "metadata": {},
   "outputs": [],
   "source": []
  },
  {
   "cell_type": "markdown",
   "id": "1889fd93-ba00-4f9e-b436-d48f1327a216",
   "metadata": {},
   "source": [
    "##### 💡 파이토치 모델 저장 및 불러오기"
   ]
  },
  {
   "cell_type": "code",
   "execution_count": null,
   "id": "9b435328-ca6d-4486-bb42-f712ffc03bdd",
   "metadata": {},
   "outputs": [],
   "source": []
  },
  {
   "cell_type": "code",
   "execution_count": null,
   "id": "0428dea5-a5f1-4721-8a1b-58637f9532fa",
   "metadata": {},
   "outputs": [],
   "source": []
  },
  {
   "cell_type": "markdown",
   "id": "af097b47-a7e3-49ed-8e3b-d36db8b6032e",
   "metadata": {},
   "source": [
    "##### 💡 평가하기"
   ]
  },
  {
   "cell_type": "code",
   "execution_count": null,
   "id": "76189fd7-b510-419b-9855-9a5e03c911f0",
   "metadata": {},
   "outputs": [],
   "source": []
  },
  {
   "cell_type": "code",
   "execution_count": null,
   "id": "8d2b87c8-f9f1-4bca-bcef-236a6e0c1849",
   "metadata": {},
   "outputs": [],
   "source": []
  }
 ],
 "metadata": {
  "kernelspec": {
   "display_name": "Python 3 (ipykernel)",
   "language": "python",
   "name": "python3"
  },
  "language_info": {
   "codemirror_mode": {
    "name": "ipython",
    "version": 3
   },
   "file_extension": ".py",
   "mimetype": "text/x-python",
   "name": "python",
   "nbconvert_exporter": "python",
   "pygments_lexer": "ipython3",
   "version": "3.10.2"
  }
 },
 "nbformat": 4,
 "nbformat_minor": 5
}
