{
 "cells": [
  {
   "cell_type": "markdown",
   "metadata": {},
   "source": [
    "### 1. Vanilla GAN"
   ]
  },
  {
   "cell_type": "markdown",
   "metadata": {},
   "source": [
    "#### 💡 라이브러리 불러오기"
   ]
  },
  {
   "cell_type": "markdown",
   "metadata": {},
   "source": [
    "- `make_grid` : 격자 형태의 이미지를 만들게 한다. \n",
    "- `imageio` : gif 파일을 만들기 위해 "
   ]
  },
  {
   "cell_type": "code",
   "execution_count": 1,
   "metadata": {},
   "outputs": [],
   "source": [
    "import torch\n",
    "import torch.nn as nn\n",
    "import torch.optim as optim\n",
    "from torchvision import transforms\n",
    "from torch.utils.data import DataLoader\n",
    "from torchvision.datasets import FashionMNIST\n",
    "from torchvision.utils import make_grid\n",
    "import imageio\n",
    "import numpy as np\n",
    "from matplotlib import pyplot as plt"
   ]
  },
  {
   "cell_type": "markdown",
   "metadata": {},
   "source": [
    "#### 💡 패션 아이템 불러오기"
   ]
  },
  {
   "cell_type": "markdown",
   "metadata": {},
   "source": [
    "- 티셔츠, 바지, 풀오버, 드레스, 코드, 샌들, 셔츠, 스니커즈, 가방, 앵클부츠로 구성된 FashionMNIST 데이터를 불러온다."
   ]
  },
  {
   "cell_type": "code",
   "execution_count": 2,
   "metadata": {},
   "outputs": [],
   "source": [
    "device = torch.device(\"cuda:0\" if torch.cuda.is_available() else \"cpu\")"
   ]
  },
  {
   "cell_type": "code",
   "execution_count": 3,
   "metadata": {},
   "outputs": [
    {
     "name": "stdout",
     "output_type": "stream",
     "text": [
      "Downloading http://fashion-mnist.s3-website.eu-central-1.amazonaws.com/train-images-idx3-ubyte.gz to ./data/FashionMNIST/raw/train-images-idx3-ubyte.gz\n"
     ]
    },
    {
     "data": {
      "application/vnd.jupyter.widget-view+json": {
       "model_id": "c9c4265f79c34ae9bb89eb3af2a05cc6",
       "version_major": 2,
       "version_minor": 0
      },
      "text/plain": [
       "0it [00:00, ?it/s]"
      ]
     },
     "metadata": {},
     "output_type": "display_data"
    },
    {
     "name": "stdout",
     "output_type": "stream",
     "text": [
      "Extracting ./data/FashionMNIST/raw/train-images-idx3-ubyte.gz to ./data/FashionMNIST/raw\n",
      "Downloading http://fashion-mnist.s3-website.eu-central-1.amazonaws.com/train-labels-idx1-ubyte.gz to ./data/FashionMNIST/raw/train-labels-idx1-ubyte.gz\n"
     ]
    },
    {
     "data": {
      "application/vnd.jupyter.widget-view+json": {
       "model_id": "b1730a07359b4ef8a9987877e2c7ae3e",
       "version_major": 2,
       "version_minor": 0
      },
      "text/plain": [
       "0it [00:00, ?it/s]"
      ]
     },
     "metadata": {},
     "output_type": "display_data"
    },
    {
     "name": "stdout",
     "output_type": "stream",
     "text": [
      "Extracting ./data/FashionMNIST/raw/train-labels-idx1-ubyte.gz to ./data/FashionMNIST/raw\n",
      "Downloading http://fashion-mnist.s3-website.eu-central-1.amazonaws.com/t10k-images-idx3-ubyte.gz to ./data/FashionMNIST/raw/t10k-images-idx3-ubyte.gz\n"
     ]
    },
    {
     "data": {
      "application/vnd.jupyter.widget-view+json": {
       "model_id": "ef8fd48bd7774dbba8a1b46d0b33f2a3",
       "version_major": 2,
       "version_minor": 0
      },
      "text/plain": [
       "0it [00:00, ?it/s]"
      ]
     },
     "metadata": {},
     "output_type": "display_data"
    },
    {
     "name": "stdout",
     "output_type": "stream",
     "text": [
      "Extracting ./data/FashionMNIST/raw/t10k-images-idx3-ubyte.gz to ./data/FashionMNIST/raw\n",
      "Downloading http://fashion-mnist.s3-website.eu-central-1.amazonaws.com/t10k-labels-idx1-ubyte.gz to ./data/FashionMNIST/raw/t10k-labels-idx1-ubyte.gz\n"
     ]
    },
    {
     "data": {
      "application/vnd.jupyter.widget-view+json": {
       "model_id": "87d797f7e1a44163ab7b6e48ad839704",
       "version_major": 2,
       "version_minor": 0
      },
      "text/plain": [
       "0it [00:00, ?it/s]"
      ]
     },
     "metadata": {},
     "output_type": "display_data"
    },
    {
     "name": "stdout",
     "output_type": "stream",
     "text": [
      "Extracting ./data/FashionMNIST/raw/t10k-labels-idx1-ubyte.gz to ./data/FashionMNIST/raw\n",
      "Processing...\n",
      "Done!\n"
     ]
    },
    {
     "name": "stderr",
     "output_type": "stream",
     "text": [
      "/home/user/anaconda3/lib/python3.8/site-packages/torchvision/datasets/mnist.py:480: UserWarning: The given NumPy array is not writeable, and PyTorch does not support non-writeable tensors. This means you can write to the underlying (supposedly non-writeable) NumPy array using the tensor. You may want to copy the array to protect its data or make it writeable before converting it to a tensor. This type of warning will be suppressed for the rest of this program. (Triggered internally at  /pytorch/torch/csrc/utils/tensor_numpy.cpp:141.)\n",
      "  return torch.from_numpy(parsed.astype(m[2], copy=False)).view(*s)\n"
     ]
    }
   ],
   "source": [
    "transform = transforms.Compose([transforms.ToTensor(),\n",
    "                                transforms.Normalize((0.5, ), (0.5, ))])\n",
    "trainset = FashionMNIST(root='./data/', train=True, download=True, transform=transform)\n",
    "trainloader = DataLoader(trainset, batch_size=100, shuffle=True)"
   ]
  },
  {
   "cell_type": "markdown",
   "metadata": {},
   "source": [
    "#### 💡 생성자 구축하기"
   ]
  },
  {
   "cell_type": "markdown",
   "metadata": {},
   "source": [
    "- `self.n_features`, `self.n_out`\n",
    "    - 생성자는 잠재변수로부터 784(28x28) 크기인 벡터를 생성한다.\n",
    "    - 따라서 잠재 변수의 크기를 임의로 정하고 출력 크기는 이미지를 일렬로 편 크기인 784로 정의\n",
    "- `self.linear`\n",
    "    - 기본 GAN은 nn.Linear를 사용하여 모델 구축\n",
    "    - 활성 함수로는 ReakyReLU (음수 구간의 양의 기울기를 주어 값을 계산 y=0.2x)\n",
    "- `x`\n",
    "    - 정의된 MLP를 거치고 784 크기의 벡터를 크기가 28x28인 흑백 이미지로 변경하여 새로운 이미지 생성"
   ]
  },
  {
   "cell_type": "code",
   "execution_count": 84,
   "metadata": {},
   "outputs": [],
   "source": [
    "class Generator(nn.Module) :\n",
    "    def __init__(self) :\n",
    "        super(Generator, self).__init__()\n",
    "        self.n_features = 128\n",
    "        self.n_out = 784\n",
    "        self.linear = nn.Sequential(nn.Linear(self.n_features, 256),\n",
    "                                    nn.LeakyReLU(0.2),\n",
    "                                    nn.Linear(256, 512),\n",
    "                                    nn.LeakyReLU(0.2),\n",
    "                                    nn.Linear(512, 1024),\n",
    "                                    nn.LeakyReLU(0.2),\n",
    "                                    # self.n_out 중요중요\n",
    "                                    nn.Linear(1024, self.n_out),\n",
    "                                    nn.Tanh())\n",
    "        \n",
    "    def forward(self, x) :\n",
    "        x = self.linear(x)\n",
    "        x = x.view(-1, 1, 28, 28)\n",
    "        return x"
   ]
  },
  {
   "cell_type": "markdown",
   "metadata": {},
   "source": [
    "#### 💡 구별자 구축하기"
   ]
  },
  {
   "cell_type": "code",
   "execution_count": 12,
   "metadata": {},
   "outputs": [],
   "source": [
    "class Discriminator(nn.Module) :\n",
    "    def __init__(self) :\n",
    "        super(Discriminator, self).__init__()\n",
    "        # 이미지를 일렬로 편 크기 784\n",
    "        self.n_in = 784\n",
    "        \n",
    "        # 진위여부를 판단하기 위해 하나의 숫자로 정의\n",
    "        self.n_out = 1\n",
    "        # 구조를 정의\n",
    "        self.linear = nn.Sequential(nn.Linear(self.n_in, 1024),\n",
    "                                    nn.LeakyReLU(0.2),\n",
    "                                    nn.Dropout(0.3),\n",
    "                                    nn.Linear(1024, 512),\n",
    "                                    nn.LeakyReLU(0.2),\n",
    "                                    nn.Dropout(0.3),\n",
    "                                    nn.Linear(512, 256),\n",
    "                                    nn.LeakyReLU(0.2),\n",
    "                                    nn.Dropout(0.3),\n",
    "                                    nn.Linear(256, self.n_out),\n",
    "                                    # 0과 1 사이의 값이 출력될 수 있도록\n",
    "                                    nn.Sigmoid())\n",
    "        \n",
    "    def forward(self, x) :\n",
    "        # 이미지를 벡터 형태로 변경하여 신경망에 넣는다. \n",
    "        x = x.view(-1, 784)\n",
    "        x = self.linear(x)\n",
    "        return x                "
   ]
  },
  {
   "cell_type": "markdown",
   "metadata": {},
   "source": [
    "#### 💡 모델 정의하기"
   ]
  },
  {
   "cell_type": "code",
   "execution_count": 85,
   "metadata": {},
   "outputs": [],
   "source": [
    "# 생성자와 구별자 각각 선언\n",
    "generator = Generator().to(device)\n",
    "discriminator = Discriminator().to(device)"
   ]
  },
  {
   "cell_type": "markdown",
   "metadata": {},
   "source": [
    "#### 💡 손실함수 및 최적화 기법 정의하기"
   ]
  },
  {
   "cell_type": "code",
   "execution_count": 14,
   "metadata": {},
   "outputs": [],
   "source": [
    "g_optim = optim.Adam(generator.parameters(), lr=2e-4)\n",
    "d_optim = optim.Adam(discriminator.parameters(), lr=2e-4)\n",
    "\n",
    "# 학습 동안 손실 함수값과 샘플 이미지 저장을 위해 빈 리스트를 만든다.\n",
    "g_losses = []\n",
    "d_losses = []\n",
    "images = []\n",
    "criterion = nn.BCELoss()"
   ]
  },
  {
   "cell_type": "markdown",
   "metadata": {},
   "source": [
    "#### 💡 잠재변수 및 라벨 정의하기"
   ]
  },
  {
   "cell_type": "markdown",
   "metadata": {},
   "source": [
    "- `noise`\n",
    "    - 기본적으로 크기가 128인 잠재 변수 n개를 무작위로 생성한다.\n",
    "    - 손실함수에서 이미지의 진위 여부에 대한 계산을 하게 되므로, 실제 이미지의 클래스를 사용하지 않고 진짜 데이터는 라벨을 1로 생성자로부터 만들어진 이미지의 라벨을 0으로 정의하여 사용\n",
    "- `label_ones`, `label_zeros`\n",
    "    - 위를 위해 1과 0 라벨을 만들어주는 함수 정의"
   ]
  },
  {
   "cell_type": "code",
   "execution_count": 24,
   "metadata": {},
   "outputs": [],
   "source": [
    "def noise(n, n_features=128) :\n",
    "    data = torch.randn(n, n_features)\n",
    "    return data.to(device)\n",
    "\n",
    "def label_ones(size) :\n",
    "    data = torch.ones(size, 1) \n",
    "    return data.to(device)\n",
    "\n",
    "def label_zeros(size) :\n",
    "    data = torch.zeros(size, 1)\n",
    "    return data.to(device)"
   ]
  },
  {
   "cell_type": "markdown",
   "metadata": {},
   "source": [
    "#### 💡 구별자 학습 함수 정의하기"
   ]
  },
  {
   "cell_type": "code",
   "execution_count": 90,
   "metadata": {},
   "outputs": [],
   "source": [
    "# 진짜 이미지, 가짜 이미지, 최적화 함수를 받는다. \n",
    "def train_discriminator(optimizer, real_data, fake_data) :\n",
    "    # 각 이미지의 진위 라벨을 할당하기 위해서 이미지의 개수 확인\n",
    "    n = real_data.size(0)\n",
    "    optimizer.zero_grad()\n",
    "    \n",
    "    # 진짜 이미지 판별\n",
    "    prediction_real = discriminator(real_data)\n",
    "    # 이미지 수만큼 1라벨을 넣어 손실 함수를 계산\n",
    "    d_loss = criterion(prediction_real, label_ones(n))\n",
    "    \n",
    "    # 가짜 이미지 판별\n",
    "    prediction_fake = discriminator(fake_data)\n",
    "    # 이미지 수만큼 0라벨을 넣어 손실 함수를 계산\n",
    "    g_loss = criterion(prediction_fake, label_zeros(n))\n",
    "    \n",
    "    loss = d_loss + g_loss\n",
    "    loss.backward()\n",
    "    optimizer.step()\n",
    "    return loss.item()"
   ]
  },
  {
   "cell_type": "markdown",
   "metadata": {},
   "source": [
    "#### 💡 생성자 학습 함수 정의하기"
   ]
  },
  {
   "cell_type": "code",
   "execution_count": 91,
   "metadata": {},
   "outputs": [],
   "source": [
    "# 가짜 이미지, 최적화 함수를 받는다.\n",
    "def train_generator(optimizer, fake_data) :\n",
    "    # 이미지의 개수 저장\n",
    "    n = fake_data.size(0)\n",
    "    optimizer.zero_grad()\n",
    "    # 가짜 이미지를 넣어 판별\n",
    "    prediction = discriminator(fake_data)\n",
    "    # 생성자 입장에서는 구별자가 가짜 이미지를 진짜 이미지라고 판단하도록 업데이트가 되어야 하므로\n",
    "    # 0 라벨이 아니라 1라벨을 넣어 손실 함수 계산\n",
    "    loss = criterion(prediction, label_ones(n))\n",
    "    loss.backward()\n",
    "    optimizer.step()\n",
    "    return loss.item()"
   ]
  },
  {
   "cell_type": "markdown",
   "metadata": {},
   "source": [
    "#### 💡 모델 학습하기"
   ]
  },
  {
   "cell_type": "code",
   "execution_count": 92,
   "metadata": {},
   "outputs": [
    {
     "data": {
      "text/plain": [
       "torch.Size([100, 1, 28, 28])"
      ]
     },
     "execution_count": 92,
     "metadata": {},
     "output_type": "execute_result"
    }
   ],
   "source": [
    "generator(noise(100)).shape"
   ]
  },
  {
   "cell_type": "code",
   "execution_count": 93,
   "metadata": {},
   "outputs": [
    {
     "name": "stdout",
     "output_type": "stream",
     "text": [
      "Epoch 0:g_loss:0.728 d_loss:1.401\n",
      "Epoch 10:g_loss:0.728 d_loss:1.401\n",
      "Epoch 20:g_loss:0.728 d_loss:1.401\n",
      "Epoch 30:g_loss:0.728 d_loss:1.401\n",
      "Epoch 40:g_loss:0.728 d_loss:1.401\n",
      "Epoch 50:g_loss:0.728 d_loss:1.401\n",
      "Epoch 60:g_loss:0.728 d_loss:1.401\n",
      "Epoch 70:g_loss:0.728 d_loss:1.401\n",
      "Epoch 80:g_loss:0.728 d_loss:1.401\n",
      "Epoch 90:g_loss:0.728 d_loss:1.401\n",
      "Epoch 100:g_loss:0.728 d_loss:1.401\n",
      "Epoch 110:g_loss:0.728 d_loss:1.401\n",
      "Epoch 120:g_loss:0.728 d_loss:1.401\n",
      "Epoch 130:g_loss:0.728 d_loss:1.401\n",
      "Epoch 140:g_loss:0.728 d_loss:1.401\n",
      "Epoch 150:g_loss:0.728 d_loss:1.401\n"
     ]
    }
   ],
   "source": [
    "# 검증을 위한 무작위 잠재 변수 64개 생성 : torch.Size([64, 128])\n",
    "test_noise = noise(64)\n",
    "\n",
    "# 평균 손실값을 구하는데 사용하는 배치 수 저장 (600)\n",
    "l = len(trainloader)\n",
    "\n",
    "for epoch in range(151) :\n",
    "    # 각 에폭마다 손실값을 초기화\n",
    "    g_loss = 0.0\n",
    "    d_loss = 0.0\n",
    "    for data in trainloader :\n",
    "        # 진짜 이미지를 받고 진짜 이미지의 개수를 정의 (100개)\n",
    "        imgs, _ = data\n",
    "        n = len(imgs)\n",
    "        \n",
    "        # 진짜 이미지의 개수만큼 가짜 이미지를 생성, detach()를 통해 불필요한 requires_grad 비활성화\n",
    "        fake_data = generator(noise(n)).detach() \n",
    "        real_data = imgs.to(device)\n",
    "        # 가지고 있는 이미지를 모두 구별자에 넣어 판별하고, 구별자를 업데이트하고 반환한 손실함수 값을 누적\n",
    "        d_loss += train_discriminator(d_optim, real_data, fake_data)\n",
    "        \n",
    "        \n",
    "        # 생성자를 업데이트하고 반환한 손실 함수값을 누적\n",
    "        fake_data = generator(noise(n))\n",
    "        g_loss += train_generator(g_optim, fake_data)\n",
    "        \n",
    "        \n",
    "        \n",
    "    # 검증을 위해 고정된 잠재 변수를 넣어 \"이미지를 생성\"\n",
    "    # 변화를 알아보기 위해 격자 형태의 이미지로 만들어 \"images 리스트에 저장\"\n",
    "    img = generator(test_noise).detach().cpu()\n",
    "    img = make_grid(img)\n",
    "    images.append(img)\n",
    "    # 손실 함수값의 변화 저장\n",
    "    g_losses.append(g_loss/l)\n",
    "    d_losses.append(d_loss/l)\n",
    "    \n",
    "    if epoch % 10 == 0:\n",
    "        print(\"Epoch {}:g_loss:{:.3f} d_loss:{:.3f}\\r\" .format(epoch, g_loss/l, d_loss/l))"
   ]
  },
  {
   "cell_type": "markdown",
   "metadata": {},
   "source": [
    "#### 💡 모델 저장하기"
   ]
  },
  {
   "cell_type": "code",
   "execution_count": 95,
   "metadata": {},
   "outputs": [],
   "source": [
    "torch.save(discriminator.state_dict(), './model/fmnist_disc.pth')\n",
    "torch.save(generator.state_dict(), './model/fmnist_gner.pth')"
   ]
  },
  {
   "cell_type": "markdown",
   "metadata": {},
   "source": [
    "#### 💡 검증 이미지 변화를 gif 파일로 저장하기"
   ]
  },
  {
   "cell_type": "markdown",
   "metadata": {},
   "source": [
    "- images 리스트의 원소 하나는 격자 형태로 만들어진 이미지들의 모임\n",
    "    - 크기 : (3, 242, 242)인 하나의 텐서\n",
    "    - 이미지 저장 형식을 맞추기 위해 ToPILImage()를 이용해 타입, 크기(242, 242, 3)으로 크기를 변환할 수 있다. "
   ]
  },
  {
   "cell_type": "code",
   "execution_count": 99,
   "metadata": {},
   "outputs": [],
   "source": [
    "to_image = transforms.ToPILImage()\n",
    "\n",
    "# 이미지를 넘파이 배열로 변경하여 gif 파일로 만든다. \n",
    "imgs = [np.array(to_image(i)) for i in images]\n",
    "imageio.mimsave('fashion_items.gif', imgs)"
   ]
  },
  {
   "cell_type": "markdown",
   "metadata": {},
   "source": [
    "#### 💡 손실함수값 그래프 그리기"
   ]
  },
  {
   "cell_type": "code",
   "execution_count": 98,
   "metadata": {},
   "outputs": [
    {
     "data": {
      "image/png": "[encoded data removed]",
      "text/plain": [
       "<Figure size 1440x720 with 1 Axes>"
      ]
     },
     "metadata": {
      "needs_background": "light"
     },
     "output_type": "display_data"
    }
   ],
   "source": [
    "plt.figure(figsize=(20, 10))\n",
    "plt.plot(g_losses)\n",
    "plt.plot(d_losses)\n",
    "plt.legend(['Generator', 'Discriminator'])\n",
    "plt.title(\"Loss\")\n",
    "plt.savefig('gan_loss.png')"
   ]
  },
  {
   "cell_type": "markdown",
   "metadata": {},
   "source": [
    "--------------------------------------------------------------------------------------------------"
   ]
  },
  {
   "cell_type": "markdown",
   "metadata": {},
   "source": [
    "### 2. Deep Convolutional GAN (DCGAN)"
   ]
  },
  {
   "cell_type": "markdown",
   "metadata": {},
   "source": [
    "- DCGAN : GAN 구조를 합성곱 층으로 구성한 모델\n",
    "- 합성곱 신경망은 MLP보다 이미지 처리에 매우 유리한 네트워크\n",
    "- 실제 MLP로 구성된 GAN보다 DCGAN을 통해 더 선명한 이미지를 생성할 수 있다. "
   ]
  },
  {
   "cell_type": "markdown",
   "metadata": {},
   "source": [
    "#### 💡 생성자 구축하기"
   ]
  },
  {
   "cell_type": "markdown",
   "metadata": {},
   "source": [
    "- x : 크기가 128인 잠재 변수를 가지고 채널이 128인 1x1 크기 이미지를 입력값으로 받는다. \n",
    "- 28x28 이미지 한 장을 얻기 위해 nn.ConvTranspose2d \n",
    "    - 입력 성분(Conv2의 결과)을 출력 성분(Conv2의 입력)으로 미분하여 그 값을 입력 벡터와 곱해 출력 벡터를 산출하고, 그 결과 벡터를 행렬 형태로 변환하는 연산\n",
    "    - **(입력 채널 수, 출력 채널 수, 필터 크기, stride, padding)**을 입력\n",
    "    - 크기는 일반적인 정사각형 이미지와 필터를 사용했을 경우, 다음 식에 의해 피쳐맵의 크기를 산출\n",
    "    - **(출력값의 크기) = (입력값의 크기 - 1)x(보폭) - 2x(패딩) + (필터의 크기) + (출력값 패딩)**\n",
    "    - 예를 들어 입력값이 1x1 이미지이고, (stride=1, padding=0, filter size = 3x3, padding=0)이면 출력값의 크기는 3이 되고, 계산과정을 반복하면 28x28 이미지 얻을 수 있다. "
   ]
  },
  {
   "cell_type": "code",
   "execution_count": 100,
   "metadata": {},
   "outputs": [],
   "source": [
    "class Generator(nn.Module) :\n",
    "    def __init__(self) :\n",
    "        super(Generator, self).__init__()\n",
    "        self.n_features = 128\n",
    "        self.conv = nn.Sequential(nn.ConvTranspose2d(self.n_features, 256, 3, 1, bias=True),\n",
    "                                  nn.ReLU(True),\n",
    "                                  nn.ConvTranspose2d(256, 128, 3, 2, bias=False),\n",
    "                                  nn.ReLU(True),\n",
    "                                  nn.ConvTranspose2d(128, 64, 3, 2, bias=False),\n",
    "                                  nn.ReLU(True),\n",
    "                                  nn.ConvTranspose2d(64, 1, 2, 2, 1, bias=False),\n",
    "                                  nn.Tanh())\n",
    "        \n",
    "    def forward(self, x) :\n",
    "        # 입력값이 1x1 이미지 (생소할 수도 있다.)\n",
    "        x = x.view(-1, self.n_features, 1, 1)\n",
    "        x = self.conv(x)\n",
    "        return x"
   ]
  },
  {
   "cell_type": "code",
   "execution_count": 116,
   "metadata": {},
   "outputs": [],
   "source": [
    "generator = Generator().to(device)"
   ]
  },
  {
   "cell_type": "code",
   "execution_count": 117,
   "metadata": {},
   "outputs": [
    {
     "name": "stdout",
     "output_type": "stream",
     "text": [
      "----------------------------------------------------------------\n",
      "        Layer (type)               Output Shape         Param #\n",
      "================================================================\n",
      "   ConvTranspose2d-1            [-1, 256, 3, 3]         295,168\n",
      "              ReLU-2            [-1, 256, 3, 3]               0\n",
      "   ConvTranspose2d-3            [-1, 128, 7, 7]         294,912\n",
      "              ReLU-4            [-1, 128, 7, 7]               0\n",
      "   ConvTranspose2d-5           [-1, 64, 15, 15]          73,728\n",
      "              ReLU-6           [-1, 64, 15, 15]               0\n",
      "   ConvTranspose2d-7            [-1, 1, 28, 28]             256\n",
      "              Tanh-8            [-1, 1, 28, 28]               0\n",
      "================================================================\n",
      "Total params: 664,064\n",
      "Trainable params: 664,064\n",
      "Non-trainable params: 0\n",
      "----------------------------------------------------------------\n",
      "Input size (MB): 0.05\n",
      "Forward/backward pass size (MB): 0.36\n",
      "Params size (MB): 2.53\n",
      "Estimated Total Size (MB): 2.94\n",
      "----------------------------------------------------------------\n"
     ]
    }
   ],
   "source": [
    "import torchsummary\n",
    "torchsummary.summary(generator, input_size=(100, 128))"
   ]
  },
  {
   "cell_type": "markdown",
   "metadata": {},
   "source": [
    "#### 💡 구별자 구축하기"
   ]
  },
  {
   "cell_type": "code",
   "execution_count": 118,
   "metadata": {},
   "outputs": [],
   "source": [
    "class Discriminator(nn.Module) :\n",
    "    def __init__(self) :\n",
    "        super(Discriminator, self).__init__()\n",
    "        self.conv = nn.Sequential(nn.Conv2d(1, 128, 3, 2, 1, bias=False),\n",
    "                                  nn.LeakyReLU(0.2),\n",
    "                                  nn.Dropout(0.5),\n",
    "                                  nn.Conv2d(128, 256, 3, 2, 1, bias=False),\n",
    "                                  nn.LeakyReLU(0.2),\n",
    "                                  nn.Dropout(0.5),\n",
    "                                  nn.Conv2d(256, 256, 3, 2, 1, bias=False),\n",
    "                                  nn.LeakyReLU(0.2, inplace=True),\n",
    "                                  nn.Dropout(0.5),\n",
    "                                  nn.Conv2d(256, 1, 3, 2, bias=False),\n",
    "                                  nn.sigmoid())\n",
    "        \n",
    "    def forward(self, x) :\n",
    "        x = self.conv(x)\n",
    "        return x.view(-1, 1)"
   ]
  }
 ],
 "metadata": {
  "kernelspec": {
   "display_name": "Python 3",
   "language": "python",
   "name": "python3"
  },
  "language_info": {
   "codemirror_mode": {
    "name": "ipython",
    "version": 3
   },
   "file_extension": ".py",
   "mimetype": "text/x-python",
   "name": "python",
   "nbconvert_exporter": "python",
   "pygments_lexer": "ipython3",
   "version": "3.8.5"
  }
 },
 "nbformat": 4,
 "nbformat_minor": 4
}
