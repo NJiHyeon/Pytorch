{
 "cells": [
  {
   "cell_type": "markdown",
   "metadata": {},
   "source": [
    "### 📚 기본 순환 신경망 구현"
   ]
  },
  {
   "cell_type": "markdown",
   "metadata": {},
   "source": [
    "#### 💡 라이브러리 및 데이터 불러오기"
   ]
  },
  {
   "cell_type": "markdown",
   "metadata": {},
   "source": [
    "- 주가 데이터를 이용해 실습\n",
    "- 데이터 : 일자, 시작가, 고가, 저가, 종가, 보정된 종가, 거래량으로 구성된 csv 파일\n",
    "- `pandas`를 이용해 csv 파일을 데이터프레임 형태로 불러온다.\n",
    "    - 데이터는 보정된 종가를 제외한 나머지를 사용\n",
    "    - 일자를 제외하고 MinMax 스케일을 사용하여 데이터 가공"
   ]
  },
  {
   "cell_type": "code",
   "execution_count": 1,
   "metadata": {},
   "outputs": [],
   "source": [
    "import numpy as np\n",
    "import pandas as pd\n",
    "from sklearn.preprocessing import MinMaxScaler\n",
    "import torch\n",
    "import torch.nn as nn\n",
    "import torch.optim as optim\n",
    "import matplotlib.pyplot as plt"
   ]
  },
  {
   "cell_type": "code",
   "execution_count": 5,
   "metadata": {},
   "outputs": [],
   "source": [
    "df = pd.read_csv(\"./data/kospi.csv\")\n",
    "scaler = MinMaxScaler()\n",
    "df[['Open', 'High', 'Low', 'Close', 'Volume']] = scaler.fit_transform(df[['Open', 'High', 'Low', 'Close', 'Volume']])"
   ]
  },
  {
   "cell_type": "code",
   "execution_count": 6,
   "metadata": {},
   "outputs": [
    {
     "data": {
      "text/html": [
       "<div>\n",
       "<style scoped>\n",
       "    .dataframe tbody tr th:only-of-type {\n",
       "        vertical-align: middle;\n",
       "    }\n",
       "\n",
       "    .dataframe tbody tr th {\n",
       "        vertical-align: top;\n",
       "    }\n",
       "\n",
       "    .dataframe thead th {\n",
       "        text-align: right;\n",
       "    }\n",
       "</style>\n",
       "<table border=\"1\" class=\"dataframe\">\n",
       "  <thead>\n",
       "    <tr style=\"text-align: right;\">\n",
       "      <th></th>\n",
       "      <th>Date</th>\n",
       "      <th>Open</th>\n",
       "      <th>High</th>\n",
       "      <th>Low</th>\n",
       "      <th>Close</th>\n",
       "      <th>Adj Close</th>\n",
       "      <th>Volume</th>\n",
       "    </tr>\n",
       "  </thead>\n",
       "  <tbody>\n",
       "    <tr>\n",
       "      <th>0</th>\n",
       "      <td>2019-01-30</td>\n",
       "      <td>0.722898</td>\n",
       "      <td>0.732351</td>\n",
       "      <td>0.745525</td>\n",
       "      <td>0.759235</td>\n",
       "      <td>2206.199951</td>\n",
       "      <td>0.242113</td>\n",
       "    </tr>\n",
       "    <tr>\n",
       "      <th>1</th>\n",
       "      <td>2019-01-31</td>\n",
       "      <td>0.763058</td>\n",
       "      <td>0.750069</td>\n",
       "      <td>0.769089</td>\n",
       "      <td>0.757866</td>\n",
       "      <td>2204.850098</td>\n",
       "      <td>0.274771</td>\n",
       "    </tr>\n",
       "    <tr>\n",
       "      <th>2</th>\n",
       "      <td>2019-02-01</td>\n",
       "      <td>0.751894</td>\n",
       "      <td>0.745714</td>\n",
       "      <td>0.769280</td>\n",
       "      <td>0.756456</td>\n",
       "      <td>2203.459961</td>\n",
       "      <td>0.241609</td>\n",
       "    </tr>\n",
       "    <tr>\n",
       "      <th>3</th>\n",
       "      <td>2019-02-07</td>\n",
       "      <td>0.755809</td>\n",
       "      <td>0.742538</td>\n",
       "      <td>0.764596</td>\n",
       "      <td>0.756415</td>\n",
       "      <td>2203.419922</td>\n",
       "      <td>0.215603</td>\n",
       "    </tr>\n",
       "    <tr>\n",
       "      <th>4</th>\n",
       "      <td>2019-02-08</td>\n",
       "      <td>0.731584</td>\n",
       "      <td>0.717777</td>\n",
       "      <td>0.739548</td>\n",
       "      <td>0.729669</td>\n",
       "      <td>2177.050049</td>\n",
       "      <td>0.197057</td>\n",
       "    </tr>\n",
       "  </tbody>\n",
       "</table>\n",
       "</div>"
      ],
      "text/plain": [
       "         Date      Open      High       Low     Close    Adj Close    Volume\n",
       "0  2019-01-30  0.722898  0.732351  0.745525  0.759235  2206.199951  0.242113\n",
       "1  2019-01-31  0.763058  0.750069  0.769089  0.757866  2204.850098  0.274771\n",
       "2  2019-02-01  0.751894  0.745714  0.769280  0.756456  2203.459961  0.241609\n",
       "3  2019-02-07  0.755809  0.742538  0.764596  0.756415  2203.419922  0.215603\n",
       "4  2019-02-08  0.731584  0.717777  0.739548  0.729669  2177.050049  0.197057"
      ]
     },
     "execution_count": 6,
     "metadata": {},
     "output_type": "execute_result"
    }
   ],
   "source": [
    "df.head()"
   ]
  },
  {
   "cell_type": "markdown",
   "metadata": {},
   "source": [
    "-----------------------------------------------------------------------------------------------------"
   ]
  },
  {
   "cell_type": "markdown",
   "metadata": {},
   "source": [
    "#### 💡 텐서 데이터 만들기"
   ]
  },
  {
   "cell_type": "markdown",
   "metadata": {},
   "source": [
    "- 사용할 데이터\n",
    "    - 인스턴스 : 431개\n",
    "    - 피쳐 : 4개(Open, High, Low, Volume)\n",
    "    - 타깃값 : 종가(Close)\n",
    "    - 즉, 431x4 시계열 데이터를 가지고 있다.\n",
    "- 이 단계에서 고려해야 할 점은 \n",
    "    - **며칠을 사용하여 다음 날 종가를 예측**하느냐는 것\n",
    "    - 학습 데이터와 평가 데이터의 비율"
   ]
  },
  {
   "cell_type": "markdown",
   "metadata": {},
   "source": [
    "📌 데이터 프레임에서는 `values`를 사용하여 넘파이 배열로 만들 수 있다. (입력 데이터와 타깃 데이터 생성)"
   ]
  },
  {
   "cell_type": "code",
   "execution_count": 29,
   "metadata": {},
   "outputs": [],
   "source": [
    "device = torch.device(\"cuda:0\" if torch.cuda.is_available() else \"cpu\")\n",
    "X = df[['Open', 'High', 'Low', 'Volume']].values # (431, 4)\n",
    "y = df['Close'].values # (431, )"
   ]
  },
  {
   "cell_type": "markdown",
   "metadata": {},
   "source": [
    "📌 시퀀스 데이터를 만드는 함수 생성"
   ]
  },
  {
   "cell_type": "code",
   "execution_count": 34,
   "metadata": {},
   "outputs": [],
   "source": [
    "def seq_data(x, y, sequence_length) :\n",
    "    \n",
    "    # x, y값에 대한 시퀀스를 저장하는 빈 리스트 생성\n",
    "    x_seq =[]\n",
    "    y_seq = []\n",
    "    \n",
    "    for i in range(len(x) - sequence_length) :\n",
    "        x_seq.append(x[i : i+sequence_length])\n",
    "        y_seq.append(y[i+sequence_length])\n",
    "        \n",
    "    # GPU용 텐서로 변환    \n",
    "    return torch.FloatTensor(x_seq).to(device), torch.FloatTensor(y_seq).to(device).view(-1, 1)"
   ]
  },
  {
   "cell_type": "markdown",
   "metadata": {},
   "source": [
    "- 미리 정한 시퀀스의 길이로 쪼개어 저장한다.\n",
    "    - 이때 데이터는 for문의 1회 당 한 칸 움직여 저장한다. (보폭 정해줄 수도 있음)\n",
    "        - 예를 들어, 길이가 3이면 처음 저장된 데이터는 0, 1, 2번째 데이터가 한 묶음 -> 1, 2, 3 -> 2, 3, 4 -> ...\n",
    "    - y 데이터는 다음 날 값이 타깃값이기 때문에 입력값이 x[i : i+sequence_length]이면 타깃값은 y[i+sequence_length]\n",
    "        - 예를 들어, X가 0, 1, 2번째 데이터로 묶일 때 3번째 데이터의 y값이 대응되는 타깃값\n",
    "\n",
    "- GPU용 텐서로 변환 후, y 데이터를 `view(-1, 1)`를 사용하여 2차원으로 바꿔준다.\n",
    "    - 그 이유는 **MSE Loss가 기본적으로 2차원 타깃 데이터를 받기** 때문"
   ]
  },
  {
   "cell_type": "code",
   "execution_count": 35,
   "metadata": {},
   "outputs": [
    {
     "name": "stdout",
     "output_type": "stream",
     "text": [
      "torch.Size([200, 5, 4]) torch.Size([200, 1])\n",
      "torch.Size([226, 5, 4]) torch.Size([226, 1])\n"
     ]
    }
   ],
   "source": [
    "split = 200\n",
    "sequence_length = 5\n",
    "x_seq, y_seq = seq_data(X, y, sequence_length)\n",
    "\n",
    "x_train_seq = x_seq[:split]\n",
    "y_train_seq = y_seq[:split]\n",
    "x_test_seq = x_seq[split:]\n",
    "y_test_seq = y_seq[split:]\n",
    "print(x_train_seq.size(), y_train_seq.size())\n",
    "print(x_test_seq.size(), y_test_seq.size())"
   ]
  },
  {
   "cell_type": "markdown",
   "metadata": {},
   "source": [
    "- 시퀀스의 길이를 5로 한다면 426개 [431(전체 데이터) - 5(시퀀스 길이)]의 시퀀스 데이터를 만들 수 있다.\n",
    "- 200개의 데이터는 학습 데이터로 사용하고, 이후 데이터는 평가 데이터로 사용"
   ]
  },
  {
   "cell_type": "code",
   "execution_count": 41,
   "metadata": {},
   "outputs": [],
   "source": [
    "train = torch.utils.data.TensorDataset(x_train_seq, y_train_seq)\n",
    "test = torch.utils.data.TensorDataset(x_test_seq, y_test_seq)"
   ]
  },
  {
   "cell_type": "code",
   "execution_count": 43,
   "metadata": {},
   "outputs": [],
   "source": [
    "batch_size = 20\n",
    "train_loader = torch.utils.data.DataLoader(dataset=train, batch_size = batch_size, shuffle=True)\n",
    "test_loader = torch.utils.data.DataLoader(dataset=test, batch_size = batch_size, shuffle=False)"
   ]
  },
  {
   "cell_type": "markdown",
   "metadata": {},
   "source": [
    "-----------------------------------------------------------------------------------------------------"
   ]
  },
  {
   "cell_type": "markdown",
   "metadata": {},
   "source": [
    "#### 💡 RNN 구축에 필요한 하이퍼 파라미터 정의하기"
   ]
  },
  {
   "cell_type": "code",
   "execution_count": 47,
   "metadata": {},
   "outputs": [],
   "source": [
    "# x_seq.size() : (426, 5, 4)\n",
    "# 입력 변수의 개수\n",
    "input_size = x_seq.size(2)\n",
    "# 은닉층의 개수\n",
    "num_layers = 2\n",
    "# 은닉 상태를 저장하는 벡터의 크기\n",
    "hidden_size = 8"
   ]
  },
  {
   "cell_type": "markdown",
   "metadata": {},
   "source": [
    "-----------------------------------------------------------------------------------------------------"
   ]
  },
  {
   "cell_type": "markdown",
   "metadata": {},
   "source": [
    "#### 💡 RNN 구축하기"
   ]
  },
  {
   "cell_type": "code",
   "execution_count": 48,
   "metadata": {},
   "outputs": [],
   "source": [
    "class VanillaRNN(nn.Module) :\n",
    "    def __init__(self, input_size, num_layers, hidden_size, sequence_length, device) :\n",
    "        super(VanillaRNN, self).__init__()\n",
    "        # 각 변수 정의\n",
    "        self.device = device\n",
    "        self.hidden_size = hidden_size\n",
    "        self.num_layers = num_layers\n",
    "        self.rnn = nn.RNN(input_size, hidden_size, num_layers, batch_first = True)\n",
    "        self.fc = nn.Sequential(nn.Linear(hidden_size*sequence_length, 1),\n",
    "                                nn.Sigmoid())\n",
    "        \n",
    "    def forward(self, x) :\n",
    "        h0 = torch.zeros(self.num_layers, x.size()[0], self.hidden_size).to(self.device)\n",
    "        out, _ = self.rnn(x, h0)\n",
    "        out = out.reshape(out.shape[0], -1)\n",
    "        out = self.fc(out)\n",
    "        return out"
   ]
  },
  {
   "cell_type": "markdown",
   "metadata": {},
   "source": [
    "- `변수 정의`\n",
    "    - input_size : 입력값의 크기(이미지의 열 크기)\n",
    "    - hidden_size : 은닉층의 노드수\n",
    "    - num_layers : 은닉층의 개수\n",
    "    - seq_length : 시계열의 길이(이미지의 행 크기)\n",
    "    - num_classes : 클래스 수\n",
    "    - device : gpu 활용 여부\n",
    "    \n",
    "- `self.rnn`\n",
    "    - nn.RNN을 이용하면 한 줄로 모델이 정의된다.\n",
    "    - 주의할 점은 원래 nn.RNN의 입력 데이터의 크기는 **시퀀스의 길이 x 배치 사이즈 x 변수의 크기**이기 때문에 (200, 5, 4)크기의 데이터를 (5, 200, 4)로 변경해야 한다.\n",
    "    - 하지만 batch_first = True로 적용하면 기존의 200x5x4 데이터를 그대로 사용할 수 있다. \n",
    "    \n",
    "    \n",
    "- `self.fc`\n",
    "    - RNN에서 나온 출력값을 FC층 하나를 거쳐 **하나의 예측값**을 뽑을 수 있도록 self.fc를 정의\n",
    "    \n",
    "- `h0`\n",
    "    - RNN은 이전h를 받아 계산하기 때문에 첫번째 계산 시에는 이전 h가 없기 때문에 초깃값을 영텐서로 정의하여 h0를 대입한다. \n",
    "- `out, _`\n",
    "    - 정의된 self.rnn 이용\n",
    "    - many to mant 방법을 가지고 각 시간에 대한 **예측값**과 **은닉 상태**를 산출한다.\n",
    "    - 이 예시에서는 은닉 상태를 사용하지 않기 때문에 _로 처리하여 함수와 반환값을 받지 않는다. \n",
    "- `out`\n",
    "    - 모든 출력값을 사용하기 위해 out을 일렬로 만들어 self.fc에 넣는다. "
   ]
  },
  {
   "cell_type": "markdown",
   "metadata": {},
   "source": [
    "-----------------------------------------------------------------------------------------------------"
   ]
  },
  {
   "cell_type": "markdown",
   "metadata": {},
   "source": [
    "#### 💡 RNN 모델 불러오기"
   ]
  },
  {
   "cell_type": "markdown",
   "metadata": {},
   "source": [
    "- 입력값의 크기, 은닉 상태 크기, 시퀀스 길이, 은닉층 개수(레이어 수), gpu 연산을 위한 device 변수까지 모델에 넣어준다.\n",
    "- 또한 GPU 연산을 위해 model 뒤에 `.to(device)`"
   ]
  },
  {
   "cell_type": "code",
   "execution_count": 49,
   "metadata": {},
   "outputs": [],
   "source": [
    "model = VanillaRNN(input_size = input_size, \n",
    "                   hidden_size = hidden_size,\n",
    "                   sequence_length = sequence_length,\n",
    "                   num_layers = num_layers,\n",
    "                   device = device).to(device)"
   ]
  },
  {
   "cell_type": "markdown",
   "metadata": {},
   "source": [
    "-----------------------------------------------------------------------------------------------------"
   ]
  },
  {
   "cell_type": "markdown",
   "metadata": {},
   "source": [
    "#### 💡 손실 함수 및 최적화 방법 정의"
   ]
  },
  {
   "cell_type": "markdown",
   "metadata": {},
   "source": [
    "- 주가를 예측하는 것 : 회귀 문제\n",
    "- 대표적인 MSE 손실 함수를 사용\n",
    "- 학습은 301회\n",
    "- 최적화 방법 : Adam"
   ]
  },
  {
   "cell_type": "code",
   "execution_count": 50,
   "metadata": {},
   "outputs": [],
   "source": [
    "criterion = nn.MSELoss()\n",
    "num_epochs = 301\n",
    "optimizer = optim.Adam(model.parameters(), lr=1e-3)"
   ]
  },
  {
   "cell_type": "markdown",
   "metadata": {},
   "source": [
    "-----------------------------------------------------------------------------------------------------"
   ]
  },
  {
   "cell_type": "markdown",
   "metadata": {},
   "source": [
    "#### 💡 모델 학습하기"
   ]
  },
  {
   "cell_type": "markdown",
   "metadata": {},
   "source": [
    "- 학습 과정은 전형적인 지도 학습 방법"
   ]
  },
  {
   "cell_type": "code",
   "execution_count": 52,
   "metadata": {},
   "outputs": [
    {
     "name": "stdout",
     "output_type": "stream",
     "text": [
      "[epoch : 0] loss : 0.0273\n",
      "[epoch : 100] loss : 0.0008\n",
      "[epoch : 200] loss : 0.0006\n",
      "[epoch : 300] loss : 0.0004\n"
     ]
    }
   ],
   "source": [
    "loss_graph = []\n",
    "n = len(train_loader) # 200/20\n",
    "\n",
    "for epoch in range(num_epochs) :\n",
    "    running_loss = 0.0\n",
    "    \n",
    "    for data in train_loader :\n",
    "        # 배치 데이터\n",
    "        seq, target = data \n",
    "        \n",
    "        # 출력값 산출\n",
    "        out = model(seq)\n",
    "        \n",
    "        # 손실함수 계산\n",
    "        loss = criterion(out, target)\n",
    "        \n",
    "        optimizer.zero_grad()\n",
    "        loss.backward()\n",
    "        optimizer.step() # 최적화\n",
    "        running_loss += loss.item()\n",
    "        \n",
    "    loss_graph.append(running_loss/n)\n",
    "    if epoch % 100 == 0 :\n",
    "        print('[epoch : %d] loss : %.4f' %(epoch, running_loss/n))"
   ]
  },
  {
   "cell_type": "markdown",
   "metadata": {},
   "source": [
    "-----------------------------------------------------------------------------------------------------"
   ]
  },
  {
   "cell_type": "markdown",
   "metadata": {},
   "source": [
    "#### 💡 학습 손실 함수값 그리기"
   ]
  },
  {
   "cell_type": "markdown",
   "metadata": {},
   "source": [
    "- 손실 함수를 통해 단편적으로 훈련이 잘 됐음을 확인할 수 있다. "
   ]
  },
  {
   "cell_type": "code",
   "execution_count": 53,
   "metadata": {},
   "outputs": [
    {
     "data": {
      "image/png": "[encoded data removed]",
      "text/plain": [
       "<Figure size 1440x720 with 1 Axes>"
      ]
     },
     "metadata": {
      "needs_background": "light"
     },
     "output_type": "display_data"
    }
   ],
   "source": [
    "plt.figure(figsize=(20, 10))\n",
    "plt.plot(loss_graph)\n",
    "plt.show()"
   ]
  },
  {
   "cell_type": "markdown",
   "metadata": {},
   "source": [
    "-----------------------------------------------------------------------------------------------------"
   ]
  },
  {
   "cell_type": "markdown",
   "metadata": {},
   "source": [
    "#### 💡 주가 그리기"
   ]
  },
  {
   "cell_type": "markdown",
   "metadata": {},
   "source": [
    "- `ConcatDataset` \n",
    "    - 여러 개의 데이터 세트를 함께 사용할 수 있도록 도와준다.\n",
    "    - 입력값은 데이터 세트의 리스트를 받기 때문에 앞서 정의한 train, test를 리스트 [train, test]로 넣어준다. \n",
    "- `pred`\n",
    "    - 예측값을 저장할 빈 텐서\n",
    "    - 예측값은 GPU 텐서이다. 따라서 CPU 텐서로 변환 후, `.tolist()`를 이용하여 리슽트로 만들어 순차적으로 리스트를 이어 붙인다."
   ]
  },
  {
   "cell_type": "code",
   "execution_count": 61,
   "metadata": {},
   "outputs": [],
   "source": [
    "concatdata = torch.utils.data.ConcatDataset([train, test])\n",
    "data_loader = torch.utils.data.DataLoader(dataset = concatdata, batch_size = 100)\n",
    "with torch.no_grad() :\n",
    "    pred = []\n",
    "    model.eval()\n",
    "    for data in data_loader :\n",
    "        seq, target = data\n",
    "        out = model(seq)\n",
    "        pred += out.cpu().tolist()"
   ]
  },
  {
   "cell_type": "code",
   "execution_count": 58,
   "metadata": {},
   "outputs": [
    {
     "data": {
      "image/png": "[encoded data removed]",
      "text/plain": [
       "<Figure size 1440x720 with 1 Axes>"
      ]
     },
     "metadata": {
      "needs_background": "light"
     },
     "output_type": "display_data"
    }
   ],
   "source": [
    "plt.figure(figsize=(20, 10))\n",
    "# 학습 일수와 평가 일수를 구분짓는 선\n",
    "plt.plot(np.ones(100)*len(train), np.linspace(0, 1, 100), '--', linewidth=0.6)\n",
    "# 실제값과 예측값\n",
    "plt.plot(df['Close'][sequence_length:].values, '--')\n",
    "plt.plot(pred, 'b', linewidth = 0.6)\n",
    "\n",
    "plt.legend(['train boundary', 'actual', 'prediction'])\n",
    "plt.show()"
   ]
  },
  {
   "cell_type": "markdown",
   "metadata": {},
   "source": [
    "🔎 파란색 수직선을 기준으로 왼쪽을 훈련 데이터로 사용하고 오른쪽을 평가 데이터로 사용\n",
    "- 훈련 데이터 부분은 학습이 잘 되어 실제값과 예측값이 잘 맞는다고 보인다.\n",
    "- 평가 부분은 급락하는 부분을 잡아내지 못하고, 전체적으로 예측을 잘 하는 것처럼 보이지만 오른쪽으로 쉬프트된 현상을 볼 수 있다. "
   ]
  }
 ],
 "metadata": {
  "kernelspec": {
   "display_name": "Python 3",
   "language": "python",
   "name": "python3"
  },
  "language_info": {
   "codemirror_mode": {
    "name": "ipython",
    "version": 3
   },
   "file_extension": ".py",
   "mimetype": "text/x-python",
   "name": "python",
   "nbconvert_exporter": "python",
   "pygments_lexer": "ipython3",
   "version": "3.8.5"
  }
 },
 "nbformat": 4,
 "nbformat_minor": 4
}
