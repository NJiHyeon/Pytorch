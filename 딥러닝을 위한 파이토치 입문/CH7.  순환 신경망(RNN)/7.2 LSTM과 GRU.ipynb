{
 "cells": [
  {
   "cell_type": "markdown",
   "metadata": {},
   "source": [
    "### 📚 LSTM(Long Short-Term Memory)"
   ]
  },
  {
   "cell_type": "markdown",
   "metadata": {},
   "source": [
    "#### 💡 모델 구축하기\n",
    "- 모델 구축 외 다른 부분은 RNN 코드와 동일하다.import torch"
   ]
  },
  {
   "cell_type": "code",
   "execution_count": 2,
   "metadata": {},
   "outputs": [],
   "source": [
    "import torch\n",
    "import torch.nn as nn"
   ]
  },
  {
   "cell_type": "code",
   "execution_count": 3,
   "metadata": {},
   "outputs": [],
   "source": [
    "class LSTM(nn.Module) :\n",
    "    def __init__(self, input_size, hidden_size, sequence_length, num_layers, device) :\n",
    "        super(LSTM, self).__init__()\n",
    "        self.device = device\n",
    "        self.hidden_size = hidden_size\n",
    "        self.num_layers = num_layers\n",
    "        self.lstm = nn.LSTM(inpust_size, hidden_size, num_layers, batch_first = True) \n",
    "        self.fc = nn.Linear(hidden_size*sequence_length, 1)\n",
    "        \n",
    "    def forward(self, x) :\n",
    "        h0 = torch.zeros(self.num_layers, x.size()[0], self.hidden_size).to(self.device)\n",
    "        c0 = torch.zeros(self.num_layers, x.size()[0], self.hidden_size).to(self.device)\n",
    "        out,_ = self.lstm(x, (h0, c0))\n",
    "        out = out.reshape(out.shape[0], -1)\n",
    "        out = self.fc(out)\n",
    "        return out"
   ]
  },
  {
   "cell_type": "markdown",
   "metadata": {},
   "source": [
    "- `nn.LSTM`\n",
    "    - 한 줄로 정의가 가능하다.\n",
    "    - LSTM은 **은닉 상태와 셀 상태**를 계산해 다음 타임 스텝으로 넘겨준다. \n",
    "- `h0`, `c0`\n",
    "    - 은닉 상태와 셀 상태의 초깃값은 0으로 하여 모델에 넣어준다. "
   ]
  },
  {
   "cell_type": "markdown",
   "metadata": {},
   "source": [
    "---------------------------------------------------------------------------------------------------"
   ]
  },
  {
   "cell_type": "markdown",
   "metadata": {},
   "source": [
    "### 📚 GRU(Gated Recurrent Units)"
   ]
  },
  {
   "cell_type": "markdown",
   "metadata": {},
   "source": [
    "#### 💡 모델 구축하기\n",
    "- 모델 구축 외 다른 부분은 RNN 코드와 동일하다.import torch"
   ]
  },
  {
   "cell_type": "code",
   "execution_count": 5,
   "metadata": {},
   "outputs": [],
   "source": [
    "class GRU(nn.Module) :\n",
    "    def __init__(self,input_size, hidden_size, sequence_length, num_layers, device) :\n",
    "        super(GRU, self).__init__()\n",
    "        self.device = device\n",
    "        self.hidden_size = hidden_size\n",
    "        self.num_layers = num_layers\n",
    "        self.gru = nn.GRU(input_size, hidden_size, num_layers, batch_first = Ture)\n",
    "        self.fc = nn.Linear(hidden_size*sequence_length, 1)\n",
    "        \n",
    "    def forward(self, x) :\n",
    "        h0 = torch.zeros(self.num_layers, x.size(0), self.hidden_size).to(self.device)\n",
    "        out, _ = self.gru(x, h0)\n",
    "        out = out.reshape(out.shape[0], -1)\n",
    "        out = self.fc(out)\n",
    "        return out"
   ]
  }
 ],
 "metadata": {
  "kernelspec": {
   "display_name": "Python 3",
   "language": "python",
   "name": "python3"
  },
  "language_info": {
   "codemirror_mode": {
    "name": "ipython",
    "version": 3
   },
   "file_extension": ".py",
   "mimetype": "text/x-python",
   "name": "python",
   "nbconvert_exporter": "python",
   "pygments_lexer": "ipython3",
   "version": "3.8.5"
  }
 },
 "nbformat": 4,
 "nbformat_minor": 4
}
