{
 "cells": [
  {
   "cell_type": "markdown",
   "id": "056dc615-0813-4b66-b9fc-83767225bd28",
   "metadata": {},
   "source": [
    "### 02. 자동 미분(Autograd)\n",
    "경사 하강법 코드를 보고 있으면 requires_grad = True, backward() 등이 나오는데, 이는 파이토치에서 제공하고 있는 자동 미분 기능을 수행하고 있는  것이다. "
   ]
  },
  {
   "cell_type": "markdown",
   "id": "704cbf76-f02d-4eb3-932f-171e623b9e43",
   "metadata": {},
   "source": [
    "#### 1. 경사 하강법 리뷰\n",
    "- 경사 하강법 : 비용함수를 미분하여 이 함수의 기울기(gradient)를 구해서 비용이 최소화 되는 방향을 찾아내는 알고리즘\n",
    "- 비용함수를 손실함수, 오차함수라고도 부르므로 비요이 최소화 되는 방향이라는 표현 대신 손실이 최소화 되는 방향 또는 오차를 최소화 되는 방향이라고도 설명할 수 있다.\n",
    "- 모델이 복잡해질수록 경사 하강법을 넘파이 등으로 직접 코딩하는 것은 까다로운 일인데, 파이토치에서는 자동 미분을 지원한다. 따라서 미분 계산을 자동화하여 경사 하강법을 쉽게 사용할 수 있게 해준다."
   ]
  },
  {
   "cell_type": "markdown",
   "id": "8afd80e4-91af-43a9-8eec-4ce7b7631af5",
   "metadata": {},
   "source": [
    "--------------------------------------------------------------------------------------------------------------"
   ]
  },
  {
   "cell_type": "markdown",
   "id": "aa2e1ae3-382a-4326-bf33-10375758f7e1",
   "metadata": {},
   "source": [
    "#### 2. 자동 미분 실습하기\n",
    "임의로 2w^2 + 5라는 식을 세워보고, w에 대해 미분"
   ]
  },
  {
   "cell_type": "code",
   "execution_count": 1,
   "id": "885bcfa1-2a61-4c29-bb9d-563f2650dc5b",
   "metadata": {},
   "outputs": [],
   "source": [
    "import torch"
   ]
  },
  {
   "cell_type": "code",
   "execution_count": 2,
   "id": "e4533b34-2dee-4c3e-8a1d-ef59fcc90c8a",
   "metadata": {},
   "outputs": [
    {
     "name": "stdout",
     "output_type": "stream",
     "text": [
      "tensor(2., requires_grad=True)\n",
      "torch.Size([])\n"
     ]
    }
   ],
   "source": [
    "# 값이 2인 임의의 스칼라 텐서 w를 선언\n",
    "w = torch.tensor(2.0, requires_grad=True)\n",
    "print(w)\n",
    "print(w.shape)"
   ]
  },
  {
   "cell_type": "code",
   "execution_count": 3,
   "id": "0581315a-3612-4e3d-af0b-336b1d99b65d",
   "metadata": {},
   "outputs": [],
   "source": [
    "# 수식 정의\n",
    "y = w**2\n",
    "z = 2*y + 5"
   ]
  },
  {
   "cell_type": "code",
   "execution_count": 4,
   "id": "dab89e34-259c-42f5-84aa-6453a8950b1d",
   "metadata": {},
   "outputs": [],
   "source": [
    "# w에 대해서 미분\n",
    "# backward()를 호출하면 해당 수식의 w에 대한 기울기를 계산한다.\n",
    "z.backward()"
   ]
  },
  {
   "cell_type": "code",
   "execution_count": 5,
   "id": "8697437d-1873-41ec-8f1c-92b023b9b61d",
   "metadata": {},
   "outputs": [
    {
     "name": "stdout",
     "output_type": "stream",
     "text": [
      "수식을 w로 미분한 값 : 8.0\n"
     ]
    }
   ],
   "source": [
    "# w.grad를 출력하면 w가 속한 수식을 w로 미분한 값이 저장된 것을 확인할 수 있다.\n",
    "print('수식을 w로 미분한 값 : {}'.format(w.grad))"
   ]
  }
 ],
 "metadata": {
  "kernelspec": {
   "display_name": "Python 3",
   "language": "python",
   "name": "python3"
  },
  "language_info": {
   "codemirror_mode": {
    "name": "ipython",
    "version": 3
   },
   "file_extension": ".py",
   "mimetype": "text/x-python",
   "name": "python",
   "nbconvert_exporter": "python",
   "pygments_lexer": "ipython3",
   "version": "3.9.7"
  }
 },
 "nbformat": 4,
 "nbformat_minor": 5
}
