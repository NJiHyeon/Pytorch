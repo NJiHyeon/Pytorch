{
 "cells": [
  {
   "cell_type": "markdown",
   "id": "eed88eee-75e1-4aaf-ad86-f4b9ec1cd70d",
   "metadata": {},
   "source": [
    "### 04. nn.Module로 구현하는 선형회귀\n",
    "- 이전까지는 선형 회귀를 좀 더 직접적으로 이해하기 위해 가설, 비용함수를 직접 정의해서 선형 회귀모델을 구현\n",
    "- 이번에는 파이토치에서 이미 구현되어져 제공되고 있는 함수들을 불러오는 것으로 더 쉽게 선형 회귀 모델을 구현"
   ]
  },
  {
   "cell_type": "code",
   "execution_count": 2,
   "id": "af3de109-ecb9-4e7a-8167-9ca4fa5d1baf",
   "metadata": {},
   "outputs": [],
   "source": [
    "import torch.nn as nn\n",
    "model = nn.Linear(input_dim, outpu_dim)"
   ]
  },
  {
   "cell_type": "code",
   "execution_count": 3,
   "id": "6cce77bc-9f5b-4a1f-ad1e-bae3086ed30d",
   "metadata": {},
   "outputs": [],
   "source": [
    "import torch.nn.functional as F\n",
    "cost = f.mse_loss(prediction, y_train)"
   ]
  },
  {
   "cell_type": "markdown",
   "id": "41fc9b4c-af4c-4639-813e-a7b657661da7",
   "metadata": {},
   "source": [
    "#### 1. 단순 선형 회귀 구현하기"
   ]
  },
  {
   "cell_type": "code",
   "execution_count": 4,
   "id": "59dcc92c-1236-4ecd-a456-1a843bdf2d19",
   "metadata": {},
   "outputs": [],
   "source": [
    "import torch\n",
    "import torch.nn as nn\n",
    "import torch.nn.functional as F"
   ]
  },
  {
   "cell_type": "code",
   "execution_count": 5,
   "id": "9afffada-8b74-4785-821c-b9d82d5fcbaf",
   "metadata": {},
   "outputs": [
    {
     "data": {
      "text/plain": [
       "<torch._C.Generator at 0x7fefb1d92750>"
      ]
     },
     "execution_count": 5,
     "metadata": {},
     "output_type": "execute_result"
    }
   ],
   "source": [
    "torch.manual_seed(1)"
   ]
  },
  {
   "cell_type": "code",
   "execution_count": 6,
   "id": "b514c050-df2b-413c-a3d9-91ae5eeef6e5",
   "metadata": {},
   "outputs": [],
   "source": [
    "# 데이터 \n",
    "x_train = torch.FloatTensor([[1], [2], [3]])\n",
    "y_train = torch.FloatTensor([[2], [4], [6]])"
   ]
  },
  {
   "cell_type": "code",
   "execution_count": 7,
   "id": "493feaf0-9be8-45b2-823c-f181a7e97b8a",
   "metadata": {},
   "outputs": [],
   "source": [
    "# 모델을 선언 및 초기화. 단순 선형 회귀이미로 input_dim=1, output_dim=1\n",
    "model = nn.Linear(1,1)"
   ]
  },
  {
   "cell_type": "markdown",
   "id": "3f85c8c4-ab65-4e5e-9c36-47c478a593f1",
   "metadata": {},
   "source": [
    "위의 torch.nn.Linear의 인자로 1,1을 사용\n",
    "- 하나의 입력 x에 대해서 하나의 출력 y을 가지므로, 입력 차원과 출력 차원 모두 1을 인수로 사용\n",
    "- model에는 가중치 W와 편향b가 저장되어 있다.\n",
    "- 이 값은 model.parameters()라는 함수를 사용하여 불러올 수 있다."
   ]
  },
  {
   "cell_type": "code",
   "execution_count": 8,
   "id": "db29d313-22e8-443b-af79-6fb1ab110664",
   "metadata": {},
   "outputs": [
    {
     "name": "stdout",
     "output_type": "stream",
     "text": [
      "[Parameter containing:\n",
      "tensor([[0.5153]], requires_grad=True), Parameter containing:\n",
      "tensor([-0.4414], requires_grad=True)]\n"
     ]
    }
   ],
   "source": [
    "print(list(model.parameters()))"
   ]
  },
  {
   "cell_type": "markdown",
   "id": "7e9ff869-b073-44e7-8698-5f9f6a4823a2",
   "metadata": {},
   "source": [
    "- 2개의 값이 출력되는데 첫번째 값이 W고, 두번째 값이 b에 해당된다.\n",
    "- 두 값 모두 현재는 랜덤 초기화가 되어져 있다.\n",
    "- 두 값 모두 학습의 대상이므로 requires_grad = True가 되어져 있다."
   ]
  },
  {
   "cell_type": "code",
   "execution_count": 9,
   "id": "784c50ad-f700-44d5-bdba-265040994902",
   "metadata": {},
   "outputs": [],
   "source": [
    "# optimizer 설정. 경사 하강법 SGD를 사용하고 learning rate를 의미하는 lr은 0.01\n",
    "optimizer = torch.optim.SGD(model.parameters(), lr=0.01)"
   ]
  },
  {
   "cell_type": "code",
   "execution_count": 10,
   "id": "c213242b-266f-4f37-aaf2-83fb574b6d46",
   "metadata": {},
   "outputs": [
    {
     "name": "stdout",
     "output_type": "stream",
     "text": [
      "Epoch    0/2000 Cost : 13.103541\n",
      "Epoch  100/2000 Cost : 0.002791\n",
      "Epoch  200/2000 Cost : 0.001724\n",
      "Epoch  300/2000 Cost : 0.001066\n",
      "Epoch  400/2000 Cost : 0.000658\n",
      "Epoch  500/2000 Cost : 0.000407\n",
      "Epoch  600/2000 Cost : 0.000251\n",
      "Epoch  700/2000 Cost : 0.000155\n",
      "Epoch  800/2000 Cost : 0.000096\n",
      "Epoch  900/2000 Cost : 0.000059\n",
      "Epoch 1000/2000 Cost : 0.000037\n",
      "Epoch 1100/2000 Cost : 0.000023\n",
      "Epoch 1200/2000 Cost : 0.000014\n",
      "Epoch 1300/2000 Cost : 0.000009\n",
      "Epoch 1400/2000 Cost : 0.000005\n",
      "Epoch 1500/2000 Cost : 0.000003\n",
      "Epoch 1600/2000 Cost : 0.000002\n",
      "Epoch 1700/2000 Cost : 0.000001\n",
      "Epoch 1800/2000 Cost : 0.000001\n",
      "Epoch 1900/2000 Cost : 0.000000\n",
      "Epoch 2000/2000 Cost : 0.000000\n"
     ]
    }
   ],
   "source": [
    "# 전체 훈련 데이터에 대해 경사 하강법을 2000회 반복\n",
    "nb_epochs = 2000\n",
    "for epoch in range(nb_epochs+1) : \n",
    "    \n",
    "    # H(x) 계산\n",
    "    prediction = model(x_train)\n",
    "    \n",
    "    # cost 계산\n",
    "    cost = F.mse_loss(prediction, y_train)\n",
    "    \n",
    "    # cost로 H(x) 개선하는 부분\n",
    "    # gradient를 0으로 초기화\n",
    "    optimizer.zero_grad()\n",
    "    # 비용함수를 미분하여 gradient 계산\n",
    "    cost.backward()\n",
    "    # W와 b 업데이트\n",
    "    optimizer.step()\n",
    "    \n",
    "    if epoch % 100==0 : \n",
    "        print('Epoch {:4d}/{} Cost : {:.6f}'.format(\n",
    "            epoch, nb_epochs, cost.item()\n",
    "        ))"
   ]
  },
  {
   "cell_type": "code",
   "execution_count": 15,
   "id": "d3ed23ca-9ab9-479a-8813-a591813fe115",
   "metadata": {},
   "outputs": [
    {
     "name": "stdout",
     "output_type": "stream",
     "text": [
      "훈련 후 입력이 4일 때의 예측값 :  tensor([[7.9989]], grad_fn=<AddmmBackward>)\n"
     ]
    }
   ],
   "source": [
    "# W와 b의 값도 확인\n",
    "# 임의의 입력 4를 선언\n",
    "new_var = torch.FloatTensor([[4.0]])\n",
    "\n",
    "# 입력한 값 4에 대해서 예측값 y를 리턴받아 pred_y에 저장\n",
    "pred_y = model(new_var) #forward 연산\n",
    "\n",
    "# y=2x이므로 입력이 4라면 y가 8에 가까운 값이 나와야 제대로 학습이 된 것\n",
    "print(\"훈련 후 입력이 4일 때의 예측값 : \", pred_y)"
   ]
  },
  {
   "cell_type": "code",
   "execution_count": 17,
   "id": "92f9ab8c-8a1e-4f6a-b584-3e18e19d4a2c",
   "metadata": {},
   "outputs": [
    {
     "name": "stdout",
     "output_type": "stream",
     "text": [
      "[Parameter containing:\n",
      "tensor([[1.9994]], requires_grad=True), Parameter containing:\n",
      "tensor([0.0014], requires_grad=True)]\n"
     ]
    }
   ],
   "source": [
    "# 학습 후의 W와 b 출력\n",
    "print(list(model.parameters()))"
   ]
  },
  {
   "cell_type": "markdown",
   "id": "88559ad6-6e58-4f7e-9de4-732fea0d40be",
   "metadata": {},
   "source": [
    "- H(x) 식에 입력 x로부터 예측된 y를 얻는 것을 forward 연산이라고 한다.\n",
    "    - 학습 전, prediction=model(x_train)은 x_train으로부터 예측값을 리턴하므로 forward 연산이다.\n",
    "    - 학습 후, pred_y = model(new_var)는 임의의 값 new_var로부터 예측값을 리턴하므로 forward 연산이다.\n",
    "- 학습 과정에서 비용 함수를 미분하여 기울기를 구하는 것을 backward 연산이라고 한다.\n",
    "    - cost.backward()는 비용 함수로부터 기울기를 구하라는 의미이며 backward 연산이다."
   ]
  },
  {
   "cell_type": "markdown",
   "id": "75ff3d71-3f78-4b76-bc0c-4b9ee802c16b",
   "metadata": {},
   "source": [
    "------------------------------------------------------------------------------------------------------------"
   ]
  },
  {
   "cell_type": "markdown",
   "id": "caaa7028-1285-462e-afeb-5d34630acd2f",
   "metadata": {},
   "source": [
    "#### 2. 다중 선형 회귀 구현하기"
   ]
  },
  {
   "cell_type": "code",
   "execution_count": 18,
   "id": "ada6a6c3-23cf-4f40-b861-08d4ec2e2863",
   "metadata": {},
   "outputs": [],
   "source": [
    "import torch\n",
    "import torch.nn as nn\n",
    "import torch.nn.functional as F"
   ]
  },
  {
   "cell_type": "code",
   "execution_count": 19,
   "id": "ecc0c0de-8d97-45ba-af9e-5f3c1288f608",
   "metadata": {},
   "outputs": [
    {
     "data": {
      "text/plain": [
       "<torch._C.Generator at 0x7fefb1d92750>"
      ]
     },
     "execution_count": 19,
     "metadata": {},
     "output_type": "execute_result"
    }
   ],
   "source": [
    "torch.manual_seed(1)"
   ]
  },
  {
   "cell_type": "code",
   "execution_count": 20,
   "id": "ec47a5e8-b425-4b00-938b-4e627274f78b",
   "metadata": {},
   "outputs": [],
   "source": [
    "# 데이터\n",
    "x_train = torch.FloatTensor([[73, 80, 75],\n",
    "                             [93, 88, 93],\n",
    "                             [89, 91, 80], \n",
    "                             [96, 98, 100],\n",
    "                             [73, 66, 70]])\n",
    "y_train = torch.FloatTensor([[152], [185], [180], [196], [142]])"
   ]
  },
  {
   "cell_type": "code",
   "execution_count": 21,
   "id": "da1c2abf-7f4c-42a8-9549-2fcaf9108f5f",
   "metadata": {},
   "outputs": [],
   "source": [
    "# 모델 선언 및 초기화. 다중 선형 회귀이므로 input_dim=3, output_dim=1\n",
    "model = nn.Linear(3,1)"
   ]
  },
  {
   "cell_type": "code",
   "execution_count": 22,
   "id": "3401c408-1f3e-4250-b9bc-fae14ed93c26",
   "metadata": {},
   "outputs": [
    {
     "name": "stdout",
     "output_type": "stream",
     "text": [
      "[Parameter containing:\n",
      "tensor([[ 0.2975, -0.2548, -0.1119]], requires_grad=True), Parameter containing:\n",
      "tensor([0.2710], requires_grad=True)]\n"
     ]
    }
   ],
   "source": [
    "print(list(model.parameters()))"
   ]
  },
  {
   "cell_type": "code",
   "execution_count": 25,
   "id": "63d1a6aa-2961-489b-88c5-3d8f2e4edbb5",
   "metadata": {},
   "outputs": [],
   "source": [
    "optimizer = torch.optim.SGD(model.parameters(), lr=1e-5)"
   ]
  },
  {
   "cell_type": "code",
   "execution_count": 26,
   "id": "1995941c-137b-4526-a2d3-f9f9e4837ab2",
   "metadata": {},
   "outputs": [
    {
     "name": "stdout",
     "output_type": "stream",
     "text": [
      "Epoch    0/2000 Cost:31584.347656\n",
      "Epoch  100/2000 Cost:4.054821\n",
      "Epoch  200/2000 Cost:3.807917\n",
      "Epoch  300/2000 Cost:3.577585\n",
      "Epoch  400/2000 Cost:3.362663\n",
      "Epoch  500/2000 Cost:3.162074\n",
      "Epoch  600/2000 Cost:2.974864\n",
      "Epoch  700/2000 Cost:2.800040\n",
      "Epoch  800/2000 Cost:2.636795\n",
      "Epoch  900/2000 Cost:2.484290\n",
      "Epoch 1000/2000 Cost:2.341803\n",
      "Epoch 1100/2000 Cost:2.208674\n",
      "Epoch 1200/2000 Cost:2.084196\n",
      "Epoch 1300/2000 Cost:1.967848\n",
      "Epoch 1400/2000 Cost:1.859023\n",
      "Epoch 1500/2000 Cost:1.757193\n",
      "Epoch 1600/2000 Cost:1.661925\n",
      "Epoch 1700/2000 Cost:1.572760\n",
      "Epoch 1800/2000 Cost:1.489271\n",
      "Epoch 1900/2000 Cost:1.411090\n",
      "Epoch 2000/2000 Cost:1.337826\n"
     ]
    }
   ],
   "source": [
    "nb_epochs = 2000\n",
    "for epoch in range(nb_epochs+1) : \n",
    "    \n",
    "    # H(x) 계산\n",
    "    prediction = model(x_train)\n",
    "    # model(x_train)은 model.forward(x_train)과 동일\n",
    "    \n",
    "    # cost 계산\n",
    "    cost = F.mse_loss(prediction, y_train)\n",
    "    \n",
    "    # cost로 H(x) 개선하는 부분\n",
    "    # gradient를 0으로 초기화\n",
    "    optimizer.zero_grad()\n",
    "    # 비용함수를 미분하여 gradient 계산\n",
    "    cost.backward()\n",
    "    # W와 b를 업데이트\n",
    "    optimizer.step()\n",
    "    \n",
    "    if epoch % 100 == 0 :\n",
    "        print('Epoch {:4d}/{} Cost:{:.6f}'.format(\n",
    "            epoch, nb_epochs, cost.item()\n",
    "        ))"
   ]
  },
  {
   "cell_type": "code",
   "execution_count": 27,
   "id": "5d62c9db-5ae8-4803-af4a-8f8f5ee41c7f",
   "metadata": {},
   "outputs": [
    {
     "name": "stdout",
     "output_type": "stream",
     "text": [
      "훈련 후 입력이 73, 80, 75일 때의 예측값 : tensor([[152.5655]], grad_fn=<AddmmBackward>)\n"
     ]
    }
   ],
   "source": [
    "# 임의의 입력 선언\n",
    "new_var = torch.FloatTensor([[73, 80, 75]])\n",
    "# 입력한 값 [73, 80, 74]에 대해서 예측값 y를 리턴받아서 pred_y에 저장\n",
    "pred_y = model(new_var)\n",
    "print(\"훈련 후 입력이 73, 80, 75일 때의 예측값 :\", pred_y)"
   ]
  },
  {
   "cell_type": "code",
   "execution_count": 28,
   "id": "01c5894d-5ed3-4112-b70b-4ba051666ef3",
   "metadata": {},
   "outputs": [
    {
     "name": "stdout",
     "output_type": "stream",
     "text": [
      "[Parameter containing:\n",
      "tensor([[1.0551, 0.5767, 0.3883]], requires_grad=True), Parameter containing:\n",
      "tensor([0.2791], requires_grad=True)]\n"
     ]
    }
   ],
   "source": [
    "print(list(model.parameters()))"
   ]
  }
 ],
 "metadata": {
  "kernelspec": {
   "display_name": "Python 3",
   "language": "python",
   "name": "python3"
  },
  "language_info": {
   "codemirror_mode": {
    "name": "ipython",
    "version": 3
   },
   "file_extension": ".py",
   "mimetype": "text/x-python",
   "name": "python",
   "nbconvert_exporter": "python",
   "pygments_lexer": "ipython3",
   "version": "3.9.7"
  }
 },
 "nbformat": 4,
 "nbformat_minor": 5
}
