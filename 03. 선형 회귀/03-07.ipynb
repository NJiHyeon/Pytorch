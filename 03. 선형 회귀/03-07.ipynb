{
 "cells": [
  {
   "cell_type": "markdown",
   "id": "852013c1-e6bb-4980-bcfd-104cdbf44582",
   "metadata": {},
   "source": [
    "### 07. 커스텀 데이터셋\n",
    "- 파이토치에서는 데이터셋을 좀 더 쉽게 다룰 수 있도록 유용한 도구로서 torch.utils.data.Dataset, torch.utils.data.DataLoader제공\n",
    "- 이를 사용하면 미니배치학습, 데이터 셔플, 병렬처리까지 간단히 수행가능\n",
    "- 기본적인 사용방법 : Dataset을 정의하고, DataLoader에 전달"
   ]
  },
  {
   "cell_type": "markdown",
   "id": "98b5987e-2c11-4ddb-8267-2cf3906ed269",
   "metadata": {},
   "source": [
    "#### 1. 커스텀 데이터셋\n",
    "- torch.utils.data.Dataset을 상속받아 직접 커스텀 데이터셋을 만드는 경우도 있다.\n",
    "- torch.utils.data.Dataset는 파이토치에서 데이터셋을 제공하는 추상 클래스\n",
    "- Dataset을 상속받아 다음 메소드들을 오버라이드 하여 커스텀 데이터셋을 만들기"
   ]
  },
  {
   "cell_type": "code",
   "execution_count": 1,
   "id": "73975122-ca0a-4713-803b-416237862fef",
   "metadata": {},
   "outputs": [
    {
     "ename": "IndentationError",
     "evalue": "expected an indented block (<ipython-input-1-d64e4415098f>, line 5)",
     "output_type": "error",
     "traceback": [
      "\u001b[0;36m  File \u001b[0;32m\"<ipython-input-1-d64e4415098f>\"\u001b[0;36m, line \u001b[0;32m5\u001b[0m\n\u001b[0;31m    def __len__(self) :\u001b[0m\n\u001b[0m    ^\u001b[0m\n\u001b[0;31mIndentationError\u001b[0m\u001b[0;31m:\u001b[0m expected an indented block\n"
     ]
    }
   ],
   "source": [
    "# 필요한 기본적인 define은 3개\n",
    "# 기본적인 뼈대\n",
    "class CustomDataset(torch.utils.data.Dataset) : \n",
    "    # 데이터셋의 전처리를 해주는 부분\n",
    "    def __init__(self) : \n",
    "    \n",
    "    # 데이터셋의 길이(즉, 총 샘플의 수를 적어주는 부분)\n",
    "    def __len__(self) : \n",
    "    \n",
    "    # 데이터셋에서 특정 1개의 샘플을 가져오는 함수\n",
    "    def __getitem__(self, idx) : "
   ]
  },
  {
   "cell_type": "markdown",
   "id": "3b7f76bc-8c60-4fad-a795-a88102c48944",
   "metadata": {},
   "source": [
    "- len(dataset)을 했을 때 데이터셋의 크기를 리턴할 len\n",
    "- dataset[i]를 했을 때 i번째 샘플을 가져오도록 하는 인덱싱을 위한 get_item"
   ]
  },
  {
   "cell_type": "markdown",
   "id": "eb74989c-886c-4e89-9db0-32425a8474c2",
   "metadata": {},
   "source": [
    "---------------------------------------------------------------------------------------------------------------"
   ]
  },
  {
   "cell_type": "markdown",
   "id": "8dcfc2d8-ff43-4e6a-97cc-a13243712e67",
   "metadata": {},
   "source": [
    "#### 2. 커스텀 데이터셋으로 선형 회귀 구현하기"
   ]
  },
  {
   "cell_type": "code",
   "execution_count": 2,
   "id": "c0ee1bd6-940f-44ed-972b-acc47c61b948",
   "metadata": {},
   "outputs": [],
   "source": [
    "import torch\n",
    "import torch.nn.functional as F"
   ]
  },
  {
   "cell_type": "code",
   "execution_count": 3,
   "id": "c6c25c4f-3f4d-45e3-81e3-f8e4113cfc17",
   "metadata": {},
   "outputs": [],
   "source": [
    "from torch.utils.data import Dataset\n",
    "from torch.utils.data import DataLoader"
   ]
  },
  {
   "cell_type": "code",
   "execution_count": 7,
   "id": "da873dc4-a9b2-4136-811b-1ddb1a9e2cdf",
   "metadata": {},
   "outputs": [],
   "source": [
    "# Dataset 상속\n",
    "class CustomDataset(Dataset) : \n",
    "    def __init__(self) :\n",
    "        self.x_data = [[73, 80, 75],\n",
    "                             [93, 88, 93],\n",
    "                             [89, 91, 90],\n",
    "                             [96, 98, 100],\n",
    "                             [73, 66, 70]]\n",
    "        self.y_data = [[152], [185], [180], [196], [142]]\n",
    "    \n",
    "    # 총 데이터의 개수를 리턴\n",
    "    def __len__(self) :\n",
    "        return len(self.x_data)\n",
    "    \n",
    "    # 인덱스를 입력받아 그에 맵핑되는 입출력 데이터를 파이토치의 Tensor 형태로 리턴\n",
    "    def __getitem__(self, idx) : \n",
    "        x = torch.FloatTensor(self.x_data[idx])\n",
    "        y = torch.FloatTensor(self.y_data[idx])\n",
    "        return x, y"
   ]
  },
  {
   "cell_type": "code",
   "execution_count": 8,
   "id": "d2f43852-1560-407b-9304-3fa64ed66434",
   "metadata": {},
   "outputs": [],
   "source": [
    "dataset = CustomDataset()\n",
    "dataloader = DataLoader(dataset, batch_size=2, shuffle=True)"
   ]
  },
  {
   "cell_type": "code",
   "execution_count": 9,
   "id": "faf97e9b-58a4-4d0a-a202-a9ca034b0e44",
   "metadata": {},
   "outputs": [],
   "source": [
    "model = torch.nn.Linear(3,1)\n",
    "optimizer = torch.optim.SGD(model.parameters(), lr=1e-5)"
   ]
  },
  {
   "cell_type": "code",
   "execution_count": 11,
   "id": "2b450ca4-c5da-4c8c-aae2-9b58b22bd32f",
   "metadata": {},
   "outputs": [
    {
     "name": "stdout",
     "output_type": "stream",
     "text": [
      "Epoch    0/20 Batch1/3 Cost: 15189.314453\n",
      "Epoch    0/20 Batch2/3 Cost: 11422.295898\n",
      "Epoch    0/20 Batch3/3 Cost: 2474.098389\n",
      "Epoch    1/20 Batch1/3 Cost: 490.781647\n",
      "Epoch    1/20 Batch2/3 Cost: 176.050064\n",
      "Epoch    1/20 Batch3/3 Cost: 68.334938\n",
      "Epoch    2/20 Batch1/3 Cost: 11.464089\n",
      "Epoch    2/20 Batch2/3 Cost: 6.348492\n",
      "Epoch    2/20 Batch3/3 Cost: 1.969736\n",
      "Epoch    3/20 Batch1/3 Cost: 0.448524\n",
      "Epoch    3/20 Batch2/3 Cost: 0.341893\n",
      "Epoch    3/20 Batch3/3 Cost: 0.823115\n",
      "Epoch    4/20 Batch1/3 Cost: 0.568900\n",
      "Epoch    4/20 Batch2/3 Cost: 0.285623\n",
      "Epoch    4/20 Batch3/3 Cost: 0.290440\n",
      "Epoch    5/20 Batch1/3 Cost: 0.092388\n",
      "Epoch    5/20 Batch2/3 Cost: 1.008724\n",
      "Epoch    5/20 Batch3/3 Cost: 0.776397\n",
      "Epoch    6/20 Batch1/3 Cost: 0.578729\n",
      "Epoch    6/20 Batch2/3 Cost: 0.288138\n",
      "Epoch    6/20 Batch3/3 Cost: 0.285055\n",
      "Epoch    7/20 Batch1/3 Cost: 0.384105\n",
      "Epoch    7/20 Batch2/3 Cost: 0.299663\n",
      "Epoch    7/20 Batch3/3 Cost: 1.069338\n",
      "Epoch    8/20 Batch1/3 Cost: 0.157791\n",
      "Epoch    8/20 Batch2/3 Cost: 0.815537\n",
      "Epoch    8/20 Batch3/3 Cost: 0.600757\n",
      "Epoch    9/20 Batch1/3 Cost: 0.067159\n",
      "Epoch    9/20 Batch2/3 Cost: 0.714417\n",
      "Epoch    9/20 Batch3/3 Cost: 0.573124\n",
      "Epoch   10/20 Batch1/3 Cost: 0.333929\n",
      "Epoch   10/20 Batch2/3 Cost: 0.314366\n",
      "Epoch   10/20 Batch3/3 Cost: 0.723964\n",
      "Epoch   11/20 Batch1/3 Cost: 0.250169\n",
      "Epoch   11/20 Batch2/3 Cost: 1.085483\n",
      "Epoch   11/20 Batch3/3 Cost: 0.372641\n",
      "Epoch   12/20 Batch1/3 Cost: 0.281245\n",
      "Epoch   12/20 Batch2/3 Cost: 0.449096\n",
      "Epoch   12/20 Batch3/3 Cost: 0.737215\n",
      "Epoch   13/20 Batch1/3 Cost: 0.351970\n",
      "Epoch   13/20 Batch2/3 Cost: 0.644736\n",
      "Epoch   13/20 Batch3/3 Cost: 0.694283\n",
      "Epoch   14/20 Batch1/3 Cost: 0.811463\n",
      "Epoch   14/20 Batch2/3 Cost: 0.464767\n",
      "Epoch   14/20 Batch3/3 Cost: 0.598418\n",
      "Epoch   15/20 Batch1/3 Cost: 0.516468\n",
      "Epoch   15/20 Batch2/3 Cost: 0.590848\n",
      "Epoch   15/20 Batch3/3 Cost: 0.500973\n",
      "Epoch   16/20 Batch1/3 Cost: 0.956133\n",
      "Epoch   16/20 Batch2/3 Cost: 0.436642\n",
      "Epoch   16/20 Batch3/3 Cost: 0.429563\n",
      "Epoch   17/20 Batch1/3 Cost: 1.055209\n",
      "Epoch   17/20 Batch2/3 Cost: 0.565877\n",
      "Epoch   17/20 Batch3/3 Cost: 0.159020\n",
      "Epoch   18/20 Batch1/3 Cost: 0.132032\n",
      "Epoch   18/20 Batch2/3 Cost: 0.713048\n",
      "Epoch   18/20 Batch3/3 Cost: 0.570931\n",
      "Epoch   19/20 Batch1/3 Cost: 0.653865\n",
      "Epoch   19/20 Batch2/3 Cost: 0.582178\n",
      "Epoch   19/20 Batch3/3 Cost: 0.540024\n",
      "Epoch   20/20 Batch1/3 Cost: 0.334624\n",
      "Epoch   20/20 Batch2/3 Cost: 0.364441\n",
      "Epoch   20/20 Batch3/3 Cost: 0.966562\n"
     ]
    }
   ],
   "source": [
    "nb_epochs = 20\n",
    "for epoch in range(nb_epochs+1) : \n",
    "    for batch_idx, samples in enumerate(dataloader) : \n",
    "        x_train, y_train = samples\n",
    "        \n",
    "        # H(x)\n",
    "        prediction = model(x_train)\n",
    "        \n",
    "        # cost\n",
    "        cost = F.mse_loss(prediction, y_train)\n",
    "        \n",
    "        # cost로 H(x)계산\n",
    "        optimizer.zero_grad()\n",
    "        cost.backward()\n",
    "        optimizer.step()\n",
    "        \n",
    "        print('Epoch {:4d}/{} Batch{}/{} Cost: {:.6f}'.format(\n",
    "            epoch, nb_epochs, batch_idx+1, len(dataloader), cost.item()\n",
    "        ))"
   ]
  },
  {
   "cell_type": "code",
   "execution_count": null,
   "id": "2ef05e9e-32d7-4358-a514-d47c9c690747",
   "metadata": {},
   "outputs": [],
   "source": [
    "# 임의의 입력 선언\n",
    "new_var = torch.FloatTensor([[73, 80, 75]])\n",
    "# 입력한 값에 대해서 예측값 y를 리턴받아서 pred_y에 저장\n"
   ]
  }
 ],
 "metadata": {
  "kernelspec": {
   "display_name": "Python 3",
   "language": "python",
   "name": "python3"
  },
  "language_info": {
   "codemirror_mode": {
    "name": "ipython",
    "version": 3
   },
   "file_extension": ".py",
   "mimetype": "text/x-python",
   "name": "python",
   "nbconvert_exporter": "python",
   "pygments_lexer": "ipython3",
   "version": "3.9.7"
  }
 },
 "nbformat": 4,
 "nbformat_minor": 5
}
