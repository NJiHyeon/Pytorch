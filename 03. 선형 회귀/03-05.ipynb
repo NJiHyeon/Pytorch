{
 "cells": [
  {
   "cell_type": "markdown",
   "id": "dc18e8cb-ed4a-49eb-8ba3-eafc46287b74",
   "metadata": {},
   "source": [
    "### 05. 클래스로 파이토치 모델 구현하기"
   ]
  },
  {
   "cell_type": "markdown",
   "id": "463e03f0-fa2b-4ebd-bdfa-06c64e8deebd",
   "metadata": {},
   "source": [
    "#### 1. 모델을 클래스로 구현하기"
   ]
  },
  {
   "cell_type": "code",
   "execution_count": 2,
   "id": "065088ea-346d-46c1-8e43-a4d7c2d593a8",
   "metadata": {},
   "outputs": [],
   "source": [
    "# 모델을 선언 및 초기화. 단순 선형 회귀이므로 input_dim=1, output_dim=1\n",
    "import torch\n",
    "import torch.nn as nn\n",
    "import torch.nn.functional as F\n",
    "model = nn.Linear(1,1)"
   ]
  },
  {
   "cell_type": "code",
   "execution_count": 3,
   "id": "0d9c438d-df32-400f-990d-6420582430a5",
   "metadata": {},
   "outputs": [],
   "source": [
    "# torch.nn.Module을 상속받는 파이썬 클래스\n",
    "class LinearRegressionModel(nn.Module) : \n",
    "    def __init__(self) : \n",
    "        super().__init__()\n",
    "        self.linear = nn.Linear(1,1)\n",
    "        \n",
    "    def forward(self, x) : \n",
    "        return self.linear(x)"
   ]
  },
  {
   "cell_type": "code",
   "execution_count": 4,
   "id": "43fda144-cddc-4f90-a611-2a1fc7ecdab9",
   "metadata": {},
   "outputs": [],
   "source": [
    "model = LinearRegressionModel()"
   ]
  },
  {
   "cell_type": "markdown",
   "id": "0494eaea-75c1-4a96-b129-43076961b5ba",
   "metadata": {},
   "source": [
    "[설명]\n",
    "- 클래스 형태의 모델은 nn.Module을 상속받는다.\n",
    "- __init__()에서 모델의 구조와 동작을 정의하는 생성자를 정의한다.\n",
    "     - 파이썬에서 객체가 갖는 속성값을 초기화하는 역할\n",
    "     - 객체가 생성될 때 자동으로 호출된다.\n",
    "- super() 함수를 부르면 여기서 만든 nn.Module 클래스의 속성들을 가지고 초기화된다.\n",
    "- forward() 함수는 모델이 학습데이터를 받아서 forward 연산을 진행시키는 함수\n",
    "    - model 객체를 데이터와 함께 호출하면 자동으로 실행된다.\n",
    "    - ex) model이란 이름의 객체를 생성한 후, model(입력 데이터)와 같은 형식으로 객체를 호출하면 자동으로 forward 연산이 수행"
   ]
  },
  {
   "cell_type": "markdown",
   "id": "2df132ff-5556-4200-af37-72a103d9ddcb",
   "metadata": {},
   "source": [
    "H(x) 식에서 입력 x로부터 예측된 y를 얻는 것을 forward 연산이라고 한다."
   ]
  },
  {
   "cell_type": "code",
   "execution_count": 5,
   "id": "a3caf973-4f78-449d-9451-b91c34fceae7",
   "metadata": {},
   "outputs": [],
   "source": [
    "# 앞에서 다중 선형 회귀 모델은 다음과 같이 구현\n",
    "model = nn.Linear(3,1)"
   ]
  },
  {
   "cell_type": "code",
   "execution_count": 6,
   "id": "d7bc653f-5a91-43d6-a85b-a496857ee26b",
   "metadata": {},
   "outputs": [],
   "source": [
    "# 이를 클래스로 구현\n",
    "class MultivariateLinearRegressionModel(nn.Module) : \n",
    "    def __init__(self) : \n",
    "        super().__init__()\n",
    "        self.linear = nn.Linear(3,1)\n",
    "        \n",
    "    def forward(self,x) : \n",
    "        return self.lenar(x)"
   ]
  },
  {
   "cell_type": "code",
   "execution_count": 7,
   "id": "8c895049-af15-4730-b21b-c9d338567899",
   "metadata": {},
   "outputs": [],
   "source": [
    "model = MultivariateLinearRegressionModel()"
   ]
  },
  {
   "cell_type": "markdown",
   "id": "438115e9-7055-42ff-bcc4-6a93c858bac3",
   "metadata": {},
   "source": [
    "-------------------------------------------------------------------------------------------------------------"
   ]
  },
  {
   "cell_type": "markdown",
   "id": "cd90f092-848b-48b5-8c14-3a5dd62f9249",
   "metadata": {},
   "source": [
    "#### 2. 단순 선형 회귀 클래스로 구현하기"
   ]
  },
  {
   "cell_type": "markdown",
   "id": "02eafc05-43aa-4da6-80d3-c49a0643b175",
   "metadata": {},
   "source": [
    "모델을 클래스로 구현한 코드"
   ]
  },
  {
   "cell_type": "code",
   "execution_count": 8,
   "id": "f4443a40-6dbd-412c-bc2c-4077e2f6f77a",
   "metadata": {},
   "outputs": [],
   "source": [
    "import torch\n",
    "import torch.nn as nn\n",
    "import torch.nn.functional as F"
   ]
  },
  {
   "cell_type": "code",
   "execution_count": 9,
   "id": "f29576c9-68df-48d8-a276-cdb7951d2eb7",
   "metadata": {},
   "outputs": [
    {
     "data": {
      "text/plain": [
       "<torch._C.Generator at 0x7f56c617e7b0>"
      ]
     },
     "execution_count": 9,
     "metadata": {},
     "output_type": "execute_result"
    }
   ],
   "source": [
    "torch.manual_seed(1)"
   ]
  },
  {
   "cell_type": "code",
   "execution_count": 10,
   "id": "c4dc4acb-0878-4ff7-8754-3e4a62f4bcf3",
   "metadata": {},
   "outputs": [],
   "source": [
    "# 데이터\n",
    "x_train = torch.FloatTensor([[1], [2], [3]])\n",
    "y_train = torch.FloatTensor([[2], [4], [6]])"
   ]
  },
  {
   "cell_type": "code",
   "execution_count": 11,
   "id": "7cb095d0-9bf2-44ab-ba0a-4ad628e44ee6",
   "metadata": {},
   "outputs": [],
   "source": [
    "class LinearRegressionModel(nn.Module) : \n",
    "    def __init__(self) : \n",
    "        super().__init__()\n",
    "        self.linear = nn.Linear(1,1)\n",
    "        \n",
    "    def forward(self, x) : \n",
    "        return self.linear(x)"
   ]
  },
  {
   "cell_type": "code",
   "execution_count": 12,
   "id": "b0b9c77e-3077-4c9c-b8a6-a6300534ee57",
   "metadata": {},
   "outputs": [],
   "source": [
    "model = LinearRegressionModel()"
   ]
  },
  {
   "cell_type": "code",
   "execution_count": 13,
   "id": "792bbe53-5833-4ac1-926c-277ec439772c",
   "metadata": {},
   "outputs": [],
   "source": [
    "# optimizer 설정\n",
    "# 경사 하강법 SGD를 사용, learning rate는 0.01\n",
    "optimizer = torch.optim.SGD(model.parameters(), lr=0.01)"
   ]
  },
  {
   "cell_type": "code",
   "execution_count": 14,
   "id": "696bf267-fb19-4d93-90c9-18c885b0b55d",
   "metadata": {},
   "outputs": [
    {
     "name": "stdout",
     "output_type": "stream",
     "text": [
      "Epoch    0/2000 Cost : 13.103541\n",
      "Epoch  100/2000 Cost : 0.002791\n",
      "Epoch  200/2000 Cost : 0.001724\n",
      "Epoch  300/2000 Cost : 0.001066\n",
      "Epoch  400/2000 Cost : 0.000658\n",
      "Epoch  500/2000 Cost : 0.000407\n",
      "Epoch  600/2000 Cost : 0.000251\n",
      "Epoch  700/2000 Cost : 0.000155\n",
      "Epoch  800/2000 Cost : 0.000096\n",
      "Epoch  900/2000 Cost : 0.000059\n",
      "Epoch 1000/2000 Cost : 0.000037\n",
      "Epoch 1100/2000 Cost : 0.000023\n",
      "Epoch 1200/2000 Cost : 0.000014\n",
      "Epoch 1300/2000 Cost : 0.000009\n",
      "Epoch 1400/2000 Cost : 0.000005\n",
      "Epoch 1500/2000 Cost : 0.000003\n",
      "Epoch 1600/2000 Cost : 0.000002\n",
      "Epoch 1700/2000 Cost : 0.000001\n",
      "Epoch 1800/2000 Cost : 0.000001\n",
      "Epoch 1900/2000 Cost : 0.000000\n",
      "Epoch 2000/2000 Cost : 0.000000\n"
     ]
    }
   ],
   "source": [
    "# 전체 훈련 데이터에 대해 경사하강법을 2000회 반복\n",
    "nb_epochs = 2000\n",
    "for epoch in range(nb_epochs + 1) : \n",
    "    \n",
    "    # H(x) 계산\n",
    "    prediction = model(x_train)\n",
    "    \n",
    "    # cost 계산\n",
    "    cost = F.mse_loss(prediction, y_train)\n",
    "    \n",
    "    # cost로 H(x)를 개선하는 부분\n",
    "    # gradient를 0으로 초기화\n",
    "    optimizer.zero_grad()\n",
    "    # 손실함수를 미분하여 gradient 계산\n",
    "    cost.backward()\n",
    "    # W와 b를 업데이트\n",
    "    optimizer.step()\n",
    "    \n",
    "    if epoch % 100 == 0 :\n",
    "        print('Epoch {:4d}/{} Cost : {:.6f}'.format(\n",
    "            epoch, nb_epochs, cost.item()\n",
    "        ))"
   ]
  },
  {
   "cell_type": "markdown",
   "id": "6e4f074a-91c9-4fc6-a1ba-3f390c2e16c6",
   "metadata": {},
   "source": [
    "-------------------------------------------------------------------------------------------------------------"
   ]
  },
  {
   "cell_type": "markdown",
   "id": "dee71d69-e44b-4ddd-88fd-2c9adc2035fd",
   "metadata": {},
   "source": [
    "#### 3. 다중 선형 회귀 클래스로 구현하기"
   ]
  },
  {
   "cell_type": "code",
   "execution_count": 16,
   "id": "c86aadb5-46ac-48bc-837f-26bdf7062698",
   "metadata": {},
   "outputs": [],
   "source": [
    "import torch \n",
    "import torch.nn as nn\n",
    "import torch.nn.functional as F\n",
    "import torch.optim as optim"
   ]
  },
  {
   "cell_type": "code",
   "execution_count": 17,
   "id": "30fcedf8-10f3-4eb4-9d69-9e4c27070389",
   "metadata": {},
   "outputs": [
    {
     "data": {
      "text/plain": [
       "<torch._C.Generator at 0x7f56c617e7b0>"
      ]
     },
     "execution_count": 17,
     "metadata": {},
     "output_type": "execute_result"
    }
   ],
   "source": [
    "torch.manual_seed(1)"
   ]
  },
  {
   "cell_type": "code",
   "execution_count": 19,
   "id": "9f9403b3-c896-41bf-ab49-289373c91db5",
   "metadata": {},
   "outputs": [],
   "source": [
    "# 데이터\n",
    "x_train = torch.FloatTensor([[73, 80, 75],\n",
    "                             [93, 88, 93],\n",
    "                             [89, 91, 90],\n",
    "                             [96, 98, 100],\n",
    "                             [73, 66, 70]])\n",
    "y_train = torch.FloatTensor([[152], [185], [180], [196], [142]])"
   ]
  },
  {
   "cell_type": "code",
   "execution_count": 22,
   "id": "7f03be50-928f-46f4-99e9-d8ae8176a96b",
   "metadata": {},
   "outputs": [],
   "source": [
    "class MultivariateLinearRegressionModel(nn.Module) : \n",
    "    def __init__(self) : \n",
    "        super().__init__()\n",
    "        self.linear = nn.Linear(3,1)\n",
    "        \n",
    "    def forward(self, x) : \n",
    "        return self.linear(x)"
   ]
  },
  {
   "cell_type": "code",
   "execution_count": 23,
   "id": "3f9e2a33-123a-47e0-af2c-fccfe0912f89",
   "metadata": {},
   "outputs": [],
   "source": [
    "model = MultivariateLinearRegressionModel()"
   ]
  },
  {
   "cell_type": "code",
   "execution_count": 24,
   "id": "ff72b301-9574-4281-b144-22c59bf24008",
   "metadata": {},
   "outputs": [],
   "source": [
    "optimizer = torch.optim.SGD(model.parameters(), lr=1e-5)"
   ]
  },
  {
   "cell_type": "code",
   "execution_count": 26,
   "id": "68fe28d2-bb0d-4418-b428-bcd3280f5c37",
   "metadata": {},
   "outputs": [
    {
     "name": "stdout",
     "output_type": "stream",
     "text": [
      "Epoch    0/2000 Cost: 31667.599609\n",
      "Epoch  100/2000 Cost: 0.225988\n",
      "Epoch  200/2000 Cost: 0.223909\n",
      "Epoch  300/2000 Cost: 0.221935\n",
      "Epoch  400/2000 Cost: 0.220059\n",
      "Epoch  500/2000 Cost: 0.218270\n",
      "Epoch  600/2000 Cost: 0.216571\n",
      "Epoch  700/2000 Cost: 0.214954\n",
      "Epoch  800/2000 Cost: 0.213418\n",
      "Epoch  900/2000 Cost: 0.211954\n",
      "Epoch 1000/2000 Cost: 0.210558\n",
      "Epoch 1100/2000 Cost: 0.209230\n",
      "Epoch 1200/2000 Cost: 0.207967\n",
      "Epoch 1300/2000 Cost: 0.206767\n",
      "Epoch 1400/2000 Cost: 0.205618\n",
      "Epoch 1500/2000 Cost: 0.204524\n",
      "Epoch 1600/2000 Cost: 0.203484\n",
      "Epoch 1700/2000 Cost: 0.202488\n",
      "Epoch 1800/2000 Cost: 0.201542\n",
      "Epoch 1900/2000 Cost: 0.200637\n",
      "Epoch 2000/2000 Cost: 0.199772\n"
     ]
    }
   ],
   "source": [
    "nb_epochs = 2000\n",
    "for epoch in range(nb_epochs+1) : \n",
    "    \n",
    "    # H(x) \n",
    "    prediction = model(x_train)\n",
    "    \n",
    "    # cost\n",
    "    cost = F.mse_loss(prediction, y_train)\n",
    "    \n",
    "    # cost로 H(x) 개선하는 부분\n",
    "    # gradient를 0으로 초기화\n",
    "    optimizer.zero_grad()\n",
    "    # 손실함수를 미분하여 gradient 계산\n",
    "    cost.backward()\n",
    "    # W와 b를 업데이트\n",
    "    optimizer.step()\n",
    "    \n",
    "    if epoch % 100 == 0 :\n",
    "        print('Epoch {:4d}/{} Cost: {:.6f}'.format(\n",
    "            epoch, nb_epochs, cost.item()\n",
    "        ))"
   ]
  }
 ],
 "metadata": {
  "kernelspec": {
   "display_name": "Python 3",
   "language": "python",
   "name": "python3"
  },
  "language_info": {
   "codemirror_mode": {
    "name": "ipython",
    "version": 3
   },
   "file_extension": ".py",
   "mimetype": "text/x-python",
   "name": "python",
   "nbconvert_exporter": "python",
   "pygments_lexer": "ipython3",
   "version": "3.9.7"
  }
 },
 "nbformat": 4,
 "nbformat_minor": 5
}
