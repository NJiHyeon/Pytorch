{
 "cells": [
  {
   "cell_type": "markdown",
   "id": "bb865df0-a2a9-4daa-b556-d53a3aef2e33",
   "metadata": {},
   "source": [
    "### 02. 문자 단위 RNN - 더 많은 데이터"
   ]
  },
  {
   "cell_type": "markdown",
   "id": "61ba18f6-ddfc-48f6-85e4-5bbe52879949",
   "metadata": {},
   "source": [
    "#### 2. 문자 단위 RNN"
   ]
  },
  {
   "cell_type": "code",
   "execution_count": 35,
   "id": "7828becb-d1fd-4f29-b8e0-45ef09a11d26",
   "metadata": {},
   "outputs": [],
   "source": [
    "# 필요한 도구 임포트\n",
    "import torch\n",
    "import torch.nn as nn\n",
    "import torch.optim as optim\n",
    "import numpy as np"
   ]
  },
  {
   "cell_type": "markdown",
   "id": "4c34379d-ce9b-49b3-b5c7-ecd1e97588d8",
   "metadata": {},
   "source": [
    "##### 1. 훈련 데이터 전처리"
   ]
  },
  {
   "cell_type": "code",
   "execution_count": 26,
   "id": "b2765e59-53f6-48b8-9dd3-9c899a2daa3b",
   "metadata": {},
   "outputs": [],
   "source": [
    "sentence = (\"if you want to build a ship, don't drum up people together to \"\n",
    "            \"collect wood and don't assign them tasks and work, but rather \"\n",
    "            \"teach them to long for the endless immensity of the sea.\")"
   ]
  },
  {
   "cell_type": "code",
   "execution_count": 27,
   "id": "4aae7e45-41fe-4034-972e-7f53227c9723",
   "metadata": {},
   "outputs": [
    {
     "name": "stdout",
     "output_type": "stream",
     "text": [
      "[\"'\", 'e', 'u', ',', 'n', 'i', 'd', 'a', 'o', 'f', 'm', 'c', 'k', 'l', ' ', 'r', 'y', 't', '.', 'g', 'w', 'p', 'b', 'h', 's']\n",
      "{\"'\": 0, 'e': 1, 'u': 2, ',': 3, 'n': 4, 'i': 5, 'd': 6, 'a': 7, 'o': 8, 'f': 9, 'm': 10, 'c': 11, 'k': 12, 'l': 13, ' ': 14, 'r': 15, 'y': 16, 't': 17, '.': 18, 'g': 19, 'w': 20, 'p': 21, 'b': 22, 'h': 23, 's': 24}\n"
     ]
    }
   ],
   "source": [
    "# 문자 집합 생성, 각 문자에 고유한 정수 부여\n",
    "char_set = list(set(sentence)) # 중복 제거한 문자 집합 생성\n",
    "char_dic = {c: i for i, c in enumerate(char_set)}\n",
    "print(char_set)\n",
    "print(char_dic)"
   ]
  },
  {
   "cell_type": "code",
   "execution_count": 28,
   "id": "fcfe0ce9-599f-4d6a-8371-3be244216a05",
   "metadata": {},
   "outputs": [
    {
     "name": "stdout",
     "output_type": "stream",
     "text": [
      "문자 집합의 크기 : 25\n"
     ]
    }
   ],
   "source": [
    "# 총 25개의 문자 존재\n",
    "# 문자 집합의 크기 확인\n",
    "dic_size = len(char_dic)\n",
    "print('문자 집합의 크기 : {}'.format(dic_size))"
   ]
  },
  {
   "cell_type": "markdown",
   "id": "08cf606c-e4f2-4716-bd8d-9bcfa6f14f47",
   "metadata": {},
   "source": [
    "- 문자 집합의 크기는 25이며, 입력을 원-핫 벡터로 사용할 것이므로 매 시점마다 들어갈 입력의 크기이기도 한다.\n",
    "- 하이퍼 파라미터 설정\n",
    "    - hidden_size를 입력의 크기와 도일하게 줬는데, 다른 값을 줘도 무방\n",
    "    - sequence_length라는 변수 선언 : 앞서 만든 샘플을 10개 단위로 끊어서 샘플을 만들 예정"
   ]
  },
  {
   "cell_type": "code",
   "execution_count": 29,
   "id": "32aa0f5c-0641-4e86-a756-f43cc265ffb7",
   "metadata": {},
   "outputs": [],
   "source": [
    "# 하이퍼파라미터 설정\n",
    "hidden_size = dic_size\n",
    "sequence_length = 10\n",
    "learning_rate = 0.1"
   ]
  },
  {
   "cell_type": "code",
   "execution_count": 30,
   "id": "38407276-e05f-46ce-a7d1-48b23d045049",
   "metadata": {},
   "outputs": [
    {
     "data": {
      "text/plain": [
       "'k'"
      ]
     },
     "execution_count": 30,
     "metadata": {},
     "output_type": "execute_result"
    }
   ],
   "source": [
    "sentence[100]"
   ]
  },
  {
   "cell_type": "code",
   "execution_count": 31,
   "id": "2380c839-b775-4015-8aed-55aceb8551a4",
   "metadata": {},
   "outputs": [
    {
     "name": "stdout",
     "output_type": "stream",
     "text": [
      "0 if you wan -> f you want\n",
      "1 f you want ->  you want \n",
      "2  you want  -> you want t\n",
      "3 you want t -> ou want to\n",
      "4 ou want to -> u want to \n",
      "5 u want to  ->  want to b\n",
      "6  want to b -> want to bu\n",
      "7 want to bu -> ant to bui\n",
      "8 ant to bui -> nt to buil\n",
      "9 nt to buil -> t to build\n",
      "10 t to build ->  to build \n",
      "11  to build  -> to build a\n",
      "12 to build a -> o build a \n",
      "13 o build a  ->  build a s\n",
      "14  build a s -> build a sh\n",
      "15 build a sh -> uild a shi\n",
      "16 uild a shi -> ild a ship\n",
      "17 ild a ship -> ld a ship,\n",
      "18 ld a ship, -> d a ship, \n",
      "19 d a ship,  ->  a ship, d\n",
      "20  a ship, d -> a ship, do\n",
      "21 a ship, do ->  ship, don\n",
      "22  ship, don -> ship, don'\n",
      "23 ship, don' -> hip, don't\n",
      "24 hip, don't -> ip, don't \n",
      "25 ip, don't  -> p, don't d\n",
      "26 p, don't d -> , don't dr\n",
      "27 , don't dr ->  don't dru\n",
      "28  don't dru -> don't drum\n",
      "29 don't drum -> on't drum \n",
      "30 on't drum  -> n't drum u\n",
      "31 n't drum u -> 't drum up\n",
      "32 't drum up -> t drum up \n",
      "33 t drum up  ->  drum up p\n",
      "34  drum up p -> drum up pe\n",
      "35 drum up pe -> rum up peo\n",
      "36 rum up peo -> um up peop\n",
      "37 um up peop -> m up peopl\n",
      "38 m up peopl ->  up people\n",
      "39  up people -> up people \n",
      "40 up people  -> p people t\n",
      "41 p people t ->  people to\n",
      "42  people to -> people tog\n",
      "43 people tog -> eople toge\n",
      "44 eople toge -> ople toget\n",
      "45 ople toget -> ple togeth\n",
      "46 ple togeth -> le togethe\n",
      "47 le togethe -> e together\n",
      "48 e together ->  together \n",
      "49  together  -> together t\n",
      "50 together t -> ogether to\n",
      "51 ogether to -> gether to \n",
      "52 gether to  -> ether to c\n",
      "53 ether to c -> ther to co\n",
      "54 ther to co -> her to col\n",
      "55 her to col -> er to coll\n",
      "56 er to coll -> r to colle\n",
      "57 r to colle ->  to collec\n",
      "58  to collec -> to collect\n",
      "59 to collect -> o collect \n",
      "60 o collect  ->  collect w\n",
      "61  collect w -> collect wo\n",
      "62 collect wo -> ollect woo\n",
      "63 ollect woo -> llect wood\n",
      "64 llect wood -> lect wood \n",
      "65 lect wood  -> ect wood a\n",
      "66 ect wood a -> ct wood an\n",
      "67 ct wood an -> t wood and\n",
      "68 t wood and ->  wood and \n",
      "69  wood and  -> wood and d\n",
      "70 wood and d -> ood and do\n",
      "71 ood and do -> od and don\n",
      "72 od and don -> d and don'\n",
      "73 d and don' ->  and don't\n",
      "74  and don't -> and don't \n",
      "75 and don't  -> nd don't a\n",
      "76 nd don't a -> d don't as\n",
      "77 d don't as ->  don't ass\n",
      "78  don't ass -> don't assi\n",
      "79 don't assi -> on't assig\n",
      "80 on't assig -> n't assign\n",
      "81 n't assign -> 't assign \n",
      "82 't assign  -> t assign t\n",
      "83 t assign t ->  assign th\n",
      "84  assign th -> assign the\n",
      "85 assign the -> ssign them\n",
      "86 ssign them -> sign them \n",
      "87 sign them  -> ign them t\n",
      "88 ign them t -> gn them ta\n",
      "89 gn them ta -> n them tas\n",
      "90 n them tas ->  them task\n",
      "91  them task -> them tasks\n",
      "92 them tasks -> hem tasks \n",
      "93 hem tasks  -> em tasks a\n",
      "94 em tasks a -> m tasks an\n",
      "95 m tasks an ->  tasks and\n",
      "96  tasks and -> tasks and \n",
      "97 tasks and  -> asks and w\n",
      "98 asks and w -> sks and wo\n",
      "99 sks and wo -> ks and wor\n",
      "100 ks and wor -> s and work\n",
      "101 s and work ->  and work,\n",
      "102  and work, -> and work, \n",
      "103 and work,  -> nd work, b\n",
      "104 nd work, b -> d work, bu\n",
      "105 d work, bu ->  work, but\n",
      "106  work, but -> work, but \n",
      "107 work, but  -> ork, but r\n",
      "108 ork, but r -> rk, but ra\n",
      "109 rk, but ra -> k, but rat\n",
      "110 k, but rat -> , but rath\n",
      "111 , but rath ->  but rathe\n",
      "112  but rathe -> but rather\n",
      "113 but rather -> ut rather \n",
      "114 ut rather  -> t rather t\n",
      "115 t rather t ->  rather te\n",
      "116  rather te -> rather tea\n",
      "117 rather tea -> ather teac\n",
      "118 ather teac -> ther teach\n",
      "119 ther teach -> her teach \n",
      "120 her teach  -> er teach t\n",
      "121 er teach t -> r teach th\n",
      "122 r teach th ->  teach the\n",
      "123  teach the -> teach them\n",
      "124 teach them -> each them \n",
      "125 each them  -> ach them t\n",
      "126 ach them t -> ch them to\n",
      "127 ch them to -> h them to \n",
      "128 h them to  ->  them to l\n",
      "129  them to l -> them to lo\n",
      "130 them to lo -> hem to lon\n",
      "131 hem to lon -> em to long\n",
      "132 em to long -> m to long \n",
      "133 m to long  ->  to long f\n",
      "134  to long f -> to long fo\n",
      "135 to long fo -> o long for\n",
      "136 o long for ->  long for \n",
      "137  long for  -> long for t\n",
      "138 long for t -> ong for th\n",
      "139 ong for th -> ng for the\n",
      "140 ng for the -> g for the \n",
      "141 g for the  ->  for the e\n",
      "142  for the e -> for the en\n",
      "143 for the en -> or the end\n",
      "144 or the end -> r the endl\n",
      "145 r the endl ->  the endle\n",
      "146  the endle -> the endles\n",
      "147 the endles -> he endless\n",
      "148 he endless -> e endless \n",
      "149 e endless  ->  endless i\n",
      "150  endless i -> endless im\n",
      "151 endless im -> ndless imm\n",
      "152 ndless imm -> dless imme\n",
      "153 dless imme -> less immen\n",
      "154 less immen -> ess immens\n",
      "155 ess immens -> ss immensi\n",
      "156 ss immensi -> s immensit\n",
      "157 s immensit ->  immensity\n",
      "158  immensity -> immensity \n",
      "159 immensity  -> mmensity o\n",
      "160 mmensity o -> mensity of\n",
      "161 mensity of -> ensity of \n",
      "162 ensity of  -> nsity of t\n",
      "163 nsity of t -> sity of th\n",
      "164 sity of th -> ity of the\n",
      "165 ity of the -> ty of the \n",
      "166 ty of the  -> y of the s\n",
      "167 y of the s ->  of the se\n",
      "168  of the se -> of the sea\n",
      "169 of the sea -> f the sea.\n"
     ]
    }
   ],
   "source": [
    "# sequence_length 값인 10의 단위로 샘플들을 잘라서 데이터를 만드는 모습\n",
    "x_data = []\n",
    "y_data = []\n",
    "\n",
    "for i in range(0, len(sentence)-sequence_length) : \n",
    "    x_str = sentence[i : i+sequence_length]\n",
    "    y_str = sentence[i+1 : i+sequence_length+1]\n",
    "    print(i, x_str,'->', y_str)\n",
    "    \n",
    "    x_data.append([char_dic[c] for c in x_str])\n",
    "    y_data.append([char_dic[c] for c in y_str])"
   ]
  },
  {
   "cell_type": "code",
   "execution_count": 33,
   "id": "3c26cb13-a2a5-48e8-98d9-8581b07e8db0",
   "metadata": {},
   "outputs": [
    {
     "name": "stdout",
     "output_type": "stream",
     "text": [
      "[5, 9, 14, 16, 8, 2, 14, 20, 7, 4]\n",
      "[9, 14, 16, 8, 2, 14, 20, 7, 4, 17]\n"
     ]
    }
   ],
   "source": [
    "# 총 170개의 샘플 생성\n",
    "# 첫번째 샘플의 입력 데이터와 레이블 데이터 출력\n",
    "print(x_data[0])\n",
    "print(y_data[0])"
   ]
  },
  {
   "cell_type": "markdown",
   "id": "32092fa9-420f-45f7-b02a-a3accd24c695",
   "metadata": {},
   "source": [
    "- 한 칸씩 shift된 시퀀스가 정상적으로 출력\n",
    "- 이제 입력 시퀀스에 대해서 원-핫 인코딩을 수행하고 입력 데이터와 레이블 데이터를 텐서로 변환"
   ]
  },
  {
   "cell_type": "code",
   "execution_count": 36,
   "id": "a7ab744c-1187-414f-b9be-8342130ce683",
   "metadata": {},
   "outputs": [
    {
     "name": "stderr",
     "output_type": "stream",
     "text": [
      "C:\\Users\\ATIV\\AppData\\Local\\Temp\\ipykernel_18968\\2907341166.py:2: UserWarning: Creating a tensor from a list of numpy.ndarrays is extremely slow. Please consider converting the list to a single numpy.ndarray with numpy.array() before converting to a tensor. (Triggered internally at  ..\\torch\\csrc\\utils\\tensor_new.cpp:210.)\n",
      "  X = torch.FloatTensor(x_one_hot)\n"
     ]
    }
   ],
   "source": [
    "x_one_hot = [np.eye(dic_size)[x] for x in x_data]\n",
    "X = torch.FloatTensor(x_one_hot)\n",
    "Y = torch.LongTensor(y_data)"
   ]
  },
  {
   "cell_type": "code",
   "execution_count": 37,
   "id": "8f18d312-05b1-4520-8073-68bab6edf25c",
   "metadata": {},
   "outputs": [
    {
     "name": "stdout",
     "output_type": "stream",
     "text": [
      "훈련 데이터의 크기 : torch.Size([170, 10, 25])\n",
      "레이블의 크기 : torch.Size([170, 10])\n"
     ]
    }
   ],
   "source": [
    "# 크기 확인\n",
    "print('훈련 데이터의 크기 : {}'.format(X.shape))\n",
    "print('레이블의 크기 : {}'.format(Y.shape))"
   ]
  },
  {
   "cell_type": "code",
   "execution_count": 39,
   "id": "5dbd3b99-7400-4a6b-bb96-ccb1bd46ed6c",
   "metadata": {},
   "outputs": [
    {
     "name": "stdout",
     "output_type": "stream",
     "text": [
      "tensor([[0., 0., 0., 0., 0., 1., 0., 0., 0., 0., 0., 0., 0., 0., 0., 0., 0., 0.,\n",
      "         0., 0., 0., 0., 0., 0., 0.],\n",
      "        [0., 0., 0., 0., 0., 0., 0., 0., 0., 1., 0., 0., 0., 0., 0., 0., 0., 0.,\n",
      "         0., 0., 0., 0., 0., 0., 0.],\n",
      "        [0., 0., 0., 0., 0., 0., 0., 0., 0., 0., 0., 0., 0., 0., 1., 0., 0., 0.,\n",
      "         0., 0., 0., 0., 0., 0., 0.],\n",
      "        [0., 0., 0., 0., 0., 0., 0., 0., 0., 0., 0., 0., 0., 0., 0., 0., 1., 0.,\n",
      "         0., 0., 0., 0., 0., 0., 0.],\n",
      "        [0., 0., 0., 0., 0., 0., 0., 0., 1., 0., 0., 0., 0., 0., 0., 0., 0., 0.,\n",
      "         0., 0., 0., 0., 0., 0., 0.],\n",
      "        [0., 0., 1., 0., 0., 0., 0., 0., 0., 0., 0., 0., 0., 0., 0., 0., 0., 0.,\n",
      "         0., 0., 0., 0., 0., 0., 0.],\n",
      "        [0., 0., 0., 0., 0., 0., 0., 0., 0., 0., 0., 0., 0., 0., 1., 0., 0., 0.,\n",
      "         0., 0., 0., 0., 0., 0., 0.],\n",
      "        [0., 0., 0., 0., 0., 0., 0., 0., 0., 0., 0., 0., 0., 0., 0., 0., 0., 0.,\n",
      "         0., 0., 1., 0., 0., 0., 0.],\n",
      "        [0., 0., 0., 0., 0., 0., 0., 1., 0., 0., 0., 0., 0., 0., 0., 0., 0., 0.,\n",
      "         0., 0., 0., 0., 0., 0., 0.],\n",
      "        [0., 0., 0., 0., 1., 0., 0., 0., 0., 0., 0., 0., 0., 0., 0., 0., 0., 0.,\n",
      "         0., 0., 0., 0., 0., 0., 0.]])\n",
      "tensor([ 9, 14, 16,  8,  2, 14, 20,  7,  4, 17])\n"
     ]
    }
   ],
   "source": [
    "# 첫번째 샘플 출력\n",
    "print(X[0])\n",
    "print(Y[0])"
   ]
  },
  {
   "cell_type": "markdown",
   "id": "df7d3849-5332-4ac5-8b65-3f879f4de309",
   "metadata": {},
   "source": [
    "----------------------------------------------------------------------------------------------------------------"
   ]
  },
  {
   "cell_type": "markdown",
   "id": "58d85db8-e66f-4fbc-9893-f1f0170ff6c8",
   "metadata": {},
   "source": [
    "#### 2. 모델 구현"
   ]
  },
  {
   "cell_type": "code",
   "execution_count": 41,
   "id": "fd42c0ff-b5e8-4fa3-b98e-e597bae833e5",
   "metadata": {},
   "outputs": [],
   "source": [
    "class Net(torch.nn.Module) : \n",
    "    def __init__(self, input_dim, hidden_dim, layers) : \n",
    "        super(Net, self).__init__()\n",
    "        self.rnn = torch.nn.RNN(input_dim, hidden_dim, num_layers = layers, batch_first=True)\n",
    "        self.fc = torch.nn.Linear(hidden_dim, hidden_dim, bias=True)\n",
    "    def forward(self, x) : \n",
    "        x, _status = self.rnn(x)\n",
    "        x = self.fc(x)\n",
    "        return x"
   ]
  },
  {
   "cell_type": "code",
   "execution_count": 42,
   "id": "3e31e265-f337-406a-9ce3-8bafb25a5ccf",
   "metadata": {},
   "outputs": [],
   "source": [
    "net = Net(dic_size, hidden_size, 2)"
   ]
  },
  {
   "cell_type": "code",
   "execution_count": 43,
   "id": "3f887eec-90d3-446b-8218-179da5331353",
   "metadata": {},
   "outputs": [],
   "source": [
    "criterion = torch.nn.CrossEntropyLoss()\n",
    "optimizer = optim.Adam(net.parameters(), learning_rate)"
   ]
  },
  {
   "cell_type": "code",
   "execution_count": 55,
   "id": "ce6b1e69-1bc0-4d51-942a-8d07143587df",
   "metadata": {},
   "outputs": [
    {
     "name": "stdout",
     "output_type": "stream",
     "text": [
      "torch.Size([170, 10, 25])\n",
      "25\n"
     ]
    }
   ],
   "source": [
    "# 모델에 입력을 넣어서 출력의 크기 확인\n",
    "outputs = net(X)\n",
    "print(outputs.shape)\n",
    "print(dic_size)"
   ]
  },
  {
   "cell_type": "code",
   "execution_count": 56,
   "id": "afb83b16-e8e4-4200-9780-7b1d6a59a3b5",
   "metadata": {},
   "outputs": [
    {
     "name": "stdout",
     "output_type": "stream",
     "text": [
      "tensor([[[ 0.3520,  0.1670,  0.0888,  ...,  0.0620,  0.0141,  0.1175],\n",
      "         [ 0.2913,  0.3082, -0.0253,  ...,  0.0509, -0.0960,  0.1894],\n",
      "         [ 0.3048,  0.2949, -0.0277,  ..., -0.0042, -0.1717,  0.1052],\n",
      "         ...,\n",
      "         [ 0.3394,  0.2456,  0.0175,  ...,  0.0202, -0.0716,  0.1987],\n",
      "         [ 0.2765,  0.2246,  0.0389,  ..., -0.0394, -0.0490,  0.1047],\n",
      "         [ 0.2451,  0.2668,  0.0698,  ..., -0.0321, -0.0518,  0.1361]],\n",
      "\n",
      "        [[ 0.3821,  0.2212,  0.0324,  ...,  0.0315, -0.0412,  0.1962],\n",
      "         [ 0.3136,  0.2925, -0.0167,  ..., -0.0125, -0.1989,  0.1736],\n",
      "         [ 0.3174,  0.2750, -0.0371,  ...,  0.0495, -0.1279,  0.1084],\n",
      "         ...,\n",
      "         [ 0.2772,  0.2241,  0.0399,  ..., -0.0385, -0.0489,  0.1043],\n",
      "         [ 0.2446,  0.2664,  0.0690,  ..., -0.0315, -0.0514,  0.1363],\n",
      "         [ 0.3095,  0.2996,  0.0891,  ..., -0.0871, -0.0414,  0.1463]],\n",
      "\n",
      "        [[ 0.3797,  0.2004,  0.0419,  ...,  0.0299, -0.0796,  0.1807],\n",
      "         [ 0.3442,  0.2722, -0.0432,  ...,  0.0664, -0.1553,  0.1551],\n",
      "         [ 0.3481,  0.3218, -0.0563,  ..., -0.0397, -0.1057,  0.1065],\n",
      "         ...,\n",
      "         [ 0.2459,  0.2646,  0.0689,  ..., -0.0304, -0.0526,  0.1354],\n",
      "         [ 0.3089,  0.2990,  0.0877,  ..., -0.0865, -0.0414,  0.1463],\n",
      "         [ 0.2564,  0.2977,  0.0376,  ..., -0.0700, -0.1752,  0.1591]],\n",
      "\n",
      "        ...,\n",
      "\n",
      "        [[ 0.4432,  0.2166,  0.0487,  ...,  0.0887, -0.0384,  0.1523],\n",
      "         [ 0.3100,  0.3315, -0.0277,  ..., -0.0115, -0.1945,  0.1417],\n",
      "         [ 0.3267,  0.2714, -0.0425,  ..., -0.0313, -0.0866,  0.1757],\n",
      "         ...,\n",
      "         [ 0.3427,  0.3661,  0.0112,  ...,  0.0414, -0.0601,  0.1141],\n",
      "         [ 0.3254,  0.3298,  0.0616,  ..., -0.0248, -0.1680,  0.1395],\n",
      "         [ 0.3055,  0.2861,  0.0053,  ...,  0.0040, -0.0957,  0.1967]],\n",
      "\n",
      "        [[ 0.3797,  0.2004,  0.0419,  ...,  0.0299, -0.0796,  0.1807],\n",
      "         [ 0.3161,  0.2356, -0.0574,  ..., -0.0102, -0.1223,  0.2033],\n",
      "         [ 0.3026,  0.3401, -0.0582,  ..., -0.0163, -0.0993,  0.1270],\n",
      "         ...,\n",
      "         [ 0.3273,  0.3274,  0.0614,  ..., -0.0227, -0.1692,  0.1386],\n",
      "         [ 0.3053,  0.2855,  0.0034,  ...,  0.0050, -0.0957,  0.1968],\n",
      "         [ 0.3204,  0.3383,  0.0372,  ...,  0.0195, -0.1768,  0.1334]],\n",
      "\n",
      "        [[ 0.4188,  0.1791,  0.0316,  ...,  0.0100, -0.0073,  0.2010],\n",
      "         [ 0.2991,  0.3226, -0.0435,  ..., -0.0089, -0.1142,  0.1828],\n",
      "         [ 0.3140,  0.3491, -0.0090,  ..., -0.0424, -0.1367,  0.1160],\n",
      "         ...,\n",
      "         [ 0.3063,  0.2835,  0.0037,  ...,  0.0069, -0.0964,  0.1958],\n",
      "         [ 0.3201,  0.3375,  0.0360,  ...,  0.0204, -0.1767,  0.1336],\n",
      "         [ 0.2508,  0.2164,  0.0524,  ..., -0.0417, -0.0893,  0.1003]]],\n",
      "       grad_fn=<AddBackward0>)\n"
     ]
    }
   ],
   "source": [
    "print(outputs)"
   ]
  },
  {
   "cell_type": "code",
   "execution_count": 53,
   "id": "4029ef9a-ccce-4f96-aa30-d664421ee42b",
   "metadata": {},
   "outputs": [
    {
     "name": "stdout",
     "output_type": "stream",
     "text": [
      "torch.Size([1700, 25])\n"
     ]
    }
   ],
   "source": [
    "print(outputs.view(-1, 25).shape)"
   ]
  },
  {
   "cell_type": "code",
   "execution_count": 48,
   "id": "bc916a7d-623e-4d1f-b77c-5ddde037be97",
   "metadata": {},
   "outputs": [
    {
     "name": "stdout",
     "output_type": "stream",
     "text": [
      "torch.Size([170, 10])\n",
      "torch.Size([1700])\n"
     ]
    }
   ],
   "source": [
    "# 레이블의 크기 다시 확인\n",
    "print(Y.shape)\n",
    "print(Y.view(-1).shape)"
   ]
  },
  {
   "cell_type": "code",
   "execution_count": 60,
   "id": "3f032130-2f8c-47d5-b89c-c75f3be1dc22",
   "metadata": {},
   "outputs": [
    {
     "name": "stdout",
     "output_type": "stream",
     "text": [
      "'e''''e'pe'e''e''e'e''''i'e'ke'e'eee''e''e'e''eee'e'eee'e'e''ee'eee'ee'''eeeee'e'e'ee''ek''e''e'e'''i'epee''''''e''e''''ne'e'e''''''e'e''eeeeee'''e'eeeeie'e'ei'''ee'n''e'ee''ee'ep\n",
      "oo h  hhhhhhh hh  hhhhhhhhh hhh hhhhh  h  hh     hh h h   hh hh  h   hh  hhh hhhh hhhhhhhh hh h hh hhhhhhhhh  h hh  hhhh h hh h  hh h hh hh  hhh  hh hhh hh  hhh    hhh h  hh hhh h\n",
      "                                                                                                                                                                                   \n",
      "nb.. nl..         a  a             a    .a   a               a            aaa   aa   aa   aa       a  a a        a    aa         a       a         a    a    a   a a    aa    a    \n",
      "tsssilssimllmlmlllllmmmmlmmlmlllolllllmlilmlmllmmmllmlllmlmlmmlllllllllmmlmmlmmmmlmlllmlmllllllsllmlllllllmmmlllllmlmmmimllmlllllmlmmlllmlmlllllmlllllmlmlmmllmlllmlllllmilllnlllmm\n",
      "ttssittsotttttttttttttttttttttttttttttttitttttitttttttttttttttttttttstttttttttttttttttslttittttttttttttttltttttttitttttisttttttttttttttttttttttttttttttttttttttttttttttttiitttttttt\n",
      "torst eotttttttttttttttttttttttte t ttttsttttttttt t tttttttttttttttttttt ttttttttttttttttstttttetttttttttt e ettttttttstt ttttttttttttttetttttttttt ttttttttttttttttt ttttt ettttt\n",
      "toeot rottet  ts  sttt ttetetet   t e ttsstettsetttt tt tt ttttt ttet st  teet ttest sesttset    ttsstttest   o  s etetoet t tttt ette    et ttetttt steteettttttstet  ttstt retttt\n",
      " o oeo oe eeo eeeoteeeeo eeeeee o   ee o eteeeteeeo  e  eeeo ee oeee  ee o eeee eeee  eee  eee  ooe e   teeo   e  eeeeeoeeoeoeeee eeeeeoeoe oeee eeo  eeeeeee ee  eee o etete eeeee\n",
      " o o o otoo o          o  o      ooo   o t   e t    o      o t  o       o      o    o t  o  e o oo     o   o      te o   o  o t  o eo  o o  o  o o o   o  eo    o     o     o o o  \n",
      "to h o o ooth    t  t  o t    t tot t        t   to t t           o  t  o t t  o      to oeo    o t   to  to    t to ote ot      t      to  t th o o  to  eo       t to    t  tt   \n",
      "th o  t   oto    t   ot  t    e t      t   o       t   eoot t o      t t  ttt t  ro t tt tto eo t   t     tot     to    eott   o  oe    t e   t toto  th    t     tt to    t t t   \n",
      "thdo  t    t  oh t   ot t   t e t d  e to         or     ot e o       or     ht d oh o   tdoh    h o   ot t t t  o  t  h   t e o  o  ot r   o  heot   th    t t      tt o  t   t   \n",
      "thtoo tn th   oh tn oothet  dh 't to   dh th h  htht h e    e h    h th   not thn   do    duheds heo  tnd t a d th   h o o   soo dh       h eoththt   o       t   h  t  to th o  eh\n",
      "thton to shto th th thd  t  aonst d n  ao ahnt astodo  e oto  h    h to e nns t n   dos  n th o toeot to  t d e to  d nhet  oe h th d the n tod e th  tnd n    l  n  'heth th dbh s\n",
      "thtsneto d do do to thtoe e t nethas d ttstone e th  n e  toe o s    tsotstos d a t dsh t tto s to ss ton noset ton d nhse doe neshee toe ons ton dhested adhtttt nt th ts d  d oet\n",
      "thtoneto d do do te assoeme tonet as dsttetotsae t est e  toe h s    toos tos aoe t ass t tth s to st tot too t tot thtes  doe tes  d to  o s toe dhest d de ttl  tsntn ah t eet e \n",
      "thtooet  t to so lo thtoetn totetoals  to tent eet e thes to s  sst  tueesto  toa t ass t tthes toest ton toe t tot ast s  toe n toe  toe o sstoe thestnd esestt  as th dh thertoet\n",
      "thtoo tn s to lotto tos  to totetoals  to t n ee tha th r to l   se  tu dlto  w ert ass it thes to  s ton th  t tkt d t e  to loeto   toetonl ao  th rtn  e s tt  s  ih to thertott\n",
      "lotoo tons to ko me toto mo to  t aos  to tee leitoa ther to co ls   to rlto  t est aos in th s toeks tor th  t tkt t t e  th lnethe ethetont ao  th rtnt e s ttm rseto tn thert tt\n",
      "loton tonu to totle aoto tn do  t aos  ta thnl  itor n ek to conll   wh l tos tod t wou in wh k to ks tnr won s d't tot er to ln toe  toetonl to  toe tntle i ttl rseto to to mt tn\n",
      "loton tonu to totle toto t, do mt dout da ahnl e tod t ek to conl    wuodldnd tod t dou in t  ' to ku tnn won s dot douhe  tonlu ther to cu d tot toe tndle t ttl nmttn po toemt,t \n",
      "loton tonc to cutme unto th dorst aoui da aendle t  enher to cone it duor ans aod t dsuii,mt  m to ks tne won t dut donoe  torln them to conm don t e tndle s tm  rs t, an toe t n \n",
      "loton toes to cuile aoto gh aon't aoui aa pendle to enhem to co eeit auun aod a d't assimn them to ', tne ton u dut aotoe  toeku ther to c,nd aon t e tndle s tl  ds ty au toe t n \n",
      "lhtoo to shto cuild totoeg, aon't asui aa pendle to enhem to co eest aoun and a d't assimn them to ', tnd ton s aut aotoe  toecu them to c,nd aon the tndle , tg  dsity an toe t g \n",
      "lhtoo tons to cuigd aeth m, aon't asui ao pend e to  nher to co eeit auon aod a dst assim, the  to k, tnd won , tut dotoe  toecu them to c,nd aon the tndle s tm  ds ty ao the t gn\n",
      "lhtoo tonshto coigd tonh mn don't aoum ao pend e t renhem to co ls t auonlaod t dst assim, them to ks tnd won , tut dathe  torcu them to cong ton the tndle s im, os ty oo the t gn\n",
      "lhtoo tons to coimd tosh m, aon't aoum ao pend e t desh m to co le t aoom dnd tod't dssig, them torksitnd wonk, tut dather torcu them to cong ton the sndle s imm osity oo the t sn\n",
      "lytou tons to coigd toshia, aon't dou  aplpend e toreshem to co le t aoog wnd ton't dssim, them torks and wonk, tut dather torcu them to cong ton themsntlehs imm osity oo thems st\n",
      "lytou tans to coimd weshia, aon't doum ap petp e torethem to co le a wooe dnd don't dssim, them toeks and donk, tut dather torco them to cong ton the sndlehs imm osity ao themt st\n",
      "lytouktans to cuild woshia, aon't dou  aa petple t deshem to collect aooe dnd don't dssimn them tosks and tonk, dui dather to cu them to con' to  the sndless imm asity ao themt at\n",
      "lydouktans to cuild aoshia, aon't drum aa peaple todeshem to colle t aond and don't assimn toem tosksiand tonk, dut dadher to cu them to cong ton the sndless imm asity au themseat\n",
      "pytouktans to loild aeshia, don't drum ap people toge hem to lolle t aood and don't arsign toem to ks and tonk, tut dather to lu them to long dos themsndless imm osity af themseat\n",
      "pytou tans toecuild aoshia, don't drum ap people to eshem to collect aond and don't drsign toem tosks and tonk, tut dather to culthe  to cong dor the sndless imm osity or the seat\n",
      "pytou tant to cuild aoshia, don't drum ap people to eshem to collect wood tnd don't dssign them tosks and wonk, tut dather torcu the  to cong tor the sndless imm osity or the seat\n",
      "pytou tant to luild aoshia, don't drum ap people to ether to lollect wood and don't dssign them torks and wook, tut dather torcu them to long dor themsndless imm nsity or themseam\n",
      "p,tou tont to cuild aoshia, don't drum ap people togesher to collect wood and don't dssign them tosks and wook, but dather torch ther to long dor themsndless imm nsity of themsean\n",
      "p,touktant to cuild aoship, don't drum ap people togesher to collect wood and don't dssign them tosks and wook, but aather to ch ther to long dor themsndless imm nsity of themeeat\n",
      "p,toukwant to build aoship, don't drum ap people to ether to lollect wood and don't dssign them tosks and work, but aather to ch ther to long dor themendless imm nsity of themeeat\n",
      "p,tou want to build a ship, don't drum ap people to ethem to collect wood and don't assign them tosks and work, but aather torch ther to long dor themendless imm nsity of themeeat\n",
      "p,tou want to build a ship, don't arum ap people to ether to collect wood and don't assign them tosks and work, but aather te ch ther to bong dor the endless imm nsity of the eeam\n",
      "pydou want to build a ship, don't drum ap people together to collect wood and don't assign them tosks and work, but aather terch ther ta long for the endless imm nsity of the eeam\n",
      "p,tou want to luild a ship, don't drum up people together to collect wood and don't dssign them tosks and work, but aather teach ther ta long for the endless imm nsity of the eeam\n",
      "p,tou want to build a ship, don't drum up people together to coglect wood and don't dssign them tosks and work, but aather toach ther to long for the endless imm nsity of the eeam\n",
      "l,tou want to build a ship, don't drum up people together to collect wood and don't dssign them tosks and work, but aather toach ther to long for the endless imm nsity of the eeam\n",
      "l,tou want to build a ship, don't drum up people together to collect wood and don't dssign them tasks and work, but rather teach them ta long for the endless imm nsity of the eeam\n",
      "l,rou want to build a ship, don't drum up people togethem to collect wood and don't dssign them tosks and work, but rather teach them to long for the endless imm nsity of the eeat\n",
      "l rou want to cuild a ship, don't drum up people together to collect wood and don't dssign them tosks and work, but rather teach them to long for the endless imm nsity of the eeat\n",
      "l rou want to cuild a ship, don't drum up people together to collect wood and don't dssign them tosks and work, but rather teach them to long for the endless imm nsity of the eeat\n",
      "l rou want to build a ship, don't drum up people together to collect wood and don't dssign them tosks and work, but rather teach them to long for the endless imm nsity of the eeat\n",
      "l dou want to build a ship, don't arum up people together to collect wood and don't assign them tosks and work, but rather teach them to long for the endless imm nsity of the eead\n",
      "t dou want to build a ship, don't arum up people together to collect wood and don't assign them tosks and work, but rather teach the  to long for the endless imm nsity of the eeat\n",
      "t you want to build a ship, don't arum up people together to collect wood and don't assign them tosks and work, but rather teach them to long for the endless immensity of the eeat\n",
      "t you want to build a ship, don't arum up people together to collect wood and don't assign the  tosks and work, but rather teach the  to long for the endless immensity of the eeat\n",
      "t you want to build a ship, don't arum up people together to collect wood and don't assign them tosks and work, but rather teach them to long for the endless immensity of the eeat\n",
      "t you want to build a ship, don't arum up people together to collect wood and don't assign them tasks and work, but rather teach them ta long for the endless immensity of the eeat\n",
      "m you want to cuild a ship, don't arum up people together te collect wood and don't assign them tasks and work, but rather teach them ta long for the sndless immensity of the seat\n",
      "m you want to build a ship, don't drum up people together te collect wood and don't dssign them tosks and work, but rather teach them to long for the sndless immensity of the eeat\n",
      "m you want to build a ship, don't drum up people together to collect wood and don't dssign them tasks and work, but rather teach them to long for the endless immensity of the eean\n",
      "m you want to build a ship, don't arum up people together to collect wood and don't assign them tasks and work, but rather teach them ta long for the endless immensity of the eean\n",
      "g you want to build a ship, don't drum up people together to collect wood and don't dssign them tasks and work, but rather teach them ta long for the endless immensity of the eean\n",
      "g you want to build a ship, don't drum up people together to collect wood and don't dssign them tasks and work, but rather teach them to long for the endless immensity of the eeat\n",
      "l you want to build a ship, don't drum up people together to collect wood and don't assign them tosks and work, but rather teach them to long for the endless immensity of the eeat\n",
      "l you want to build a ship, don't arum up people together to collect wood and don't assign them tosks and work, but rather teach them to long for the endless immensity of the eeat\n",
      "l you want to build a ship, don't arum up people together to collect wood and don't assign them tasks and work, but rather teach them to long for the endless immensity of the eeat\n",
      "l you want to build a ship, don't arum up people together to collect wood and don't assign them tasks and work, but rather teach them to long for the endless immensity of the eeat\n",
      "g you want to build a ship, don't drum up people together to collect wood and don't assign them tasks and work, but rather teach ther ta long for the endless immensity of the eeat\n",
      "g you want to build a ship, don't drum up people togethem to collect wood and don't assign the  tosks and work, but rather teach them to long for the endless immensity of the eean\n",
      "g you want to build a ship, don't arum up people together te collect wood and don't assign them tasks and work, but rather teach them to long for the endless immensity of the eean\n",
      "g you want to build a ship, don't arum up people together te collect wood and don't assign them tasks and work, but rather teach them to long for the endless immensity of the eead\n",
      "m you want to build a ship, don't drum up people together to collect wood and don't assign them tasks and work, but rather teach them to long for the endless immensity of the sean\n",
      "m you want to build a ship, don't drum up people together to collect wood and don't dssign them tosks and work, but rather teach them to long for the sndless immensity of the sead\n",
      "m you want to build a ship, don't drum up people together to collect wood and don't assign them tasks and work, but rather teach them ta long for the sndless immensity of the sead\n",
      "l you want to build a ship, don't drum up people together to collect wood and don't assign them tasks and work, but rather teach them ta long for the endless immensity of the eeat\n",
      "l you want to build a ship, don't drum up people together to collect wood and don't assign them tasks and work, but rather teach them to long for the endless immensity of the eea.\n",
      "l you want to build a ship, don't drum up people together to collect wood and don't assign them tosks and work, but rather teach them to long for the endless immensity of the eea.\n",
      "g you want to build a ship, don't drum up people together to collect wood and don't assign them tasks and work, but rather teach them to long for the endless immensity of the eeat\n",
      "g you want to build a ship, don't drum up people together to collect wood and don't assign them tasks and work, but rather teach them to long for the endless immensity of the eeat\n",
      "g you want to build a ship, don't drum up people together to collect wood and don't assign them tasks and work, but rather teach them to long for the endless immensity of the sea.\n",
      "t you want to build a ship, don't drum up people together to collect wood and don't assign them tasks and work, but rather teach them to long for the endless immensity of the sea.\n",
      "t you want to build a ship, don't drum up people together to collect wood and don't assign them tasks and work, but rather teach them to long for the endless immensity of the sea.\n",
      "m you want to build a ship, don't drum up people together to collect wood and don't assign them tasks and work, but rather teach them to long for the endless immensity of the sea.\n",
      "m you want to build a ship, don't drum up people together to collect wood and don't assign them tasks and work, but rather teach them to long for the endless immensity of the sea.\n",
      "l you want to build a ship, don't drum up people together to collect wood and don't assign them tasks and work, but rather teach them to long for the endless immensity of the sea.\n",
      "l you want to build a ship, don't drum up people together to collect wood and don't assign them tasks and work, but rather toach them to long for the endleas immensity of the sea.\n",
      "l you want to build a ship, don't drum up people together to collect wood and don't assign them tasks and work, but rather teach them to long for the sndless immensity of the sea.\n",
      "g you want to build a ship, don't drum up people together to collect wood and don't assign them tasks and work, but rather teach them to long for the endless immensity of the sea.\n",
      "m you want to build a ship, don't drum up people together to collect wood and don't assign them tasks and work, but rather teach them to long for themendless immensity of the eeat\n",
      "t you want to build a ship, don't drum up people together to collect wood and don't assign them tasks and work, but rather teach them to long for the sndless immensity of the sea.\n",
      "t you want to build a ship, don't drum up people together to collect wood and don't assign them tasks and work, but rather teach them to long for the sndless immensity of the sea.\n",
      "p you want to build a ship, don't drum up people together to collect wood and don't assign them tasks and work, but rather teach them to long for the endless immensity of the eea.\n",
      "m you want to build a ship, don't drum up people together to collect wood and don't assign them tasks and work, but rather teach them to long for the endless immensity of the eea.\n",
      "g you want to build a ship, don't drum up people together to collect wood and don't assign them tasks and work, but rather teach them to long for the sndless immensity of the sea.\n",
      "g you want to build a ship, don't drum up people together to collect wood and don't assign them tasks and work, but rather teach them to long for the sndless immensity of the sea.\n",
      "g you want to build a ship, don't drum up people together to collect wood and don't assign them tasks and work, but rather teach them to long for the endless immensity of the sea.\n",
      "l you want to build a ship, don't drum up people together to collect wood and don't assign them tasks and work, but rather teach them to long for the endless immensity of the sea.\n",
      "l you want to build a ship, don't drum up people together to collect wood and don't assign them tasks and work, but rather teach them to long for the endless immensity of the sea.\n",
      "t you want to build a ship, don't drum up people together to collect wood and don't assign them tasks and work, but rather teach them to long for the endless immensity of the sea.\n",
      "t you want to build a ship, don't drum up people together to collect wood and don't assign them tasks and work, but rather teach them to long for the endless immensity of the sea.\n",
      "m you want to build a ship, don't drum up people together to collect wood and don't assign them tasks and work, but rather teach them to long for the endless immensity of the sea.\n"
     ]
    }
   ],
   "source": [
    "for i in range(100) : \n",
    "    optimizer.zero_grad()\n",
    "    outputs = net(X) # (170, 10, 25)크기를 가진 텐서를 매 에포크마다 모델의 입력으로 사용\n",
    "    loss = criterion(outputs.view(-1, dic_size), Y.view(-1))\n",
    "    loss.backward()\n",
    "    optimizer.step()\n",
    "    \n",
    "    # result의 텐서 크기는 (170, 10)\n",
    "    results = outputs.argmax(dim=2)\n",
    "    predict_str = \"\"\n",
    "    for j, result in enumerate(results) : \n",
    "        # 처음에는 예측 결과를 전부 가져옴\n",
    "        if j==0 : \n",
    "            predict_str += ''.join([char_set[t] for t in result])\n",
    "        # 그 다음에는 마지막 글자만 반복 추가\n",
    "        else : \n",
    "            predict_str += char_set[result[-1]]\n",
    "            \n",
    "    print(predict_str)"
   ]
  }
 ],
 "metadata": {
  "kernelspec": {
   "display_name": "Python 3 (ipykernel)",
   "language": "python",
   "name": "python3"
  },
  "language_info": {
   "codemirror_mode": {
    "name": "ipython",
    "version": 3
   },
   "file_extension": ".py",
   "mimetype": "text/x-python",
   "name": "python",
   "nbconvert_exporter": "python",
   "pygments_lexer": "ipython3",
   "version": "3.10.2"
  }
 },
 "nbformat": 4,
 "nbformat_minor": 5
}
