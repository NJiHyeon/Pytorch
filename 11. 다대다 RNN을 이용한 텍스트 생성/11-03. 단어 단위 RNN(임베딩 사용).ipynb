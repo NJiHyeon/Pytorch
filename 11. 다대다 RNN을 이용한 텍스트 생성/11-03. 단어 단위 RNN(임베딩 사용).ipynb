{
 "cells": [
  {
   "cell_type": "markdown",
   "id": "122ef88b-37ac-451c-87ff-a2af336a74e2",
   "metadata": {},
   "source": [
    "### 03. 단어 단위 RNN - 임베딩 사용\n",
    "- 문자 단위가 아니라 RNN의 입력 단위를 단어 단위로 사용\n",
    "- 그리고 단어 단위를 사용함에 따라서 Pytorch에서 제공하는 임베딩 층 사용"
   ]
  },
  {
   "cell_type": "markdown",
   "id": "652add37-22eb-4f51-a8b6-b8351744a00a",
   "metadata": {},
   "source": [
    "#### 1. 훈련 데이터 전처리"
   ]
  },
  {
   "cell_type": "code",
   "execution_count": 1,
   "id": "059ecd99-eb1e-4616-b909-c4b629a27282",
   "metadata": {},
   "outputs": [],
   "source": [
    "# 필요한 도구 임포트\n",
    "import torch\n",
    "import torch.nn as nn\n",
    "import torch.optim as optim\n",
    "import numpy as np"
   ]
  },
  {
   "cell_type": "code",
   "execution_count": 2,
   "id": "0f62d446-8889-4865-9cf4-d1ebd71aa614",
   "metadata": {},
   "outputs": [
    {
     "name": "stdout",
     "output_type": "stream",
     "text": [
      "['Repeat', 'is', 'the', 'best', 'medicine', 'for', 'memory']\n"
     ]
    }
   ],
   "source": [
    "# 임의의 문장 생성\n",
    "sentence = \"Repeat is the best medicine for memory\".split()\n",
    "print(sentence)"
   ]
  },
  {
   "cell_type": "markdown",
   "id": "68497dab-b861-46c6-9a52-59b0f054a671",
   "metadata": {},
   "source": [
    "- 목표 RNN : \"Repeat is the best medicine for memory\"을 입력 받으면 \"is the best medicine for memory\" 출력\n",
    "- 먼저 임의의 문장으로부터 단어장 만들기"
   ]
  },
  {
   "cell_type": "code",
   "execution_count": 4,
   "id": "12032c68-8fe1-4214-8b49-fd5cc2263754",
   "metadata": {},
   "outputs": [
    {
     "name": "stdout",
     "output_type": "stream",
     "text": [
      "['for', 'the', 'best', 'Repeat', 'memory', 'medicine', 'is']\n"
     ]
    }
   ],
   "source": [
    "vocab = list(set(sentence))\n",
    "print(vocab)"
   ]
  },
  {
   "cell_type": "code",
   "execution_count": 6,
   "id": "f7832828-3c88-4aa0-a847-fbeebc37fb72",
   "metadata": {},
   "outputs": [
    {
     "name": "stdout",
     "output_type": "stream",
     "text": [
      "{'for': 1, 'the': 2, 'best': 3, 'Repeat': 4, 'memory': 5, 'medicine': 6, 'is': 7, '<unk>': 0}\n"
     ]
    }
   ],
   "source": [
    "# 단어장의 단어에 고유한 정수 인덱스 부여\n",
    "# 동시에 모르는 단어를 의미하는 unk 토큰 추가\n",
    "word2index = {tkn : i for i, tkn in enumerate(vocab, 1)} # 1부터 시작\n",
    "word2index['<unk>'] = 0\n",
    "print(word2index)"
   ]
  },
  {
   "cell_type": "code",
   "execution_count": 7,
   "id": "5bcb258d-0132-4ee1-a2d5-98c3312d2cad",
   "metadata": {},
   "outputs": [
    {
     "name": "stdout",
     "output_type": "stream",
     "text": [
      "5\n"
     ]
    }
   ],
   "source": [
    "# 맵핑되는 정수 확인\n",
    "print(word2index['memory'])"
   ]
  },
  {
   "cell_type": "code",
   "execution_count": 12,
   "id": "225bf862-e1c0-4a69-b7d3-31494d1f5d30",
   "metadata": {},
   "outputs": [
    {
     "name": "stdout",
     "output_type": "stream",
     "text": [
      "{1: 'for', 2: 'the', 3: 'best', 4: 'Repeat', 5: 'memory', 6: 'medicine', 7: 'is', 0: '<unk>'}\n"
     ]
    }
   ],
   "source": [
    "# 예측 단계에서 예측한 문장을 확인하기 위해 idx2word 만들기\n",
    "index2word = {v: k for k, v in word2index.items()}\n",
    "print(index2word)"
   ]
  },
  {
   "cell_type": "code",
   "execution_count": 18,
   "id": "6c9fce64-8b42-4f9f-84e2-75d77ed6677f",
   "metadata": {},
   "outputs": [
    {
     "name": "stdout",
     "output_type": "stream",
     "text": [
      "best\n"
     ]
    }
   ],
   "source": [
    "print(index2word[3])"
   ]
  },
  {
   "cell_type": "code",
   "execution_count": 19,
   "id": "3b5806d7-fc7a-4e5d-8861-117a6cc29bc2",
   "metadata": {},
   "outputs": [],
   "source": [
    "# 각 단어를 정수로 인코딩 & 입력 데이터와 레이블 데이터를 만드는 함수 만들기\n",
    "def build_data(sentence, word2index) : \n",
    "    # 각 문자를 정수로 변환\n",
    "    encoded = [word2index[token] for token in sentence]\n",
    "    # 입력 시퀀스와 레이블 시퀀스를 분리\n",
    "    input_seq, label_seq = encoded[:-1], encoded[1:]\n",
    "    # 배치 차원 추가\n",
    "    input_seq = torch.LongTensor(input_seq).unsqueeze(0)\n",
    "    label_seq = torch.LongTensor(label_seq).unsqueeze(0)\n",
    "    return input_seq, label_seq"
   ]
  },
  {
   "cell_type": "code",
   "execution_count": 20,
   "id": "f803b14a-06e5-4cf9-ac08-2b43225017ff",
   "metadata": {},
   "outputs": [
    {
     "data": {
      "text/plain": [
       "(tensor([[4, 7, 2, 3, 6, 1]]), tensor([[7, 2, 3, 6, 1, 5]]))"
      ]
     },
     "execution_count": 20,
     "metadata": {},
     "output_type": "execute_result"
    }
   ],
   "source": [
    "build_data(sentence, word2index)"
   ]
  },
  {
   "cell_type": "code",
   "execution_count": 25,
   "id": "26f45dfe-3240-40fe-ad19-3840e9264693",
   "metadata": {},
   "outputs": [],
   "source": [
    "X, Y = build_data(sentence, word2index)"
   ]
  },
  {
   "cell_type": "code",
   "execution_count": 26,
   "id": "9ec0a2e4-9370-42b4-9561-f2ccbf6f5c0e",
   "metadata": {},
   "outputs": [
    {
     "name": "stdout",
     "output_type": "stream",
     "text": [
      "tensor([[4, 7, 2, 3, 6, 1]])\n",
      "tensor([[7, 2, 3, 6, 1, 5]])\n"
     ]
    }
   ],
   "source": [
    "print(X)\n",
    "print(Y)"
   ]
  },
  {
   "cell_type": "markdown",
   "id": "c034858d-dc32-4c46-ba40-bfb8e57f30c2",
   "metadata": {},
   "source": [
    "--------------------------------------------------------------------------------------------------------------"
   ]
  },
  {
   "cell_type": "markdown",
   "id": "a4d7d759-28b6-4481-a1f5-d4fd6febacfe",
   "metadata": {},
   "source": [
    "#### 2.모델 구현하기\n",
    "- 이전 모델들과 달라진 점은 임베딩 층을 추가\n",
    "- nn.Embedding()사용\n",
    "    - 첫번째 인자 : 단어장의 크기\n",
    "    - 두번째 인자 : 임베딩 벡터의 차원"
   ]
  },
  {
   "cell_type": "code",
   "execution_count": 32,
   "id": "619cbbf3-d00a-493f-87be-aea6d96b7e72",
   "metadata": {},
   "outputs": [],
   "source": [
    "class Net(nn.Module) : \n",
    "    def __init__(self, vocab_size, input_size, hidden_size, batch_first=True) :\n",
    "        super(Net, self).__init__()\n",
    "        # 워드 임베딩\n",
    "        self.embedding_layer = nn.Embedding(num_embeddings = vocab_size,\n",
    "                                            embedding_dim = input_size)\n",
    "        # 입력 차원, 은닉 상태의 크기 정의\n",
    "        self.rnn_layer = nn.RNN(input_size, hidden_size,\n",
    "                                batch_first = batch_first)\n",
    "        # 출력은 원-핫 벡터의 크기를 가져야함(또는 단어 집합의 크기만큼 가져야함)\n",
    "        self.linear = nn.Linear(hidden_size, vocab_size)\n",
    "        \n",
    "    def forward(self, x) : \n",
    "        # 1.임베딩 층\n",
    "        # 크기변화 : (배치크기, 시퀀스 길이) -> (배치크기, 시퀀스 길이, 임베딩 차원)\n",
    "        output = self.embedding_layer(x)\n",
    "        \n",
    "        # 2.RNN 층\n",
    "        # 크기변화 : (배치크기, 시퀀스 길이, 임베딩 차원)\n",
    "        # -> output(배치크기, 시퀀스 길이, 은닉층 크기),  hidden(1, 배치크기, 은닉층 크기)\n",
    "        output, hidden = self.rnn_layer(output)\n",
    "        \n",
    "        # 3.최종 출력층\n",
    "        # 크기변화 : ((배치크기, 시퀀스 길이, 은닉층 크기) -> (배치크기, 시퀀스 길이, 단어장 크기)\n",
    "        output = self.linear(output)\n",
    "        \n",
    "        # 4.view를 통해서 배치 차원 제거\n",
    "        # 크기변화 : (배치크기, 시퀀스 길이, 단어장 크기) -> (배치크기*시퀀스 길이, 단어장 크기)\n",
    "        return output.view(-1, output.size(2))"
   ]
  },
  {
   "cell_type": "code",
   "execution_count": 33,
   "id": "a0a61eeb-7cf3-431c-8289-e242b9eee1d5",
   "metadata": {},
   "outputs": [],
   "source": [
    "# 하이퍼 파라미터 설정\n",
    "vocab_size = len(word2index)\n",
    "input_size = 5\n",
    "hidden_size = 20"
   ]
  },
  {
   "cell_type": "code",
   "execution_count": 34,
   "id": "afb479a7-37cc-4714-9085-ea6ce10b9fb3",
   "metadata": {},
   "outputs": [],
   "source": [
    "# 모델 생성\n",
    "model = Net(vocab_size, input_size, hidden_size, batch_first=True)\n",
    "\n",
    "# 손실함수 정의\n",
    "loss_function = nn.CrossEntropyLoss()\n",
    "\n",
    "# 옵티마이저 정의\n",
    "optimizer = optim.Adam(params = model.parameters())"
   ]
  },
  {
   "cell_type": "code",
   "execution_count": 35,
   "id": "7617f9be-060a-4016-b6cb-99a8ff4d45c4",
   "metadata": {},
   "outputs": [
    {
     "name": "stdout",
     "output_type": "stream",
     "text": [
      "tensor([[ 0.0866, -0.1305, -0.1956,  0.0122,  0.0631,  0.0554,  0.1262, -0.0755],\n",
      "        [-0.2107, -0.0824,  0.0587,  0.0621, -0.1442, -0.1231,  0.1131, -0.3176],\n",
      "        [ 0.2743, -0.4139,  0.0957, -0.1013, -0.0333, -0.0693,  0.0624,  0.1643],\n",
      "        [ 0.2008, -0.3720, -0.0981, -0.0104,  0.1004, -0.2586, -0.1132,  0.1261],\n",
      "        [ 0.2625,  0.0938, -0.2225, -0.0737, -0.0582,  0.2045,  0.0414, -0.1901],\n",
      "        [ 0.2627, -0.0088, -0.0251, -0.0085,  0.1476,  0.0650,  0.0800, -0.2306]],\n",
      "       grad_fn=<ViewBackward0>)\n"
     ]
    }
   ],
   "source": [
    "# 모델에 입력을 넣어서 출력 확인\n",
    "# 임의로 예측해보기. 가중치는 전부 랜덤 초기화 된 상태\n",
    "output = model(X)\n",
    "print(output)"
   ]
  },
  {
   "cell_type": "code",
   "execution_count": 36,
   "id": "1cb18a65-88f2-4480-8c72-23755f5fbfa4",
   "metadata": {},
   "outputs": [
    {
     "name": "stdout",
     "output_type": "stream",
     "text": [
      "torch.Size([6, 8])\n"
     ]
    }
   ],
   "source": [
    "# 현재 가중치는 랜덤 초기화되어 있어 의미있는 예측값은 아니다.\n",
    "# 예측값의 크기 확인\n",
    "print(output.shape)"
   ]
  },
  {
   "cell_type": "markdown",
   "id": "2bfb3db1-acc8-442d-926c-6eb7755739c9",
   "metadata": {},
   "source": [
    "- 예측값의 크기(6, 8) : 각각 (시퀀스의 길이, 단어장의 크기)에 해당\n",
    "- 모델은 훈련시키기 전에 예측을 제대로 하고 있는지 예측된 정수 시퀀스를 다시 단어 시퀀스로 바꾸는 **decode** 함수 만들기"
   ]
  },
  {
   "cell_type": "code",
   "execution_count": 37,
   "id": "659d8e71-f5b5-4636-8b75-c04afaff23b7",
   "metadata": {},
   "outputs": [],
   "source": [
    "# 수치화된 데이터를 단어로 전환하는 함수\n",
    "decode = lambda y : [index2word.get(x) for x in y]"
   ]
  },
  {
   "cell_type": "code",
   "execution_count": 40,
   "id": "c6f209fe-a84d-4f18-bcd2-12661273461c",
   "metadata": {},
   "outputs": [
    {
     "name": "stdout",
     "output_type": "stream",
     "text": [
      "[01/201] 2.0867\n",
      "Repeat medicine medicine <unk> <unk> <unk> <unk>\n",
      "\n",
      "[41/201] 1.5185\n",
      "Repeat is the medicine medicine for memory\n",
      "\n",
      "[81/201] 0.8788\n",
      "Repeat is the best medicine for memory\n",
      "\n",
      "[121/201] 0.4340\n",
      "Repeat is the best medicine for memory\n",
      "\n",
      "[161/201] 0.2270\n",
      "Repeat is the best medicine for memory\n",
      "\n",
      "[201/201] 0.1312\n",
      "Repeat is the best medicine for memory\n",
      "\n"
     ]
    }
   ],
   "source": [
    "# 훈련시작\n",
    "for step in range(201) : \n",
    "    optimizer.zero_grad()\n",
    "    output = model(X)\n",
    "    loss = loss_function(output, Y.view(-1))\n",
    "    loss.backward()\n",
    "    optimizer.step()\n",
    "    if step % 40 == 0:\n",
    "        print(\"[{:02d}/201] {:.4f}\".format(step+1, loss))\n",
    "        pred = output.softmax(-1).argmax(-1).tolist()\n",
    "        print(\" \" .join([\"Repeat\"] + decode(pred)))\n",
    "        print()"
   ]
  }
 ],
 "metadata": {
  "kernelspec": {
   "display_name": "Python 3 (ipykernel)",
   "language": "python",
   "name": "python3"
  },
  "language_info": {
   "codemirror_mode": {
    "name": "ipython",
    "version": 3
   },
   "file_extension": ".py",
   "mimetype": "text/x-python",
   "name": "python",
   "nbconvert_exporter": "python",
   "pygments_lexer": "ipython3",
   "version": "3.10.2"
  }
 },
 "nbformat": 4,
 "nbformat_minor": 5
}
