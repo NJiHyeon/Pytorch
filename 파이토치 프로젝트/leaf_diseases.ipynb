{
 "cells": [
  {
   "cell_type": "markdown",
   "id": "52617221-ea34-43f4-9496-7e1b6210c597",
   "metadata": {},
   "source": [
    "### 1. 실험 설계를 위한 데이터 분할"
   ]
  },
  {
   "cell_type": "markdown",
   "id": "61800cc5-c06c-4cf9-8fd2-5d3d2747aa97",
   "metadata": {},
   "source": [
    "#### 1) 데이터 분할을 위한 폴더 생성"
   ]
  },
  {
   "cell_type": "code",
   "execution_count": 2,
   "id": "9a90731e-eeab-42af-987a-ba3f139e9ad3",
   "metadata": {},
   "outputs": [],
   "source": [
    "import os\n",
    "import shutil\n",
    "\n",
    "original_dataset_dir = './leaf_data'\n",
    "classes_list = os.listdir(original_dataset_dir)\n",
    "\n",
    "base_dir = './splitted'\n",
    "os.mkdir(base_dir)\n",
    "\n",
    "train_dir = os.path.join(base_dir, 'train')\n",
    "os.mkdir(train_dir)\n",
    "validation_dir = os.path.join(base_dir, 'val')\n",
    "os.mkdir(validation_dir)\n",
    "test_dir = os.path.join(base_dir, 'test')\n",
    "os.mkdir(test_dir)\n",
    "\n",
    "for clss in classes_list :\n",
    "    os.mkdir(os.path.join(train_dir, clss))\n",
    "    os.mkdir(os.path.join(validation_dir, clss))\n",
    "    os.mkdir(os.path.join(test_dir, clss))"
   ]
  },
  {
   "cell_type": "markdown",
   "id": "017911b5-4282-4641-92e4-702103ae5f88",
   "metadata": {},
   "source": [
    "#### 2) 데이터 분할과 클래스별 데이터 수 확인"
   ]
  },
  {
   "cell_type": "markdown",
   "id": "adcf81f0-317f-4e56-a24d-de7f11cb6c0d",
   "metadata": {},
   "source": [
    "- math.floor : 소수점 버림"
   ]
  },
  {
   "cell_type": "code",
   "execution_count": 16,
   "id": "54da119d-ff3e-4828-93a3-0f97452e1c24",
   "metadata": {},
   "outputs": [
    {
     "name": "stdout",
     "output_type": "stream",
     "text": [
      "Train size( Pepper,_bell___healthy ) :  886\n",
      "Validation size( Pepper,_bell___healthy ): 295\n",
      "Test size( Pepper,_bell___healthy ): 295\n",
      "Train size( Grape___Esca_(Black_Measles) ) :  829\n",
      "Validation size( Grape___Esca_(Black_Measles) ): 276\n",
      "Test size( Grape___Esca_(Black_Measles) ): 276\n",
      "Train size( Pepper,_bell___Bacterial_spot ) :  598\n",
      "Validation size( Pepper,_bell___Bacterial_spot ): 199\n",
      "Test size( Pepper,_bell___Bacterial_spot ): 199\n",
      "Train size( Strawberry___healthy ) :  273\n",
      "Validation size( Strawberry___healthy ): 91\n",
      "Test size( Strawberry___healthy ): 91\n",
      "Train size( Grape___Black_rot ) :  708\n",
      "Validation size( Grape___Black_rot ): 236\n",
      "Test size( Grape___Black_rot ): 236\n",
      "Train size( Corn___Common_rust ) :  715\n",
      "Validation size( Corn___Common_rust ): 238\n",
      "Test size( Corn___Common_rust ): 238\n",
      "Train size( Apple___Apple_scab ) :  378\n",
      "Validation size( Apple___Apple_scab ): 126\n",
      "Test size( Apple___Apple_scab ): 126\n",
      "Train size( Potato___healthy ) :  91\n",
      "Validation size( Potato___healthy ): 30\n",
      "Test size( Potato___healthy ): 30\n",
      "Train size( Potato___Late_blight ) :  600\n",
      "Validation size( Potato___Late_blight ): 200\n",
      "Test size( Potato___Late_blight ): 200\n",
      "Train size( Cherry___healthy ) :  512\n",
      "Validation size( Cherry___healthy ): 170\n",
      "Test size( Cherry___healthy ): 170\n",
      "Train size( Tomato___Bacterial_spot ) :  1276\n",
      "Validation size( Tomato___Bacterial_spot ): 425\n",
      "Test size( Tomato___Bacterial_spot ): 425\n",
      "Train size( Apple___Black_rot ) :  372\n",
      "Validation size( Apple___Black_rot ): 124\n",
      "Test size( Apple___Black_rot ): 124\n",
      "Train size( Cherry___Powdery_mildew ) :  631\n",
      "Validation size( Cherry___Powdery_mildew ): 210\n",
      "Test size( Cherry___Powdery_mildew ): 210\n",
      "Train size( Corn___Cercospora_leaf_spot Gray_leaf_spot ) :  307\n",
      "Validation size( Corn___Cercospora_leaf_spot Gray_leaf_spot ): 102\n",
      "Test size( Corn___Cercospora_leaf_spot Gray_leaf_spot ): 102\n",
      "Train size( Peach___healthy ) :  216\n",
      "Validation size( Peach___healthy ): 72\n",
      "Test size( Peach___healthy ): 72\n",
      "Train size( Tomato___Early_blight ) :  600\n",
      "Validation size( Tomato___Early_blight ): 200\n",
      "Test size( Tomato___Early_blight ): 200\n",
      "Train size( Tomato___Tomato_Yellow_Leaf_Curl_Virus ) :  3214\n",
      "Validation size( Tomato___Tomato_Yellow_Leaf_Curl_Virus ): 1071\n",
      "Test size( Tomato___Tomato_Yellow_Leaf_Curl_Virus ): 1071\n",
      "Train size( Grape___Leaf_blight_(Isariopsis_Leaf_Spot) ) :  645\n",
      "Validation size( Grape___Leaf_blight_(Isariopsis_Leaf_Spot) ): 215\n",
      "Test size( Grape___Leaf_blight_(Isariopsis_Leaf_Spot) ): 215\n",
      "Train size( Potato___Early_blight ) :  600\n",
      "Validation size( Potato___Early_blight ): 200\n",
      "Test size( Potato___Early_blight ): 200\n",
      "Train size( Grape___healthy ) :  253\n",
      "Validation size( Grape___healthy ): 84\n",
      "Test size( Grape___healthy ): 84\n",
      "Train size( Apple___Cedar_apple_rust ) :  165\n",
      "Validation size( Apple___Cedar_apple_rust ): 55\n",
      "Test size( Apple___Cedar_apple_rust ): 55\n",
      "Train size( Corn___Northern_Leaf_Blight ) :  591\n",
      "Validation size( Corn___Northern_Leaf_Blight ): 197\n",
      "Test size( Corn___Northern_Leaf_Blight ): 197\n",
      "Train size( Tomato___Septoria_leaf_spot ) :  1062\n",
      "Validation size( Tomato___Septoria_leaf_spot ): 354\n",
      "Test size( Tomato___Septoria_leaf_spot ): 354\n",
      "Train size( Corn___healthy ) :  697\n",
      "Validation size( Corn___healthy ): 232\n",
      "Test size( Corn___healthy ): 232\n",
      "Train size( Tomato___Tomato_mosaic_virus ) :  223\n",
      "Validation size( Tomato___Tomato_mosaic_virus ): 74\n",
      "Test size( Tomato___Tomato_mosaic_virus ): 74\n",
      "Train size( Tomato___Leaf_Mold ) :  571\n",
      "Validation size( Tomato___Leaf_Mold ): 190\n",
      "Test size( Tomato___Leaf_Mold ): 190\n",
      "Train size( Tomato___Late_blight ) :  1145\n",
      "Validation size( Tomato___Late_blight ): 381\n",
      "Test size( Tomato___Late_blight ): 381\n",
      "Train size( Tomato___healthy ) :  954\n",
      "Validation size( Tomato___healthy ): 318\n",
      "Test size( Tomato___healthy ): 318\n",
      "Train size( Tomato___Spider_mites Two-spotted_spider_mite ) :  1005\n",
      "Validation size( Tomato___Spider_mites Two-spotted_spider_mite ): 335\n",
      "Test size( Tomato___Spider_mites Two-spotted_spider_mite ): 335\n",
      "Train size( Apple___healthy ) :  987\n",
      "Validation size( Apple___healthy ): 329\n",
      "Test size( Apple___healthy ): 329\n",
      "Train size( Tomato___Target_Spot ) :  842\n",
      "Validation size( Tomato___Target_Spot ): 280\n",
      "Test size( Tomato___Target_Spot ): 280\n",
      "Train size( Peach___Bacterial_spot ) :  1378\n",
      "Validation size( Peach___Bacterial_spot ): 459\n",
      "Test size( Peach___Bacterial_spot ): 459\n",
      "Train size( .ipynb_checkpoints ) :  0\n",
      "Validation size( .ipynb_checkpoints ): 0\n",
      "Test size( .ipynb_checkpoints ): 0\n",
      "Train size( Strawberry___Leaf_scorch ) :  665\n",
      "Validation size( Strawberry___Leaf_scorch ): 221\n",
      "Test size( Strawberry___Leaf_scorch ): 221\n"
     ]
    }
   ],
   "source": [
    "import math\n",
    "\n",
    "for clss in classes_list :\n",
    "    path = os.path.join(original_dataset_dir, clss)\n",
    "    # path 위치에 존재하는 모든 이미지 파일의 목록을 변수 fnames에 저장\n",
    "    fnames = os.listdir(path)\n",
    "    \n",
    "    train_size = math.floor(len(fnames) * 0.6)\n",
    "    validation_size =math.floor(len(fnames) * 0.2)\n",
    "    test_size = math.floor(len(fnames) * 0.2)\n",
    "    \n",
    "    # train 데이터에 해당하는 파일의 이름을 train_fnames에 저장\n",
    "    train_fnames = fnames[:train_size]\n",
    "    print('Train size(',clss,') : ', len(train_fnames))\n",
    "    for fname in train_fnames :\n",
    "        # 복사할 원본 파일의 경로를 지정\n",
    "        src = os.path.join(path, fname)\n",
    "        # 복사한 후 저장할 파일의 경로를 지정\n",
    "        dst = os.path.join(os.path.join(train_dir, clss), fname)\n",
    "        # src의 경로에 해당하는 파일을 dst의 경로에 저장\n",
    "        shutil.copyfile(src, dst)\n",
    "    \n",
    "    validation_fnames = fnames[train_size : (validation_size + train_size)]\n",
    "    print('Validation size(',clss,'):', len(validation_fnames))\n",
    "    for fname in validation_fnames :\n",
    "        src = os.path.join(path, fname)\n",
    "        dst = os.path.join(os.path.join(validation_dir, clss), fname)\n",
    "        shutil.copyfile(src, dst)\n",
    "    \n",
    "    test_fnames = fnames[(train_size + validation_size) : (train_size + validation_size + test_size)]\n",
    "    print('Test size(',clss,'):', len(test_fnames))\n",
    "    for fname in test_fnames :\n",
    "        src = os.path.join(path, fname)\n",
    "        dst = os.path.join(os.path.join(test_dir, clss), fname)\n",
    "        shutil.copyfile(src, dst)"
   ]
  },
  {
   "cell_type": "markdown",
   "id": "f3ea1eac-1062-42c8-887a-5794b717994d",
   "metadata": {},
   "source": [
    "- 디버깅 "
   ]
  },
  {
   "cell_type": "code",
   "execution_count": 13,
   "id": "a1009ec1-24ab-4631-8e1f-f8140e40294b",
   "metadata": {},
   "outputs": [
    {
     "name": "stdout",
     "output_type": "stream",
     "text": [
      "/home/ubuntu/nozzi/pytorch/프로젝트/leaf_diseases/leaf_data/Strawberry___Leaf_scorch\n"
     ]
    }
   ],
   "source": [
    "cd /home/ubuntu/nozzi/pytorch/프로젝트/leaf_diseases/leaf_data/Strawberry___Leaf_scorch"
   ]
  },
  {
   "cell_type": "code",
   "execution_count": 14,
   "id": "c1b94594-8bf8-47a6-96f5-806c9abe0e4c",
   "metadata": {},
   "outputs": [],
   "source": [
    "rm -rf .ipynb_checkpoints"
   ]
  },
  {
   "cell_type": "code",
   "execution_count": 15,
   "id": "4958f9f9-9c2c-4350-bdc2-aeac289f7282",
   "metadata": {},
   "outputs": [
    {
     "name": "stdout",
     "output_type": "stream",
     "text": [
      "/home/ubuntu/nozzi/pytorch/프로젝트/leaf_diseases\n"
     ]
    }
   ],
   "source": [
    "cd /home/ubuntu/nozzi/pytorch/프로젝트/leaf_diseases"
   ]
  },
  {
   "cell_type": "markdown",
   "id": "2478f37e-7fc0-4829-ba7d-1486a1b1493d",
   "metadata": {},
   "source": [
    "#### 3) 베이스라인 모델 학습을 위한 준비"
   ]
  },
  {
   "cell_type": "markdown",
   "id": "be5668bf-4f38-4a43-8cf1-16f8584cc214",
   "metadata": {},
   "source": [
    "- transforms.compose() : 이미지 데이터의 전처리, Augmentation 등의 과정에서 사용되는 메서드\n",
    "        - Augmentation\n",
    "            - 이미지 데이터의 Augmentation 종류 : 좌우반전, 밝기조절, 이미지 확대 등\n",
    "            - Augmentation을 통해 이미지에 노이즈를 주어 더욱 강건한 모델 만들 수 있다.\n",
    "    - transform.Resize([64, 64]) : 이미지 크기를 64*64로 조정\n",
    "    - transform.ToTensor() : 이미지를 텐서 형태로 변환하고, 모든 값을 0에서 1 사이로 정규화  "
   ]
  },
  {
   "cell_type": "markdown",
   "id": "e050b0b8-b5ef-4c83-bb22-1af9c0dc311f",
   "metadata": {},
   "source": [
    "- ImageFolder : 데이터셋을 불러오는 메서드\n",
    "    - 하나의 클래스가 하나의 폴더에 대응되는 구조의 데이터셋을 불러올 때 ImageFolder 메서드를 활용\n",
    "    - transform 옵션 : 데이터를 불러온 후, 전처리 또는 Augmentation을 할 방법을 지정한다.(앞서 정의한 옵션으로 지정)"
   ]
  },
  {
   "cell_type": "markdown",
   "id": "388b2fab-140c-4ce5-9742-7e177c9f5ec1",
   "metadata": {},
   "source": [
    "- DataLoader : 불러온 이미지 데이터를 주어진 조건에 따라 미니 배치 단위로 분리하는 역할을 수행"
   ]
  },
  {
   "cell_type": "code",
   "execution_count": 1,
   "id": "4725f0fb-dfd3-4126-92b3-7dd2c28fca08",
   "metadata": {},
   "outputs": [],
   "source": [
    "import torch\n",
    "\n",
    "USE_CUDA = torch.cuda.is_available()\n",
    "DEVICE = torch.device('cuda' if USE_CUDA else 'cpu')\n",
    "BATCH_SIZE = 256\n",
    "EPOCH = 30\n",
    "\n",
    "\n",
    "import torchvision.transforms as transforms\n",
    "from torchvision.datasets import ImageFolder\n",
    "transform_base = transforms.Compose([transforms.Resize((64, 64)),\n",
    "                                     transforms.ToTensor()])\n",
    "train_dataset = ImageFolder(root='./splitted/train',\n",
    "                            transform = transform_base)\n",
    "val_dataset = ImageFolder(root='./splitted/val',\n",
    "                         transform = transform_base)\n",
    "\n",
    "\n",
    "from torch.utils.data import DataLoader\n",
    "train_loader = torch.utils.data.DataLoader(train_dataset,\n",
    "                                           batch_size = BATCH_SIZE, shuffle=True,\n",
    "                                           num_workers=4)\n",
    "val_loader = torch.utils.data.DataLoader(val_dataset,\n",
    "                                           batch_size = BATCH_SIZE, shuffle=True,\n",
    "                                           num_workers=4)"
   ]
  },
  {
   "cell_type": "code",
   "execution_count": 2,
   "id": "c0f615bc-8a10-48da-b530-3f4d439fc120",
   "metadata": {},
   "outputs": [
    {
     "name": "stdout",
     "output_type": "stream",
     "text": [
      "/home/ubuntu/nozzi/pytorch/프로젝트/leaf_diseases/splitted/train\n"
     ]
    }
   ],
   "source": [
    "cd /home/ubuntu/nozzi/pytorch/프로젝트/leaf_diseases/splitted/train"
   ]
  },
  {
   "cell_type": "code",
   "execution_count": 3,
   "id": "0030e7fc-c775-4bcc-802f-df06fcfd4c64",
   "metadata": {},
   "outputs": [],
   "source": [
    "rm -rf .ipynb_checkpoints"
   ]
  },
  {
   "cell_type": "code",
   "execution_count": 4,
   "id": "c6188ce0-2e68-4166-8d2b-2e54c9653cdc",
   "metadata": {},
   "outputs": [
    {
     "name": "stdout",
     "output_type": "stream",
     "text": [
      "/home/ubuntu/nozzi/pytorch/프로젝트/leaf_diseases/splitted/val\n"
     ]
    }
   ],
   "source": [
    "cd /home/ubuntu/nozzi/pytorch/프로젝트/leaf_diseases/splitted/val"
   ]
  },
  {
   "cell_type": "code",
   "execution_count": 5,
   "id": "10e98556-3ec1-4a94-9ab8-c106417bbb25",
   "metadata": {},
   "outputs": [],
   "source": [
    "rm -rf .ipynb_checkpoints"
   ]
  },
  {
   "cell_type": "code",
   "execution_count": 6,
   "id": "6f55d935-6c8e-45d4-8d91-015c6ce0d621",
   "metadata": {},
   "outputs": [
    {
     "name": "stdout",
     "output_type": "stream",
     "text": [
      "/home/ubuntu/nozzi/pytorch/프로젝트/leaf_diseases\n"
     ]
    }
   ],
   "source": [
    "cd /home/ubuntu/nozzi/pytorch/프로젝트/leaf_diseases"
   ]
  },
  {
   "cell_type": "code",
   "execution_count": 7,
   "id": "4458a047-2aa7-42d2-9acb-36128b49103c",
   "metadata": {},
   "outputs": [
    {
     "name": "stdout",
     "output_type": "stream",
     "text": [
      "/home/ubuntu/nozzi/pytorch/프로젝트/leaf_diseases/splitted/test\n"
     ]
    }
   ],
   "source": [
    "cd /home/ubuntu/nozzi/pytorch/프로젝트/leaf_diseases/splitted/test"
   ]
  },
  {
   "cell_type": "code",
   "execution_count": 8,
   "id": "99119838-d324-4bd9-a0d1-09da69b30562",
   "metadata": {},
   "outputs": [],
   "source": [
    "rm -rf .ipynb_checkpoints"
   ]
  },
  {
   "cell_type": "code",
   "execution_count": 9,
   "id": "8a5ef101-09e0-4799-8d90-b3fe16842473",
   "metadata": {},
   "outputs": [
    {
     "name": "stdout",
     "output_type": "stream",
     "text": [
      "/home/ubuntu/nozzi/pytorch/프로젝트/leaf_diseases\n"
     ]
    }
   ],
   "source": [
    "cd /home/ubuntu/nozzi/pytorch/프로젝트/leaf_diseases"
   ]
  },
  {
   "cell_type": "markdown",
   "id": "200404b7-fa18-482a-a809-48df8acc4168",
   "metadata": {},
   "source": [
    "### 2. 베이스라인 모델 설계"
   ]
  },
  {
   "cell_type": "markdown",
   "id": "797073b0-a1ba-4cd5-a646-5c09ded23b0a",
   "metadata": {},
   "source": [
    "#### 1) 베이스라인 모델 설계"
   ]
  },
  {
   "cell_type": "markdown",
   "id": "cd3476ba-02cb-479c-a9e2-e147e566eaec",
   "metadata": {},
   "source": [
    "- **nn.Moduel**\n",
    "\n",
    "    - 딥러닝 모델과 관련된 기본 함수를 포함하는 클래스 상속\n",
    "    - 상속을 통해 nn.Module 클래스에 있는 여러 메서드를 사용할 수 있다.\n",
    "    - 클래스 내부의 __init__ 함수\n",
    "        - 모델에서 사용할 모든 Layer를 정의한다. \n",
    "        - super()를 통해 nn.Module 내에 있는 메서드를 상속받아 사용한다.\n",
    "        \n",
    "- **Conv2d(입력 채널 수, 출력 채널 수, 커널 크기, stride, padding..)**\n",
    "\n",
    "- **MaxPooling(커널 크기, Stride)**\n",
    "\n",
    "- **forward 함수**\n",
    "    - 모델이 학습 데이터를 입력받아 Forward Propagation을 실행시켜 Output을 계산하는 과정을 정의\n",
    "    \n",
    "- **ReLU()**\n",
    "    - Convolution 연산을 통해 생성된 Feature Map 값에 비선형 활성함수 적용\n",
    "    \n",
    "- **Dropout**\n",
    "    - training = self.training 부분은 학습 모드일 때와 검증 모드일 때 각각 다르게 적용되기 위해 존재\n",
    "    - 학습 과정에서는 드롭아웃을 적용하지만, 평가 과정에서는 적용하지 않는다.\n",
    "    \n",
    "- **Softmax()**\n",
    "    - 각 클래스에 속할 확률을 output으로 출력\n",
    "    \n",
    "- **model_base = Net().to(DEVICE)**\n",
    "    - 정의한 CNN 모델 Net()의 새로운 객체 생성"
   ]
  },
  {
   "cell_type": "code",
   "execution_count": 11,
   "id": "d86a837b-7110-47ad-acd1-607072ef7bd3",
   "metadata": {},
   "outputs": [],
   "source": [
    "import torch.nn as nn\n",
    "import torch.nn.functional as F\n",
    "import torch.optim as optim\n",
    "\n",
    "class Net(nn.Module) :\n",
    "    def __init__(self) :\n",
    "        super(Net, self).__init__()\n",
    "        self.conv1 = nn.Conv2d(3, 32, 3, padding=1)\n",
    "        self.pool = nn.MaxPool2d(2, 2)\n",
    "        self.conv2 = nn.Conv2d(32, 64, 3, padding=1)\n",
    "        self.conv3 = nn.Conv2d(64, 64, 3, padding=1)\n",
    "        # x.view 후의 출력 채널 수와 같다.\n",
    "        self.fc1 = nn.Linear(4096, 512)\n",
    "        self.fc2 = nn.Linear(512, 33)\n",
    "        \n",
    "    def forward(self, x) :\n",
    "        x = self.conv1(x)\n",
    "        x = F.relu(x)\n",
    "        x = self.pool(x)\n",
    "        x = F.dropout(x, p=0.25, training=self.training)\n",
    "        \n",
    "        x = self.conv2(x)\n",
    "        x = F.relu(x)\n",
    "        x = self.pool(x)\n",
    "        x = F.dropout(x, p=0.25, training=self.training)\n",
    "        \n",
    "        x = self.conv3(x)\n",
    "        x = F.relu(x)\n",
    "        x = self.pool(x)\n",
    "        x = F.dropout(x, p=0.25, training=self.training)\n",
    "        \n",
    "        x = x.view(-1, 4096)\n",
    "        x = self.fc1(x)\n",
    "        x = F.relu(x)\n",
    "        x = F.dropout(x, p=0.5, training=self.training)\n",
    "        x = self.fc2(x)\n",
    "        \n",
    "        return F.log_softmax(x, dim=1)\n",
    "    \n",
    "model_base = Net().to(DEVICE)\n",
    "optimizer = optim.Adam(model_base.parameters(), lr=0.001)"
   ]
  },
  {
   "cell_type": "markdown",
   "id": "084015bb-a7d0-4308-bb97-cee0b56d211a",
   "metadata": {},
   "source": [
    "#### 2) 모델 학습을 위한 함수"
   ]
  },
  {
   "cell_type": "code",
   "execution_count": 12,
   "id": "fb1a62a1-22ce-4630-a2e5-42d36888e9cc",
   "metadata": {},
   "outputs": [],
   "source": [
    "def train(model, train_lodaer, optimizer) :\n",
    "    # 입력받는 모델을 학습 모드로 설정\n",
    "    model.train()\n",
    "    \n",
    "    # train_loader에는 (data, target) 형태가 미니 배치 단위로 묶여 있다.\n",
    "    # train_loader에 enumerate() 함수를 적용하여 아래와 같은 형태로 반복 가능한 객체가 생성되어 for문 실행\n",
    "    for batch_idx, (data, target) in enumerate(train_loader) :\n",
    "        data, target = data.to(DEVICE), target.to(DEVICE)\n",
    "        optimizer.zero_grad()\n",
    "        output = model(data)\n",
    "        loss = F.cross_entropy(output, target)\n",
    "        # loss값을 바탕으로 Back Propagation을 통해 계산한 Gradient값을 각 parameter에 할당\n",
    "        loss.backward()\n",
    "        # parameter 업데이트\n",
    "        optimizer.step()"
   ]
  },
  {
   "cell_type": "code",
   "execution_count": 13,
   "id": "e66ac73d-808e-4d60-afd1-4a29f1d6d90f",
   "metadata": {},
   "outputs": [],
   "source": [
    "input = torch.randn(3, 64, 64)\n",
    "model = Net()\n",
    "for batch_idx, (data, target) in enumerate(train_loader) :\n",
    "    output = model(data)\n",
    "    loss = F.cross_entropy(output, target)"
   ]
  },
  {
   "cell_type": "code",
   "execution_count": 14,
   "id": "bd7a2ec4-a046-4dab-a9ee-a46fee88d539",
   "metadata": {},
   "outputs": [
    {
     "name": "stdout",
     "output_type": "stream",
     "text": [
      "torch.Size([182, 33])\n"
     ]
    },
    {
     "data": {
      "text/plain": [
       "torch.Size([6006])"
      ]
     },
     "execution_count": 14,
     "metadata": {},
     "output_type": "execute_result"
    }
   ],
   "source": [
    "print(output.shape)\n",
    "b = output.view(-1)\n",
    "b.shape"
   ]
  },
  {
   "cell_type": "markdown",
   "id": "c3a964b8-16b5-4efa-9dc3-e803a1f5a0d5",
   "metadata": {},
   "source": [
    "#### 3) 모델 평가를 위한 함수"
   ]
  },
  {
   "cell_type": "markdown",
   "id": "58564593-e024-4bfa-a334-e68647987db1",
   "metadata": {},
   "source": [
    "- (target.view_as(pred)\n",
    "   - target tensor의 구조를 pred tensor와 같은 모양으로 정렬\n",
    "   - view() : 정렬하고 싶은 tensor의 모양을 숫자로 직접 지정\n",
    "   - target.shape : torch.Size([182])\n",
    "   - pred.shape : torch.Size([182, 1])"
   ]
  },
  {
   "cell_type": "code",
   "execution_count": 16,
   "id": "a7dd471d-fbf2-40cb-82d4-9cc0ab02b7fc",
   "metadata": {},
   "outputs": [],
   "source": [
    "def evaluate(model, test_loader) :\n",
    "    model.eval()\n",
    "    test_loss = 0\n",
    "    correct = 0\n",
    "    \n",
    "    with torch.no_grad() :\n",
    "        for data, target in test_loader : \n",
    "            data, target = data.to(DEVICE), target.to(DEVICE)\n",
    "            output = model(data)\n",
    "            \n",
    "            test_loss += F.cross_entropy(output, target, reduction='sum').item()\n",
    "            \n",
    "            pred = output.max(1, keepdim=True)[1]\n",
    "            correct += pred.eq(target.view_as(pred)).sum().item()\n",
    "            \n",
    "    test_loss /= len(test_loader.dataset)\n",
    "    test_accuracy = 100. * correct / len(test_loader.dataset)\n",
    "    return test_loss, test_accuracy"
   ]
  },
  {
   "cell_type": "markdown",
   "id": "8d5ca30f-9082-4e61-bc05-cf0888c19df0",
   "metadata": {},
   "source": [
    "#### 4) 모델 학습 실행하기"
   ]
  },
  {
   "cell_type": "markdown",
   "id": "de5e3163-6d32-4744-a34e-60ef7399dd22",
   "metadata": {},
   "source": [
    "- copy.deepcopy(model.state_dict())\n",
    "    - 만약 (검증 손실(validation loss) 결과에 따라) 가장 성능이 좋은 모델만 유지할 계획이라면, \n",
    "    - best_model_state = model.state_dict() 은 모델의 복사본이 아닌 모델의 현재 상태에 대한 참조(reference)만 반환한다는 사실을 잊으시면 안됨 !\n",
    "    - 따라서 best_model_state 을 직렬화(serialize)하거나, best_model_state = deepcopy(model.state_dict()) 을 사용해야 한다.\n",
    "    - 그렇지 않으면, 제일 좋은 성능을 내는 best_model_state 은 계속되는 학습 단계에서 갱신될 것입니다. 결과적으로, 최종 모델의 상태는 과적합(overfit)된 상태가 됩니다."
   ]
  },
  {
   "cell_type": "code",
   "execution_count": 10,
   "id": "b808cf51-9fbe-40b9-b3b6-8c21a2ad32a0",
   "metadata": {},
   "outputs": [
    {
     "name": "stdout",
     "output_type": "stream",
     "text": [
      "Thu Dec 29 18:38:40 2022       \n",
      "+-----------------------------------------------------------------------------+\n",
      "| NVIDIA-SMI 470.57.02    Driver Version: 470.57.02    CUDA Version: 11.4     |\n",
      "|-------------------------------+----------------------+----------------------+\n",
      "| GPU  Name        Persistence-M| Bus-Id        Disp.A | Volatile Uncorr. ECC |\n",
      "| Fan  Temp  Perf  Pwr:Usage/Cap|         Memory-Usage | GPU-Util  Compute M. |\n",
      "|                               |                      |               MIG M. |\n",
      "|===============================+======================+======================|\n",
      "|   0  Tesla V100-SXM2...  On   | 00000000:00:05.0 Off |                  Off |\n",
      "| N/A   41C    P0    63W / 300W |   2703MiB / 32510MiB |      0%      Default |\n",
      "|                               |                      |                  N/A |\n",
      "+-------------------------------+----------------------+----------------------+\n",
      "|   1  Tesla V100-SXM2...  On   | 00000000:00:06.0 Off |                  Off |\n",
      "| N/A   36C    P0    38W / 300W |      3MiB / 32510MiB |      0%      Default |\n",
      "|                               |                      |                  N/A |\n",
      "+-------------------------------+----------------------+----------------------+\n",
      "|   2  Tesla V100-SXM2...  On   | 00000000:00:07.0 Off |                  Off |\n",
      "| N/A   35C    P0    40W / 300W |      2MiB / 32510MiB |      0%      Default |\n",
      "|                               |                      |                  N/A |\n",
      "+-------------------------------+----------------------+----------------------+\n",
      "                                                                               \n",
      "+-----------------------------------------------------------------------------+\n",
      "| Processes:                                                                  |\n",
      "|  GPU   GI   CI        PID   Type   Process name                  GPU Memory |\n",
      "|        ID   ID                                                   Usage      |\n",
      "|=============================================================================|\n",
      "|    0   N/A  N/A     27508      C   ...untu/anaconda3/bin/python     2701MiB |\n",
      "+-----------------------------------------------------------------------------+\n"
     ]
    }
   ],
   "source": [
    "!nvidia-smi"
   ]
  },
  {
   "cell_type": "code",
   "execution_count": 17,
   "id": "b457f3d5-d05c-48fb-9fc0-8db20e8223bb",
   "metadata": {},
   "outputs": [
    {
     "name": "stdout",
     "output_type": "stream",
     "text": [
      "------------------------epoch 1------------------------\n",
      "train Loss : 1.5898, Accuracy: 54.74%\n",
      "val Loss : 1.6060, Accuracy: 54.41%\n",
      "Completed in 0m 29s\n",
      "------------------------epoch 2------------------------\n",
      "train Loss : 0.9711, Accuracy: 70.76%\n",
      "val Loss : 0.9914, Accuracy: 70.10%\n",
      "Completed in 0m 29s\n",
      "------------------------epoch 3------------------------\n",
      "train Loss : 0.7688, Accuracy: 76.13%\n",
      "val Loss : 0.8002, Accuracy: 74.56%\n",
      "Completed in 0m 29s\n",
      "------------------------epoch 4------------------------\n",
      "train Loss : 0.5314, Accuracy: 83.99%\n",
      "val Loss : 0.5684, Accuracy: 82.22%\n",
      "Completed in 0m 29s\n",
      "------------------------epoch 5------------------------\n",
      "train Loss : 0.4778, Accuracy: 85.35%\n",
      "val Loss : 0.5277, Accuracy: 83.09%\n",
      "Completed in 0m 29s\n",
      "------------------------epoch 6------------------------\n",
      "train Loss : 0.4422, Accuracy: 86.21%\n",
      "val Loss : 0.4959, Accuracy: 83.78%\n",
      "Completed in 0m 29s\n",
      "------------------------epoch 7------------------------\n",
      "train Loss : 0.3967, Accuracy: 87.46%\n",
      "val Loss : 0.4650, Accuracy: 84.67%\n",
      "Completed in 0m 29s\n",
      "------------------------epoch 8------------------------\n",
      "train Loss : 0.3410, Accuracy: 89.44%\n",
      "val Loss : 0.4108, Accuracy: 86.60%\n",
      "Completed in 0m 29s\n",
      "------------------------epoch 9------------------------\n",
      "train Loss : 0.3134, Accuracy: 90.27%\n",
      "val Loss : 0.3930, Accuracy: 87.17%\n",
      "Completed in 0m 29s\n",
      "------------------------epoch 10------------------------\n",
      "train Loss : 0.2700, Accuracy: 91.87%\n",
      "val Loss : 0.3528, Accuracy: 88.21%\n",
      "Completed in 0m 29s\n",
      "------------------------epoch 11------------------------\n",
      "train Loss : 0.2798, Accuracy: 90.99%\n",
      "val Loss : 0.3687, Accuracy: 87.69%\n",
      "Completed in 0m 29s\n",
      "------------------------epoch 12------------------------\n",
      "train Loss : 0.2169, Accuracy: 93.18%\n",
      "val Loss : 0.3114, Accuracy: 89.63%\n",
      "Completed in 0m 29s\n",
      "------------------------epoch 13------------------------\n",
      "train Loss : 0.2105, Accuracy: 93.32%\n",
      "val Loss : 0.3040, Accuracy: 90.44%\n",
      "Completed in 0m 29s\n",
      "------------------------epoch 14------------------------\n",
      "train Loss : 0.1773, Accuracy: 94.90%\n",
      "val Loss : 0.2811, Accuracy: 90.68%\n",
      "Completed in 0m 29s\n",
      "------------------------epoch 15------------------------\n",
      "train Loss : 0.1665, Accuracy: 95.26%\n",
      "val Loss : 0.2717, Accuracy: 91.24%\n",
      "Completed in 0m 29s\n",
      "------------------------epoch 16------------------------\n",
      "train Loss : 0.1602, Accuracy: 95.16%\n",
      "val Loss : 0.2725, Accuracy: 91.12%\n",
      "Completed in 0m 29s\n",
      "------------------------epoch 17------------------------\n",
      "train Loss : 0.1386, Accuracy: 96.19%\n",
      "val Loss : 0.2504, Accuracy: 91.92%\n",
      "Completed in 0m 29s\n",
      "------------------------epoch 18------------------------\n",
      "train Loss : 0.1137, Accuracy: 96.79%\n",
      "val Loss : 0.2290, Accuracy: 92.59%\n",
      "Completed in 0m 29s\n",
      "------------------------epoch 19------------------------\n",
      "train Loss : 0.1569, Accuracy: 95.16%\n",
      "val Loss : 0.2765, Accuracy: 90.55%\n",
      "Completed in 0m 29s\n",
      "------------------------epoch 20------------------------\n",
      "train Loss : 0.1157, Accuracy: 96.95%\n",
      "val Loss : 0.2347, Accuracy: 92.59%\n",
      "Completed in 0m 29s\n",
      "------------------------epoch 21------------------------\n",
      "train Loss : 0.1036, Accuracy: 97.27%\n",
      "val Loss : 0.2332, Accuracy: 92.50%\n",
      "Completed in 0m 29s\n",
      "------------------------epoch 22------------------------\n",
      "train Loss : 0.1173, Accuracy: 96.56%\n",
      "val Loss : 0.2468, Accuracy: 92.10%\n",
      "Completed in 0m 29s\n",
      "------------------------epoch 23------------------------\n",
      "train Loss : 0.0911, Accuracy: 97.66%\n",
      "val Loss : 0.2164, Accuracy: 92.98%\n",
      "Completed in 0m 29s\n",
      "------------------------epoch 24------------------------\n",
      "train Loss : 0.1045, Accuracy: 96.79%\n",
      "val Loss : 0.2373, Accuracy: 92.14%\n",
      "Completed in 0m 29s\n",
      "------------------------epoch 25------------------------\n",
      "train Loss : 0.0722, Accuracy: 98.21%\n",
      "val Loss : 0.2027, Accuracy: 93.58%\n",
      "Completed in 0m 29s\n",
      "------------------------epoch 26------------------------\n",
      "train Loss : 0.0819, Accuracy: 97.77%\n",
      "val Loss : 0.2200, Accuracy: 92.88%\n",
      "Completed in 0m 29s\n",
      "------------------------epoch 27------------------------\n",
      "train Loss : 0.0887, Accuracy: 97.41%\n",
      "val Loss : 0.2347, Accuracy: 92.30%\n",
      "Completed in 0m 29s\n",
      "------------------------epoch 28------------------------\n",
      "train Loss : 0.0671, Accuracy: 98.32%\n",
      "val Loss : 0.2031, Accuracy: 93.42%\n",
      "Completed in 0m 29s\n",
      "------------------------epoch 29------------------------\n",
      "train Loss : 0.0762, Accuracy: 97.87%\n",
      "val Loss : 0.2195, Accuracy: 93.00%\n",
      "Completed in 0m 29s\n",
      "------------------------epoch 30------------------------\n",
      "train Loss : 0.0681, Accuracy: 98.21%\n",
      "val Loss : 0.2098, Accuracy: 93.47%\n",
      "Completed in 0m 29s\n"
     ]
    }
   ],
   "source": [
    "import time\n",
    "import copy\n",
    "\n",
    "def train_baseline(model, train_loader, val_loader, optimizer, num_epochs=30) :\n",
    "    best_acc = 0.0\n",
    "    # 정확도가 가장 높은 모델을 저장할 변수 선언\n",
    "    best_model_wts = copy.deepcopy(model.state_dict())\n",
    "    \n",
    "    for epoch in range(1, num_epochs+1) :\n",
    "        # 한 epoch당 소요되는 시간을 측정하기 위해 epoch 시작할 때의 시각 저장\n",
    "        since = time.time()\n",
    "        # 모델 학습\n",
    "        train(model, train_loader, optimizer)\n",
    "        train_loss, train_acc = evaluate(model, train_loader)\n",
    "        val_loss, val_acc = evaluate(model, val_loader)\n",
    "        \n",
    "        # 현재 epoch의 검증 정확도가 최고 정확도보다 높다면 업데이트 & 해당 epoch의 모델 저장\n",
    "        if val_acc > best_acc :\n",
    "            best_acc = val_acc\n",
    "            best_model_wts = copy.deepcopy(model.state_dict())\n",
    "            \n",
    "        # 소요되는 시간 계산\n",
    "        time_elapsed = time.time() - since\n",
    "        print('------------------------epoch {}------------------------'.format(epoch))\n",
    "        print('train Loss : {:.4f}, Accuracy: {:.2f}%'\n",
    "              .format(train_loss, train_acc))\n",
    "        print('val Loss : {:.4f}, Accuracy: {:.2f}%'\n",
    "              .format(val_loss, val_acc))\n",
    "        print('Completed in {:.0f}m {:.0f}s'\n",
    "              .format(time_elapsed // 60, time_elapsed % 60))\n",
    "        \n",
    "\n",
    "    # 정확도가 가장 높은 모델을 불러온 뒤, 반환\n",
    "    model.load_state_dict(best_model_wts)\n",
    "    return model\n",
    "\n",
    "base = train_baseline(model_base, train_loader, val_loader, optimizer, EPOCH)\n",
    "torch.save(base, 'baseline.pt')"
   ]
  },
  {
   "cell_type": "markdown",
   "id": "40fb8ca0-d7e9-493e-8b89-386461ae03e0",
   "metadata": {
    "tags": []
   },
   "source": [
    "### 3. Transfer Learning"
   ]
  },
  {
   "cell_type": "markdown",
   "id": "c5ad576d-787a-45db-9f9c-22fb78ebb5a2",
   "metadata": {},
   "source": [
    "#### 1) Transfer Learning을 위한 준비(데이터)"
   ]
  },
  {
   "cell_type": "code",
   "execution_count": 18,
   "id": "41b93588-2e55-4711-8ee3-1be1b4bef51a",
   "metadata": {},
   "outputs": [],
   "source": [
    "import os\n",
    "import shutil\n",
    "\n",
    "data_transforms={\n",
    "    'train' : transforms.Compose([\n",
    "        transforms.Resize([64, 64]),\n",
    "        transforms.RandomHorizontalFlip(),\n",
    "        transforms.RandomVerticalFlip(),\n",
    "        transforms.RandomCrop(52),\n",
    "        transforms.ToTensor(),\n",
    "        transforms.Normalize([0.485, 0.456, 0.406],\n",
    "                             [0.229, 0.224, 0.225])\n",
    "    ]),\n",
    "    \n",
    "    'val' : transforms.Compose([\n",
    "        transforms.Resize([64, 64]),\n",
    "        transforms.RandomCrop(52),\n",
    "        transforms.ToTensor(),\n",
    "        transforms.Normalize([0.485, 0.456, 0.406],\n",
    "                             [0.229, 0.224, 0.225])\n",
    "    ])\n",
    "}\n",
    "\n",
    "data_dir = './splitted'\n",
    "image_datasets = {x : ImageFolder(root=os.path.join(data_dir, x), \n",
    "                                  transform=data_transforms[x])\n",
    "                  for x in ['train', 'val']}\n",
    "dataloaders = {x : torch.utils.data.DataLoader(image_datasets[x], batch_size = BATCH_SIZE, shuffle=True, num_workers=4)\n",
    "               for x in ['train', 'val']}\n",
    "\n",
    "dataset_sizes = {x : len(image_datasets[x]) for x in ['train', 'val']}\n",
    "class_names = image_datasets['train'].classes"
   ]
  },
  {
   "cell_type": "markdown",
   "id": "e9f9cd7b-1580-41a5-bf87-987dd6ca26cb",
   "metadata": {},
   "source": [
    "#### 2) Pre-trained Model 불러오기"
   ]
  },
  {
   "cell_type": "code",
   "execution_count": 19,
   "id": "5a5b7b6b-8ecf-45ce-8fec-e878a30a3ca1",
   "metadata": {},
   "outputs": [],
   "source": [
    "from torchvision import models\n",
    "\n",
    "resnet = models.resnet50(pretrained=True)\n",
    "num_ftrs = resnet.fc.in_features\n",
    "resnet.fc = nn.Linear(num_ftrs, 33)\n",
    "resnet = resnet.to(DEVICE)\n",
    "\n",
    "criterion = nn.CrossEntropyLoss()\n",
    "\n",
    "optimizer_ft = optim.Adam(filter(lambda p : p.requires_grad,\n",
    "                                 resnet.parameters()), lr=0.001)\n",
    "\n",
    "from torch.optim import lr_scheduler\n",
    "exp_lr_scheduler = lr_scheduler.StepLR(optimizer_ft, step_size=7, gamma=0.1)"
   ]
  },
  {
   "cell_type": "markdown",
   "id": "7277ba40-cebb-422c-a28d-cf7a888987d2",
   "metadata": {},
   "source": [
    "#### 3) Pre-trained Model의 일부 Layer Freeze"
   ]
  },
  {
   "cell_type": "markdown",
   "id": "e8f83365-1984-4feb-a073-cf28a2dcba23",
   "metadata": {},
   "source": [
    "- `children()` : 모델의 자식 모듈을 반복 가능한 객체로 반환하는 메서드\n",
    "- `resnet.children()` : 생성한 resnet 모델의 모든 layer 정보를 담고 있다.\n",
    "- `child.parameters()` : 각 layer의 parameter tensor\n",
    "    - 각 텐셔에는 `requires_grad` 옵션이 있고 디폴트 값은 True\n",
    "    - `requires_grad = False` : 파라미터 업데이트 되지 않도록"
   ]
  },
  {
   "cell_type": "code",
   "execution_count": 20,
   "id": "923d114c-cb19-4541-9495-3b7e478e9d74",
   "metadata": {},
   "outputs": [],
   "source": [
    "ct = 0\n",
    "for child in resnet.children() :\n",
    "    ct += 1\n",
    "    if ct < 6 :\n",
    "        for param in child.parameters() :\n",
    "            param.requires_grad = False"
   ]
  },
  {
   "cell_type": "markdown",
   "id": "601dd45b-bc19-4eaa-a6c4-35900dd982eb",
   "metadata": {},
   "source": [
    "#### 4) Transfer Learning 모델 학습과 검증을 위한 함수"
   ]
  },
  {
   "cell_type": "code",
   "execution_count": 32,
   "id": "7959823e-f177-4e88-bca1-0c83579c4984",
   "metadata": {},
   "outputs": [],
   "source": [
    "def train_resnet(model, criterion, optimizer, scheduler, num_epochs=25) :\n",
    "    \n",
    "    best_model_wts = copy.deepcopy(model.state_dict())\n",
    "    best_acc = 0.0\n",
    "    \n",
    "    for epoch in range(num_epochs) :\n",
    "        print('-----------------epoch {}-----------------'.format(epoch+1))\n",
    "        since = time.time()\n",
    "        \n",
    "        for phase in ['train', 'val'] :\n",
    "            if phase == 'train' :\n",
    "                model.train()\n",
    "            else :\n",
    "                model.eval()\n",
    "                \n",
    "            running_loss = 0.0\n",
    "            running_corrects = 0\n",
    "            \n",
    "            for inputs, labels in dataloaders[phase] :\n",
    "                inputs = inputs.to(DEVICE)\n",
    "                labels = labels.to(DEVICE)\n",
    "                \n",
    "                optimizer.zero_grad()\n",
    "                \n",
    "                with torch.set_grad_enabled(phase == 'train') :\n",
    "                    outputs = model(inputs)\n",
    "                    _, preds = torch.max(outputs, 1)\n",
    "                    loss = criterion(outputs, labels)\n",
    "                    if phase == 'train' :\n",
    "                        loss.backward()\n",
    "                        optimizer.step()\n",
    "                        \n",
    "                running_loss += loss.item() * inputs.size(0)\n",
    "                running_corrects += torch.sum(preds == labels.data)\n",
    "                \n",
    "            if phase == 'train' :\n",
    "                scheduler.step()\n",
    "                l_r = [x['lr'] for x in optimizer_ft.param_groups]\n",
    "                print('learning rate : ', l_r)\n",
    "                \n",
    "            epoch_loss = running_loss / dataset_sizes[phase]\n",
    "            epoch_acc = running_corrects.double()/dataset_sizes[phase]\n",
    "            \n",
    "            print('{} Loss : {:.4f} Acc : {:.4f}'.format(phase, epoch_loss, epoch_acc))\n",
    "            \n",
    "            if phase == 'val' and epoch_acc > best_acc :\n",
    "                best_acc = epoch_acc\n",
    "                best_model_wts = copy.deepcopy(model.state_dict())\n",
    "                \n",
    "        time_elapsed = time.time() - since\n",
    "        print('Completed in {:.0f}m {:.0f}s'.format(time_elapsed // 60, time_elapsed%60))\n",
    "            \n",
    "    print('Best val Acc : {:4f}'.format(best_acc))\n",
    "        \n",
    "    model.load_state_dict(best_model_wts)\n",
    "        \n",
    "    return model"
   ]
  },
  {
   "cell_type": "markdown",
   "id": "4b63cf71-c835-4242-b0b3-8a3ba824a1c4",
   "metadata": {},
   "source": [
    "#### 5) 모델 학습 실행하기"
   ]
  },
  {
   "cell_type": "code",
   "execution_count": 33,
   "id": "ed77cb03-85c6-4b1e-854b-88ee53185568",
   "metadata": {},
   "outputs": [
    {
     "name": "stdout",
     "output_type": "stream",
     "text": [
      "-----------------epoch 1-----------------\n",
      "learning rate :  [0.001]\n",
      "train Loss : 0.1276 Acc : 0.9591\n",
      "val Loss : 0.1640 Acc : 0.9498\n",
      "Completed in 0m 19s\n",
      "-----------------epoch 2-----------------\n",
      "learning rate :  [0.001]\n",
      "train Loss : 0.1148 Acc : 0.9637\n",
      "val Loss : 0.2473 Acc : 0.9240\n",
      "Completed in 0m 19s\n",
      "-----------------epoch 3-----------------\n",
      "learning rate :  [0.001]\n",
      "train Loss : 0.1104 Acc : 0.9640\n",
      "val Loss : 0.1690 Acc : 0.9492\n",
      "Completed in 0m 19s\n",
      "-----------------epoch 4-----------------\n",
      "learning rate :  [0.0001]\n",
      "train Loss : 0.0862 Acc : 0.9712\n",
      "val Loss : 0.0940 Acc : 0.9693\n",
      "Completed in 0m 19s\n",
      "-----------------epoch 5-----------------\n",
      "learning rate :  [0.0001]\n",
      "train Loss : 0.0438 Acc : 0.9856\n",
      "val Loss : 0.0489 Acc : 0.9840\n",
      "Completed in 0m 19s\n",
      "-----------------epoch 6-----------------\n",
      "learning rate :  [0.0001]\n",
      "train Loss : 0.0288 Acc : 0.9907\n",
      "val Loss : 0.0465 Acc : 0.9857\n",
      "Completed in 0m 19s\n",
      "-----------------epoch 7-----------------\n",
      "learning rate :  [0.0001]\n",
      "train Loss : 0.0238 Acc : 0.9919\n",
      "val Loss : 0.0414 Acc : 0.9876\n",
      "Completed in 0m 19s\n",
      "-----------------epoch 8-----------------\n",
      "learning rate :  [0.0001]\n",
      "train Loss : 0.0217 Acc : 0.9927\n",
      "val Loss : 0.0433 Acc : 0.9854\n",
      "Completed in 0m 19s\n",
      "-----------------epoch 9-----------------\n",
      "learning rate :  [0.0001]\n",
      "train Loss : 0.0197 Acc : 0.9933\n",
      "val Loss : 0.0374 Acc : 0.9881\n",
      "Completed in 0m 19s\n",
      "-----------------epoch 10-----------------\n",
      "learning rate :  [0.0001]\n",
      "train Loss : 0.0185 Acc : 0.9936\n",
      "val Loss : 0.0353 Acc : 0.9877\n",
      "Completed in 0m 19s\n",
      "-----------------epoch 11-----------------\n",
      "learning rate :  [1e-05]\n",
      "train Loss : 0.0163 Acc : 0.9947\n",
      "val Loss : 0.0354 Acc : 0.9882\n",
      "Completed in 0m 19s\n",
      "-----------------epoch 12-----------------\n",
      "learning rate :  [1e-05]\n",
      "train Loss : 0.0142 Acc : 0.9955\n",
      "val Loss : 0.0337 Acc : 0.9892\n",
      "Completed in 0m 19s\n",
      "-----------------epoch 13-----------------\n",
      "learning rate :  [1e-05]\n",
      "train Loss : 0.0141 Acc : 0.9957\n",
      "val Loss : 0.0361 Acc : 0.9892\n",
      "Completed in 0m 19s\n",
      "-----------------epoch 14-----------------\n",
      "learning rate :  [1e-05]\n",
      "train Loss : 0.0133 Acc : 0.9953\n",
      "val Loss : 0.0302 Acc : 0.9910\n",
      "Completed in 0m 19s\n",
      "-----------------epoch 15-----------------\n",
      "learning rate :  [1e-05]\n",
      "train Loss : 0.0132 Acc : 0.9961\n",
      "val Loss : 0.0366 Acc : 0.9885\n",
      "Completed in 0m 19s\n",
      "-----------------epoch 16-----------------\n",
      "learning rate :  [1e-05]\n",
      "train Loss : 0.0144 Acc : 0.9953\n",
      "val Loss : 0.0303 Acc : 0.9909\n",
      "Completed in 0m 19s\n",
      "-----------------epoch 17-----------------\n",
      "learning rate :  [1e-05]\n",
      "train Loss : 0.0118 Acc : 0.9961\n",
      "val Loss : 0.0348 Acc : 0.9891\n",
      "Completed in 0m 19s\n",
      "-----------------epoch 18-----------------\n",
      "learning rate :  [1.0000000000000002e-06]\n",
      "train Loss : 0.0126 Acc : 0.9962\n",
      "val Loss : 0.0301 Acc : 0.9897\n",
      "Completed in 0m 19s\n",
      "-----------------epoch 19-----------------\n",
      "learning rate :  [1.0000000000000002e-06]\n",
      "train Loss : 0.0142 Acc : 0.9957\n",
      "val Loss : 0.0312 Acc : 0.9904\n",
      "Completed in 0m 19s\n",
      "-----------------epoch 20-----------------\n",
      "learning rate :  [1.0000000000000002e-06]\n",
      "train Loss : 0.0119 Acc : 0.9964\n",
      "val Loss : 0.0334 Acc : 0.9905\n",
      "Completed in 0m 19s\n",
      "-----------------epoch 21-----------------\n",
      "learning rate :  [1.0000000000000002e-06]\n",
      "train Loss : 0.0121 Acc : 0.9965\n",
      "val Loss : 0.0308 Acc : 0.9900\n",
      "Completed in 0m 19s\n",
      "-----------------epoch 22-----------------\n",
      "learning rate :  [1.0000000000000002e-06]\n",
      "train Loss : 0.0113 Acc : 0.9968\n",
      "val Loss : 0.0311 Acc : 0.9899\n",
      "Completed in 0m 19s\n",
      "-----------------epoch 23-----------------\n",
      "learning rate :  [1.0000000000000002e-06]\n",
      "train Loss : 0.0123 Acc : 0.9959\n",
      "val Loss : 0.0300 Acc : 0.9905\n",
      "Completed in 0m 19s\n",
      "-----------------epoch 24-----------------\n",
      "learning rate :  [1.0000000000000002e-06]\n",
      "train Loss : 0.0119 Acc : 0.9961\n",
      "val Loss : 0.0333 Acc : 0.9901\n",
      "Completed in 0m 19s\n",
      "-----------------epoch 25-----------------\n",
      "learning rate :  [1.0000000000000002e-07]\n",
      "train Loss : 0.0110 Acc : 0.9967\n",
      "val Loss : 0.0305 Acc : 0.9900\n",
      "Completed in 0m 19s\n",
      "-----------------epoch 26-----------------\n",
      "learning rate :  [1.0000000000000002e-07]\n",
      "train Loss : 0.0118 Acc : 0.9963\n",
      "val Loss : 0.0316 Acc : 0.9902\n",
      "Completed in 0m 19s\n",
      "-----------------epoch 27-----------------\n",
      "learning rate :  [1.0000000000000002e-07]\n",
      "train Loss : 0.0112 Acc : 0.9969\n",
      "val Loss : 0.0305 Acc : 0.9905\n",
      "Completed in 0m 19s\n",
      "-----------------epoch 28-----------------\n",
      "learning rate :  [1.0000000000000002e-07]\n",
      "train Loss : 0.0122 Acc : 0.9964\n",
      "val Loss : 0.0324 Acc : 0.9900\n",
      "Completed in 0m 19s\n",
      "-----------------epoch 29-----------------\n",
      "learning rate :  [1.0000000000000002e-07]\n",
      "train Loss : 0.0124 Acc : 0.9960\n",
      "val Loss : 0.0322 Acc : 0.9899\n",
      "Completed in 0m 19s\n",
      "-----------------epoch 30-----------------\n",
      "learning rate :  [1.0000000000000002e-07]\n",
      "train Loss : 0.0118 Acc : 0.9964\n",
      "val Loss : 0.0365 Acc : 0.9885\n",
      "Completed in 0m 19s\n",
      "Best val Acc : 0.990990\n"
     ]
    }
   ],
   "source": [
    "model_resnet50 = train_resnet(resnet, criterion, optimizer_ft, exp_lr_scheduler, num_epochs=EPOCH)\n",
    "torch.save(model_resnet50, 'resnet50.pt')"
   ]
  },
  {
   "cell_type": "markdown",
   "id": "b3f4a864-5945-4372-81fe-2502df6c577d",
   "metadata": {},
   "source": [
    "### 4. 모델 평가"
   ]
  },
  {
   "cell_type": "markdown",
   "id": "8574336c-55b7-44f6-9b95-def0fe5810c3",
   "metadata": {},
   "source": [
    "#### 1) 베이스라인 모델 평가를 위한 전처리"
   ]
  },
  {
   "cell_type": "code",
   "execution_count": 26,
   "id": "4dd62203-ef15-4858-b894-86732f3e1505",
   "metadata": {},
   "outputs": [],
   "source": [
    "# 어떻게 조정할지 ?\n",
    "transform_base = transforms.Compose([transforms.Resize([64, 64]),\n",
    "                                     transforms.ToTensor()])\n",
    "\n",
    "# 데이터 불러오고 위에서 정의한 transform 적용하고\n",
    "test_base = ImageFolder(root = './splitted/test',\n",
    "                        transform = transform_base)\n",
    "\n",
    "# 데이터 로더로 배치, 셔플 등\n",
    "test_loader_base = torch.utils.data.DataLoader(test_base,\n",
    "                                               batch_size = BATCH_SIZE, shuffle=True, num_workers=4)"
   ]
  },
  {
   "cell_type": "markdown",
   "id": "ca74639f-9162-43d4-b706-23397919c525",
   "metadata": {},
   "source": [
    "#### 2) Transfer learning 모델 평가를 위한 전처리"
   ]
  },
  {
   "cell_type": "code",
   "execution_count": 28,
   "id": "fe2e924f-9bd6-4b2a-9ff4-988ec04b9983",
   "metadata": {},
   "outputs": [],
   "source": [
    "# transform 어떻게 조정할지 ?\n",
    "transform_resNet = transforms.Compose([transforms.Resize([64, 64]),\n",
    "                                       transforms.RandomCrop(52),\n",
    "                                       transforms.ToTensor(),\n",
    "                                       transforms.Normalize([0.485, 0.456, 0.406], \n",
    "                                                            [0.229, 0.224, 0.225])\n",
    "                                      ])\n",
    "\n",
    "# 데이터 불러오고 위에서 정의한 transform 적용하고\n",
    "test_resNet = ImageFolder(root='./splitted/test',\n",
    "                          transform = transform_resNet)\n",
    "                          \n",
    "# 데이터 로더로 배치, 셔플 등\n",
    "test_loader_resNet = torch.utils.data.DataLoader(test_resNet,\n",
    "                                                 batch_size = BATCH_SIZE, shuffle=True, num_workers=4)"
   ]
  },
  {
   "cell_type": "markdown",
   "id": "b4d9f5d9-9ded-4cef-95fa-60effa7641b2",
   "metadata": {},
   "source": [
    "#### 3) 베이스라인 모델 성능 평가하기"
   ]
  },
  {
   "cell_type": "code",
   "execution_count": 30,
   "id": "d0bf1e3f-7f13-467a-886a-720e210cb77d",
   "metadata": {},
   "outputs": [
    {
     "name": "stdout",
     "output_type": "stream",
     "text": [
      "baseline test acc :  94.14341133775497\n"
     ]
    }
   ],
   "source": [
    "baseline = torch.load('baseline.pt')\n",
    "baseline.eval()\n",
    "test_loss, test_accuracy = evaluate(baseline, test_loader_base)\n",
    "\n",
    "print('baseline test acc : ', test_accuracy)"
   ]
  },
  {
   "cell_type": "markdown",
   "id": "9f8fd585-18d7-4bde-86a3-f7277a349eec",
   "metadata": {},
   "source": [
    "#### 4) Transfer Learning 모델 성능 평가하기"
   ]
  },
  {
   "cell_type": "code",
   "execution_count": 34,
   "id": "db90a2cb-27c8-4638-b302-d8f501d96dc4",
   "metadata": {},
   "outputs": [
    {
     "name": "stdout",
     "output_type": "stream",
     "text": [
      "ResNet test acc :  99.04893004630209\n"
     ]
    }
   ],
   "source": [
    "resnet50 = torch.load('resnet50.pt')\n",
    "resnet50.eval()\n",
    "test_loss, test_accuracy = evaluate(resnet50, test_loader_resNet)\n",
    "\n",
    "print('ResNet test acc : ', test_accuracy)"
   ]
  },
  {
   "cell_type": "markdown",
   "id": "b38b9ea6-9c11-4460-b40b-30a97bfd4375",
   "metadata": {},
   "source": [
    "---------------------------------------------------------------------------------------------------"
   ]
  },
  {
   "cell_type": "markdown",
   "id": "5ca048fb-7375-4d05-ba8d-74f30dc8c53e",
   "metadata": {},
   "source": [
    "### 결과\n",
    "- 모델을 직접 구축하여 처음부터 학습시키는 것보다 많은 양의 데이터셋으로 미리 학습된 모델을 불러와 일부를 Fine-Tuning 하는 것이 더 높은 예측 성능을 낸다."
   ]
  }
 ],
 "metadata": {
  "kernelspec": {
   "display_name": "nozzi",
   "language": "python",
   "name": "nozzi"
  },
  "language_info": {
   "codemirror_mode": {
    "name": "ipython",
    "version": 3
   },
   "file_extension": ".py",
   "mimetype": "text/x-python",
   "name": "python",
   "nbconvert_exporter": "python",
   "pygments_lexer": "ipython3",
   "version": "3.9.7"
  }
 },
 "nbformat": 4,
 "nbformat_minor": 5
}
