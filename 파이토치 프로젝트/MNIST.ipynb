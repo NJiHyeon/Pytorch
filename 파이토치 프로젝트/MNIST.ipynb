{
 "cells": [
  {
   "cell_type": "markdown",
   "id": "1f0775f6-d0e1-4041-80b9-6c332068ece8",
   "metadata": {},
   "source": [
    "## 1. 모듈 및 분석 환경 설정"
   ]
  },
  {
   "cell_type": "markdown",
   "id": "fc94aea4-63ee-41b8-b3da-8f08efac33d2",
   "metadata": {},
   "source": [
    "#### 1) 모듈 불러오기"
   ]
  },
  {
   "cell_type": "code",
   "execution_count": 3,
   "id": "33f955a8-3f06-4cc7-903f-ae0fcc380e8c",
   "metadata": {},
   "outputs": [],
   "source": [
    "import torch\n",
    "import torch.nn as nn\n",
    "import torch.nn.functional as F\n",
    "import torch.optim as optim\n",
    "from torchvision import datasets, transforms\n",
    "\n",
    "from matplotlib import pyplot as plt\n",
    "%matplotlib inline"
   ]
  },
  {
   "cell_type": "markdown",
   "id": "503ab700-7261-44f8-b515-dc08b912d20a",
   "metadata": {},
   "source": [
    "#### 2) 분석 환경 설정"
   ]
  },
  {
   "cell_type": "code",
   "execution_count": 4,
   "id": "80bf4cdf-71c4-4756-b809-8481f9d5a32b",
   "metadata": {},
   "outputs": [
    {
     "name": "stdout",
     "output_type": "stream",
     "text": [
      "Current cuda device is cuda\n"
     ]
    }
   ],
   "source": [
    "is_cuda = torch.cuda.is_available()\n",
    "device = torch.device('cuda' if is_cuda else 'cpu')\n",
    "print('Current cuda device is', device)"
   ]
  },
  {
   "cell_type": "markdown",
   "id": "133014e8-6010-498c-adbf-59fd759ffd85",
   "metadata": {},
   "source": [
    "#### 3) 하이퍼파라미터 지정"
   ]
  },
  {
   "cell_type": "code",
   "execution_count": 7,
   "id": "5e58cbd0-e8d9-4375-bf67-0814ab71fc10",
   "metadata": {},
   "outputs": [],
   "source": [
    "batch_size = 50\n",
    "epoch_num = 14\n",
    "# learning_rate : 가중치 업데이트 정도\n",
    "learning_rate = 0.0001"
   ]
  },
  {
   "cell_type": "markdown",
   "id": "0c9f81d2-d67d-4dff-aeb9-5e44f94731b2",
   "metadata": {},
   "source": [
    "## 2. 데이터 불러오기"
   ]
  },
  {
   "cell_type": "markdown",
   "id": "cb29399b-4d74-4278-8201-0b2b8d5c33d6",
   "metadata": {},
   "source": [
    "#### 1) MNIST 데이터 불러오기"
   ]
  },
  {
   "cell_type": "code",
   "execution_count": 8,
   "id": "48c62c57-0690-4515-a82a-17f8de5e5986",
   "metadata": {},
   "outputs": [
    {
     "name": "stdout",
     "output_type": "stream",
     "text": [
      "Downloading http://yann.lecun.com/exdb/mnist/train-images-idx3-ubyte.gz\n"
     ]
    },
    {
     "name": "stderr",
     "output_type": "stream",
     "text": [
      "1.3%"
     ]
    },
    {
     "name": "stdout",
     "output_type": "stream",
     "text": [
      "Downloading http://yann.lecun.com/exdb/mnist/train-images-idx3-ubyte.gz to ./data/MNIST/raw/train-images-idx3-ubyte.gz\n"
     ]
    },
    {
     "name": "stderr",
     "output_type": "stream",
     "text": [
      "31.0%IOPub message rate exceeded.\n",
      "The Jupyter server will temporarily stop sending output\n",
      "to the client in order to avoid crashing it.\n",
      "To change this limit, set the config variable\n",
      "`--ServerApp.iopub_msg_rate_limit`.\n",
      "\n",
      "Current values:\n",
      "ServerApp.iopub_msg_rate_limit=1000.0 (msgs/sec)\n",
      "ServerApp.rate_limit_window=3.0 (secs)\n",
      "\n",
      "73.9%IOPub message rate exceeded.\n",
      "The Jupyter server will temporarily stop sending output\n",
      "to the client in order to avoid crashing it.\n",
      "To change this limit, set the config variable\n",
      "`--ServerApp.iopub_msg_rate_limit`.\n",
      "\n",
      "Current values:\n",
      "ServerApp.iopub_msg_rate_limit=1000.0 (msgs/sec)\n",
      "ServerApp.rate_limit_window=3.0 (secs)\n",
      "\n",
      "100.0%\n"
     ]
    },
    {
     "name": "stdout",
     "output_type": "stream",
     "text": [
      "Extracting ./data/MNIST/raw/train-images-idx3-ubyte.gz to ./data/MNIST/raw\n",
      "\n",
      "Downloading http://yann.lecun.com/exdb/mnist/train-labels-idx1-ubyte.gz\n"
     ]
    },
    {
     "name": "stderr",
     "output_type": "stream",
     "text": [
      "102.8%"
     ]
    },
    {
     "name": "stdout",
     "output_type": "stream",
     "text": [
      "Downloading http://yann.lecun.com/exdb/mnist/train-labels-idx1-ubyte.gz to ./data/MNIST/raw/train-labels-idx1-ubyte.gz\n",
      "Extracting ./data/MNIST/raw/train-labels-idx1-ubyte.gz to ./data/MNIST/raw\n",
      "\n",
      "Downloading http://yann.lecun.com/exdb/mnist/t10k-images-idx3-ubyte.gz\n"
     ]
    },
    {
     "name": "stderr",
     "output_type": "stream",
     "text": [
      "\n"
     ]
    },
    {
     "name": "stdout",
     "output_type": "stream",
     "text": [
      "Downloading http://yann.lecun.com/exdb/mnist/t10k-images-idx3-ubyte.gz to ./data/MNIST/raw/t10k-images-idx3-ubyte.gz\n"
     ]
    },
    {
     "name": "stderr",
     "output_type": "stream",
     "text": [
      "100.0%\n"
     ]
    },
    {
     "name": "stdout",
     "output_type": "stream",
     "text": [
      "Extracting ./data/MNIST/raw/t10k-images-idx3-ubyte.gz to ./data/MNIST/raw\n",
      "\n",
      "Downloading http://yann.lecun.com/exdb/mnist/t10k-labels-idx1-ubyte.gz\n"
     ]
    },
    {
     "name": "stderr",
     "output_type": "stream",
     "text": [
      "112.7%"
     ]
    },
    {
     "name": "stdout",
     "output_type": "stream",
     "text": [
      "Downloading http://yann.lecun.com/exdb/mnist/t10k-labels-idx1-ubyte.gz to ./data/MNIST/raw/t10k-labels-idx1-ubyte.gz\n",
      "Extracting ./data/MNIST/raw/t10k-labels-idx1-ubyte.gz to ./data/MNIST/raw\n",
      "\n",
      "number of training data : 60000\n",
      "number of test data :  10000\n"
     ]
    },
    {
     "name": "stderr",
     "output_type": "stream",
     "text": [
      "\n"
     ]
    }
   ],
   "source": [
    "train_data = datasets.MNIST(root='./data', train=True, download=True, transform=transforms.ToTensor())\n",
    "test_data = datasets.MNIST(root='./data', train=False, download=True, transform=transforms.ToTensor())\n",
    "\n",
    "print('number of training data :', len(train_data))\n",
    "print('number of test data : ', len(test_data))"
   ]
  },
  {
   "cell_type": "markdown",
   "id": "c92d81be-19fd-44d5-92c0-77943ba4348e",
   "metadata": {},
   "source": [
    "#### 2) MNIST 데이터 확인"
   ]
  },
  {
   "cell_type": "markdown",
   "id": "367c74fe-5cc2-4351-b8d3-e963d28108d3",
   "metadata": {},
   "source": [
    "- squueze() \n",
    "    - MNIST 데이터는 3차원이므로 2차원으로 줄이기 위해 사용\n",
    "    - 크기가 1인 차원을 없애는 함수"
   ]
  },
  {
   "cell_type": "code",
   "execution_count": 12,
   "id": "4bfe942d-8396-44d1-9cb5-d68a55f1a8d8",
   "metadata": {},
   "outputs": [
    {
     "data": {
      "image/png": "[encoded data removed]",
      "text/plain": [
       "<Figure size 640x480 with 1 Axes>"
      ]
     },
     "metadata": {},
     "output_type": "display_data"
    }
   ],
   "source": [
    "image, label = train_data[0]\n",
    "plt.imshow(image.squeeze().numpy(), cmap='gray')\n",
    "plt.title('label : %s' % label)\n",
    "plt.show()"
   ]
  },
  {
   "cell_type": "markdown",
   "id": "bd8f49b5-57ba-473b-b6aa-06ac1191e5b5",
   "metadata": {},
   "source": [
    "#### 3) 미니배치 구성"
   ]
  },
  {
   "cell_type": "code",
   "execution_count": 16,
   "id": "cf80fc94-1694-4b1b-8393-c5865c132779",
   "metadata": {},
   "outputs": [
    {
     "name": "stdout",
     "output_type": "stream",
     "text": [
      "name            | type                      | size\n",
      "Num of Batch    |                           | 1200\n",
      "first_batch     | <class 'list'>            | 2\n",
      "first_batch[0]  | <class 'torch.Tensor'>    | torch.Size([50, 1, 28, 28])\n",
      "first_batch[1]  | <class 'torch.Tensor'>    | torch.Size([50])\n"
     ]
    }
   ],
   "source": [
    "train_loader = torch.utils.data.DataLoader(dataset=train_data,\n",
    "                                           batch_size=batch_size,\n",
    "                                           shuffle=True)\n",
    "test_loader = torch.utils.data.DataLoader(dataset=test_data,\n",
    "                                          batch_size=batch_size,\n",
    "                                          shuffle=True)\n",
    "\n",
    "first_batch = train_loader.__iter__().__next__()\n",
    "print('{:15s} | {:<25s} | {}'.format('name', 'type', 'size'))\n",
    "print('{:15s} | {:<25s} | {}'.format('Num of Batch', '', len(train_loader)))\n",
    "print('{:15s} | {:<25s} | {}'.format('first_batch', str(type(first_batch)), len(first_batch)))\n",
    "print('{:15s} | {:<25s} | {}'.format('first_batch[0]', str(type(first_batch[0])), first_batch[0].shape))\n",
    "print('{:15s} | {:<25s} | {}'.format('first_batch[1]', str(type(first_batch[1])), first_batch[1].shape))"
   ]
  },
  {
   "cell_type": "markdown",
   "id": "fb0fa3c0-4f7c-4675-be52-77539796c324",
   "metadata": {},
   "source": [
    "## 3. 모델 학습"
   ]
  },
  {
   "cell_type": "markdown",
   "id": "1ee21b6b-a557-4d6f-a700-386d50f4563c",
   "metadata": {},
   "source": [
    "#### 1) CNN 구조 설계"
   ]
  },
  {
   "cell_type": "code",
   "execution_count": 21,
   "id": "a12ed3d1-0900-4bce-95ea-d319ee13b769",
   "metadata": {},
   "outputs": [],
   "source": [
    "class CNN(nn.Module) :\n",
    "    def __init__(self) :\n",
    "        super(CNN, self).__init__()\n",
    "        self.conv1 = nn.Conv2d(1, 32, 3, 1)\n",
    "        self.conv2 = nn.Conv2d(32, 64, 3, 1)\n",
    "        self.dropout1 = nn.Dropout2d(0.25)\n",
    "        self.dropout2 = nn.Dropout2d(0.5)\n",
    "        self.fc1 = nn.Linear(9216, 128)\n",
    "        self.fc2 = nn.Linear(128, 10)\n",
    "        \n",
    "    def forward(self, x) :\n",
    "        x = self.conv1(x)\n",
    "        x = F.relu(x)\n",
    "        x = self.conv2(x)\n",
    "        x = F.relu(x)\n",
    "        x = F.max_pool2d(x, 2)\n",
    "        x = self.dropout1(x)\n",
    "        x = torch.flatten(x, 1)\n",
    "        x = self.fc1(x)\n",
    "        x = F.relu(x)\n",
    "        x = self.dropout2(x)\n",
    "        x = self.fc2(x)\n",
    "        # 열 기준으로 max값\n",
    "        output = F.log_softmax(x, dim=1)\n",
    "        return output"
   ]
  },
  {
   "cell_type": "markdown",
   "id": "d65e1155-d557-42e1-a4aa-a31f7bf8ec88",
   "metadata": {},
   "source": [
    "#### 2) 옵티마이저 및 손실함수 정의"
   ]
  },
  {
   "cell_type": "markdown",
   "id": "311d1558-989b-4d9f-9707-c3592e6bd083",
   "metadata": {},
   "source": [
    "- CNN 클래스를 이용해 model이라는 인스턴스 생성\n",
    "- 손실함수를 최소로 하는 **가중치**를 찾기 위해 Adam 알고리즘의 optimizer 지정"
   ]
  },
  {
   "cell_type": "code",
   "execution_count": 22,
   "id": "58af5d5e-f0c7-4171-ac27-f07862080d6d",
   "metadata": {},
   "outputs": [],
   "source": [
    "model = CNN().to(device)\n",
    "optimizer = optim.Adam(model.parameters(), lr=learning_rate)\n",
    "criterion = nn.CrossEntropyLoss()"
   ]
  },
  {
   "cell_type": "markdown",
   "id": "c007a078-fb32-409c-ba17-a40b6db9d7d9",
   "metadata": {},
   "source": [
    "#### 3) 설계한 CNN 모형 확인하기"
   ]
  },
  {
   "cell_type": "code",
   "execution_count": 23,
   "id": "1d1ce00e-a0fc-4ee0-a4aa-0037595afb2c",
   "metadata": {},
   "outputs": [
    {
     "name": "stdout",
     "output_type": "stream",
     "text": [
      "CNN(\n",
      "  (conv1): Conv2d(1, 32, kernel_size=(3, 3), stride=(1, 1))\n",
      "  (conv2): Conv2d(32, 64, kernel_size=(3, 3), stride=(1, 1))\n",
      "  (dropout1): Dropout2d(p=0.25, inplace=False)\n",
      "  (dropout2): Dropout2d(p=0.5, inplace=False)\n",
      "  (fc1): Linear(in_features=9216, out_features=128, bias=True)\n",
      "  (fc2): Linear(in_features=128, out_features=10, bias=True)\n",
      ")\n"
     ]
    }
   ],
   "source": [
    "print(model)"
   ]
  },
  {
   "cell_type": "markdown",
   "id": "02f10d52-38a3-4f1f-842f-4a71dd79c577",
   "metadata": {},
   "source": [
    "#### 4) 모델학습"
   ]
  },
  {
   "cell_type": "code",
   "execution_count": 24,
   "id": "661b0f90-370a-4eb8-a304-540baf1888be",
   "metadata": {},
   "outputs": [
    {
     "name": "stderr",
     "output_type": "stream",
     "text": [
      "/home/ubuntu/anaconda3/envs/nozzi/lib/python3.9/site-packages/torch/nn/functional.py:1320: UserWarning: dropout2d: Received a 2-D input to dropout2d, which is deprecated and will result in an error in a future release. To retain the behavior and silence this warning, please use dropout instead. Note that dropout2d exists to provide channel-wise dropout on inputs with 2 spatial dimensions, a channel dimension, and an optional batch dimension (i.e. 3D or 4D inputs).\n",
      "  warnings.warn(warn_msg)\n"
     ]
    },
    {
     "name": "stdout",
     "output_type": "stream",
     "text": [
      "Train Step : 0\tLoss : 2.301\n",
      "Train Step : 1000\tLoss : 1.237\n",
      "Train Step : 2000\tLoss : 0.993\n",
      "Train Step : 3000\tLoss : 1.342\n",
      "Train Step : 4000\tLoss : 1.106\n",
      "Train Step : 5000\tLoss : 0.987\n",
      "Train Step : 6000\tLoss : 1.134\n",
      "Train Step : 7000\tLoss : 0.965\n",
      "Train Step : 8000\tLoss : 1.035\n",
      "Train Step : 9000\tLoss : 1.168\n",
      "Train Step : 10000\tLoss : 1.192\n",
      "Train Step : 11000\tLoss : 1.163\n",
      "Train Step : 12000\tLoss : 1.100\n",
      "Train Step : 13000\tLoss : 1.198\n",
      "Train Step : 14000\tLoss : 1.098\n",
      "Train Step : 15000\tLoss : 1.066\n",
      "Train Step : 16000\tLoss : 1.430\n"
     ]
    }
   ],
   "source": [
    "# CNN 클래스가 저장된 model 인스턴스를 **학습 모드**로 실행할 것을 명시\n",
    "model.train()\n",
    "\n",
    "# 반복 학습 중 손실 함수 현황을 확인하고자, 학습 횟수를 나타내는 보조 인덱스(i)를 지정\n",
    "i = 0\n",
    "for epoch in range(epoch_num) :\n",
    "    # 학습 데이터를 batch_size로 나눈 만큼 반복 수행되며, train_loader는 매 시행마다 미니배치의 데이터와 정답을 저장\n",
    "    for data, target in train_loader : \n",
    "        # 미니 배치의 데이터와 정답을 기존에 지정한 장비 device에 할당\n",
    "        data = data.to(device)\n",
    "        target = target.to(device)\n",
    "        # 학습을 시작하기 전, 이전 반복 시행에서 저장된 optimizer의 Gradient를 초기화\n",
    "        optimizer.zero_grad()\n",
    "        output = model(data)\n",
    "        loss = criterion(output, target)\n",
    "        # 손실함수를 통해 Gradient 계산\n",
    "        loss.backward()\n",
    "        # 위에서 계산된 Gradient를 통해 모델의 가중치를 업데이트\n",
    "        optimizer.step()\n",
    "        if i % 1000 == 0 :\n",
    "            print('Train Step : {}\\tLoss : {:.3f}'.format(i, loss.item()))\n",
    "        i += 1"
   ]
  },
  {
   "cell_type": "markdown",
   "id": "5f5b69f0-6ab1-44dc-ac26-52d6c0af1561",
   "metadata": {},
   "source": [
    "## 4. 모델 평가"
   ]
  },
  {
   "cell_type": "markdown",
   "id": "4add76df-0341-422b-8c42-a321463c7743",
   "metadata": {},
   "source": [
    "- model.eval()\n",
    "    - 평가모드를 실행하기 위해 명시하는 함수\n",
    "    - 이 함수를 호출하면, Dropout이 적용되지 않고, BatchNormalization도 평가 모드로 전환"
   ]
  },
  {
   "cell_type": "code",
   "execution_count": 25,
   "id": "864733db-e779-4c2d-9e3a-ed26444f0a2a",
   "metadata": {},
   "outputs": [],
   "source": [
    "model.eval()\n",
    "correct = 0\n",
    "for data, target in test_loader :\n",
    "    data = data.to(device)\n",
    "    target = target.to(device)\n",
    "    output = model(data)\n",
    "    # 1(열)을 기준으로 최대값 반환 & values와 indices 중에서 indices 반환\n",
    "    prediction = output.data.max(1)[1]\n",
    "    correct += prediction.eq(target.data).sum()"
   ]
  },
  {
   "cell_type": "code",
   "execution_count": 45,
   "id": "b6477dc3-092a-48f5-8469-f88f4638e40c",
   "metadata": {},
   "outputs": [
    {
     "name": "stdout",
     "output_type": "stream",
     "text": [
      "Test set: Accuracy: 98.90%\n"
     ]
    }
   ],
   "source": [
    "print('Test set: Accuracy: {:.2f}%'.format(100*correct/len(test_loader.dataset)))"
   ]
  }
 ],
 "metadata": {
  "kernelspec": {
   "display_name": "nozzi",
   "language": "python",
   "name": "nozzi"
  },
  "language_info": {
   "codemirror_mode": {
    "name": "ipython",
    "version": 3
   },
   "file_extension": ".py",
   "mimetype": "text/x-python",
   "name": "python",
   "nbconvert_exporter": "python",
   "pygments_lexer": "ipython3",
   "version": "3.9.7"
  }
 },
 "nbformat": 4,
 "nbformat_minor": 5
}
